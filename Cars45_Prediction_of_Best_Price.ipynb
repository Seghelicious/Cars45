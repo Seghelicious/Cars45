{
  "nbformat": 4,
  "nbformat_minor": 0,
  "metadata": {
    "colab": {
      "name": "Cars45 - Prediction of Best Price.ipynb",
      "provenance": [],
      "collapsed_sections": [],
      "authorship_tag": "ABX9TyN9hd6B9gyG6HK5YTXt6rC3",
      "include_colab_link": true
    },
    "kernelspec": {
      "display_name": "Python 3",
      "name": "python3"
    }
  },
  "cells": [
    {
      "cell_type": "markdown",
      "metadata": {
        "id": "view-in-github",
        "colab_type": "text"
      },
      "source": [
        "<a href=\"https://colab.research.google.com/github/Seghelicious/Cars45/blob/main/Cars45_Prediction_of_Best_Price.ipynb\" target=\"_parent\"><img src=\"https://colab.research.google.com/assets/colab-badge.svg\" alt=\"Open In Colab\"/></a>"
      ]
    },
    {
      "cell_type": "markdown",
      "metadata": {
        "id": "CY3Jjy0AUM58"
      },
      "source": [
        "# **Introduction**"
      ]
    },
    {
      "cell_type": "markdown",
      "metadata": {
        "id": "UGTH-CTgAI-J"
      },
      "source": [
        "The goal of this assessment is to predict the best prices to buy cars from customers based on the data provided."
      ]
    },
    {
      "cell_type": "code",
      "metadata": {
        "colab": {
          "background_save": true
        },
        "id": "ENvasCH2T5_J"
      },
      "source": [
        "from google.colab import drive\n",
        "drive.mount('/content/drive')"
      ],
      "execution_count": null,
      "outputs": []
    },
    {
      "cell_type": "markdown",
      "metadata": {
        "id": "FMvLFzI0CpBR"
      },
      "source": [
        "# **Importing Required Libraries**"
      ]
    },
    {
      "cell_type": "code",
      "metadata": {
        "id": "TK9qIibAUU8h"
      },
      "source": [
        "# Data Manipulation libraries\n",
        "import pandas as pd\n",
        "import numpy as np\n",
        "from datetime import datetime, timedelta, date\n",
        "\n",
        "# Visualisation libraries\n",
        "import seaborn as sns\n",
        "import matplotlib\n",
        "import matplotlib.pyplot as plt\n",
        "%matplotlib inline\n",
        "from matplotlib import pyplot\n",
        "from matplotlib import style\n",
        "plt.style.use('ggplot')\n",
        "import itertools\n",
        "import warnings\n",
        "warnings.filterwarnings('ignore')\n",
        "\n",
        "# Missing Values Imputation libraries\n",
        "from sklearn.neighbors import NearestNeighbors\n",
        "from sklearn.impute import KNNImputer\n",
        "\n",
        "# Preprocessing libraries\n",
        "from sklearn import preprocessing\n",
        "from sklearn.preprocessing import StandardScaler\n",
        "\n",
        "# Model Development libraries\n",
        "from sklearn.pipeline import Pipeline\n",
        "from sklearn.model_selection import KFold, cross_val_score, train_test_split \n",
        "from sklearn.model_selection import GridSearchCV\n",
        "from sklearn.linear_model import LinearRegression\n",
        "from sklearn.ensemble import RandomForestRegressor\n",
        "from sklearn.neighbors import KNeighborsRegressor\n",
        "from sklearn.ensemble import GradientBoostingRegressor\n",
        "\n",
        "# Model Evaluation libraries\n",
        "from sklearn.metrics import mean_squared_error\n",
        "\n",
        "pd.options.display.float_format = '{:.2f}'.format\n",
        "pd.options.display.max_columns = None\n",
        "pd.options.display.max_rows = None"
      ],
      "execution_count": null,
      "outputs": []
    },
    {
      "cell_type": "code",
      "metadata": {
        "colab": {
          "base_uri": "https://localhost:8080/",
          "height": 298
        },
        "id": "Q3meOhMTVpVg",
        "outputId": "d3837de0-4882-48d3-c35f-045f56d35471"
      },
      "source": [
        "cars45 = pd.read_csv('/content/drive/My Drive/Cars45/Cars_Data_CSV.csv')\n",
        "cars45.head()"
      ],
      "execution_count": null,
      "outputs": [
        {
          "output_type": "execute_result",
          "data": {
            "text/html": [
              "<div>\n",
              "<style scoped>\n",
              "    .dataframe tbody tr th:only-of-type {\n",
              "        vertical-align: middle;\n",
              "    }\n",
              "\n",
              "    .dataframe tbody tr th {\n",
              "        vertical-align: top;\n",
              "    }\n",
              "\n",
              "    .dataframe thead th {\n",
              "        text-align: right;\n",
              "    }\n",
              "</style>\n",
              "<table border=\"1\" class=\"dataframe\">\n",
              "  <thead>\n",
              "    <tr style=\"text-align: right;\">\n",
              "      <th></th>\n",
              "      <th>make</th>\n",
              "      <th>model</th>\n",
              "      <th>mileage</th>\n",
              "      <th>manufacture_year</th>\n",
              "      <th>engine_displacement</th>\n",
              "      <th>engine_power</th>\n",
              "      <th>body_type</th>\n",
              "      <th>color_slug</th>\n",
              "      <th>transmission</th>\n",
              "      <th>door_count</th>\n",
              "      <th>seat_count</th>\n",
              "      <th>fuel_type</th>\n",
              "      <th>date_created</th>\n",
              "      <th>price_NGN</th>\n",
              "    </tr>\n",
              "  </thead>\n",
              "  <tbody>\n",
              "    <tr>\n",
              "      <th>0</th>\n",
              "      <td>audi</td>\n",
              "      <td>NaN</td>\n",
              "      <td>330000.00</td>\n",
              "      <td>1995</td>\n",
              "      <td>2600.00</td>\n",
              "      <td>110.00</td>\n",
              "      <td>compact</td>\n",
              "      <td>nan</td>\n",
              "      <td>auto</td>\n",
              "      <td>None</td>\n",
              "      <td>None</td>\n",
              "      <td>gasoline</td>\n",
              "      <td>2015-11-14 20:10:48.033192+00</td>\n",
              "      <td>873428</td>\n",
              "    </tr>\n",
              "    <tr>\n",
              "      <th>1</th>\n",
              "      <td>audi</td>\n",
              "      <td>200</td>\n",
              "      <td>nan</td>\n",
              "      <td>1995</td>\n",
              "      <td>nan</td>\n",
              "      <td>nan</td>\n",
              "      <td>compact</td>\n",
              "      <td>nan</td>\n",
              "      <td>NaN</td>\n",
              "      <td>None</td>\n",
              "      <td>None</td>\n",
              "      <td>gasoline</td>\n",
              "      <td>2015-11-14 20:11:19.607788+00</td>\n",
              "      <td>66616</td>\n",
              "    </tr>\n",
              "    <tr>\n",
              "      <th>2</th>\n",
              "      <td>audi</td>\n",
              "      <td>NaN</td>\n",
              "      <td>nan</td>\n",
              "      <td>1995</td>\n",
              "      <td>11199.00</td>\n",
              "      <td>nan</td>\n",
              "      <td>compact</td>\n",
              "      <td>nan</td>\n",
              "      <td>NaN</td>\n",
              "      <td>None</td>\n",
              "      <td>None</td>\n",
              "      <td>gasoline</td>\n",
              "      <td>2015-11-14 20:11:20.320579+00</td>\n",
              "      <td>66616</td>\n",
              "    </tr>\n",
              "    <tr>\n",
              "      <th>3</th>\n",
              "      <td>audi</td>\n",
              "      <td>NaN</td>\n",
              "      <td>nan</td>\n",
              "      <td>1995</td>\n",
              "      <td>nan</td>\n",
              "      <td>nan</td>\n",
              "      <td>compact</td>\n",
              "      <td>nan</td>\n",
              "      <td>NaN</td>\n",
              "      <td>None</td>\n",
              "      <td>None</td>\n",
              "      <td>gasoline</td>\n",
              "      <td>2015-11-14 20:11:21.801285+00</td>\n",
              "      <td>66604</td>\n",
              "    </tr>\n",
              "    <tr>\n",
              "      <th>4</th>\n",
              "      <td>audi</td>\n",
              "      <td>a6</td>\n",
              "      <td>347000.00</td>\n",
              "      <td>1995</td>\n",
              "      <td>nan</td>\n",
              "      <td>85.00</td>\n",
              "      <td>compact</td>\n",
              "      <td>nan</td>\n",
              "      <td>auto</td>\n",
              "      <td>None</td>\n",
              "      <td>None</td>\n",
              "      <td>gasoline</td>\n",
              "      <td>2015-11-14 20:12:41.082787+00</td>\n",
              "      <td>843820</td>\n",
              "    </tr>\n",
              "  </tbody>\n",
              "</table>\n",
              "</div>"
            ],
            "text/plain": [
              "   make model   mileage  manufacture_year  engine_displacement  engine_power  \\\n",
              "0  audi   NaN 330000.00              1995              2600.00        110.00   \n",
              "1  audi   200       nan              1995                  nan           nan   \n",
              "2  audi   NaN       nan              1995             11199.00           nan   \n",
              "3  audi   NaN       nan              1995                  nan           nan   \n",
              "4  audi    a6 347000.00              1995                  nan         85.00   \n",
              "\n",
              "  body_type  color_slug transmission door_count seat_count fuel_type  \\\n",
              "0   compact         nan         auto       None       None  gasoline   \n",
              "1   compact         nan          NaN       None       None  gasoline   \n",
              "2   compact         nan          NaN       None       None  gasoline   \n",
              "3   compact         nan          NaN       None       None  gasoline   \n",
              "4   compact         nan         auto       None       None  gasoline   \n",
              "\n",
              "                    date_created  price_NGN  \n",
              "0  2015-11-14 20:10:48.033192+00     873428  \n",
              "1  2015-11-14 20:11:19.607788+00      66616  \n",
              "2  2015-11-14 20:11:20.320579+00      66616  \n",
              "3  2015-11-14 20:11:21.801285+00      66604  \n",
              "4  2015-11-14 20:12:41.082787+00     843820  "
            ]
          },
          "metadata": {
            "tags": []
          },
          "execution_count": 3
        }
      ]
    },
    {
      "cell_type": "code",
      "metadata": {
        "colab": {
          "base_uri": "https://localhost:8080/"
        },
        "id": "em1Lr9qtWuh8",
        "outputId": "5bf68262-957e-4ed5-aeec-ee148553ca74"
      },
      "source": [
        "cars45.info()"
      ],
      "execution_count": null,
      "outputs": [
        {
          "output_type": "stream",
          "text": [
            "<class 'pandas.core.frame.DataFrame'>\n",
            "RangeIndex: 638562 entries, 0 to 638561\n",
            "Data columns (total 14 columns):\n",
            " #   Column               Non-Null Count   Dtype  \n",
            "---  ------               --------------   -----  \n",
            " 0   make                 638562 non-null  object \n",
            " 1   model                454990 non-null  object \n",
            " 2   mileage              603981 non-null  float64\n",
            " 3   manufacture_year     638562 non-null  int64  \n",
            " 4   engine_displacement  489134 non-null  float64\n",
            " 5   engine_power         537375 non-null  float64\n",
            " 6   body_type            72636 non-null   object \n",
            " 7   color_slug           0 non-null       float64\n",
            " 8   transmission         541441 non-null  object \n",
            " 9   door_count           638562 non-null  object \n",
            " 10  seat_count           638562 non-null  object \n",
            " 11  fuel_type            638562 non-null  object \n",
            " 12  date_created         638562 non-null  object \n",
            " 13  price_NGN            638562 non-null  int64  \n",
            "dtypes: float64(4), int64(2), object(8)\n",
            "memory usage: 68.2+ MB\n"
          ],
          "name": "stdout"
        }
      ]
    },
    {
      "cell_type": "code",
      "metadata": {
        "colab": {
          "base_uri": "https://localhost:8080/"
        },
        "id": "q3lfiXhURCt_",
        "outputId": "18348568-e5ed-493f-bee1-492dcf02b9b2"
      },
      "source": [
        "cars45.shape"
      ],
      "execution_count": null,
      "outputs": [
        {
          "output_type": "execute_result",
          "data": {
            "text/plain": [
              "(638562, 14)"
            ]
          },
          "metadata": {
            "tags": []
          },
          "execution_count": 5
        }
      ]
    },
    {
      "cell_type": "markdown",
      "metadata": {
        "id": "d71oDqugaxVT"
      },
      "source": [
        "# **Data Cleaning**"
      ]
    },
    {
      "cell_type": "markdown",
      "metadata": {
        "id": "3aR8J1ZCbKeT"
      },
      "source": [
        "I have split the date_created column into a date and time column. I have also changed the data types appropriately.\n",
        "\n",
        "The data types of the manafacture_year and price_NGN columns have also been changed from float to integer."
      ]
    },
    {
      "cell_type": "code",
      "metadata": {
        "id": "gJBReQ5K7TAI"
      },
      "source": [
        "cars45['date_created'] = pd.to_datetime(cars45['date_created'])\n",
        "cars45['date'] = cars45['date_created'].dt.strftime('%Y-%m-%d')\n",
        "cars45['time'] = cars45['date_created'].dt.strftime('%H:%M')\n",
        "cars45 = cars45.drop(columns = ['date_created'])\n",
        "cars45 = cars45.drop(columns = ['color_slug'])"
      ],
      "execution_count": null,
      "outputs": []
    },
    {
      "cell_type": "code",
      "metadata": {
        "id": "Yqw1-MuNT_EX"
      },
      "source": [
        "cars45['manufacture_year'] = cars45['manufacture_year'].astype(int)\n",
        "cars45['price_NGN'] = cars45['price_NGN'].astype(int)\n",
        "cars45['door_count'] = cars45['door_count'].replace('None', '100')\n",
        "cars45['door_count'] = cars45['door_count'].astype(int)\n",
        "cars45['door_count'] = cars45['door_count'].replace(100, np.nan)\n",
        "cars45['seat_count'] = cars45['seat_count'].replace('None', '100')\n",
        "cars45['seat_count'] = cars45['seat_count'].astype(int)\n",
        "cars45['seat_count'] = cars45['seat_count'].replace(100, np.nan)\n"
      ],
      "execution_count": null,
      "outputs": []
    },
    {
      "cell_type": "markdown",
      "metadata": {
        "id": "3C_GI8xCkIDb"
      },
      "source": [
        "# **Handling Extreme Values - Outliers**\n"
      ]
    },
    {
      "cell_type": "code",
      "metadata": {
        "colab": {
          "base_uri": "https://localhost:8080/",
          "height": 252
        },
        "id": "rsBVhd_eRdU7",
        "outputId": "af158e0b-5665-4873-e13e-a7a6bff8835f"
      },
      "source": [
        "cars45.describe().transpose()"
      ],
      "execution_count": null,
      "outputs": [
        {
          "output_type": "execute_result",
          "data": {
            "text/html": [
              "<div>\n",
              "<style scoped>\n",
              "    .dataframe tbody tr th:only-of-type {\n",
              "        vertical-align: middle;\n",
              "    }\n",
              "\n",
              "    .dataframe tbody tr th {\n",
              "        vertical-align: top;\n",
              "    }\n",
              "\n",
              "    .dataframe thead th {\n",
              "        text-align: right;\n",
              "    }\n",
              "</style>\n",
              "<table border=\"1\" class=\"dataframe\">\n",
              "  <thead>\n",
              "    <tr style=\"text-align: right;\">\n",
              "      <th></th>\n",
              "      <th>count</th>\n",
              "      <th>mean</th>\n",
              "      <th>std</th>\n",
              "      <th>min</th>\n",
              "      <th>25%</th>\n",
              "      <th>50%</th>\n",
              "      <th>75%</th>\n",
              "      <th>max</th>\n",
              "    </tr>\n",
              "  </thead>\n",
              "  <tbody>\n",
              "    <tr>\n",
              "      <th>mileage</th>\n",
              "      <td>603981.00</td>\n",
              "      <td>115283.86</td>\n",
              "      <td>365012.42</td>\n",
              "      <td>0.00</td>\n",
              "      <td>22000.00</td>\n",
              "      <td>82500.00</td>\n",
              "      <td>150000.00</td>\n",
              "      <td>9999999.00</td>\n",
              "    </tr>\n",
              "    <tr>\n",
              "      <th>manufacture_year</th>\n",
              "      <td>638562.00</td>\n",
              "      <td>2008.72</td>\n",
              "      <td>5.50</td>\n",
              "      <td>1995.00</td>\n",
              "      <td>2005.00</td>\n",
              "      <td>2010.00</td>\n",
              "      <td>2014.00</td>\n",
              "      <td>2016.00</td>\n",
              "    </tr>\n",
              "    <tr>\n",
              "      <th>engine_displacement</th>\n",
              "      <td>489134.00</td>\n",
              "      <td>2100.23</td>\n",
              "      <td>1931.07</td>\n",
              "      <td>10.00</td>\n",
              "      <td>1461.00</td>\n",
              "      <td>1898.00</td>\n",
              "      <td>2143.00</td>\n",
              "      <td>32000.00</td>\n",
              "    </tr>\n",
              "    <tr>\n",
              "      <th>engine_power</th>\n",
              "      <td>537375.00</td>\n",
              "      <td>105.05</td>\n",
              "      <td>53.30</td>\n",
              "      <td>3.00</td>\n",
              "      <td>73.00</td>\n",
              "      <td>94.00</td>\n",
              "      <td>125.00</td>\n",
              "      <td>999.00</td>\n",
              "    </tr>\n",
              "    <tr>\n",
              "      <th>door_count</th>\n",
              "      <td>451206.00</td>\n",
              "      <td>3.68</td>\n",
              "      <td>0.84</td>\n",
              "      <td>1.00</td>\n",
              "      <td>4.00</td>\n",
              "      <td>4.00</td>\n",
              "      <td>4.00</td>\n",
              "      <td>6.00</td>\n",
              "    </tr>\n",
              "    <tr>\n",
              "      <th>seat_count</th>\n",
              "      <td>409865.00</td>\n",
              "      <td>4.87</td>\n",
              "      <td>0.86</td>\n",
              "      <td>1.00</td>\n",
              "      <td>5.00</td>\n",
              "      <td>5.00</td>\n",
              "      <td>5.00</td>\n",
              "      <td>74.00</td>\n",
              "    </tr>\n",
              "    <tr>\n",
              "      <th>price_NGN</th>\n",
              "      <td>638562.00</td>\n",
              "      <td>6171796.44</td>\n",
              "      <td>179858592.43</td>\n",
              "      <td>16.00</td>\n",
              "      <td>1600592.00</td>\n",
              "      <td>3980296.00</td>\n",
              "      <td>7377492.00</td>\n",
              "      <td>82310297260.00</td>\n",
              "    </tr>\n",
              "  </tbody>\n",
              "</table>\n",
              "</div>"
            ],
            "text/plain": [
              "                        count       mean          std     min        25%  \\\n",
              "mileage             603981.00  115283.86    365012.42    0.00   22000.00   \n",
              "manufacture_year    638562.00    2008.72         5.50 1995.00    2005.00   \n",
              "engine_displacement 489134.00    2100.23      1931.07   10.00    1461.00   \n",
              "engine_power        537375.00     105.05        53.30    3.00      73.00   \n",
              "door_count          451206.00       3.68         0.84    1.00       4.00   \n",
              "seat_count          409865.00       4.87         0.86    1.00       5.00   \n",
              "price_NGN           638562.00 6171796.44 179858592.43   16.00 1600592.00   \n",
              "\n",
              "                           50%        75%            max  \n",
              "mileage               82500.00  150000.00     9999999.00  \n",
              "manufacture_year       2010.00    2014.00        2016.00  \n",
              "engine_displacement    1898.00    2143.00       32000.00  \n",
              "engine_power             94.00     125.00         999.00  \n",
              "door_count                4.00       4.00           6.00  \n",
              "seat_count                5.00       5.00          74.00  \n",
              "price_NGN           3980296.00 7377492.00 82310297260.00  "
            ]
          },
          "metadata": {
            "tags": []
          },
          "execution_count": 8
        }
      ]
    },
    {
      "cell_type": "markdown",
      "metadata": {
        "id": "IyQz6sF6lzf-"
      },
      "source": [
        "Observations. \n",
        "\n",
        "- There is a noticeably large difference between the mean with the 50% and 75% percentiles for the mileage variable.\n",
        "- There is a noticeable large difference between the 75th percentile and the maximum values of the mileage, engine_displacement, engine_power and price_NGN.\n",
        "- There is also a noticeably large difference between the minimum values and the 25% percentile of the price_NGN variable.\n",
        "- The standard deviation between the mileage, engine_displacement and price_NGN variables is noticeably high.\n",
        "\n",
        "These observations suggest that there are outliers in our data."
      ]
    },
    {
      "cell_type": "markdown",
      "metadata": {
        "id": "J1E-KuDa4aja"
      },
      "source": [
        "### Fixing Extreme Values\n"
      ]
    },
    {
      "cell_type": "markdown",
      "metadata": {
        "id": "wv428ZB5_wMl"
      },
      "source": [
        "#### Seat Count"
      ]
    },
    {
      "cell_type": "code",
      "metadata": {
        "colab": {
          "base_uri": "https://localhost:8080/"
        },
        "id": "zmQSHG-t_ui4",
        "outputId": "2849df9b-48f7-4be6-e7c9-aafe51533c2c"
      },
      "source": [
        "cars45['seat_count'].describe()"
      ],
      "execution_count": null,
      "outputs": [
        {
          "output_type": "execute_result",
          "data": {
            "text/plain": [
              "count   409865.00\n",
              "mean         4.87\n",
              "std          0.86\n",
              "min          1.00\n",
              "25%          5.00\n",
              "50%          5.00\n",
              "75%          5.00\n",
              "max         74.00\n",
              "Name: seat_count, dtype: float64"
            ]
          },
          "metadata": {
            "tags": []
          },
          "execution_count": 9
        }
      ]
    },
    {
      "cell_type": "code",
      "metadata": {
        "id": "h3oCub6C_6GY"
      },
      "source": [
        "cars45.loc[cars45['seat_count'] > 15, 'seat_count'] = np.nan"
      ],
      "execution_count": null,
      "outputs": []
    },
    {
      "cell_type": "code",
      "metadata": {
        "colab": {
          "base_uri": "https://localhost:8080/"
        },
        "id": "YAKCo5DwAHdT",
        "outputId": "db4b80b9-3a33-4d7a-ee9d-8f866049610c"
      },
      "source": [
        "cars45['seat_count'].describe()"
      ],
      "execution_count": null,
      "outputs": [
        {
          "output_type": "execute_result",
          "data": {
            "text/plain": [
              "count   409847.00\n",
              "mean         4.87\n",
              "std          0.84\n",
              "min          1.00\n",
              "25%          5.00\n",
              "50%          5.00\n",
              "75%          5.00\n",
              "max         15.00\n",
              "Name: seat_count, dtype: float64"
            ]
          },
          "metadata": {
            "tags": []
          },
          "execution_count": 11
        }
      ]
    },
    {
      "cell_type": "markdown",
      "metadata": {
        "id": "igqBujz9_rbU"
      },
      "source": [
        "\n",
        "#### Mileage"
      ]
    },
    {
      "cell_type": "code",
      "metadata": {
        "colab": {
          "base_uri": "https://localhost:8080/",
          "height": 372
        },
        "id": "BFWhjvHm-Rs3",
        "outputId": "c31cf2b0-a952-44b5-c677-f0eac15bd7fa"
      },
      "source": [
        "plt.figure(figsize = (8, 5))\n",
        "plt.title('Distribution of Mileage')\n",
        "sns.distplot(cars45['mileage'])"
      ],
      "execution_count": null,
      "outputs": [
        {
          "output_type": "execute_result",
          "data": {
            "text/plain": [
              "<matplotlib.axes._subplots.AxesSubplot at 0x7f6fc0015f98>"
            ]
          },
          "metadata": {
            "tags": []
          },
          "execution_count": 12
        },
        {
          "output_type": "display_data",
          "data": {
            "image/png": "[encoded data removed]",
            "text/plain": [
              "<Figure size 576x360 with 1 Axes>"
            ]
          },
          "metadata": {
            "tags": []
          }
        }
      ]
    },
    {
      "cell_type": "markdown",
      "metadata": {
        "id": "96meUk68csHy"
      },
      "source": [
        "The minimum value for mileage is 0. Brand new cars typically have a few hundred miles on their odometers. This is because the new cars are vigorously test-driven or moved from the assembly plant to storage or from the dealership to the client's location.\n",
        "\n",
        "For this reason, I have pegged the floor and ceiling values at 100 and 200000 miles. Mileage values not in this range will be replaced with np.nan. "
      ]
    },
    {
      "cell_type": "code",
      "metadata": {
        "id": "GRUInVgwXiRD"
      },
      "source": [
        "cars45.loc[cars45['mileage'] < 100, 'mileage'] = np.nan\n",
        "cars45.loc[cars45['mileage'] > 200000, 'mileage'] = np.nan"
      ],
      "execution_count": null,
      "outputs": []
    },
    {
      "cell_type": "code",
      "metadata": {
        "colab": {
          "base_uri": "https://localhost:8080/"
        },
        "id": "98q3gB9De03D",
        "outputId": "d2082c41-e1f6-4b10-e03e-86ed4b85eb32"
      },
      "source": [
        "cars45['mileage'].describe()"
      ],
      "execution_count": null,
      "outputs": [
        {
          "output_type": "execute_result",
          "data": {
            "text/plain": [
              "count   482767.00\n",
              "mean     84086.05\n",
              "std      58825.21\n",
              "min        100.00\n",
              "25%      27580.50\n",
              "50%      79850.00\n",
              "75%     133000.00\n",
              "max     200000.00\n",
              "Name: mileage, dtype: float64"
            ]
          },
          "metadata": {
            "tags": []
          },
          "execution_count": 14
        }
      ]
    },
    {
      "cell_type": "code",
      "metadata": {
        "colab": {
          "base_uri": "https://localhost:8080/",
          "height": 372
        },
        "id": "XTBJy0SNXjeV",
        "outputId": "71852bfe-78cc-4b60-c4a5-51f49b340494"
      },
      "source": [
        "plt.figure(figsize = (8, 5))\n",
        "plt.title('Distribution of Mileage of Cars')\n",
        "sns.distplot(cars45.query('mileage <= 200000')['mileage'])"
      ],
      "execution_count": null,
      "outputs": [
        {
          "output_type": "execute_result",
          "data": {
            "text/plain": [
              "<matplotlib.axes._subplots.AxesSubplot at 0x7f6fbc7510f0>"
            ]
          },
          "metadata": {
            "tags": []
          },
          "execution_count": 15
        },
        {
          "output_type": "display_data",
          "data": {
            "image/png": "[encoded data removed]",
            "text/plain": [
              "<Figure size 576x360 with 1 Axes>"
            ]
          },
          "metadata": {
            "tags": []
          }
        }
      ]
    },
    {
      "cell_type": "markdown",
      "metadata": {
        "id": "2GrLtPIOdDvy"
      },
      "source": [
        "We can see that the histogram for mileage is right-skewed, with 75% of cars having a mileage less than 130000 miles."
      ]
    },
    {
      "cell_type": "markdown",
      "metadata": {
        "id": "CDzrsL3SgB9d"
      },
      "source": [
        "#### Engine Displacement"
      ]
    },
    {
      "cell_type": "code",
      "metadata": {
        "colab": {
          "base_uri": "https://localhost:8080/"
        },
        "id": "CoUeY3cqX5o-",
        "outputId": "61770e9b-eaad-4f57-836d-5de598bccd0c"
      },
      "source": [
        "cars45['engine_displacement'].describe()"
      ],
      "execution_count": null,
      "outputs": [
        {
          "output_type": "execute_result",
          "data": {
            "text/plain": [
              "count   489134.00\n",
              "mean      2100.23\n",
              "std       1931.07\n",
              "min         10.00\n",
              "25%       1461.00\n",
              "50%       1898.00\n",
              "75%       2143.00\n",
              "max      32000.00\n",
              "Name: engine_displacement, dtype: float64"
            ]
          },
          "metadata": {
            "tags": []
          },
          "execution_count": 16
        }
      ]
    },
    {
      "cell_type": "code",
      "metadata": {
        "colab": {
          "base_uri": "https://localhost:8080/",
          "height": 372
        },
        "id": "qBmwYSFrqXG3",
        "outputId": "53962fbf-df75-4716-e73d-a8d7966041aa"
      },
      "source": [
        "plt.figure(figsize = (8, 5))\n",
        "plt.title('Distribution of Engine Capacity')\n",
        "sns.distplot(cars45.query('engine_displacement <= 5000')['engine_displacement'])"
      ],
      "execution_count": null,
      "outputs": [
        {
          "output_type": "execute_result",
          "data": {
            "text/plain": [
              "<matplotlib.axes._subplots.AxesSubplot at 0x7f6fbc6bf550>"
            ]
          },
          "metadata": {
            "tags": []
          },
          "execution_count": 17
        },
        {
          "output_type": "display_data",
          "data": {
            "image/png": "[encoded data removed]",
            "text/plain": [
              "<Figure size 576x360 with 1 Axes>"
            ]
          },
          "metadata": {
            "tags": []
          }
        }
      ]
    },
    {
      "cell_type": "markdown",
      "metadata": {
        "id": "iqwm2fB0hPD_"
      },
      "source": [
        "It can be observed that the minimum engine displacement value is about 10 cc which is about 10 cc (0.01 liters) and the maximum is 32000 cc (32 liters). This values are grossly unrealistic. According to Drive Spark (https://www.drivespark.com/four-wheelers/2016/five-smallest-displacement-engines-production-cars/articlecontent-pf50711-019057.html), the smallest car engine is the smart fortwo with 898 cc. \n",
        "\n",
        "The strategy for handling extreme values for engine_displacement shall be similar to that of mileage. The floor and ceiling values will be pegged between 1000 and 5000 cc.\n",
        "\n",
        "So, like the mileage values, besides the smart fortwo, the range of values for the engine_displacement is between 1000 and 5000 cc, extreme values outside this range will be replaced with np.nan."
      ]
    },
    {
      "cell_type": "code",
      "metadata": {
        "id": "lwzEFLYLpM4g"
      },
      "source": [
        "cars45.loc[cars45['engine_displacement'] < 1000, 'engine_displacement'] = np.nan\n",
        "cars45.loc[cars45['engine_displacement'] > 5000, 'engine_displacement'] = np.nan"
      ],
      "execution_count": null,
      "outputs": []
    },
    {
      "cell_type": "code",
      "metadata": {
        "colab": {
          "base_uri": "https://localhost:8080/",
          "height": 372
        },
        "id": "N-BRwZvVsFPJ",
        "outputId": "26c4eecd-dd57-4f78-dcd9-e8743f916d34"
      },
      "source": [
        "plt.figure(figsize = (8, 5))\n",
        "plt.title('Distribution of Engine Capacity')\n",
        "sns.distplot(cars45['engine_displacement'])"
      ],
      "execution_count": null,
      "outputs": [
        {
          "output_type": "execute_result",
          "data": {
            "text/plain": [
              "<matplotlib.axes._subplots.AxesSubplot at 0x7f6fc4a41518>"
            ]
          },
          "metadata": {
            "tags": []
          },
          "execution_count": 19
        },
        {
          "output_type": "display_data",
          "data": {
            "image/png": "[encoded data removed]",
            "text/plain": [
              "<Figure size 576x360 with 1 Axes>"
            ]
          },
          "metadata": {
            "tags": []
          }
        }
      ]
    },
    {
      "cell_type": "markdown",
      "metadata": {
        "id": "Wk4S1ttTva1G"
      },
      "source": [
        "#### Engine Power"
      ]
    },
    {
      "cell_type": "code",
      "metadata": {
        "colab": {
          "base_uri": "https://localhost:8080/"
        },
        "id": "MM-Jb0fQvkhO",
        "outputId": "0e36a5b2-fc18-4266-a6e3-819ad0c2f9bd"
      },
      "source": [
        "cars45['engine_power'].describe()"
      ],
      "execution_count": null,
      "outputs": [
        {
          "output_type": "execute_result",
          "data": {
            "text/plain": [
              "count   537375.00\n",
              "mean       105.05\n",
              "std         53.30\n",
              "min          3.00\n",
              "25%         73.00\n",
              "50%         94.00\n",
              "75%        125.00\n",
              "max        999.00\n",
              "Name: engine_power, dtype: float64"
            ]
          },
          "metadata": {
            "tags": []
          },
          "execution_count": 20
        }
      ]
    },
    {
      "cell_type": "code",
      "metadata": {
        "colab": {
          "base_uri": "https://localhost:8080/",
          "height": 372
        },
        "id": "RsH0Wh6owlyr",
        "outputId": "d530d250-182c-4d19-e5e7-28d1df308ab6"
      },
      "source": [
        "plt.figure(figsize = (8, 5))\n",
        "plt.title('Distribution of Engine Power')\n",
        "sns.distplot(cars45['engine_power'])"
      ],
      "execution_count": null,
      "outputs": [
        {
          "output_type": "execute_result",
          "data": {
            "text/plain": [
              "<matplotlib.axes._subplots.AxesSubplot at 0x7f6fbc49c908>"
            ]
          },
          "metadata": {
            "tags": []
          },
          "execution_count": 21
        },
        {
          "output_type": "display_data",
          "data": {
            "image/png": "[encoded data removed]",
            "text/plain": [
              "<Figure size 576x360 with 1 Axes>"
            ]
          },
          "metadata": {
            "tags": []
          }
        }
      ]
    },
    {
      "cell_type": "markdown",
      "metadata": {
        "id": "pdXnT01aIiWO"
      },
      "source": [
        "An engine_power of 3 horsepower (hp) is both unrealistic and highly unlikely. According to Autoguide (https://www.autoguide.com/auto-news/2017/07/top-10-cars-with-the-least-horsepower-in-2017.html#:~:text=The%20least%20powerful%20car%20available,74%20lb%2Dft%20of%20torque.) puts the least engine power at 78hp.\n",
        "\n",
        "As per the strategy for extreme values, I shall peg the floor - ceiling range between 100 and 400 hp."
      ]
    },
    {
      "cell_type": "code",
      "metadata": {
        "id": "-6-anphMN3pg"
      },
      "source": [
        "cars45.loc[cars45['engine_power'] < 100, 'engine_power'] = np.nan\n",
        "cars45.loc[cars45['engine_power'] > 400, 'engine_power'] = np.nan"
      ],
      "execution_count": null,
      "outputs": []
    },
    {
      "cell_type": "code",
      "metadata": {
        "colab": {
          "base_uri": "https://localhost:8080/",
          "height": 372
        },
        "id": "CNxvtPRqscIV",
        "outputId": "d36f3f90-df89-48f2-9ce8-166365076ed6"
      },
      "source": [
        "plt.figure(figsize = (8, 5))\n",
        "plt.title('Distribution of Engine Power')\n",
        "sns.distplot(cars45.query('engine_power < 400')['engine_power'])"
      ],
      "execution_count": null,
      "outputs": [
        {
          "output_type": "execute_result",
          "data": {
            "text/plain": [
              "<matplotlib.axes._subplots.AxesSubplot at 0x7f6fbc39c940>"
            ]
          },
          "metadata": {
            "tags": []
          },
          "execution_count": 23
        },
        {
          "output_type": "display_data",
          "data": {
            "image/png": "[encoded data removed]",
            "text/plain": [
              "<Figure size 576x360 with 1 Axes>"
            ]
          },
          "metadata": {
            "tags": []
          }
        }
      ]
    },
    {
      "cell_type": "code",
      "metadata": {
        "colab": {
          "base_uri": "https://localhost:8080/"
        },
        "id": "NFP8bb61OPVK",
        "outputId": "6ce91d94-6afe-4201-f7a1-7709b085e774"
      },
      "source": [
        "cars45['engine_power'].describe()"
      ],
      "execution_count": null,
      "outputs": [
        {
          "output_type": "execute_result",
          "data": {
            "text/plain": [
              "count   253173.00\n",
              "mean       141.32\n",
              "std         48.36\n",
              "min        100.00\n",
              "25%        110.00\n",
              "50%        125.00\n",
              "75%        155.00\n",
              "max        400.00\n",
              "Name: engine_power, dtype: float64"
            ]
          },
          "metadata": {
            "tags": []
          },
          "execution_count": 24
        }
      ]
    },
    {
      "cell_type": "markdown",
      "metadata": {
        "id": "XgUl13tJR4Pb"
      },
      "source": [
        "#### Price"
      ]
    },
    {
      "cell_type": "code",
      "metadata": {
        "colab": {
          "base_uri": "https://localhost:8080/"
        },
        "id": "KMJl_1nYSn0o",
        "outputId": "68752a1a-f936-4928-f131-47fd8194b0dd"
      },
      "source": [
        "cars45['price_NGN'].describe()"
      ],
      "execution_count": null,
      "outputs": [
        {
          "output_type": "execute_result",
          "data": {
            "text/plain": [
              "count        638562.00\n",
              "mean        6171796.44\n",
              "std       179858592.43\n",
              "min              16.00\n",
              "25%         1600592.00\n",
              "50%         3980296.00\n",
              "75%         7377492.00\n",
              "max     82310297260.00\n",
              "Name: price_NGN, dtype: float64"
            ]
          },
          "metadata": {
            "tags": []
          },
          "execution_count": 25
        }
      ]
    },
    {
      "cell_type": "code",
      "metadata": {
        "colab": {
          "base_uri": "https://localhost:8080/",
          "height": 372
        },
        "id": "qeqw7m2AzG_Q",
        "outputId": "ddf4f268-d63c-46dc-8d8e-4b3e04763595"
      },
      "source": [
        "plt.figure(figsize = (8, 5))\n",
        "plt.title('Distribution of Price (NGN)')\n",
        "sns.distplot(cars45['price_NGN'])"
      ],
      "execution_count": null,
      "outputs": [
        {
          "output_type": "execute_result",
          "data": {
            "text/plain": [
              "<matplotlib.axes._subplots.AxesSubplot at 0x7f6fbc3f6a20>"
            ]
          },
          "metadata": {
            "tags": []
          },
          "execution_count": 26
        },
        {
          "output_type": "display_data",
          "data": {
            "image/png": "[encoded data removed]",
            "text/plain": [
              "<Figure size 576x360 with 1 Axes>"
            ]
          },
          "metadata": {
            "tags": []
          }
        }
      ]
    },
    {
      "cell_type": "markdown",
      "metadata": {
        "id": "UHnaf-bHxcoI"
      },
      "source": [
        "The price_NGN variable is riddled with extreme values, mostly unrealistic!\n",
        "- The minimum price is 16 NGN.\n",
        "- The standard deviation is 179 858 600 NGN.\n",
        "- The 25th - 75th percentile values look fine (between 1,600,592 - 7,377,492 NGN)\n",
        "- The maximum price is 82,310,300,000 NGN.\n",
        "\n"
      ]
    },
    {
      "cell_type": "markdown",
      "metadata": {
        "id": "kijAZMl_zUlU"
      },
      "source": [
        "The price variable is the trickiest and also the most important variable in our data. My strategy for cleaning the price data is different from the rest. \n",
        "\n",
        "I have grouped the data into seperate dataframes by the make of the car, i.e. all audis in one dataframe, all jaguars in another, etc."
      ]
    },
    {
      "cell_type": "markdown",
      "metadata": {
        "id": "drDPGzZ4vIr9"
      },
      "source": [
        "So I'll be looking at the price data by make."
      ]
    },
    {
      "cell_type": "code",
      "metadata": {
        "id": "6VlsbwD2BTV8"
      },
      "source": [
        "audi = cars45.loc[cars45['make'] == 'audi'].reset_index(drop = True)\n",
        "bentley = cars45.loc[cars45['make'] == 'bentley'].reset_index(drop = True)\n",
        "bmw = cars45.loc[cars45['make'] == 'bmw'].reset_index(drop = True)\n",
        "chevrolet = cars45.loc[cars45['make'] == 'chevrolet'].reset_index(drop = True)\n",
        "chrysler = cars45.loc[cars45['make'] == 'chrysler'].reset_index(drop = True)\n",
        "citroen = cars45.loc[cars45['make'] == 'citroen'].reset_index(drop = True)\n",
        "dodge = cars45.loc[cars45['make'] == 'dodge'].reset_index(drop = True)\n",
        "fiat = cars45.loc[cars45['make'] == 'fiat'].reset_index(drop = True)\n",
        "ford = cars45.loc[cars45['make'] == 'ford'].reset_index(drop = True)\n",
        "honda = cars45.loc[cars45['make'] == 'honda'].reset_index(drop = True)\n",
        "hyundai = cars45.loc[cars45['make'] == 'hyundai'].reset_index(drop = True)\n",
        "isuzu = cars45.loc[cars45['make'] == 'isuzu'].reset_index(drop = True)\n",
        "jaguar = cars45.loc[cars45['make'] == 'jaguar'].reset_index(drop = True)\n",
        "jeep = cars45.loc[cars45['make'] == 'jeep'].reset_index(drop = True)\n",
        "kia = cars45.loc[cars45['make'] == 'kia'].reset_index(drop = True)\n",
        "lamborghini = cars45.loc[cars45['make'] == 'lamborghini'].reset_index(drop = True)\n",
        "lancia = cars45.loc[cars45['make'] == 'lancia'].reset_index(drop = True)\n",
        "maserati = cars45.loc[cars45['make'] == 'maserati'].reset_index(drop = True)\n",
        "mazda = cars45.loc[cars45['make'] == 'mazda'].reset_index(drop = True)\n",
        "mercedes = cars45.loc[cars45['make'] == 'mercedes-benz'].reset_index(drop = True)\n",
        "mini = cars45.loc[cars45['make'] == 'mini'].reset_index(drop = True)\n",
        "mitsubishi = cars45.loc[cars45['make'] == 'mitsubishi'].reset_index(drop = True)\n",
        "nissan = cars45.loc[cars45['make'] == 'nissan'].reset_index(drop = True)\n",
        "opel = cars45.loc[cars45['make'] == 'opel'].reset_index(drop = True)\n",
        "porsche = cars45.loc[cars45['make'] == 'porsche'].reset_index(drop = True)\n",
        "rover = cars45.loc[cars45['make'] == 'rover'].reset_index(drop = True)\n",
        "seat = cars45.loc[cars45['make'] == 'seat'].reset_index(drop = True)\n",
        "skoda = cars45.loc[cars45['make'] == 'skoda'].reset_index(drop = True)\n",
        "subaru = cars45.loc[cars45['make'] == 'subaru'].reset_index(drop = True)\n",
        "suzuki = cars45.loc[cars45['make'] == 'suzuki'].reset_index(drop = True)\n",
        "toyota = cars45.loc[cars45['make'] == 'toyota'].reset_index(drop = True)\n",
        "volvo = cars45.loc[cars45['make'] == 'volvo'].reset_index(drop = True)\n",
        "hummer = cars45.loc[cars45['make'] == 'hummer'].reset_index(drop = True)\n",
        "lexus = cars45.loc[cars45['make'] == 'lexus'].reset_index(drop = True)\n",
        "tesla = cars45.loc[cars45['make'] == 'tesla'].reset_index(drop = True)\n",
        "lotus = cars45.loc[cars45['make'] == 'lotus'].reset_index(drop = True)\n",
        "smart = cars45.loc[cars45['make'] == 'smart'].reset_index(drop = True)"
      ],
      "execution_count": null,
      "outputs": []
    },
    {
      "cell_type": "markdown",
      "metadata": {
        "id": "O16OFaiwvPaN"
      },
      "source": [
        "##### Audi"
      ]
    },
    {
      "cell_type": "code",
      "metadata": {
        "colab": {
          "base_uri": "https://localhost:8080/"
        },
        "id": "ftZn962kvEsX",
        "outputId": "d6d9949c-f69b-4b11-89e8-b83af2aa2235"
      },
      "source": [
        "audi['price_NGN'].describe()"
      ],
      "execution_count": null,
      "outputs": [
        {
          "output_type": "execute_result",
          "data": {
            "text/plain": [
              "count         72529.00\n",
              "mean        8329650.78\n",
              "std       148648557.41\n",
              "min              16.00\n",
              "25%         3300488.00\n",
              "50%         6891412.00\n",
              "75%        10460356.00\n",
              "max     40004440756.00\n",
              "Name: price_NGN, dtype: float64"
            ]
          },
          "metadata": {
            "tags": []
          },
          "execution_count": 28
        }
      ]
    },
    {
      "cell_type": "markdown",
      "metadata": {
        "id": "StKyybNNxFv-"
      },
      "source": [
        "There are some extreme values in the audi prices.\n",
        "The minimum price is 16 NGN and the maximum price is over 40 billion NGN.\n",
        "There is a noticeably large difference between the prices in the 75% percentile and the maximum price. "
      ]
    },
    {
      "cell_type": "code",
      "metadata": {
        "colab": {
          "base_uri": "https://localhost:8080/",
          "height": 1000
        },
        "id": "qG1_9pYJtlaH",
        "outputId": "c6e41cef-094b-488f-ae9c-fca761fb4904"
      },
      "source": [
        "audi.groupby('model').agg({'price_NGN': ['min', 'max']})"
      ],
      "execution_count": null,
      "outputs": [
        {
          "output_type": "execute_result",
          "data": {
            "text/html": [
              "<div>\n",
              "<style scoped>\n",
              "    .dataframe tbody tr th:only-of-type {\n",
              "        vertical-align: middle;\n",
              "    }\n",
              "\n",
              "    .dataframe tbody tr th {\n",
              "        vertical-align: top;\n",
              "    }\n",
              "\n",
              "    .dataframe thead tr th {\n",
              "        text-align: left;\n",
              "    }\n",
              "\n",
              "    .dataframe thead tr:last-of-type th {\n",
              "        text-align: right;\n",
              "    }\n",
              "</style>\n",
              "<table border=\"1\" class=\"dataframe\">\n",
              "  <thead>\n",
              "    <tr>\n",
              "      <th></th>\n",
              "      <th colspan=\"2\" halign=\"left\">price_NGN</th>\n",
              "    </tr>\n",
              "    <tr>\n",
              "      <th></th>\n",
              "      <th>min</th>\n",
              "      <th>max</th>\n",
              "    </tr>\n",
              "    <tr>\n",
              "      <th>model</th>\n",
              "      <th></th>\n",
              "      <th></th>\n",
              "    </tr>\n",
              "  </thead>\n",
              "  <tbody>\n",
              "    <tr>\n",
              "      <th>100</th>\n",
              "      <td>22204</td>\n",
              "      <td>33304928</td>\n",
              "    </tr>\n",
              "    <tr>\n",
              "      <th>200</th>\n",
              "      <td>16</td>\n",
              "      <td>36861584</td>\n",
              "    </tr>\n",
              "    <tr>\n",
              "      <th>80</th>\n",
              "      <td>88</td>\n",
              "      <td>60176904</td>\n",
              "    </tr>\n",
              "    <tr>\n",
              "      <th>90</th>\n",
              "      <td>281272</td>\n",
              "      <td>43672052</td>\n",
              "    </tr>\n",
              "    <tr>\n",
              "      <th>a1</th>\n",
              "      <td>2761020</td>\n",
              "      <td>48055516</td>\n",
              "    </tr>\n",
              "    <tr>\n",
              "      <th>a2</th>\n",
              "      <td>340192</td>\n",
              "      <td>10000712</td>\n",
              "    </tr>\n",
              "    <tr>\n",
              "      <th>a3</th>\n",
              "      <td>16</td>\n",
              "      <td>22002444</td>\n",
              "    </tr>\n",
              "    <tr>\n",
              "      <th>a4</th>\n",
              "      <td>16</td>\n",
              "      <td>164487208</td>\n",
              "    </tr>\n",
              "    <tr>\n",
              "      <th>a4-allroad</th>\n",
              "      <td>503332</td>\n",
              "      <td>19924100</td>\n",
              "    </tr>\n",
              "    <tr>\n",
              "      <th>a5</th>\n",
              "      <td>14788</td>\n",
              "      <td>25183732</td>\n",
              "    </tr>\n",
              "    <tr>\n",
              "      <th>a6</th>\n",
              "      <td>16</td>\n",
              "      <td>444608884</td>\n",
              "    </tr>\n",
              "    <tr>\n",
              "      <th>a6-allroad</th>\n",
              "      <td>16</td>\n",
              "      <td>69563288</td>\n",
              "    </tr>\n",
              "    <tr>\n",
              "      <th>a7</th>\n",
              "      <td>120</td>\n",
              "      <td>35799972</td>\n",
              "    </tr>\n",
              "    <tr>\n",
              "      <th>a8</th>\n",
              "      <td>16</td>\n",
              "      <td>70548440</td>\n",
              "    </tr>\n",
              "    <tr>\n",
              "      <th>coupe</th>\n",
              "      <td>16</td>\n",
              "      <td>56016580</td>\n",
              "    </tr>\n",
              "    <tr>\n",
              "      <th>q3</th>\n",
              "      <td>44012</td>\n",
              "      <td>24185700</td>\n",
              "    </tr>\n",
              "    <tr>\n",
              "      <th>q5</th>\n",
              "      <td>29608</td>\n",
              "      <td>39605864</td>\n",
              "    </tr>\n",
              "    <tr>\n",
              "      <th>q7</th>\n",
              "      <td>22204</td>\n",
              "      <td>36994820</td>\n",
              "    </tr>\n",
              "    <tr>\n",
              "      <th>r8</th>\n",
              "      <td>3762088</td>\n",
              "      <td>78008660</td>\n",
              "    </tr>\n",
              "    <tr>\n",
              "      <th>rs2</th>\n",
              "      <td>4762648</td>\n",
              "      <td>20002560</td>\n",
              "    </tr>\n",
              "    <tr>\n",
              "      <th>rs3</th>\n",
              "      <td>6203448</td>\n",
              "      <td>28637988</td>\n",
              "    </tr>\n",
              "    <tr>\n",
              "      <th>rs4</th>\n",
              "      <td>839912</td>\n",
              "      <td>43612908</td>\n",
              "    </tr>\n",
              "    <tr>\n",
              "      <th>rs5</th>\n",
              "      <td>460132</td>\n",
              "      <td>29170792</td>\n",
              "    </tr>\n",
              "    <tr>\n",
              "      <th>rs6</th>\n",
              "      <td>1644</td>\n",
              "      <td>56310732</td>\n",
              "    </tr>\n",
              "    <tr>\n",
              "      <th>rs7</th>\n",
              "      <td>26495500</td>\n",
              "      <td>48672804</td>\n",
              "    </tr>\n",
              "    <tr>\n",
              "      <th>s3</th>\n",
              "      <td>10364</td>\n",
              "      <td>25047416</td>\n",
              "    </tr>\n",
              "    <tr>\n",
              "      <th>s4</th>\n",
              "      <td>207252</td>\n",
              "      <td>22833736</td>\n",
              "    </tr>\n",
              "    <tr>\n",
              "      <th>s5</th>\n",
              "      <td>5960888</td>\n",
              "      <td>27054404</td>\n",
              "    </tr>\n",
              "    <tr>\n",
              "      <th>s6</th>\n",
              "      <td>1000076</td>\n",
              "      <td>31211548</td>\n",
              "    </tr>\n",
              "    <tr>\n",
              "      <th>s7</th>\n",
              "      <td>15091428</td>\n",
              "      <td>29176432</td>\n",
              "    </tr>\n",
              "    <tr>\n",
              "      <th>s8</th>\n",
              "      <td>962252</td>\n",
              "      <td>52306336</td>\n",
              "    </tr>\n",
              "    <tr>\n",
              "      <th>sq5</th>\n",
              "      <td>8396936</td>\n",
              "      <td>31163464</td>\n",
              "    </tr>\n",
              "    <tr>\n",
              "      <th>tt</th>\n",
              "      <td>148</td>\n",
              "      <td>47042604</td>\n",
              "    </tr>\n",
              "    <tr>\n",
              "      <th>v8</th>\n",
              "      <td>1320148</td>\n",
              "      <td>13201376</td>\n",
              "    </tr>\n",
              "  </tbody>\n",
              "</table>\n",
              "</div>"
            ],
            "text/plain": [
              "           price_NGN           \n",
              "                 min        max\n",
              "model                          \n",
              "100            22204   33304928\n",
              "200               16   36861584\n",
              "80                88   60176904\n",
              "90            281272   43672052\n",
              "a1           2761020   48055516\n",
              "a2            340192   10000712\n",
              "a3                16   22002444\n",
              "a4                16  164487208\n",
              "a4-allroad    503332   19924100\n",
              "a5             14788   25183732\n",
              "a6                16  444608884\n",
              "a6-allroad        16   69563288\n",
              "a7               120   35799972\n",
              "a8                16   70548440\n",
              "coupe             16   56016580\n",
              "q3             44012   24185700\n",
              "q5             29608   39605864\n",
              "q7             22204   36994820\n",
              "r8           3762088   78008660\n",
              "rs2          4762648   20002560\n",
              "rs3          6203448   28637988\n",
              "rs4           839912   43612908\n",
              "rs5           460132   29170792\n",
              "rs6             1644   56310732\n",
              "rs7         26495500   48672804\n",
              "s3             10364   25047416\n",
              "s4            207252   22833736\n",
              "s5           5960888   27054404\n",
              "s6           1000076   31211548\n",
              "s7          15091428   29176432\n",
              "s8            962252   52306336\n",
              "sq5          8396936   31163464\n",
              "tt               148   47042604\n",
              "v8           1320148   13201376"
            ]
          },
          "metadata": {
            "tags": []
          },
          "execution_count": 29
        }
      ]
    },
    {
      "cell_type": "markdown",
      "metadata": {
        "id": "215bOz--4g8p"
      },
      "source": [
        "I have grouped the data by minimum and maximum prices in each model category. A lot of the outliers have been exposed. The minimum values by model hold a lot of unrealistic values.\n",
        "\n",
        "I took a look at the prices of Audi cars on the cars45 site (https://buy.cars45.com/cars&filter=2), the cheapest audi car is the 1999 Audi A4 (Mileage: 247,353km) at a price of 304,000 NGN.\n",
        "\n",
        "Based on this I set the floor of the Audi car prices to 300,000 NGN.\n",
        "The 75% percentile price is at 10,460,356 NGN. So based on this I set the floor of the Audi cars to 15,000,000 NGN. Any price that falls outside this floor - ceiling range is replaced with np.nan"
      ]
    },
    {
      "cell_type": "code",
      "metadata": {
        "id": "MG7KsFEj8zoZ"
      },
      "source": [
        "audi.loc[audi['price_NGN'] < 300000, 'price_NGN'] = np.nan\n",
        "audi.loc[audi['price_NGN'] > 15000000, 'price_NGN'] = np.nan"
      ],
      "execution_count": null,
      "outputs": []
    },
    {
      "cell_type": "code",
      "metadata": {
        "colab": {
          "base_uri": "https://localhost:8080/"
        },
        "id": "2DT9R18y9Nht",
        "outputId": "c4a1c5ff-4320-461a-91ec-ae5ae4ecb65c"
      },
      "source": [
        "audi['price_NGN'].describe()"
      ],
      "execution_count": null,
      "outputs": [
        {
          "output_type": "execute_result",
          "data": {
            "text/plain": [
              "count      64827.00\n",
              "mean     6480795.98\n",
              "std      3864013.22\n",
              "min       300016.00\n",
              "25%      3080460.00\n",
              "50%      6380948.00\n",
              "75%      9409654.00\n",
              "max     14999852.00\n",
              "Name: price_NGN, dtype: float64"
            ]
          },
          "metadata": {
            "tags": []
          },
          "execution_count": 31
        }
      ]
    },
    {
      "cell_type": "markdown",
      "metadata": {
        "id": "ZAyNdGBf9byo"
      },
      "source": [
        "##### Bentley"
      ]
    },
    {
      "cell_type": "code",
      "metadata": {
        "colab": {
          "base_uri": "https://localhost:8080/"
        },
        "id": "E6DA8uyg9fFf",
        "outputId": "272e50e7-b4e9-4067-e23c-58db04ac843b"
      },
      "source": [
        "bentley['price_NGN'].describe()"
      ],
      "execution_count": null,
      "outputs": [
        {
          "output_type": "execute_result",
          "data": {
            "text/plain": [
              "count         273.00\n",
              "mean     47132871.43\n",
              "std      24747424.98\n",
              "min       3800564.00\n",
              "25%      25122784.00\n",
              "50%      47649132.00\n",
              "75%      63967104.00\n",
              "max     127126412.00\n",
              "Name: price_NGN, dtype: float64"
            ]
          },
          "metadata": {
            "tags": []
          },
          "execution_count": 32
        }
      ]
    },
    {
      "cell_type": "code",
      "metadata": {
        "colab": {
          "base_uri": "https://localhost:8080/",
          "height": 340
        },
        "id": "NEiUyuXf91IY",
        "outputId": "2d2ee9b4-5a74-46c1-acfd-eb119bc6b0be"
      },
      "source": [
        "bentley.groupby('model').agg({'price_NGN': ['min', 'max']})"
      ],
      "execution_count": null,
      "outputs": [
        {
          "output_type": "execute_result",
          "data": {
            "text/html": [
              "<div>\n",
              "<style scoped>\n",
              "    .dataframe tbody tr th:only-of-type {\n",
              "        vertical-align: middle;\n",
              "    }\n",
              "\n",
              "    .dataframe tbody tr th {\n",
              "        vertical-align: top;\n",
              "    }\n",
              "\n",
              "    .dataframe thead tr th {\n",
              "        text-align: left;\n",
              "    }\n",
              "\n",
              "    .dataframe thead tr:last-of-type th {\n",
              "        text-align: right;\n",
              "    }\n",
              "</style>\n",
              "<table border=\"1\" class=\"dataframe\">\n",
              "  <thead>\n",
              "    <tr>\n",
              "      <th></th>\n",
              "      <th colspan=\"2\" halign=\"left\">price_NGN</th>\n",
              "    </tr>\n",
              "    <tr>\n",
              "      <th></th>\n",
              "      <th>min</th>\n",
              "      <th>max</th>\n",
              "    </tr>\n",
              "    <tr>\n",
              "      <th>model</th>\n",
              "      <th></th>\n",
              "      <th></th>\n",
              "    </tr>\n",
              "  </thead>\n",
              "  <tbody>\n",
              "    <tr>\n",
              "      <th>arnage</th>\n",
              "      <td>6602444</td>\n",
              "      <td>32013768</td>\n",
              "    </tr>\n",
              "    <tr>\n",
              "      <th>brooklands</th>\n",
              "      <td>3800564</td>\n",
              "      <td>7901168</td>\n",
              "    </tr>\n",
              "    <tr>\n",
              "      <th>continental-flying-spur</th>\n",
              "      <td>13206928</td>\n",
              "      <td>69217692</td>\n",
              "    </tr>\n",
              "    <tr>\n",
              "      <th>continental-gt</th>\n",
              "      <td>13021924</td>\n",
              "      <td>81550568</td>\n",
              "    </tr>\n",
              "    <tr>\n",
              "      <th>continental-gtc</th>\n",
              "      <td>22863568</td>\n",
              "      <td>86031548</td>\n",
              "    </tr>\n",
              "    <tr>\n",
              "      <th>continental-r</th>\n",
              "      <td>15234256</td>\n",
              "      <td>36802724</td>\n",
              "    </tr>\n",
              "    <tr>\n",
              "      <th>continental-t</th>\n",
              "      <td>50027756</td>\n",
              "      <td>50027756</td>\n",
              "    </tr>\n",
              "    <tr>\n",
              "      <th>turbo-r</th>\n",
              "      <td>32404796</td>\n",
              "      <td>32404796</td>\n",
              "    </tr>\n",
              "  </tbody>\n",
              "</table>\n",
              "</div>"
            ],
            "text/plain": [
              "                        price_NGN          \n",
              "                              min       max\n",
              "model                                      \n",
              "arnage                    6602444  32013768\n",
              "brooklands                3800564   7901168\n",
              "continental-flying-spur  13206928  69217692\n",
              "continental-gt           13021924  81550568\n",
              "continental-gtc          22863568  86031548\n",
              "continental-r            15234256  36802724\n",
              "continental-t            50027756  50027756\n",
              "turbo-r                  32404796  32404796"
            ]
          },
          "metadata": {
            "tags": []
          },
          "execution_count": 33
        }
      ]
    },
    {
      "cell_type": "markdown",
      "metadata": {
        "id": "xpB_a37H-X5H"
      },
      "source": [
        "It is observed that the Bentley is a luxury car. The minimum Bentley pricing across all models ranges from 3.8 million NGN to 50 million NGN and the maximum pricing ranges from 7.9 million NGN to 86 million NGN. \n",
        "\n",
        "Leading with this, the floor - ceiling prices for the bentley will be pegged from 3.5 million NGN to 90 million NGN."
      ]
    },
    {
      "cell_type": "code",
      "metadata": {
        "id": "ryCthTA9_k0r"
      },
      "source": [
        "bentley.loc[bentley['price_NGN'] < 3500000, 'price_NGN'] = np.nan\n",
        "bentley.loc[bentley['price_NGN'] > 90000000, 'price_NGN'] = np.nan"
      ],
      "execution_count": null,
      "outputs": []
    },
    {
      "cell_type": "code",
      "metadata": {
        "colab": {
          "base_uri": "https://localhost:8080/"
        },
        "id": "lL6x2zkX_zCV",
        "outputId": "afdae9f3-c56f-4c80-fd99-c8256dccca95"
      },
      "source": [
        "bentley['price_NGN'].describe()"
      ],
      "execution_count": null,
      "outputs": [
        {
          "output_type": "execute_result",
          "data": {
            "text/plain": [
              "count        262.00\n",
              "mean    44558340.53\n",
              "std     21606597.22\n",
              "min      3800564.00\n",
              "25%     24401808.00\n",
              "50%     45941294.00\n",
              "75%     62121447.00\n",
              "max     86050376.00\n",
              "Name: price_NGN, dtype: float64"
            ]
          },
          "metadata": {
            "tags": []
          },
          "execution_count": 35
        }
      ]
    },
    {
      "cell_type": "markdown",
      "metadata": {
        "id": "1mh670iM_-yO"
      },
      "source": [
        "##### BMW"
      ]
    },
    {
      "cell_type": "code",
      "metadata": {
        "colab": {
          "base_uri": "https://localhost:8080/"
        },
        "id": "olq48v0mAAuN",
        "outputId": "05b9d9a5-739e-45ba-c5bc-879e60ccdd6b"
      },
      "source": [
        "bmw['price_NGN'].describe()"
      ],
      "execution_count": null,
      "outputs": [
        {
          "output_type": "execute_result",
          "data": {
            "text/plain": [
              "count         78587.00\n",
              "mean        7706573.99\n",
              "std        45545072.06\n",
              "min              16.00\n",
              "25%         3101716.00\n",
              "50%         6382592.00\n",
              "75%        10316234.00\n",
              "max     12001332348.00\n",
              "Name: price_NGN, dtype: float64"
            ]
          },
          "metadata": {
            "tags": []
          },
          "execution_count": 36
        }
      ]
    },
    {
      "cell_type": "markdown",
      "metadata": {
        "id": "9fUoCjl6AqRK"
      },
      "source": [
        "There are certainly some extremely priced BMWs. \n",
        "The standard deviation is more than the mean and more than the 75th percentile price. And the minimum price for BMWs is 16 NGN and the maximum price is 12 billion NGN!"
      ]
    },
    {
      "cell_type": "code",
      "metadata": {
        "colab": {
          "base_uri": "https://localhost:8080/",
          "height": 546
        },
        "id": "VDKUdjnKASDY",
        "outputId": "ca0435d6-e16f-45d1-a70d-ca52d21e6422"
      },
      "source": [
        "bmw.groupby('model').agg({'price_NGN': ['min', 'max']})"
      ],
      "execution_count": null,
      "outputs": [
        {
          "output_type": "execute_result",
          "data": {
            "text/html": [
              "<div>\n",
              "<style scoped>\n",
              "    .dataframe tbody tr th:only-of-type {\n",
              "        vertical-align: middle;\n",
              "    }\n",
              "\n",
              "    .dataframe tbody tr th {\n",
              "        vertical-align: top;\n",
              "    }\n",
              "\n",
              "    .dataframe thead tr th {\n",
              "        text-align: left;\n",
              "    }\n",
              "\n",
              "    .dataframe thead tr:last-of-type th {\n",
              "        text-align: right;\n",
              "    }\n",
              "</style>\n",
              "<table border=\"1\" class=\"dataframe\">\n",
              "  <thead>\n",
              "    <tr>\n",
              "      <th></th>\n",
              "      <th colspan=\"2\" halign=\"left\">price_NGN</th>\n",
              "    </tr>\n",
              "    <tr>\n",
              "      <th></th>\n",
              "      <th>min</th>\n",
              "      <th>max</th>\n",
              "    </tr>\n",
              "    <tr>\n",
              "      <th>model</th>\n",
              "      <th></th>\n",
              "      <th></th>\n",
              "    </tr>\n",
              "  </thead>\n",
              "  <tbody>\n",
              "    <tr>\n",
              "      <th>alpina</th>\n",
              "      <td>799628</td>\n",
              "      <td>148021908</td>\n",
              "    </tr>\n",
              "    <tr>\n",
              "      <th>i3</th>\n",
              "      <td>5003080</td>\n",
              "      <td>20208408</td>\n",
              "    </tr>\n",
              "    <tr>\n",
              "      <th>i8</th>\n",
              "      <td>36640076</td>\n",
              "      <td>62027536</td>\n",
              "    </tr>\n",
              "    <tr>\n",
              "      <th>m3</th>\n",
              "      <td>16</td>\n",
              "      <td>67967548</td>\n",
              "    </tr>\n",
              "    <tr>\n",
              "      <th>m4</th>\n",
              "      <td>16</td>\n",
              "      <td>38813236</td>\n",
              "    </tr>\n",
              "    <tr>\n",
              "      <th>m5</th>\n",
              "      <td>1464</td>\n",
              "      <td>40869652</td>\n",
              "    </tr>\n",
              "    <tr>\n",
              "      <th>m6</th>\n",
              "      <td>840472</td>\n",
              "      <td>50293044</td>\n",
              "    </tr>\n",
              "    <tr>\n",
              "      <th>x1</th>\n",
              "      <td>7400</td>\n",
              "      <td>83986308</td>\n",
              "    </tr>\n",
              "    <tr>\n",
              "      <th>x3</th>\n",
              "      <td>488</td>\n",
              "      <td>117977468</td>\n",
              "    </tr>\n",
              "    <tr>\n",
              "      <th>x4</th>\n",
              "      <td>614360</td>\n",
              "      <td>30092244</td>\n",
              "    </tr>\n",
              "    <tr>\n",
              "      <th>x5</th>\n",
              "      <td>16</td>\n",
              "      <td>49007252</td>\n",
              "    </tr>\n",
              "    <tr>\n",
              "      <th>x6</th>\n",
              "      <td>3048</td>\n",
              "      <td>47997780</td>\n",
              "    </tr>\n",
              "    <tr>\n",
              "      <th>z3</th>\n",
              "      <td>44412</td>\n",
              "      <td>15982368</td>\n",
              "    </tr>\n",
              "    <tr>\n",
              "      <th>z4</th>\n",
              "      <td>29608</td>\n",
              "      <td>27651992</td>\n",
              "    </tr>\n",
              "    <tr>\n",
              "      <th>z8</th>\n",
              "      <td>55988292</td>\n",
              "      <td>146021612</td>\n",
              "    </tr>\n",
              "  </tbody>\n",
              "</table>\n",
              "</div>"
            ],
            "text/plain": [
              "       price_NGN           \n",
              "             min        max\n",
              "model                      \n",
              "alpina    799628  148021908\n",
              "i3       5003080   20208408\n",
              "i8      36640076   62027536\n",
              "m3            16   67967548\n",
              "m4            16   38813236\n",
              "m5          1464   40869652\n",
              "m6        840472   50293044\n",
              "x1          7400   83986308\n",
              "x3           488  117977468\n",
              "x4        614360   30092244\n",
              "x5            16   49007252\n",
              "x6          3048   47997780\n",
              "z3         44412   15982368\n",
              "z4         29608   27651992\n",
              "z8      55988292  146021612"
            ]
          },
          "metadata": {
            "tags": []
          },
          "execution_count": 37
        }
      ]
    },
    {
      "cell_type": "markdown",
      "metadata": {
        "id": "x-SNMguBB3ct"
      },
      "source": [
        "Leading with the pricing aggregates in the table above, the floor - ceiling pricing is pegged between 600,000 NGN and 147,000,000 NGN."
      ]
    },
    {
      "cell_type": "code",
      "metadata": {
        "id": "ZZVMmrSWCjXa"
      },
      "source": [
        "bmw.loc[bmw['price_NGN'] < 600000, 'price_NGN'] = np.nan\n",
        "bmw.loc[bmw['price_NGN'] > 147000000, 'price_NGN'] = np.nan"
      ],
      "execution_count": null,
      "outputs": []
    },
    {
      "cell_type": "code",
      "metadata": {
        "colab": {
          "base_uri": "https://localhost:8080/"
        },
        "id": "SmTVzfCWCjUI",
        "outputId": "163e1480-8fb5-4832-d3c2-30e09325d25c"
      },
      "source": [
        "bmw['price_NGN'].describe()"
      ],
      "execution_count": null,
      "outputs": [
        {
          "output_type": "execute_result",
          "data": {
            "text/plain": [
              "count       75846.00\n",
              "mean      7747747.70\n",
              "std       5980615.84\n",
              "min        600028.00\n",
              "25%       3401260.00\n",
              "50%       6672896.00\n",
              "75%      10418352.00\n",
              "max     146021612.00\n",
              "Name: price_NGN, dtype: float64"
            ]
          },
          "metadata": {
            "tags": []
          },
          "execution_count": 39
        }
      ]
    },
    {
      "cell_type": "markdown",
      "metadata": {
        "id": "TOz8B46NDMxl"
      },
      "source": [
        "##### Chevrolet"
      ]
    },
    {
      "cell_type": "code",
      "metadata": {
        "colab": {
          "base_uri": "https://localhost:8080/"
        },
        "id": "gH-tN3jYDkMW",
        "outputId": "a4382037-8b5b-4ef5-bd1d-9a0119389209"
      },
      "source": [
        "chevrolet['price_NGN'].describe()"
      ],
      "execution_count": null,
      "outputs": [
        {
          "output_type": "execute_result",
          "data": {
            "text/plain": [
              "count       4179.00\n",
              "mean     3490246.78\n",
              "std      4181831.72\n",
              "min           16.00\n",
              "25%      1200532.00\n",
              "50%      2305936.00\n",
              "75%      4240326.00\n",
              "max     39974788.00\n",
              "Name: price_NGN, dtype: float64"
            ]
          },
          "metadata": {
            "tags": []
          },
          "execution_count": 40
        }
      ]
    },
    {
      "cell_type": "code",
      "metadata": {
        "colab": {
          "base_uri": "https://localhost:8080/",
          "height": 1000
        },
        "id": "fcvjTtxlD0ua",
        "outputId": "c5111a34-5a5e-4c98-f4ca-6226e0f65113"
      },
      "source": [
        "chevrolet.groupby('model').agg({'price_NGN': ['min', 'max']})"
      ],
      "execution_count": null,
      "outputs": [
        {
          "output_type": "execute_result",
          "data": {
            "text/html": [
              "<div>\n",
              "<style scoped>\n",
              "    .dataframe tbody tr th:only-of-type {\n",
              "        vertical-align: middle;\n",
              "    }\n",
              "\n",
              "    .dataframe tbody tr th {\n",
              "        vertical-align: top;\n",
              "    }\n",
              "\n",
              "    .dataframe thead tr th {\n",
              "        text-align: left;\n",
              "    }\n",
              "\n",
              "    .dataframe thead tr:last-of-type th {\n",
              "        text-align: right;\n",
              "    }\n",
              "</style>\n",
              "<table border=\"1\" class=\"dataframe\">\n",
              "  <thead>\n",
              "    <tr>\n",
              "      <th></th>\n",
              "      <th colspan=\"2\" halign=\"left\">price_NGN</th>\n",
              "    </tr>\n",
              "    <tr>\n",
              "      <th></th>\n",
              "      <th>min</th>\n",
              "      <th>max</th>\n",
              "    </tr>\n",
              "    <tr>\n",
              "      <th>model</th>\n",
              "      <th></th>\n",
              "      <th></th>\n",
              "    </tr>\n",
              "  </thead>\n",
              "  <tbody>\n",
              "    <tr>\n",
              "      <th>alero</th>\n",
              "      <td>399704</td>\n",
              "      <td>814212</td>\n",
              "    </tr>\n",
              "    <tr>\n",
              "      <th>astro-van</th>\n",
              "      <td>3241436</td>\n",
              "      <td>5180384</td>\n",
              "    </tr>\n",
              "    <tr>\n",
              "      <th>avalanche</th>\n",
              "      <td>1400208</td>\n",
              "      <td>11803244</td>\n",
              "    </tr>\n",
              "    <tr>\n",
              "      <th>aveo</th>\n",
              "      <td>51812</td>\n",
              "      <td>5196580</td>\n",
              "    </tr>\n",
              "    <tr>\n",
              "      <th>blazer</th>\n",
              "      <td>64</td>\n",
              "      <td>5000564</td>\n",
              "    </tr>\n",
              "    <tr>\n",
              "      <th>camaro</th>\n",
              "      <td>185048</td>\n",
              "      <td>39974788</td>\n",
              "    </tr>\n",
              "    <tr>\n",
              "      <th>caprice</th>\n",
              "      <td>3601200</td>\n",
              "      <td>3601200</td>\n",
              "    </tr>\n",
              "    <tr>\n",
              "      <th>captiva</th>\n",
              "      <td>16</td>\n",
              "      <td>10761200</td>\n",
              "    </tr>\n",
              "    <tr>\n",
              "      <th>cobalt</th>\n",
              "      <td>3390080</td>\n",
              "      <td>3390080</td>\n",
              "    </tr>\n",
              "    <tr>\n",
              "      <th>colorado</th>\n",
              "      <td>3440504</td>\n",
              "      <td>18208720</td>\n",
              "    </tr>\n",
              "    <tr>\n",
              "      <th>corvette</th>\n",
              "      <td>147892</td>\n",
              "      <td>35482620</td>\n",
              "    </tr>\n",
              "    <tr>\n",
              "      <th>cruze</th>\n",
              "      <td>29652</td>\n",
              "      <td>7198136</td>\n",
              "    </tr>\n",
              "    <tr>\n",
              "      <th>epica</th>\n",
              "      <td>962252</td>\n",
              "      <td>3140120</td>\n",
              "    </tr>\n",
              "    <tr>\n",
              "      <th>evanda</th>\n",
              "      <td>325684</td>\n",
              "      <td>1760784</td>\n",
              "    </tr>\n",
              "    <tr>\n",
              "      <th>hhr</th>\n",
              "      <td>1699792</td>\n",
              "      <td>3441524</td>\n",
              "    </tr>\n",
              "    <tr>\n",
              "      <th>impala</th>\n",
              "      <td>3026144</td>\n",
              "      <td>17966648</td>\n",
              "    </tr>\n",
              "    <tr>\n",
              "      <th>lacetti</th>\n",
              "      <td>429312</td>\n",
              "      <td>3120460</td>\n",
              "    </tr>\n",
              "    <tr>\n",
              "      <th>lumina</th>\n",
              "      <td>399628</td>\n",
              "      <td>399628</td>\n",
              "    </tr>\n",
              "    <tr>\n",
              "      <th>malibu</th>\n",
              "      <td>2900104</td>\n",
              "      <td>9765420</td>\n",
              "    </tr>\n",
              "    <tr>\n",
              "      <th>matiz</th>\n",
              "      <td>147892</td>\n",
              "      <td>2372348</td>\n",
              "    </tr>\n",
              "    <tr>\n",
              "      <th>niva</th>\n",
              "      <td>1400208</td>\n",
              "      <td>1400208</td>\n",
              "    </tr>\n",
              "    <tr>\n",
              "      <th>nubira</th>\n",
              "      <td>16</td>\n",
              "      <td>2980224</td>\n",
              "    </tr>\n",
              "    <tr>\n",
              "      <th>orlando</th>\n",
              "      <td>2463716</td>\n",
              "      <td>6998592</td>\n",
              "    </tr>\n",
              "    <tr>\n",
              "      <th>s10</th>\n",
              "      <td>500280</td>\n",
              "      <td>889060</td>\n",
              "    </tr>\n",
              "    <tr>\n",
              "      <th>silverado</th>\n",
              "      <td>2800828</td>\n",
              "      <td>31971828</td>\n",
              "    </tr>\n",
              "    <tr>\n",
              "      <th>spark</th>\n",
              "      <td>16</td>\n",
              "      <td>4280312</td>\n",
              "    </tr>\n",
              "    <tr>\n",
              "      <th>suburban</th>\n",
              "      <td>1332348</td>\n",
              "      <td>34048112</td>\n",
              "    </tr>\n",
              "    <tr>\n",
              "      <th>tacuma</th>\n",
              "      <td>504</td>\n",
              "      <td>1560756</td>\n",
              "    </tr>\n",
              "    <tr>\n",
              "      <th>tahoe</th>\n",
              "      <td>1560872</td>\n",
              "      <td>32772124</td>\n",
              "    </tr>\n",
              "    <tr>\n",
              "      <th>tracker</th>\n",
              "      <td>556076</td>\n",
              "      <td>556076</td>\n",
              "    </tr>\n",
              "    <tr>\n",
              "      <th>trailblazer</th>\n",
              "      <td>16</td>\n",
              "      <td>5996892</td>\n",
              "    </tr>\n",
              "    <tr>\n",
              "      <th>trans-sport</th>\n",
              "      <td>200120</td>\n",
              "      <td>1761660</td>\n",
              "    </tr>\n",
              "    <tr>\n",
              "      <th>trax</th>\n",
              "      <td>4402604</td>\n",
              "      <td>10280756</td>\n",
              "    </tr>\n",
              "    <tr>\n",
              "      <th>venture</th>\n",
              "      <td>888232</td>\n",
              "      <td>888232</td>\n",
              "    </tr>\n",
              "  </tbody>\n",
              "</table>\n",
              "</div>"
            ],
            "text/plain": [
              "            price_NGN          \n",
              "                  min       max\n",
              "model                          \n",
              "alero          399704    814212\n",
              "astro-van     3241436   5180384\n",
              "avalanche     1400208  11803244\n",
              "aveo            51812   5196580\n",
              "blazer             64   5000564\n",
              "camaro         185048  39974788\n",
              "caprice       3601200   3601200\n",
              "captiva            16  10761200\n",
              "cobalt        3390080   3390080\n",
              "colorado      3440504  18208720\n",
              "corvette       147892  35482620\n",
              "cruze           29652   7198136\n",
              "epica          962252   3140120\n",
              "evanda         325684   1760784\n",
              "hhr           1699792   3441524\n",
              "impala        3026144  17966648\n",
              "lacetti        429312   3120460\n",
              "lumina         399628    399628\n",
              "malibu        2900104   9765420\n",
              "matiz          147892   2372348\n",
              "niva          1400208   1400208\n",
              "nubira             16   2980224\n",
              "orlando       2463716   6998592\n",
              "s10            500280    889060\n",
              "silverado     2800828  31971828\n",
              "spark              16   4280312\n",
              "suburban      1332348  34048112\n",
              "tacuma            504   1560756\n",
              "tahoe         1560872  32772124\n",
              "tracker        556076    556076\n",
              "trailblazer        16   5996892\n",
              "trans-sport    200120   1761660\n",
              "trax          4402604  10280756\n",
              "venture        888232    888232"
            ]
          },
          "metadata": {
            "tags": []
          },
          "execution_count": 41
        }
      ]
    },
    {
      "cell_type": "markdown",
      "metadata": {
        "id": "St9H0uPIFeM1"
      },
      "source": [
        "Leading with the pricing aggregates in the table above, the floor - ceiling pricing is pegged between 325,000 NGN and 12,000,000 NGN."
      ]
    },
    {
      "cell_type": "code",
      "metadata": {
        "id": "meXfjNfTGB64"
      },
      "source": [
        "chevrolet.loc[chevrolet['price_NGN'] < 325000, 'price_NGN'] = np.nan\n",
        "chevrolet.loc[chevrolet['price_NGN'] > 40000000, 'price_NGN'] = np.nan"
      ],
      "execution_count": null,
      "outputs": []
    },
    {
      "cell_type": "code",
      "metadata": {
        "colab": {
          "base_uri": "https://localhost:8080/"
        },
        "id": "AjY9U83IGTlG",
        "outputId": "bd5d657e-9754-4be8-bc21-a1c7fb11a751"
      },
      "source": [
        "chevrolet['price_NGN'].describe()"
      ],
      "execution_count": null,
      "outputs": [
        {
          "output_type": "execute_result",
          "data": {
            "text/plain": [
              "count       4147.00\n",
              "mean     3516294.95\n",
              "std      4187357.40\n",
              "min       325684.00\n",
              "25%      1280088.00\n",
              "50%      2306276.00\n",
              "75%      4286854.00\n",
              "max     39974788.00\n",
              "Name: price_NGN, dtype: float64"
            ]
          },
          "metadata": {
            "tags": []
          },
          "execution_count": 43
        }
      ]
    },
    {
      "cell_type": "markdown",
      "metadata": {
        "id": "Ugoj_TUJHug5"
      },
      "source": [
        "##### Chrysler"
      ]
    },
    {
      "cell_type": "code",
      "metadata": {
        "colab": {
          "base_uri": "https://localhost:8080/"
        },
        "id": "AcsZ07BkHx9n",
        "outputId": "3574baa7-4d9f-401e-d6b8-8f18fdcba347"
      },
      "source": [
        "chrysler['price_NGN'].describe()"
      ],
      "execution_count": null,
      "outputs": [
        {
          "output_type": "execute_result",
          "data": {
            "text/plain": [
              "count       2145.00\n",
              "mean     2061694.88\n",
              "std      2167667.23\n",
              "min           16.00\n",
              "25%       760060.00\n",
              "50%      1316064.00\n",
              "75%      2600296.00\n",
              "max     27533680.00\n",
              "Name: price_NGN, dtype: float64"
            ]
          },
          "metadata": {
            "tags": []
          },
          "execution_count": 44
        }
      ]
    },
    {
      "cell_type": "code",
      "metadata": {
        "colab": {
          "base_uri": "https://localhost:8080/",
          "height": 604
        },
        "id": "lcYPAtjFH8Pw",
        "outputId": "83f75560-7a99-43d3-fb2e-739df7ca2fe1"
      },
      "source": [
        "chrysler.groupby('model').agg({'price_NGN': ['min', 'max']})"
      ],
      "execution_count": null,
      "outputs": [
        {
          "output_type": "execute_result",
          "data": {
            "text/html": [
              "<div>\n",
              "<style scoped>\n",
              "    .dataframe tbody tr th:only-of-type {\n",
              "        vertical-align: middle;\n",
              "    }\n",
              "\n",
              "    .dataframe tbody tr th {\n",
              "        vertical-align: top;\n",
              "    }\n",
              "\n",
              "    .dataframe thead tr th {\n",
              "        text-align: left;\n",
              "    }\n",
              "\n",
              "    .dataframe thead tr:last-of-type th {\n",
              "        text-align: right;\n",
              "    }\n",
              "</style>\n",
              "<table border=\"1\" class=\"dataframe\">\n",
              "  <thead>\n",
              "    <tr>\n",
              "      <th></th>\n",
              "      <th colspan=\"2\" halign=\"left\">price_NGN</th>\n",
              "    </tr>\n",
              "    <tr>\n",
              "      <th></th>\n",
              "      <th>min</th>\n",
              "      <th>max</th>\n",
              "    </tr>\n",
              "    <tr>\n",
              "      <th>model</th>\n",
              "      <th></th>\n",
              "      <th></th>\n",
              "    </tr>\n",
              "  </thead>\n",
              "  <tbody>\n",
              "    <tr>\n",
              "      <th>200</th>\n",
              "      <td>962252</td>\n",
              "      <td>17098432</td>\n",
              "    </tr>\n",
              "    <tr>\n",
              "      <th>300c</th>\n",
              "      <td>16</td>\n",
              "      <td>11056004</td>\n",
              "    </tr>\n",
              "    <tr>\n",
              "      <th>300m</th>\n",
              "      <td>16</td>\n",
              "      <td>1100120</td>\n",
              "    </tr>\n",
              "    <tr>\n",
              "      <th>concorde</th>\n",
              "      <td>518120</td>\n",
              "      <td>518120</td>\n",
              "    </tr>\n",
              "    <tr>\n",
              "      <th>crossfire</th>\n",
              "      <td>1702444</td>\n",
              "      <td>11158608</td>\n",
              "    </tr>\n",
              "    <tr>\n",
              "      <th>es</th>\n",
              "      <td>220016</td>\n",
              "      <td>7963836</td>\n",
              "    </tr>\n",
              "    <tr>\n",
              "      <th>grand-voyager</th>\n",
              "      <td>140636</td>\n",
              "      <td>13413088</td>\n",
              "    </tr>\n",
              "    <tr>\n",
              "      <th>gts</th>\n",
              "      <td>15800340</td>\n",
              "      <td>15800340</td>\n",
              "    </tr>\n",
              "    <tr>\n",
              "      <th>neon</th>\n",
              "      <td>29680</td>\n",
              "      <td>1100120</td>\n",
              "    </tr>\n",
              "    <tr>\n",
              "      <th>new-yorker</th>\n",
              "      <td>580280</td>\n",
              "      <td>2220576</td>\n",
              "    </tr>\n",
              "    <tr>\n",
              "      <th>pacifica</th>\n",
              "      <td>1472540</td>\n",
              "      <td>3894300</td>\n",
              "    </tr>\n",
              "    <tr>\n",
              "      <th>pt-cruiser</th>\n",
              "      <td>196064</td>\n",
              "      <td>3961168</td>\n",
              "    </tr>\n",
              "    <tr>\n",
              "      <th>sebring</th>\n",
              "      <td>28</td>\n",
              "      <td>5961760</td>\n",
              "    </tr>\n",
              "    <tr>\n",
              "      <th>stratus</th>\n",
              "      <td>72540</td>\n",
              "      <td>2361140</td>\n",
              "    </tr>\n",
              "    <tr>\n",
              "      <th>town-country</th>\n",
              "      <td>740192</td>\n",
              "      <td>11464100</td>\n",
              "    </tr>\n",
              "    <tr>\n",
              "      <th>vision</th>\n",
              "      <td>240028</td>\n",
              "      <td>1980224</td>\n",
              "    </tr>\n",
              "    <tr>\n",
              "      <th>voyager</th>\n",
              "      <td>16</td>\n",
              "      <td>11077248</td>\n",
              "    </tr>\n",
              "  </tbody>\n",
              "</table>\n",
              "</div>"
            ],
            "text/plain": [
              "              price_NGN          \n",
              "                    min       max\n",
              "model                            \n",
              "200              962252  17098432\n",
              "300c                 16  11056004\n",
              "300m                 16   1100120\n",
              "concorde         518120    518120\n",
              "crossfire       1702444  11158608\n",
              "es               220016   7963836\n",
              "grand-voyager    140636  13413088\n",
              "gts            15800340  15800340\n",
              "neon              29680   1100120\n",
              "new-yorker       580280   2220576\n",
              "pacifica        1472540   3894300\n",
              "pt-cruiser       196064   3961168\n",
              "sebring              28   5961760\n",
              "stratus           72540   2361140\n",
              "town-country     740192  11464100\n",
              "vision           240028   1980224\n",
              "voyager              16  11077248"
            ]
          },
          "metadata": {
            "tags": []
          },
          "execution_count": 45
        }
      ]
    },
    {
      "cell_type": "markdown",
      "metadata": {
        "id": "GvGx8RedIiGC"
      },
      "source": [
        "Leading with the pricing aggregates in the table above, the floor - ceiling pricing is pegged between 200,000 NGN and 20,000,000 NGN."
      ]
    },
    {
      "cell_type": "code",
      "metadata": {
        "id": "onsNbZm7IAsm"
      },
      "source": [
        "chrysler.loc[chrysler['price_NGN'] < 200000, 'price_NGN'] = np.nan\n",
        "chrysler.loc[chrysler['price_NGN'] > 20000000, 'price_NGN'] = np.nan"
      ],
      "execution_count": null,
      "outputs": []
    },
    {
      "cell_type": "code",
      "metadata": {
        "colab": {
          "base_uri": "https://localhost:8080/"
        },
        "id": "EYBdois9IA0q",
        "outputId": "ce58dfe1-abe6-4087-b72b-b714040306d8"
      },
      "source": [
        "chrysler['price_NGN'].describe()"
      ],
      "execution_count": null,
      "outputs": [
        {
          "output_type": "execute_result",
          "data": {
            "text/plain": [
              "count       2116.00\n",
              "mean     2064694.30\n",
              "std      2044972.51\n",
              "min       200028.00\n",
              "25%       780120.00\n",
              "50%      1320436.00\n",
              "75%      2620480.00\n",
              "max     17098432.00\n",
              "Name: price_NGN, dtype: float64"
            ]
          },
          "metadata": {
            "tags": []
          },
          "execution_count": 47
        }
      ]
    },
    {
      "cell_type": "markdown",
      "metadata": {
        "id": "Mq2-mc9sJhbc"
      },
      "source": [
        "##### Citroen"
      ]
    },
    {
      "cell_type": "code",
      "metadata": {
        "colab": {
          "base_uri": "https://localhost:8080/"
        },
        "id": "eMLFAxMzIAxI",
        "outputId": "fcba8b62-c47f-412d-f8f4-821f37aa2f50"
      },
      "source": [
        "citroen['price_NGN'].describe()"
      ],
      "execution_count": null,
      "outputs": [
        {
          "output_type": "execute_result",
          "data": {
            "text/plain": [
              "count        27839.00\n",
              "mean       4239340.94\n",
              "std       65340203.39\n",
              "min             16.00\n",
              "25%        1280148.00\n",
              "50%        3346380.00\n",
              "75%        5601976.00\n",
              "max     7698179244.00\n",
              "Name: price_NGN, dtype: float64"
            ]
          },
          "metadata": {
            "tags": []
          },
          "execution_count": 48
        }
      ]
    },
    {
      "cell_type": "code",
      "metadata": {
        "colab": {
          "base_uri": "https://localhost:8080/",
          "height": 927
        },
        "id": "SsCICSFTJw-I",
        "outputId": "791417a8-0b7e-4eee-d094-2d2fbc835bca"
      },
      "source": [
        "citroen.groupby('model').agg({'price_NGN': ['min', 'max']})"
      ],
      "execution_count": null,
      "outputs": [
        {
          "output_type": "execute_result",
          "data": {
            "text/html": [
              "<div>\n",
              "<style scoped>\n",
              "    .dataframe tbody tr th:only-of-type {\n",
              "        vertical-align: middle;\n",
              "    }\n",
              "\n",
              "    .dataframe tbody tr th {\n",
              "        vertical-align: top;\n",
              "    }\n",
              "\n",
              "    .dataframe thead tr th {\n",
              "        text-align: left;\n",
              "    }\n",
              "\n",
              "    .dataframe thead tr:last-of-type th {\n",
              "        text-align: right;\n",
              "    }\n",
              "</style>\n",
              "<table border=\"1\" class=\"dataframe\">\n",
              "  <thead>\n",
              "    <tr>\n",
              "      <th></th>\n",
              "      <th colspan=\"2\" halign=\"left\">price_NGN</th>\n",
              "    </tr>\n",
              "    <tr>\n",
              "      <th></th>\n",
              "      <th>min</th>\n",
              "      <th>max</th>\n",
              "    </tr>\n",
              "    <tr>\n",
              "      <th>model</th>\n",
              "      <th></th>\n",
              "      <th></th>\n",
              "    </tr>\n",
              "  </thead>\n",
              "  <tbody>\n",
              "    <tr>\n",
              "      <th>ax</th>\n",
              "      <td>14804</td>\n",
              "      <td>2669592</td>\n",
              "    </tr>\n",
              "    <tr>\n",
              "      <th>berlingo</th>\n",
              "      <td>16</td>\n",
              "      <td>295514464</td>\n",
              "    </tr>\n",
              "    <tr>\n",
              "      <th>c-crosser</th>\n",
              "      <td>1924500</td>\n",
              "      <td>8800888</td>\n",
              "    </tr>\n",
              "    <tr>\n",
              "      <th>c-elysee</th>\n",
              "      <td>2649888</td>\n",
              "      <td>4825168</td>\n",
              "    </tr>\n",
              "    <tr>\n",
              "      <th>c1</th>\n",
              "      <td>54776</td>\n",
              "      <td>5600428</td>\n",
              "    </tr>\n",
              "    <tr>\n",
              "      <th>c2</th>\n",
              "      <td>200016</td>\n",
              "      <td>10066616</td>\n",
              "    </tr>\n",
              "    <tr>\n",
              "      <th>c3</th>\n",
              "      <td>16</td>\n",
              "      <td>6402680</td>\n",
              "    </tr>\n",
              "    <tr>\n",
              "      <th>c3-picasso</th>\n",
              "      <td>81420</td>\n",
              "      <td>7200668</td>\n",
              "    </tr>\n",
              "    <tr>\n",
              "      <th>c4</th>\n",
              "      <td>16</td>\n",
              "      <td>14801792</td>\n",
              "    </tr>\n",
              "    <tr>\n",
              "      <th>c4-aircross</th>\n",
              "      <td>4706544</td>\n",
              "      <td>11970288</td>\n",
              "    </tr>\n",
              "    <tr>\n",
              "      <th>c4-cactus</th>\n",
              "      <td>5091044</td>\n",
              "      <td>5847520</td>\n",
              "    </tr>\n",
              "    <tr>\n",
              "      <th>c4-picasso</th>\n",
              "      <td>29608</td>\n",
              "      <td>11599436</td>\n",
              "    </tr>\n",
              "    <tr>\n",
              "      <th>c5</th>\n",
              "      <td>16</td>\n",
              "      <td>14803836</td>\n",
              "    </tr>\n",
              "    <tr>\n",
              "      <th>c6</th>\n",
              "      <td>1240768</td>\n",
              "      <td>12602992</td>\n",
              "    </tr>\n",
              "    <tr>\n",
              "      <th>c8</th>\n",
              "      <td>16</td>\n",
              "      <td>8404664</td>\n",
              "    </tr>\n",
              "    <tr>\n",
              "      <th>ds3</th>\n",
              "      <td>11844</td>\n",
              "      <td>46393784</td>\n",
              "    </tr>\n",
              "    <tr>\n",
              "      <th>ds4</th>\n",
              "      <td>2442636</td>\n",
              "      <td>12270156</td>\n",
              "    </tr>\n",
              "    <tr>\n",
              "      <th>ds5</th>\n",
              "      <td>2361124</td>\n",
              "      <td>14957660</td>\n",
              "    </tr>\n",
              "    <tr>\n",
              "      <th>evasion</th>\n",
              "      <td>16</td>\n",
              "      <td>1520904</td>\n",
              "    </tr>\n",
              "    <tr>\n",
              "      <th>jumper</th>\n",
              "      <td>16</td>\n",
              "      <td>12337364</td>\n",
              "    </tr>\n",
              "    <tr>\n",
              "      <th>jumpy</th>\n",
              "      <td>16</td>\n",
              "      <td>17483360</td>\n",
              "    </tr>\n",
              "    <tr>\n",
              "      <th>nemo</th>\n",
              "      <td>207252</td>\n",
              "      <td>4397304</td>\n",
              "    </tr>\n",
              "    <tr>\n",
              "      <th>saxo</th>\n",
              "      <td>16</td>\n",
              "      <td>2599880</td>\n",
              "    </tr>\n",
              "    <tr>\n",
              "      <th>xantia</th>\n",
              "      <td>16</td>\n",
              "      <td>2000592</td>\n",
              "    </tr>\n",
              "    <tr>\n",
              "      <th>xm</th>\n",
              "      <td>44</td>\n",
              "      <td>2080236</td>\n",
              "    </tr>\n",
              "    <tr>\n",
              "      <th>xsara</th>\n",
              "      <td>16</td>\n",
              "      <td>2779540</td>\n",
              "    </tr>\n",
              "    <tr>\n",
              "      <th>xsara-picasso</th>\n",
              "      <td>16</td>\n",
              "      <td>7698179244</td>\n",
              "    </tr>\n",
              "    <tr>\n",
              "      <th>zx</th>\n",
              "      <td>20</td>\n",
              "      <td>460268</td>\n",
              "    </tr>\n",
              "  </tbody>\n",
              "</table>\n",
              "</div>"
            ],
            "text/plain": [
              "              price_NGN            \n",
              "                    min         max\n",
              "model                              \n",
              "ax                14804     2669592\n",
              "berlingo             16   295514464\n",
              "c-crosser       1924500     8800888\n",
              "c-elysee        2649888     4825168\n",
              "c1                54776     5600428\n",
              "c2               200016    10066616\n",
              "c3                   16     6402680\n",
              "c3-picasso        81420     7200668\n",
              "c4                   16    14801792\n",
              "c4-aircross     4706544    11970288\n",
              "c4-cactus       5091044     5847520\n",
              "c4-picasso        29608    11599436\n",
              "c5                   16    14803836\n",
              "c6              1240768    12602992\n",
              "c8                   16     8404664\n",
              "ds3               11844    46393784\n",
              "ds4             2442636    12270156\n",
              "ds5             2361124    14957660\n",
              "evasion              16     1520904\n",
              "jumper               16    12337364\n",
              "jumpy                16    17483360\n",
              "nemo             207252     4397304\n",
              "saxo                 16     2599880\n",
              "xantia               16     2000592\n",
              "xm                   44     2080236\n",
              "xsara                16     2779540\n",
              "xsara-picasso        16  7698179244\n",
              "zx                   20      460268"
            ]
          },
          "metadata": {
            "tags": []
          },
          "execution_count": 49
        }
      ]
    },
    {
      "cell_type": "markdown",
      "metadata": {
        "id": "WCQbH6gDfWRz"
      },
      "source": [
        "Leading with the pricing aggregates in the table above, the floor - ceiling pricing is pegged between 350,000 NGN and 20,000,000 NGN."
      ]
    },
    {
      "cell_type": "code",
      "metadata": {
        "id": "j4bXVpqEgQqB"
      },
      "source": [
        "citroen.loc[citroen['price_NGN'] < 350000, 'price_NGN'] = np.nan\n",
        "citroen.loc[citroen['price_NGN'] > 20000000, 'price_NGN'] = np.nan"
      ],
      "execution_count": null,
      "outputs": []
    },
    {
      "cell_type": "code",
      "metadata": {
        "colab": {
          "base_uri": "https://localhost:8080/"
        },
        "id": "x3O0VYnBekh_",
        "outputId": "802a1f25-d985-4f17-e4eb-34c1ee1d5418"
      },
      "source": [
        "citroen['price_NGN'].describe()"
      ],
      "execution_count": null,
      "outputs": [
        {
          "output_type": "execute_result",
          "data": {
            "text/plain": [
              "count      26557.00\n",
              "mean     3818325.86\n",
              "std      2554991.64\n",
              "min       350112.00\n",
              "25%      1465580.00\n",
              "50%      3560132.00\n",
              "75%      5683152.00\n",
              "max     17483360.00\n",
              "Name: price_NGN, dtype: float64"
            ]
          },
          "metadata": {
            "tags": []
          },
          "execution_count": 51
        }
      ]
    },
    {
      "cell_type": "markdown",
      "metadata": {
        "id": "233N-sw1gfqn"
      },
      "source": [
        "##### Dodge"
      ]
    },
    {
      "cell_type": "code",
      "metadata": {
        "colab": {
          "base_uri": "https://localhost:8080/"
        },
        "id": "79EG5A-oekfI",
        "outputId": "49a39ce6-a111-459f-cc9d-49574a08b316"
      },
      "source": [
        "dodge['price_NGN'].describe()"
      ],
      "execution_count": null,
      "outputs": [
        {
          "output_type": "execute_result",
          "data": {
            "text/plain": [
              "count       1094.00\n",
              "mean    10225288.37\n",
              "std      9967345.15\n",
              "min         1480.00\n",
              "25%      3003438.00\n",
              "50%      5562264.00\n",
              "75%     14791399.00\n",
              "max     55620576.00\n",
              "Name: price_NGN, dtype: float64"
            ]
          },
          "metadata": {
            "tags": []
          },
          "execution_count": 52
        }
      ]
    },
    {
      "cell_type": "code",
      "metadata": {
        "colab": {
          "base_uri": "https://localhost:8080/",
          "height": 546
        },
        "id": "IZIsiI8ngnlD",
        "outputId": "115e6f0d-cbad-4a41-97f2-9f41acedcd5e"
      },
      "source": [
        "dodge.groupby('model').agg({'price_NGN': ['min', 'max']})"
      ],
      "execution_count": null,
      "outputs": [
        {
          "output_type": "execute_result",
          "data": {
            "text/html": [
              "<div>\n",
              "<style scoped>\n",
              "    .dataframe tbody tr th:only-of-type {\n",
              "        vertical-align: middle;\n",
              "    }\n",
              "\n",
              "    .dataframe tbody tr th {\n",
              "        vertical-align: top;\n",
              "    }\n",
              "\n",
              "    .dataframe thead tr th {\n",
              "        text-align: left;\n",
              "    }\n",
              "\n",
              "    .dataframe thead tr:last-of-type th {\n",
              "        text-align: right;\n",
              "    }\n",
              "</style>\n",
              "<table border=\"1\" class=\"dataframe\">\n",
              "  <thead>\n",
              "    <tr>\n",
              "      <th></th>\n",
              "      <th colspan=\"2\" halign=\"left\">price_NGN</th>\n",
              "    </tr>\n",
              "    <tr>\n",
              "      <th></th>\n",
              "      <th>min</th>\n",
              "      <th>max</th>\n",
              "    </tr>\n",
              "    <tr>\n",
              "      <th>model</th>\n",
              "      <th></th>\n",
              "      <th></th>\n",
              "    </tr>\n",
              "  </thead>\n",
              "  <tbody>\n",
              "    <tr>\n",
              "      <th>avenger</th>\n",
              "      <td>1613620</td>\n",
              "      <td>5203080</td>\n",
              "    </tr>\n",
              "    <tr>\n",
              "      <th>caliber</th>\n",
              "      <td>1160340</td>\n",
              "      <td>4396656</td>\n",
              "    </tr>\n",
              "    <tr>\n",
              "      <th>caravan</th>\n",
              "      <td>14804</td>\n",
              "      <td>5043492</td>\n",
              "    </tr>\n",
              "    <tr>\n",
              "      <th>charger</th>\n",
              "      <td>2339008</td>\n",
              "      <td>41975528</td>\n",
              "    </tr>\n",
              "    <tr>\n",
              "      <th>dakota</th>\n",
              "      <td>1340800</td>\n",
              "      <td>5101896</td>\n",
              "    </tr>\n",
              "    <tr>\n",
              "      <th>durango</th>\n",
              "      <td>1200668</td>\n",
              "      <td>27970348</td>\n",
              "    </tr>\n",
              "    <tr>\n",
              "      <th>grand-caravan</th>\n",
              "      <td>518136</td>\n",
              "      <td>9815960</td>\n",
              "    </tr>\n",
              "    <tr>\n",
              "      <th>intrepid</th>\n",
              "      <td>1480</td>\n",
              "      <td>1021464</td>\n",
              "    </tr>\n",
              "    <tr>\n",
              "      <th>journey</th>\n",
              "      <td>2000488</td>\n",
              "      <td>6758992</td>\n",
              "    </tr>\n",
              "    <tr>\n",
              "      <th>magnum</th>\n",
              "      <td>2000192</td>\n",
              "      <td>10205668</td>\n",
              "    </tr>\n",
              "    <tr>\n",
              "      <th>nitro</th>\n",
              "      <td>2664692</td>\n",
              "      <td>7962944</td>\n",
              "    </tr>\n",
              "    <tr>\n",
              "      <th>ram</th>\n",
              "      <td>73872</td>\n",
              "      <td>29974420</td>\n",
              "    </tr>\n",
              "    <tr>\n",
              "      <th>ram-1500</th>\n",
              "      <td>370080</td>\n",
              "      <td>29574228</td>\n",
              "    </tr>\n",
              "    <tr>\n",
              "      <th>sx</th>\n",
              "      <td>162696</td>\n",
              "      <td>10681968</td>\n",
              "    </tr>\n",
              "    <tr>\n",
              "      <th>viper</th>\n",
              "      <td>9602844</td>\n",
              "      <td>55620576</td>\n",
              "    </tr>\n",
              "  </tbody>\n",
              "</table>\n",
              "</div>"
            ],
            "text/plain": [
              "              price_NGN          \n",
              "                    min       max\n",
              "model                            \n",
              "avenger         1613620   5203080\n",
              "caliber         1160340   4396656\n",
              "caravan           14804   5043492\n",
              "charger         2339008  41975528\n",
              "dakota          1340800   5101896\n",
              "durango         1200668  27970348\n",
              "grand-caravan    518136   9815960\n",
              "intrepid           1480   1021464\n",
              "journey         2000488   6758992\n",
              "magnum          2000192  10205668\n",
              "nitro           2664692   7962944\n",
              "ram               73872  29974420\n",
              "ram-1500         370080  29574228\n",
              "sx               162696  10681968\n",
              "viper           9602844  55620576"
            ]
          },
          "metadata": {
            "tags": []
          },
          "execution_count": 53
        }
      ]
    },
    {
      "cell_type": "markdown",
      "metadata": {
        "id": "rsvtVGyQhOCg"
      },
      "source": [
        "Leading with the pricing aggregates in the table above, the floor - ceiling pricing is pegged between 900,000 NGN and 60,000,000 NGN."
      ]
    },
    {
      "cell_type": "code",
      "metadata": {
        "id": "FlalaV-4ekZv"
      },
      "source": [
        "dodge.loc[dodge['price_NGN'] < 900000, 'price_NGN'] = np.nan\n",
        "dodge.loc[dodge['price_NGN'] > 60000000, 'price_NGN'] = np.nan"
      ],
      "execution_count": null,
      "outputs": []
    },
    {
      "cell_type": "code",
      "metadata": {
        "colab": {
          "base_uri": "https://localhost:8080/"
        },
        "id": "8pikAo10ekWb",
        "outputId": "42efebee-7133-4dae-a203-34b316f92ed6"
      },
      "source": [
        "dodge['price_NGN'].describe()"
      ],
      "execution_count": null,
      "outputs": [
        {
          "output_type": "execute_result",
          "data": {
            "text/plain": [
              "count       1070.00\n",
              "mean    10445922.37\n",
              "std      9967752.34\n",
              "min       900268.00\n",
              "25%      3156240.00\n",
              "50%      5798534.00\n",
              "75%     15001806.00\n",
              "max     55620576.00\n",
              "Name: price_NGN, dtype: float64"
            ]
          },
          "metadata": {
            "tags": []
          },
          "execution_count": 55
        }
      ]
    },
    {
      "cell_type": "markdown",
      "metadata": {
        "id": "LxbEDqvNhqFd"
      },
      "source": [
        "##### Fiat"
      ]
    },
    {
      "cell_type": "code",
      "metadata": {
        "colab": {
          "base_uri": "https://localhost:8080/"
        },
        "id": "cSOY-Wpghsdf",
        "outputId": "7d8422a9-d8e3-4bbf-dfb9-e8f6b6765f4f"
      },
      "source": [
        "fiat['price_NGN'].describe()"
      ],
      "execution_count": null,
      "outputs": [
        {
          "output_type": "execute_result",
          "data": {
            "text/plain": [
              "count      33038.00\n",
              "mean     2943399.47\n",
              "std      2248672.48\n",
              "min           16.00\n",
              "25%      1076312.00\n",
              "50%      2662102.00\n",
              "75%      4199024.00\n",
              "max     57130332.00\n",
              "Name: price_NGN, dtype: float64"
            ]
          },
          "metadata": {
            "tags": []
          },
          "execution_count": 56
        }
      ]
    },
    {
      "cell_type": "code",
      "metadata": {
        "colab": {
          "base_uri": "https://localhost:8080/",
          "height": 1000
        },
        "id": "Qniai2Oahsmy",
        "outputId": "3aef68e3-7ef7-41ac-aeab-6907914e399f"
      },
      "source": [
        "fiat.groupby('model').agg({'price_NGN': ['min', 'max']})"
      ],
      "execution_count": null,
      "outputs": [
        {
          "output_type": "execute_result",
          "data": {
            "text/html": [
              "<div>\n",
              "<style scoped>\n",
              "    .dataframe tbody tr th:only-of-type {\n",
              "        vertical-align: middle;\n",
              "    }\n",
              "\n",
              "    .dataframe tbody tr th {\n",
              "        vertical-align: top;\n",
              "    }\n",
              "\n",
              "    .dataframe thead tr th {\n",
              "        text-align: left;\n",
              "    }\n",
              "\n",
              "    .dataframe thead tr:last-of-type th {\n",
              "        text-align: right;\n",
              "    }\n",
              "</style>\n",
              "<table border=\"1\" class=\"dataframe\">\n",
              "  <thead>\n",
              "    <tr>\n",
              "      <th></th>\n",
              "      <th colspan=\"2\" halign=\"left\">price_NGN</th>\n",
              "    </tr>\n",
              "    <tr>\n",
              "      <th></th>\n",
              "      <th>min</th>\n",
              "      <th>max</th>\n",
              "    </tr>\n",
              "    <tr>\n",
              "      <th>model</th>\n",
              "      <th></th>\n",
              "      <th></th>\n",
              "    </tr>\n",
              "  </thead>\n",
              "  <tbody>\n",
              "    <tr>\n",
              "      <th>126</th>\n",
              "      <td>74020</td>\n",
              "      <td>1997188</td>\n",
              "    </tr>\n",
              "    <tr>\n",
              "      <th>500</th>\n",
              "      <td>5180</td>\n",
              "      <td>31915160</td>\n",
              "    </tr>\n",
              "    <tr>\n",
              "      <th>500l</th>\n",
              "      <td>2796108</td>\n",
              "      <td>8764872</td>\n",
              "    </tr>\n",
              "    <tr>\n",
              "      <th>500x</th>\n",
              "      <td>1200088</td>\n",
              "      <td>12804736</td>\n",
              "    </tr>\n",
              "    <tr>\n",
              "      <th>600</th>\n",
              "      <td>279616</td>\n",
              "      <td>2761020</td>\n",
              "    </tr>\n",
              "    <tr>\n",
              "      <th>barchetta</th>\n",
              "      <td>29608</td>\n",
              "      <td>3402012</td>\n",
              "    </tr>\n",
              "    <tr>\n",
              "      <th>brava</th>\n",
              "      <td>16</td>\n",
              "      <td>1672836</td>\n",
              "    </tr>\n",
              "    <tr>\n",
              "      <th>bravo</th>\n",
              "      <td>16</td>\n",
              "      <td>17024428</td>\n",
              "    </tr>\n",
              "    <tr>\n",
              "      <th>cinquecento</th>\n",
              "      <td>28008</td>\n",
              "      <td>3739808</td>\n",
              "    </tr>\n",
              "    <tr>\n",
              "      <th>coupe</th>\n",
              "      <td>7400</td>\n",
              "      <td>4361612</td>\n",
              "    </tr>\n",
              "    <tr>\n",
              "      <th>croma</th>\n",
              "      <td>16</td>\n",
              "      <td>4796536</td>\n",
              "    </tr>\n",
              "    <tr>\n",
              "      <th>doblo</th>\n",
              "      <td>16</td>\n",
              "      <td>14803836</td>\n",
              "    </tr>\n",
              "    <tr>\n",
              "      <th>freemont</th>\n",
              "      <td>2404084</td>\n",
              "      <td>57130332</td>\n",
              "    </tr>\n",
              "    <tr>\n",
              "      <th>grande-punto</th>\n",
              "      <td>2960</td>\n",
              "      <td>8660252</td>\n",
              "    </tr>\n",
              "    <tr>\n",
              "      <th>idea</th>\n",
              "      <td>276152</td>\n",
              "      <td>4198668</td>\n",
              "    </tr>\n",
              "    <tr>\n",
              "      <th>linea</th>\n",
              "      <td>29608</td>\n",
              "      <td>2360872</td>\n",
              "    </tr>\n",
              "    <tr>\n",
              "      <th>marea</th>\n",
              "      <td>16</td>\n",
              "      <td>1400428</td>\n",
              "    </tr>\n",
              "    <tr>\n",
              "      <th>multipla</th>\n",
              "      <td>16</td>\n",
              "      <td>4760712</td>\n",
              "    </tr>\n",
              "    <tr>\n",
              "      <th>palio</th>\n",
              "      <td>16</td>\n",
              "      <td>2956476</td>\n",
              "    </tr>\n",
              "    <tr>\n",
              "      <th>panda</th>\n",
              "      <td>60</td>\n",
              "      <td>40002560</td>\n",
              "    </tr>\n",
              "    <tr>\n",
              "      <th>punto</th>\n",
              "      <td>16</td>\n",
              "      <td>5402000</td>\n",
              "    </tr>\n",
              "    <tr>\n",
              "      <th>punto-evo</th>\n",
              "      <td>380148</td>\n",
              "      <td>7197068</td>\n",
              "    </tr>\n",
              "    <tr>\n",
              "      <th>qubo</th>\n",
              "      <td>1400104</td>\n",
              "      <td>7920592</td>\n",
              "    </tr>\n",
              "    <tr>\n",
              "      <th>regata</th>\n",
              "      <td>59200</td>\n",
              "      <td>59200</td>\n",
              "    </tr>\n",
              "    <tr>\n",
              "      <th>ritmo</th>\n",
              "      <td>296064</td>\n",
              "      <td>488528</td>\n",
              "    </tr>\n",
              "    <tr>\n",
              "      <th>sedici</th>\n",
              "      <td>962252</td>\n",
              "      <td>6603908</td>\n",
              "    </tr>\n",
              "    <tr>\n",
              "      <th>seicento</th>\n",
              "      <td>16</td>\n",
              "      <td>1800208</td>\n",
              "    </tr>\n",
              "    <tr>\n",
              "      <th>stilo</th>\n",
              "      <td>16</td>\n",
              "      <td>2596964</td>\n",
              "    </tr>\n",
              "    <tr>\n",
              "      <th>tempra</th>\n",
              "      <td>222044</td>\n",
              "      <td>889192</td>\n",
              "    </tr>\n",
              "    <tr>\n",
              "      <th>tipo</th>\n",
              "      <td>4098860</td>\n",
              "      <td>6410716</td>\n",
              "    </tr>\n",
              "    <tr>\n",
              "      <th>ulysse</th>\n",
              "      <td>14804</td>\n",
              "      <td>4321272</td>\n",
              "    </tr>\n",
              "    <tr>\n",
              "      <th>uno</th>\n",
              "      <td>240132</td>\n",
              "      <td>240132</td>\n",
              "    </tr>\n",
              "  </tbody>\n",
              "</table>\n",
              "</div>"
            ],
            "text/plain": [
              "             price_NGN          \n",
              "                   min       max\n",
              "model                           \n",
              "126              74020   1997188\n",
              "500               5180  31915160\n",
              "500l           2796108   8764872\n",
              "500x           1200088  12804736\n",
              "600             279616   2761020\n",
              "barchetta        29608   3402012\n",
              "brava               16   1672836\n",
              "bravo               16  17024428\n",
              "cinquecento      28008   3739808\n",
              "coupe             7400   4361612\n",
              "croma               16   4796536\n",
              "doblo               16  14803836\n",
              "freemont       2404084  57130332\n",
              "grande-punto      2960   8660252\n",
              "idea            276152   4198668\n",
              "linea            29608   2360872\n",
              "marea               16   1400428\n",
              "multipla            16   4760712\n",
              "palio               16   2956476\n",
              "panda               60  40002560\n",
              "punto               16   5402000\n",
              "punto-evo       380148   7197068\n",
              "qubo           1400104   7920592\n",
              "regata           59200     59200\n",
              "ritmo           296064    488528\n",
              "sedici          962252   6603908\n",
              "seicento            16   1800208\n",
              "stilo               16   2596964\n",
              "tempra          222044    889192\n",
              "tipo           4098860   6410716\n",
              "ulysse           14804   4321272\n",
              "uno             240132    240132"
            ]
          },
          "metadata": {
            "tags": []
          },
          "execution_count": 57
        }
      ]
    },
    {
      "cell_type": "markdown",
      "metadata": {
        "id": "YlFSl6XAiHr5"
      },
      "source": [
        "Leading with the pricing aggregates in the table above, the floor - ceiling pricing is pegged between 900,000 NGN and 60,000,000 NGN."
      ]
    },
    {
      "cell_type": "code",
      "metadata": {
        "id": "O2dBTpbHhsio"
      },
      "source": [
        "fiat.loc[fiat['price_NGN'] < 400000, 'price_NGN'] = np.nan\n",
        "fiat.loc[fiat['price_NGN'] > 60000000, 'price_NGN'] = np.nan"
      ],
      "execution_count": null,
      "outputs": []
    },
    {
      "cell_type": "code",
      "metadata": {
        "colab": {
          "base_uri": "https://localhost:8080/"
        },
        "id": "qi2cUzDeekJ3",
        "outputId": "a8b0818c-b991-4511-ed40-a96d3bb9a9c0"
      },
      "source": [
        "fiat['price_NGN'].describe()"
      ],
      "execution_count": null,
      "outputs": [
        {
          "output_type": "execute_result",
          "data": {
            "text/plain": [
              "count      30068.00\n",
              "mean     3209396.31\n",
              "std      2183490.34\n",
              "min       400016.00\n",
              "25%      1465580.00\n",
              "50%      2916416.00\n",
              "75%      4380488.00\n",
              "max     57130332.00\n",
              "Name: price_NGN, dtype: float64"
            ]
          },
          "metadata": {
            "tags": []
          },
          "execution_count": 59
        }
      ]
    },
    {
      "cell_type": "markdown",
      "metadata": {
        "id": "PDsMGWsSioQt"
      },
      "source": [
        "##### Ford"
      ]
    },
    {
      "cell_type": "code",
      "metadata": {
        "colab": {
          "base_uri": "https://localhost:8080/"
        },
        "id": "SHgIkHH6iq4k",
        "outputId": "b30e98f2-abbc-4f4d-e675-072f303fa172"
      },
      "source": [
        "ford['price_NGN'].describe()"
      ],
      "execution_count": null,
      "outputs": [
        {
          "output_type": "execute_result",
          "data": {
            "text/plain": [
              "count         56844.00\n",
              "mean        4690804.04\n",
              "std        75425709.97\n",
              "min              16.00\n",
              "25%          980104.00\n",
              "50%         2600384.00\n",
              "75%         5082444.00\n",
              "max     10917493588.00\n",
              "Name: price_NGN, dtype: float64"
            ]
          },
          "metadata": {
            "tags": []
          },
          "execution_count": 60
        }
      ]
    },
    {
      "cell_type": "code",
      "metadata": {
        "colab": {
          "base_uri": "https://localhost:8080/",
          "height": 1000
        },
        "id": "KGUfoDDbirZh",
        "outputId": "668fc764-bf49-47cc-b1c9-4eba9400a3ec"
      },
      "source": [
        "ford.groupby('model').agg({'price_NGN': ['min', 'max']})"
      ],
      "execution_count": null,
      "outputs": [
        {
          "output_type": "execute_result",
          "data": {
            "text/html": [
              "<div>\n",
              "<style scoped>\n",
              "    .dataframe tbody tr th:only-of-type {\n",
              "        vertical-align: middle;\n",
              "    }\n",
              "\n",
              "    .dataframe tbody tr th {\n",
              "        vertical-align: top;\n",
              "    }\n",
              "\n",
              "    .dataframe thead tr th {\n",
              "        text-align: left;\n",
              "    }\n",
              "\n",
              "    .dataframe thead tr:last-of-type th {\n",
              "        text-align: right;\n",
              "    }\n",
              "</style>\n",
              "<table border=\"1\" class=\"dataframe\">\n",
              "  <thead>\n",
              "    <tr>\n",
              "      <th></th>\n",
              "      <th colspan=\"2\" halign=\"left\">price_NGN</th>\n",
              "    </tr>\n",
              "    <tr>\n",
              "      <th></th>\n",
              "      <th>min</th>\n",
              "      <th>max</th>\n",
              "    </tr>\n",
              "    <tr>\n",
              "      <th>model</th>\n",
              "      <th></th>\n",
              "      <th></th>\n",
              "    </tr>\n",
              "  </thead>\n",
              "  <tbody>\n",
              "    <tr>\n",
              "      <th>b-max</th>\n",
              "      <td>2622592</td>\n",
              "      <td>32802176</td>\n",
              "    </tr>\n",
              "    <tr>\n",
              "      <th>c-max</th>\n",
              "      <td>16</td>\n",
              "      <td>14803836</td>\n",
              "    </tr>\n",
              "    <tr>\n",
              "      <th>capri</th>\n",
              "      <td>140016</td>\n",
              "      <td>540164</td>\n",
              "    </tr>\n",
              "    <tr>\n",
              "      <th>connect</th>\n",
              "      <td>7388</td>\n",
              "      <td>8237216</td>\n",
              "    </tr>\n",
              "    <tr>\n",
              "      <th>cougar</th>\n",
              "      <td>16</td>\n",
              "      <td>2760416</td>\n",
              "    </tr>\n",
              "    <tr>\n",
              "      <th>crown-victoria</th>\n",
              "      <td>22204</td>\n",
              "      <td>9963688</td>\n",
              "    </tr>\n",
              "    <tr>\n",
              "      <th>edge</th>\n",
              "      <td>29732</td>\n",
              "      <td>19665464</td>\n",
              "    </tr>\n",
              "    <tr>\n",
              "      <th>escape</th>\n",
              "      <td>1139896</td>\n",
              "      <td>5356196</td>\n",
              "    </tr>\n",
              "    <tr>\n",
              "      <th>escort</th>\n",
              "      <td>16</td>\n",
              "      <td>295366396</td>\n",
              "    </tr>\n",
              "    <tr>\n",
              "      <th>excursion</th>\n",
              "      <td>5181540</td>\n",
              "      <td>13207328</td>\n",
              "    </tr>\n",
              "    <tr>\n",
              "      <th>expedition</th>\n",
              "      <td>760088</td>\n",
              "      <td>4202340</td>\n",
              "    </tr>\n",
              "    <tr>\n",
              "      <th>explorer</th>\n",
              "      <td>44</td>\n",
              "      <td>24369016</td>\n",
              "    </tr>\n",
              "    <tr>\n",
              "      <th>f-150</th>\n",
              "      <td>10747580</td>\n",
              "      <td>25973352</td>\n",
              "    </tr>\n",
              "    <tr>\n",
              "      <th>fiesta</th>\n",
              "      <td>16</td>\n",
              "      <td>316053544</td>\n",
              "    </tr>\n",
              "    <tr>\n",
              "      <th>focus</th>\n",
              "      <td>16</td>\n",
              "      <td>10917493588</td>\n",
              "    </tr>\n",
              "    <tr>\n",
              "      <th>freestar</th>\n",
              "      <td>5955424</td>\n",
              "      <td>5955424</td>\n",
              "    </tr>\n",
              "    <tr>\n",
              "      <th>fusion</th>\n",
              "      <td>20</td>\n",
              "      <td>4380488</td>\n",
              "    </tr>\n",
              "    <tr>\n",
              "      <th>galaxy</th>\n",
              "      <td>16</td>\n",
              "      <td>16346868</td>\n",
              "    </tr>\n",
              "    <tr>\n",
              "      <th>grand-c-max</th>\n",
              "      <td>2220576</td>\n",
              "      <td>10802400</td>\n",
              "    </tr>\n",
              "    <tr>\n",
              "      <th>gt</th>\n",
              "      <td>240016</td>\n",
              "      <td>147610924</td>\n",
              "    </tr>\n",
              "    <tr>\n",
              "      <th>ka</th>\n",
              "      <td>16</td>\n",
              "      <td>4938636728</td>\n",
              "    </tr>\n",
              "    <tr>\n",
              "      <th>kuga</th>\n",
              "      <td>23688</td>\n",
              "      <td>400236460</td>\n",
              "    </tr>\n",
              "    <tr>\n",
              "      <th>maverick</th>\n",
              "      <td>64</td>\n",
              "      <td>3801420</td>\n",
              "    </tr>\n",
              "    <tr>\n",
              "      <th>mondeo</th>\n",
              "      <td>16</td>\n",
              "      <td>4737409432</td>\n",
              "    </tr>\n",
              "    <tr>\n",
              "      <th>mustang</th>\n",
              "      <td>16</td>\n",
              "      <td>400177248</td>\n",
              "    </tr>\n",
              "    <tr>\n",
              "      <th>probe</th>\n",
              "      <td>14804</td>\n",
              "      <td>2201228</td>\n",
              "    </tr>\n",
              "    <tr>\n",
              "      <th>puma</th>\n",
              "      <td>1480</td>\n",
              "      <td>1599836</td>\n",
              "    </tr>\n",
              "    <tr>\n",
              "      <th>s-max</th>\n",
              "      <td>16</td>\n",
              "      <td>16766824</td>\n",
              "    </tr>\n",
              "    <tr>\n",
              "      <th>scorpio</th>\n",
              "      <td>1480</td>\n",
              "      <td>1596656</td>\n",
              "    </tr>\n",
              "    <tr>\n",
              "      <th>sierra</th>\n",
              "      <td>800060</td>\n",
              "      <td>800060</td>\n",
              "    </tr>\n",
              "    <tr>\n",
              "      <th>streetka</th>\n",
              "      <td>320044</td>\n",
              "      <td>2300680</td>\n",
              "    </tr>\n",
              "    <tr>\n",
              "      <th>taunus</th>\n",
              "      <td>399704</td>\n",
              "      <td>399704</td>\n",
              "    </tr>\n",
              "    <tr>\n",
              "      <th>taurus</th>\n",
              "      <td>74020</td>\n",
              "      <td>1596240</td>\n",
              "    </tr>\n",
              "    <tr>\n",
              "      <th>thunderbird</th>\n",
              "      <td>1184308</td>\n",
              "      <td>5041600</td>\n",
              "    </tr>\n",
              "    <tr>\n",
              "      <th>tourneo-connect</th>\n",
              "      <td>480016</td>\n",
              "      <td>41499140</td>\n",
              "    </tr>\n",
              "    <tr>\n",
              "      <th>tourneo-courier</th>\n",
              "      <td>3688704</td>\n",
              "      <td>6740992</td>\n",
              "    </tr>\n",
              "    <tr>\n",
              "      <th>tourneo-custom</th>\n",
              "      <td>5602280</td>\n",
              "      <td>16998284</td>\n",
              "    </tr>\n",
              "    <tr>\n",
              "      <th>transit</th>\n",
              "      <td>16</td>\n",
              "      <td>296254804</td>\n",
              "    </tr>\n",
              "    <tr>\n",
              "      <th>windstar</th>\n",
              "      <td>16</td>\n",
              "      <td>2760312</td>\n",
              "    </tr>\n",
              "  </tbody>\n",
              "</table>\n",
              "</div>"
            ],
            "text/plain": [
              "                price_NGN             \n",
              "                      min          max\n",
              "model                                 \n",
              "b-max             2622592     32802176\n",
              "c-max                  16     14803836\n",
              "capri              140016       540164\n",
              "connect              7388      8237216\n",
              "cougar                 16      2760416\n",
              "crown-victoria      22204      9963688\n",
              "edge                29732     19665464\n",
              "escape            1139896      5356196\n",
              "escort                 16    295366396\n",
              "excursion         5181540     13207328\n",
              "expedition         760088      4202340\n",
              "explorer               44     24369016\n",
              "f-150            10747580     25973352\n",
              "fiesta                 16    316053544\n",
              "focus                  16  10917493588\n",
              "freestar          5955424      5955424\n",
              "fusion                 20      4380488\n",
              "galaxy                 16     16346868\n",
              "grand-c-max       2220576     10802400\n",
              "gt                 240016    147610924\n",
              "ka                     16   4938636728\n",
              "kuga                23688    400236460\n",
              "maverick               64      3801420\n",
              "mondeo                 16   4737409432\n",
              "mustang                16    400177248\n",
              "probe               14804      2201228\n",
              "puma                 1480      1599836\n",
              "s-max                  16     16766824\n",
              "scorpio              1480      1596656\n",
              "sierra             800060       800060\n",
              "streetka           320044      2300680\n",
              "taunus             399704       399704\n",
              "taurus              74020      1596240\n",
              "thunderbird       1184308      5041600\n",
              "tourneo-connect    480016     41499140\n",
              "tourneo-courier   3688704      6740992\n",
              "tourneo-custom    5602280     16998284\n",
              "transit                16    296254804\n",
              "windstar               16      2760312"
            ]
          },
          "metadata": {
            "tags": []
          },
          "execution_count": 61
        }
      ]
    },
    {
      "cell_type": "markdown",
      "metadata": {
        "id": "M1SMXs6Ki9I4"
      },
      "source": [
        "Leading with the pricing aggregates in the table above, the floor - ceiling pricing is pegged between 400,000 NGN and 40,000,000 NGN."
      ]
    },
    {
      "cell_type": "code",
      "metadata": {
        "id": "eFwO_Y0birdF"
      },
      "source": [
        "ford.loc[ford['price_NGN'] < 400000, 'price_NGN'] = np.nan\n",
        "ford.loc[ford['price_NGN'] > 40000000, 'price_NGN'] = np.nan"
      ],
      "execution_count": null,
      "outputs": []
    },
    {
      "cell_type": "code",
      "metadata": {
        "colab": {
          "base_uri": "https://localhost:8080/"
        },
        "id": "eVwXxIadirg6",
        "outputId": "48aa89a9-e4c2-4848-e352-7d7c25bacdb1"
      },
      "source": [
        "ford['price_NGN'].describe()"
      ],
      "execution_count": null,
      "outputs": [
        {
          "output_type": "execute_result",
          "data": {
            "text/plain": [
              "count      51290.00\n",
              "mean     3743853.25\n",
              "std      3030411.91\n",
              "min       400016.00\n",
              "25%      1316728.00\n",
              "50%      3000444.00\n",
              "75%      5377780.00\n",
              "max     37974048.00\n",
              "Name: price_NGN, dtype: float64"
            ]
          },
          "metadata": {
            "tags": []
          },
          "execution_count": 63
        }
      ]
    },
    {
      "cell_type": "markdown",
      "metadata": {
        "id": "XBx2qSGLkjMh"
      },
      "source": [
        "##### Honda"
      ]
    },
    {
      "cell_type": "code",
      "metadata": {
        "colab": {
          "base_uri": "https://localhost:8080/"
        },
        "id": "hLPBsjsbklUB",
        "outputId": "da7c0cc3-fa2c-4452-f14e-ff9c488fc2e6"
      },
      "source": [
        "honda['price_NGN'].describe()"
      ],
      "execution_count": null,
      "outputs": [
        {
          "output_type": "execute_result",
          "data": {
            "text/plain": [
              "count          5613.00\n",
              "mean       24737262.24\n",
              "std       924783019.56\n",
              "min              16.00\n",
              "25%         1140340.00\n",
              "50%         2720208.00\n",
              "75%         5025492.00\n",
              "max     40023685760.00\n",
              "Name: price_NGN, dtype: float64"
            ]
          },
          "metadata": {
            "tags": []
          },
          "execution_count": 64
        }
      ]
    },
    {
      "cell_type": "code",
      "metadata": {
        "colab": {
          "base_uri": "https://localhost:8080/",
          "height": 692
        },
        "id": "2PR6pUWnklbG",
        "outputId": "a5ce1692-a7eb-4603-87eb-70c6f9b03f97"
      },
      "source": [
        "honda.groupby('model').agg({'price_NGN': ['min', 'max']})"
      ],
      "execution_count": null,
      "outputs": [
        {
          "output_type": "execute_result",
          "data": {
            "text/html": [
              "<div>\n",
              "<style scoped>\n",
              "    .dataframe tbody tr th:only-of-type {\n",
              "        vertical-align: middle;\n",
              "    }\n",
              "\n",
              "    .dataframe tbody tr th {\n",
              "        vertical-align: top;\n",
              "    }\n",
              "\n",
              "    .dataframe thead tr th {\n",
              "        text-align: left;\n",
              "    }\n",
              "\n",
              "    .dataframe thead tr:last-of-type th {\n",
              "        text-align: right;\n",
              "    }\n",
              "</style>\n",
              "<table border=\"1\" class=\"dataframe\">\n",
              "  <thead>\n",
              "    <tr>\n",
              "      <th></th>\n",
              "      <th colspan=\"2\" halign=\"left\">price_NGN</th>\n",
              "    </tr>\n",
              "    <tr>\n",
              "      <th></th>\n",
              "      <th>min</th>\n",
              "      <th>max</th>\n",
              "    </tr>\n",
              "    <tr>\n",
              "      <th>model</th>\n",
              "      <th></th>\n",
              "      <th></th>\n",
              "    </tr>\n",
              "  </thead>\n",
              "  <tbody>\n",
              "    <tr>\n",
              "      <th>accord</th>\n",
              "      <td>28</td>\n",
              "      <td>14362132</td>\n",
              "    </tr>\n",
              "    <tr>\n",
              "      <th>city</th>\n",
              "      <td>29712</td>\n",
              "      <td>7661244</td>\n",
              "    </tr>\n",
              "    <tr>\n",
              "      <th>civic</th>\n",
              "      <td>16</td>\n",
              "      <td>40023685760</td>\n",
              "    </tr>\n",
              "    <tr>\n",
              "      <th>cr-v</th>\n",
              "      <td>29608</td>\n",
              "      <td>15166736</td>\n",
              "    </tr>\n",
              "    <tr>\n",
              "      <th>cr-z</th>\n",
              "      <td>2797928</td>\n",
              "      <td>5562680</td>\n",
              "    </tr>\n",
              "    <tr>\n",
              "      <th>element</th>\n",
              "      <td>36</td>\n",
              "      <td>738712</td>\n",
              "    </tr>\n",
              "    <tr>\n",
              "      <th>fr-v</th>\n",
              "      <td>1120164</td>\n",
              "      <td>6196920</td>\n",
              "    </tr>\n",
              "    <tr>\n",
              "      <th>hr-v</th>\n",
              "      <td>2960</td>\n",
              "      <td>10122872</td>\n",
              "    </tr>\n",
              "    <tr>\n",
              "      <th>insight</th>\n",
              "      <td>2119912</td>\n",
              "      <td>5511060</td>\n",
              "    </tr>\n",
              "    <tr>\n",
              "      <th>integra</th>\n",
              "      <td>520044</td>\n",
              "      <td>4001080</td>\n",
              "    </tr>\n",
              "    <tr>\n",
              "      <th>jazz</th>\n",
              "      <td>29728</td>\n",
              "      <td>7389488</td>\n",
              "    </tr>\n",
              "    <tr>\n",
              "      <th>legend</th>\n",
              "      <td>132</td>\n",
              "      <td>8000784</td>\n",
              "    </tr>\n",
              "    <tr>\n",
              "      <th>nsx</th>\n",
              "      <td>16809328</td>\n",
              "      <td>39964440</td>\n",
              "    </tr>\n",
              "    <tr>\n",
              "      <th>odyssey</th>\n",
              "      <td>399704</td>\n",
              "      <td>12583272</td>\n",
              "    </tr>\n",
              "    <tr>\n",
              "      <th>pilot</th>\n",
              "      <td>2515172</td>\n",
              "      <td>17098432</td>\n",
              "    </tr>\n",
              "    <tr>\n",
              "      <th>prelude</th>\n",
              "      <td>200016</td>\n",
              "      <td>3801124</td>\n",
              "    </tr>\n",
              "    <tr>\n",
              "      <th>ridgeline</th>\n",
              "      <td>6362352</td>\n",
              "      <td>7604500</td>\n",
              "    </tr>\n",
              "    <tr>\n",
              "      <th>s2000</th>\n",
              "      <td>3801124</td>\n",
              "      <td>7989180</td>\n",
              "    </tr>\n",
              "    <tr>\n",
              "      <th>shuttle</th>\n",
              "      <td>320120</td>\n",
              "      <td>2796832</td>\n",
              "    </tr>\n",
              "    <tr>\n",
              "      <th>stream</th>\n",
              "      <td>28</td>\n",
              "      <td>2596772</td>\n",
              "    </tr>\n",
              "  </tbody>\n",
              "</table>\n",
              "</div>"
            ],
            "text/plain": [
              "          price_NGN             \n",
              "                min          max\n",
              "model                           \n",
              "accord           28     14362132\n",
              "city          29712      7661244\n",
              "civic            16  40023685760\n",
              "cr-v          29608     15166736\n",
              "cr-z        2797928      5562680\n",
              "element          36       738712\n",
              "fr-v        1120164      6196920\n",
              "hr-v           2960     10122872\n",
              "insight     2119912      5511060\n",
              "integra      520044      4001080\n",
              "jazz          29728      7389488\n",
              "legend          132      8000784\n",
              "nsx        16809328     39964440\n",
              "odyssey      399704     12583272\n",
              "pilot       2515172     17098432\n",
              "prelude      200016      3801124\n",
              "ridgeline   6362352      7604500\n",
              "s2000       3801124      7989180\n",
              "shuttle      320120      2796832\n",
              "stream           28      2596772"
            ]
          },
          "metadata": {
            "tags": []
          },
          "execution_count": 65
        }
      ]
    },
    {
      "cell_type": "markdown",
      "metadata": {
        "id": "vWS6Lf4Xlh2M"
      },
      "source": [
        "Leading with the pricing aggregates in the table above, the floor - ceiling pricing is pegged between 400,000 NGN and 20,000,000 NGN."
      ]
    },
    {
      "cell_type": "code",
      "metadata": {
        "id": "zIgHW2QhklYL"
      },
      "source": [
        "honda.loc[honda['price_NGN'] < 400000, 'price_NGN'] = np.nan\n",
        "honda.loc[honda['price_NGN'] > 40000000, 'price_NGN'] = np.nan"
      ],
      "execution_count": null,
      "outputs": []
    },
    {
      "cell_type": "code",
      "metadata": {
        "colab": {
          "base_uri": "https://localhost:8080/"
        },
        "id": "4o0GZrprl4Pr",
        "outputId": "7a090f92-e216-40fc-98c2-6a80bee46415"
      },
      "source": [
        "honda['price_NGN'].describe()"
      ],
      "execution_count": null,
      "outputs": [
        {
          "output_type": "execute_result",
          "data": {
            "text/plain": [
              "count       5161.00\n",
              "mean     3625795.84\n",
              "std      2750999.63\n",
              "min       400016.00\n",
              "25%      1400208.00\n",
              "50%      2980324.00\n",
              "75%      5200768.00\n",
              "max     39964440.00\n",
              "Name: price_NGN, dtype: float64"
            ]
          },
          "metadata": {
            "tags": []
          },
          "execution_count": 67
        }
      ]
    },
    {
      "cell_type": "markdown",
      "metadata": {
        "id": "QHpwnDeJmaA4"
      },
      "source": [
        "##### Hyundai"
      ]
    },
    {
      "cell_type": "code",
      "metadata": {
        "colab": {
          "base_uri": "https://localhost:8080/"
        },
        "id": "HfziBeC3miD7",
        "outputId": "eca6c645-ed57-44e1-c9ca-cfe537a1d3d9"
      },
      "source": [
        "hyundai['price_NGN'].describe()"
      ],
      "execution_count": null,
      "outputs": [
        {
          "output_type": "execute_result",
          "data": {
            "text/plain": [
              "count      14202.00\n",
              "mean     4028466.82\n",
              "std      3023462.86\n",
              "min           16.00\n",
              "25%      1599836.00\n",
              "50%      3523774.00\n",
              "75%      5708336.00\n",
              "max     88026056.00\n",
              "Name: price_NGN, dtype: float64"
            ]
          },
          "metadata": {
            "tags": []
          },
          "execution_count": 68
        }
      ]
    },
    {
      "cell_type": "code",
      "metadata": {
        "colab": {
          "base_uri": "https://localhost:8080/",
          "height": 810
        },
        "id": "wpWpkRNWmh_h",
        "outputId": "8a1e5b67-a283-4a58-cbb6-a258f724fd26"
      },
      "source": [
        "hyundai.groupby('model').agg({'price_NGN': ['min', 'max']})"
      ],
      "execution_count": null,
      "outputs": [
        {
          "output_type": "execute_result",
          "data": {
            "text/html": [
              "<div>\n",
              "<style scoped>\n",
              "    .dataframe tbody tr th:only-of-type {\n",
              "        vertical-align: middle;\n",
              "    }\n",
              "\n",
              "    .dataframe tbody tr th {\n",
              "        vertical-align: top;\n",
              "    }\n",
              "\n",
              "    .dataframe thead tr th {\n",
              "        text-align: left;\n",
              "    }\n",
              "\n",
              "    .dataframe thead tr:last-of-type th {\n",
              "        text-align: right;\n",
              "    }\n",
              "</style>\n",
              "<table border=\"1\" class=\"dataframe\">\n",
              "  <thead>\n",
              "    <tr>\n",
              "      <th></th>\n",
              "      <th colspan=\"2\" halign=\"left\">price_NGN</th>\n",
              "    </tr>\n",
              "    <tr>\n",
              "      <th></th>\n",
              "      <th>min</th>\n",
              "      <th>max</th>\n",
              "    </tr>\n",
              "    <tr>\n",
              "      <th>model</th>\n",
              "      <th></th>\n",
              "      <th></th>\n",
              "    </tr>\n",
              "  </thead>\n",
              "  <tbody>\n",
              "    <tr>\n",
              "      <th>accent</th>\n",
              "      <td>20</td>\n",
              "      <td>2120312</td>\n",
              "    </tr>\n",
              "    <tr>\n",
              "      <th>coupe</th>\n",
              "      <td>4440</td>\n",
              "      <td>7180532</td>\n",
              "    </tr>\n",
              "    <tr>\n",
              "      <th>elantra</th>\n",
              "      <td>28</td>\n",
              "      <td>4441156</td>\n",
              "    </tr>\n",
              "    <tr>\n",
              "      <th>galloper</th>\n",
              "      <td>444116</td>\n",
              "      <td>2800844</td>\n",
              "    </tr>\n",
              "    <tr>\n",
              "      <th>genesis</th>\n",
              "      <td>28</td>\n",
              "      <td>24801836</td>\n",
              "    </tr>\n",
              "    <tr>\n",
              "      <th>getz</th>\n",
              "      <td>16</td>\n",
              "      <td>6201836</td>\n",
              "    </tr>\n",
              "    <tr>\n",
              "      <th>grandeur</th>\n",
              "      <td>1560060</td>\n",
              "      <td>4201244</td>\n",
              "    </tr>\n",
              "    <tr>\n",
              "      <th>i10</th>\n",
              "      <td>148</td>\n",
              "      <td>5580828</td>\n",
              "    </tr>\n",
              "    <tr>\n",
              "      <th>i20</th>\n",
              "      <td>444116</td>\n",
              "      <td>7240532</td>\n",
              "    </tr>\n",
              "    <tr>\n",
              "      <th>i30</th>\n",
              "      <td>2960</td>\n",
              "      <td>10397544</td>\n",
              "    </tr>\n",
              "    <tr>\n",
              "      <th>i40</th>\n",
              "      <td>1480384</td>\n",
              "      <td>14461064</td>\n",
              "    </tr>\n",
              "    <tr>\n",
              "      <th>ix20</th>\n",
              "      <td>26648</td>\n",
              "      <td>8220608</td>\n",
              "    </tr>\n",
              "    <tr>\n",
              "      <th>ix35</th>\n",
              "      <td>29592</td>\n",
              "      <td>12660932</td>\n",
              "    </tr>\n",
              "    <tr>\n",
              "      <th>ix55</th>\n",
              "      <td>3403404</td>\n",
              "      <td>8580312</td>\n",
              "    </tr>\n",
              "    <tr>\n",
              "      <th>lantra</th>\n",
              "      <td>16</td>\n",
              "      <td>780088</td>\n",
              "    </tr>\n",
              "    <tr>\n",
              "      <th>matrix</th>\n",
              "      <td>24</td>\n",
              "      <td>88026056</td>\n",
              "    </tr>\n",
              "    <tr>\n",
              "      <th>pony</th>\n",
              "      <td>200016</td>\n",
              "      <td>340044</td>\n",
              "    </tr>\n",
              "    <tr>\n",
              "      <th>santa-fe</th>\n",
              "      <td>16</td>\n",
              "      <td>19318312</td>\n",
              "    </tr>\n",
              "    <tr>\n",
              "      <th>santamo</th>\n",
              "      <td>239688</td>\n",
              "      <td>880268</td>\n",
              "    </tr>\n",
              "    <tr>\n",
              "      <th>sonata</th>\n",
              "      <td>14804</td>\n",
              "      <td>14803848</td>\n",
              "    </tr>\n",
              "    <tr>\n",
              "      <th>terracan</th>\n",
              "      <td>16</td>\n",
              "      <td>4596508</td>\n",
              "    </tr>\n",
              "    <tr>\n",
              "      <th>trajet</th>\n",
              "      <td>17764</td>\n",
              "      <td>3798104</td>\n",
              "    </tr>\n",
              "    <tr>\n",
              "      <th>veloster</th>\n",
              "      <td>2396712</td>\n",
              "      <td>8964528</td>\n",
              "    </tr>\n",
              "    <tr>\n",
              "      <th>xg</th>\n",
              "      <td>133236</td>\n",
              "      <td>1799868</td>\n",
              "    </tr>\n",
              "  </tbody>\n",
              "</table>\n",
              "</div>"
            ],
            "text/plain": [
              "         price_NGN          \n",
              "               min       max\n",
              "model                       \n",
              "accent          20   2120312\n",
              "coupe         4440   7180532\n",
              "elantra         28   4441156\n",
              "galloper    444116   2800844\n",
              "genesis         28  24801836\n",
              "getz            16   6201836\n",
              "grandeur   1560060   4201244\n",
              "i10            148   5580828\n",
              "i20         444116   7240532\n",
              "i30           2960  10397544\n",
              "i40        1480384  14461064\n",
              "ix20         26648   8220608\n",
              "ix35         29592  12660932\n",
              "ix55       3403404   8580312\n",
              "lantra          16    780088\n",
              "matrix          24  88026056\n",
              "pony        200016    340044\n",
              "santa-fe        16  19318312\n",
              "santamo     239688    880268\n",
              "sonata       14804  14803848\n",
              "terracan        16   4596508\n",
              "trajet       17764   3798104\n",
              "veloster   2396712   8964528\n",
              "xg          133236   1799868"
            ]
          },
          "metadata": {
            "tags": []
          },
          "execution_count": 69
        }
      ]
    },
    {
      "cell_type": "markdown",
      "metadata": {
        "id": "pe3gQ-Y2nTDK"
      },
      "source": [
        "Leading with the pricing aggregates in the table above, the floor - ceiling pricing is pegged between 400,000 NGN and 20,000,000 NGN."
      ]
    },
    {
      "cell_type": "code",
      "metadata": {
        "id": "FvkMA1pTmh8C"
      },
      "source": [
        "hyundai.loc[hyundai['price_NGN'] < 400000, 'price_NGN'] = np.nan\n",
        "hyundai.loc[hyundai['price_NGN'] > 20000000, 'price_NGN'] = np.nan"
      ],
      "execution_count": null,
      "outputs": []
    },
    {
      "cell_type": "code",
      "metadata": {
        "colab": {
          "base_uri": "https://localhost:8080/"
        },
        "id": "PXgaTZ-ml4Zl",
        "outputId": "e0f2d5c2-3440-45f5-8194-c70efe407861"
      },
      "source": [
        "hyundai['price_NGN'].describe()"
      ],
      "execution_count": null,
      "outputs": [
        {
          "output_type": "execute_result",
          "data": {
            "text/plain": [
              "count      13582.00\n",
              "mean     4191286.87\n",
              "std      2876402.83\n",
              "min       400028.00\n",
              "25%      1909696.00\n",
              "50%      3682844.00\n",
              "75%      5811210.00\n",
              "max     19493840.00\n",
              "Name: price_NGN, dtype: float64"
            ]
          },
          "metadata": {
            "tags": []
          },
          "execution_count": 71
        }
      ]
    },
    {
      "cell_type": "markdown",
      "metadata": {
        "id": "T-2CpoYxsOhP"
      },
      "source": [
        "##### Isuzu"
      ]
    },
    {
      "cell_type": "code",
      "metadata": {
        "colab": {
          "base_uri": "https://localhost:8080/"
        },
        "id": "THvlKiHPl4WL",
        "outputId": "73a86f0d-6f3b-4a23-ca1b-d469b007d591"
      },
      "source": [
        "isuzu['price_NGN'].describe()"
      ],
      "execution_count": null,
      "outputs": [
        {
          "output_type": "execute_result",
          "data": {
            "text/plain": [
              "count        388.00\n",
              "mean     8326945.18\n",
              "std      3090141.12\n",
              "min        29532.00\n",
              "25%      6993387.00\n",
              "50%      8655366.00\n",
              "75%      9983936.00\n",
              "max     25002784.00\n",
              "Name: price_NGN, dtype: float64"
            ]
          },
          "metadata": {
            "tags": []
          },
          "execution_count": 72
        }
      ]
    },
    {
      "cell_type": "code",
      "metadata": {
        "colab": {
          "base_uri": "https://localhost:8080/",
          "height": 164
        },
        "id": "5iV4xkX2l4Tm",
        "outputId": "f6d23cf9-0f45-4735-f79b-e52afae1fbad"
      },
      "source": [
        "isuzu.groupby('model').agg({'price_NGN': ['min', 'max']})"
      ],
      "execution_count": null,
      "outputs": [
        {
          "output_type": "execute_result",
          "data": {
            "text/html": [
              "<div>\n",
              "<style scoped>\n",
              "    .dataframe tbody tr th:only-of-type {\n",
              "        vertical-align: middle;\n",
              "    }\n",
              "\n",
              "    .dataframe tbody tr th {\n",
              "        vertical-align: top;\n",
              "    }\n",
              "\n",
              "    .dataframe thead tr th {\n",
              "        text-align: left;\n",
              "    }\n",
              "\n",
              "    .dataframe thead tr:last-of-type th {\n",
              "        text-align: right;\n",
              "    }\n",
              "</style>\n",
              "<table border=\"1\" class=\"dataframe\">\n",
              "  <thead>\n",
              "    <tr>\n",
              "      <th></th>\n",
              "      <th colspan=\"2\" halign=\"left\">price_NGN</th>\n",
              "    </tr>\n",
              "    <tr>\n",
              "      <th></th>\n",
              "      <th>min</th>\n",
              "      <th>max</th>\n",
              "    </tr>\n",
              "    <tr>\n",
              "      <th>model</th>\n",
              "      <th></th>\n",
              "      <th></th>\n",
              "    </tr>\n",
              "  </thead>\n",
              "  <tbody>\n",
              "    <tr>\n",
              "      <th>d-max</th>\n",
              "      <td>3082916</td>\n",
              "      <td>25002784</td>\n",
              "    </tr>\n",
              "    <tr>\n",
              "      <th>trooper</th>\n",
              "      <td>500044</td>\n",
              "      <td>2761020</td>\n",
              "    </tr>\n",
              "  </tbody>\n",
              "</table>\n",
              "</div>"
            ],
            "text/plain": [
              "        price_NGN          \n",
              "              min       max\n",
              "model                      \n",
              "d-max     3082916  25002784\n",
              "trooper    500044   2761020"
            ]
          },
          "metadata": {
            "tags": []
          },
          "execution_count": 73
        }
      ]
    },
    {
      "cell_type": "markdown",
      "metadata": {
        "id": "nwXUg3w2tWQJ"
      },
      "source": [
        "Leading with the pricing aggregates in the table above, the floor - ceiling pricing is pegged between 500,000 NGN and 25,000,000 NGN."
      ]
    },
    {
      "cell_type": "code",
      "metadata": {
        "id": "B3vDZOgvul08"
      },
      "source": [
        "isuzu.loc[isuzu['price_NGN'] < 400000, 'price_NGN'] = np.nan\n",
        "isuzu.loc[isuzu['price_NGN'] > 20000000, 'price_NGN'] = np.nan"
      ],
      "execution_count": null,
      "outputs": []
    },
    {
      "cell_type": "code",
      "metadata": {
        "colab": {
          "base_uri": "https://localhost:8080/"
        },
        "id": "IhoX1TCmumRU",
        "outputId": "5ca7be0e-32f9-4b9d-d164-cf5b6daae693"
      },
      "source": [
        "isuzu['price_NGN'].describe()"
      ],
      "execution_count": null,
      "outputs": [
        {
          "output_type": "execute_result",
          "data": {
            "text/plain": [
              "count        382.00\n",
              "mean     8329632.93\n",
              "std      2769086.88\n",
              "min       500044.00\n",
              "25%      7268594.00\n",
              "50%      8694810.00\n",
              "75%      9983659.00\n",
              "max     18724768.00\n",
              "Name: price_NGN, dtype: float64"
            ]
          },
          "metadata": {
            "tags": []
          },
          "execution_count": 75
        }
      ]
    },
    {
      "cell_type": "markdown",
      "metadata": {
        "id": "FH6vjyXlvKEo"
      },
      "source": [
        "##### Jaguar"
      ]
    },
    {
      "cell_type": "code",
      "metadata": {
        "colab": {
          "base_uri": "https://localhost:8080/"
        },
        "id": "FIIq5C80ulwQ",
        "outputId": "ecd9331b-532d-4ca0-eb74-6745ba890b54"
      },
      "source": [
        "jaguar['price_NGN'].describe()"
      ],
      "execution_count": null,
      "outputs": [
        {
          "output_type": "execute_result",
          "data": {
            "text/plain": [
              "count        2014.00\n",
              "mean     10328074.57\n",
              "std      10176385.28\n",
              "min            16.00\n",
              "25%       2801178.00\n",
              "50%       7997632.00\n",
              "75%      14169886.00\n",
              "max     180013324.00\n",
              "Name: price_NGN, dtype: float64"
            ]
          },
          "metadata": {
            "tags": []
          },
          "execution_count": 76
        }
      ]
    },
    {
      "cell_type": "code",
      "metadata": {
        "colab": {
          "base_uri": "https://localhost:8080/",
          "height": 487
        },
        "id": "mCVZ0Jr5ulsG",
        "outputId": "a3661f9b-3031-4f93-d4fd-37c10ac6c119"
      },
      "source": [
        "jaguar.groupby('model').agg({'price_NGN': ['min', 'max']})"
      ],
      "execution_count": null,
      "outputs": [
        {
          "output_type": "execute_result",
          "data": {
            "text/html": [
              "<div>\n",
              "<style scoped>\n",
              "    .dataframe tbody tr th:only-of-type {\n",
              "        vertical-align: middle;\n",
              "    }\n",
              "\n",
              "    .dataframe tbody tr th {\n",
              "        vertical-align: top;\n",
              "    }\n",
              "\n",
              "    .dataframe thead tr th {\n",
              "        text-align: left;\n",
              "    }\n",
              "\n",
              "    .dataframe thead tr:last-of-type th {\n",
              "        text-align: right;\n",
              "    }\n",
              "</style>\n",
              "<table border=\"1\" class=\"dataframe\">\n",
              "  <thead>\n",
              "    <tr>\n",
              "      <th></th>\n",
              "      <th colspan=\"2\" halign=\"left\">price_NGN</th>\n",
              "    </tr>\n",
              "    <tr>\n",
              "      <th></th>\n",
              "      <th>min</th>\n",
              "      <th>max</th>\n",
              "    </tr>\n",
              "    <tr>\n",
              "      <th>model</th>\n",
              "      <th></th>\n",
              "      <th></th>\n",
              "    </tr>\n",
              "  </thead>\n",
              "  <tbody>\n",
              "    <tr>\n",
              "      <th>daimler</th>\n",
              "      <td>2720904</td>\n",
              "      <td>17961332</td>\n",
              "    </tr>\n",
              "    <tr>\n",
              "      <th>f-type</th>\n",
              "      <td>17415160</td>\n",
              "      <td>66135172</td>\n",
              "    </tr>\n",
              "    <tr>\n",
              "      <th>s-type</th>\n",
              "      <td>40000</td>\n",
              "      <td>7953176</td>\n",
              "    </tr>\n",
              "    <tr>\n",
              "      <th>x-type</th>\n",
              "      <td>429312</td>\n",
              "      <td>7563360</td>\n",
              "    </tr>\n",
              "    <tr>\n",
              "      <th>xf</th>\n",
              "      <td>2220576</td>\n",
              "      <td>36021316</td>\n",
              "    </tr>\n",
              "    <tr>\n",
              "      <th>xj</th>\n",
              "      <td>16</td>\n",
              "      <td>180013324</td>\n",
              "    </tr>\n",
              "    <tr>\n",
              "      <th>xj6</th>\n",
              "      <td>725388</td>\n",
              "      <td>15961776</td>\n",
              "    </tr>\n",
              "    <tr>\n",
              "      <th>xj8</th>\n",
              "      <td>480164</td>\n",
              "      <td>8373236</td>\n",
              "    </tr>\n",
              "    <tr>\n",
              "      <th>xjr</th>\n",
              "      <td>1560576</td>\n",
              "      <td>11406336</td>\n",
              "    </tr>\n",
              "    <tr>\n",
              "      <th>xjs</th>\n",
              "      <td>7922340</td>\n",
              "      <td>11400844</td>\n",
              "    </tr>\n",
              "    <tr>\n",
              "      <th>xk</th>\n",
              "      <td>2601452</td>\n",
              "      <td>25018504</td>\n",
              "    </tr>\n",
              "    <tr>\n",
              "      <th>xk8</th>\n",
              "      <td>2599792</td>\n",
              "      <td>159623628</td>\n",
              "    </tr>\n",
              "    <tr>\n",
              "      <th>xkr</th>\n",
              "      <td>3397260</td>\n",
              "      <td>33613736</td>\n",
              "    </tr>\n",
              "  </tbody>\n",
              "</table>\n",
              "</div>"
            ],
            "text/plain": [
              "        price_NGN           \n",
              "              min        max\n",
              "model                       \n",
              "daimler   2720904   17961332\n",
              "f-type   17415160   66135172\n",
              "s-type      40000    7953176\n",
              "x-type     429312    7563360\n",
              "xf        2220576   36021316\n",
              "xj             16  180013324\n",
              "xj6        725388   15961776\n",
              "xj8        480164    8373236\n",
              "xjr       1560576   11406336\n",
              "xjs       7922340   11400844\n",
              "xk        2601452   25018504\n",
              "xk8       2599792  159623628\n",
              "xkr       3397260   33613736"
            ]
          },
          "metadata": {
            "tags": []
          },
          "execution_count": 77
        }
      ]
    },
    {
      "cell_type": "markdown",
      "metadata": {
        "id": "3e1hR6Q8wYMr"
      },
      "source": [
        "Leading with the pricing aggregates in the table above, the floor - ceiling pricing is pegged between 2,700,000 NGN and 180,000,000 NGN."
      ]
    },
    {
      "cell_type": "code",
      "metadata": {
        "id": "Q6QiyfoMwi5c"
      },
      "source": [
        "jaguar.loc[jaguar['price_NGN'] < 2700000, 'price_NGN'] = np.nan\n",
        "jaguar.loc[jaguar['price_NGN'] > 180000000, 'price_NGN'] = np.nan"
      ],
      "execution_count": null,
      "outputs": []
    },
    {
      "cell_type": "code",
      "metadata": {
        "colab": {
          "base_uri": "https://localhost:8080/"
        },
        "id": "FlE6ieKHwjDx",
        "outputId": "ec215f09-1e66-4a4d-b5f6-257a23199b66"
      },
      "source": [
        "jaguar['price_NGN'].describe()"
      ],
      "execution_count": null,
      "outputs": [
        {
          "output_type": "execute_result",
          "data": {
            "text/plain": [
              "count        1545.00\n",
              "mean     12881209.03\n",
              "std       9290874.59\n",
              "min       2716804.00\n",
              "25%       6222696.00\n",
              "50%      11564280.00\n",
              "75%      15961776.00\n",
              "max     159623628.00\n",
              "Name: price_NGN, dtype: float64"
            ]
          },
          "metadata": {
            "tags": []
          },
          "execution_count": 79
        }
      ]
    },
    {
      "cell_type": "markdown",
      "metadata": {
        "id": "AJiCDOCDw_vb"
      },
      "source": [
        "##### Jeep"
      ]
    },
    {
      "cell_type": "code",
      "metadata": {
        "colab": {
          "base_uri": "https://localhost:8080/"
        },
        "id": "lITCwI6zwjBC",
        "outputId": "c6f6e87c-8fa1-4491-b32f-e547bc632dba"
      },
      "source": [
        "jeep['price_NGN'].describe()"
      ],
      "execution_count": null,
      "outputs": [
        {
          "output_type": "execute_result",
          "data": {
            "text/plain": [
              "count       3943.00\n",
              "mean     8653191.77\n",
              "std      5261599.76\n",
              "min         1480.00\n",
              "25%      4399348.00\n",
              "50%      8034788.00\n",
              "75%     11970748.00\n",
              "max     35202604.00\n",
              "Name: price_NGN, dtype: float64"
            ]
          },
          "metadata": {
            "tags": []
          },
          "execution_count": 80
        }
      ]
    },
    {
      "cell_type": "code",
      "metadata": {
        "colab": {
          "base_uri": "https://localhost:8080/",
          "height": 340
        },
        "id": "3TPbEQ6Jwi-C",
        "outputId": "108fd37d-fe70-4f06-b3f3-4535b684e372"
      },
      "source": [
        "jeep.groupby('model').agg({'price_NGN': ['min', 'max']})"
      ],
      "execution_count": null,
      "outputs": [
        {
          "output_type": "execute_result",
          "data": {
            "text/html": [
              "<div>\n",
              "<style scoped>\n",
              "    .dataframe tbody tr th:only-of-type {\n",
              "        vertical-align: middle;\n",
              "    }\n",
              "\n",
              "    .dataframe tbody tr th {\n",
              "        vertical-align: top;\n",
              "    }\n",
              "\n",
              "    .dataframe thead tr th {\n",
              "        text-align: left;\n",
              "    }\n",
              "\n",
              "    .dataframe thead tr:last-of-type th {\n",
              "        text-align: right;\n",
              "    }\n",
              "</style>\n",
              "<table border=\"1\" class=\"dataframe\">\n",
              "  <thead>\n",
              "    <tr>\n",
              "      <th></th>\n",
              "      <th colspan=\"2\" halign=\"left\">price_NGN</th>\n",
              "    </tr>\n",
              "    <tr>\n",
              "      <th></th>\n",
              "      <th>min</th>\n",
              "      <th>max</th>\n",
              "    </tr>\n",
              "    <tr>\n",
              "      <th>model</th>\n",
              "      <th></th>\n",
              "      <th></th>\n",
              "    </tr>\n",
              "  </thead>\n",
              "  <tbody>\n",
              "    <tr>\n",
              "      <th>cherokee</th>\n",
              "      <td>3212</td>\n",
              "      <td>23805372</td>\n",
              "    </tr>\n",
              "    <tr>\n",
              "      <th>commander</th>\n",
              "      <td>3397260</td>\n",
              "      <td>9161360</td>\n",
              "    </tr>\n",
              "    <tr>\n",
              "      <th>compass</th>\n",
              "      <td>2205772</td>\n",
              "      <td>9841464</td>\n",
              "    </tr>\n",
              "    <tr>\n",
              "      <th>grand-cherokee</th>\n",
              "      <td>1480</td>\n",
              "      <td>33050984</td>\n",
              "    </tr>\n",
              "    <tr>\n",
              "      <th>liberty</th>\n",
              "      <td>1628424</td>\n",
              "      <td>9201020</td>\n",
              "    </tr>\n",
              "    <tr>\n",
              "      <th>patriot</th>\n",
              "      <td>1720104</td>\n",
              "      <td>6793012</td>\n",
              "    </tr>\n",
              "    <tr>\n",
              "      <th>renegade</th>\n",
              "      <td>98684</td>\n",
              "      <td>14205256</td>\n",
              "    </tr>\n",
              "    <tr>\n",
              "      <th>wrangler</th>\n",
              "      <td>51812</td>\n",
              "      <td>35202604</td>\n",
              "    </tr>\n",
              "  </tbody>\n",
              "</table>\n",
              "</div>"
            ],
            "text/plain": [
              "               price_NGN          \n",
              "                     min       max\n",
              "model                             \n",
              "cherokee            3212  23805372\n",
              "commander        3397260   9161360\n",
              "compass          2205772   9841464\n",
              "grand-cherokee      1480  33050984\n",
              "liberty          1628424   9201020\n",
              "patriot          1720104   6793012\n",
              "renegade           98684  14205256\n",
              "wrangler           51812  35202604"
            ]
          },
          "metadata": {
            "tags": []
          },
          "execution_count": 81
        }
      ]
    },
    {
      "cell_type": "markdown",
      "metadata": {
        "id": "iXT4PmFixfdp"
      },
      "source": [
        "Leading with the pricing aggregates in the table above, the floor - ceiling pricing is pegged between 1,600,000 NGN and 36,000,000 NGN."
      ]
    },
    {
      "cell_type": "code",
      "metadata": {
        "id": "6At5tIzTxox2"
      },
      "source": [
        "jeep.loc[jeep['price_NGN'] < 1600000, 'price_NGN'] = np.nan\n",
        "jeep.loc[jeep['price_NGN'] > 36000000, 'price_NGN'] = np.nan"
      ],
      "execution_count": null,
      "outputs": []
    },
    {
      "cell_type": "code",
      "metadata": {
        "colab": {
          "base_uri": "https://localhost:8080/"
        },
        "id": "0X-bK2fxwi2G",
        "outputId": "b350cf9c-0647-4654-e38d-8c4de0e03a4a"
      },
      "source": [
        "jeep['price_NGN'].describe()"
      ],
      "execution_count": null,
      "outputs": [
        {
          "output_type": "execute_result",
          "data": {
            "text/plain": [
              "count       3687.00\n",
              "mean     9179201.28\n",
              "std      5033451.97\n",
              "min      1600120.00\n",
              "25%      5689964.00\n",
              "50%      8402796.00\n",
              "75%     12361606.00\n",
              "max     35202604.00\n",
              "Name: price_NGN, dtype: float64"
            ]
          },
          "metadata": {
            "tags": []
          },
          "execution_count": 83
        }
      ]
    },
    {
      "cell_type": "markdown",
      "metadata": {
        "id": "XX5UFF7dx-3S"
      },
      "source": [
        "##### Kia"
      ]
    },
    {
      "cell_type": "code",
      "metadata": {
        "colab": {
          "base_uri": "https://localhost:8080/"
        },
        "id": "5ApVmOJCyBWv",
        "outputId": "ac700d69-4814-49b1-f336-1ea177106726"
      },
      "source": [
        "kia['price_NGN'].describe()"
      ],
      "execution_count": null,
      "outputs": [
        {
          "output_type": "execute_result",
          "data": {
            "text/plain": [
              "count      10740.00\n",
              "mean     4254347.97\n",
              "std      2971441.17\n",
              "min           16.00\n",
              "25%      1900208.00\n",
              "50%      3700964.00\n",
              "75%      6216120.00\n",
              "max     19960740.00\n",
              "Name: price_NGN, dtype: float64"
            ]
          },
          "metadata": {
            "tags": []
          },
          "execution_count": 84
        }
      ]
    },
    {
      "cell_type": "code",
      "metadata": {
        "colab": {
          "base_uri": "https://localhost:8080/",
          "height": 634
        },
        "id": "th7YEX1xyBTk",
        "outputId": "432d15b0-1e2c-4f95-f91d-1858c295e580"
      },
      "source": [
        "kia.groupby('model').agg({'price_NGN': ['min', 'max']})"
      ],
      "execution_count": null,
      "outputs": [
        {
          "output_type": "execute_result",
          "data": {
            "text/html": [
              "<div>\n",
              "<style scoped>\n",
              "    .dataframe tbody tr th:only-of-type {\n",
              "        vertical-align: middle;\n",
              "    }\n",
              "\n",
              "    .dataframe tbody tr th {\n",
              "        vertical-align: top;\n",
              "    }\n",
              "\n",
              "    .dataframe thead tr th {\n",
              "        text-align: left;\n",
              "    }\n",
              "\n",
              "    .dataframe thead tr:last-of-type th {\n",
              "        text-align: right;\n",
              "    }\n",
              "</style>\n",
              "<table border=\"1\" class=\"dataframe\">\n",
              "  <thead>\n",
              "    <tr>\n",
              "      <th></th>\n",
              "      <th colspan=\"2\" halign=\"left\">price_NGN</th>\n",
              "    </tr>\n",
              "    <tr>\n",
              "      <th></th>\n",
              "      <th>min</th>\n",
              "      <th>max</th>\n",
              "    </tr>\n",
              "    <tr>\n",
              "      <th>model</th>\n",
              "      <th></th>\n",
              "      <th></th>\n",
              "    </tr>\n",
              "  </thead>\n",
              "  <tbody>\n",
              "    <tr>\n",
              "      <th>carens</th>\n",
              "      <td>74020</td>\n",
              "      <td>10956416</td>\n",
              "    </tr>\n",
              "    <tr>\n",
              "      <th>carnival</th>\n",
              "      <td>16</td>\n",
              "      <td>18702768</td>\n",
              "    </tr>\n",
              "    <tr>\n",
              "      <th>cerato</th>\n",
              "      <td>16</td>\n",
              "      <td>2360356</td>\n",
              "    </tr>\n",
              "    <tr>\n",
              "      <th>clarus</th>\n",
              "      <td>148040</td>\n",
              "      <td>1080164</td>\n",
              "    </tr>\n",
              "    <tr>\n",
              "      <th>joice</th>\n",
              "      <td>14804</td>\n",
              "      <td>720076</td>\n",
              "    </tr>\n",
              "    <tr>\n",
              "      <th>magentis</th>\n",
              "      <td>1480</td>\n",
              "      <td>3921600</td>\n",
              "    </tr>\n",
              "    <tr>\n",
              "      <th>opirus</th>\n",
              "      <td>738712</td>\n",
              "      <td>5181924</td>\n",
              "    </tr>\n",
              "    <tr>\n",
              "      <th>optima</th>\n",
              "      <td>2480372</td>\n",
              "      <td>14342784</td>\n",
              "    </tr>\n",
              "    <tr>\n",
              "      <th>picanto</th>\n",
              "      <td>16</td>\n",
              "      <td>5997292</td>\n",
              "    </tr>\n",
              "    <tr>\n",
              "      <th>pride</th>\n",
              "      <td>60028</td>\n",
              "      <td>718340</td>\n",
              "    </tr>\n",
              "    <tr>\n",
              "      <th>retona</th>\n",
              "      <td>296076</td>\n",
              "      <td>1280712</td>\n",
              "    </tr>\n",
              "    <tr>\n",
              "      <th>rio</th>\n",
              "      <td>16</td>\n",
              "      <td>7848348</td>\n",
              "    </tr>\n",
              "    <tr>\n",
              "      <th>sephia</th>\n",
              "      <td>11844</td>\n",
              "      <td>759688</td>\n",
              "    </tr>\n",
              "    <tr>\n",
              "      <th>shuma</th>\n",
              "      <td>29608</td>\n",
              "      <td>1596240</td>\n",
              "    </tr>\n",
              "    <tr>\n",
              "      <th>sorento</th>\n",
              "      <td>36</td>\n",
              "      <td>19960740</td>\n",
              "    </tr>\n",
              "    <tr>\n",
              "      <th>soul</th>\n",
              "      <td>1440060</td>\n",
              "      <td>11842768</td>\n",
              "    </tr>\n",
              "    <tr>\n",
              "      <th>sportage</th>\n",
              "      <td>16</td>\n",
              "      <td>15161688</td>\n",
              "    </tr>\n",
              "    <tr>\n",
              "      <th>venga</th>\n",
              "      <td>1450776</td>\n",
              "      <td>8600964</td>\n",
              "    </tr>\n",
              "  </tbody>\n",
              "</table>\n",
              "</div>"
            ],
            "text/plain": [
              "         price_NGN          \n",
              "               min       max\n",
              "model                       \n",
              "carens       74020  10956416\n",
              "carnival        16  18702768\n",
              "cerato          16   2360356\n",
              "clarus      148040   1080164\n",
              "joice        14804    720076\n",
              "magentis      1480   3921600\n",
              "opirus      738712   5181924\n",
              "optima     2480372  14342784\n",
              "picanto         16   5997292\n",
              "pride        60028    718340\n",
              "retona      296076   1280712\n",
              "rio             16   7848348\n",
              "sephia       11844    759688\n",
              "shuma        29608   1596240\n",
              "sorento         36  19960740\n",
              "soul       1440060  11842768\n",
              "sportage        16  15161688\n",
              "venga      1450776   8600964"
            ]
          },
          "metadata": {
            "tags": []
          },
          "execution_count": 85
        }
      ]
    },
    {
      "cell_type": "markdown",
      "metadata": {
        "id": "DonvaoERy4Qw"
      },
      "source": [
        "Leading with the pricing aggregates in the table above, the floor - ceiling pricing is pegged between 296,000 NGN and 20,000,000 NGN."
      ]
    },
    {
      "cell_type": "code",
      "metadata": {
        "id": "wo4vhhJ1yBQc"
      },
      "source": [
        "kia.loc[kia['price_NGN'] < 296000, 'price_NGN'] = np.nan\n",
        "kia.loc[kia['price_NGN'] > 20000000, 'price_NGN'] = np.nan"
      ],
      "execution_count": null,
      "outputs": []
    },
    {
      "cell_type": "code",
      "metadata": {
        "colab": {
          "base_uri": "https://localhost:8080/"
        },
        "id": "85KjjQJqzMZU",
        "outputId": "6f3d8d87-563f-417a-c717-863e1687328d"
      },
      "source": [
        "kia['price_NGN'].describe()"
      ],
      "execution_count": null,
      "outputs": [
        {
          "output_type": "execute_result",
          "data": {
            "text/plain": [
              "count      10512.00\n",
              "mean     4343839.65\n",
              "std      2939977.66\n",
              "min       296076.00\n",
              "25%      1992584.00\n",
              "50%      3839806.00\n",
              "75%      6299199.00\n",
              "max     19960740.00\n",
              "Name: price_NGN, dtype: float64"
            ]
          },
          "metadata": {
            "tags": []
          },
          "execution_count": 87
        }
      ]
    },
    {
      "cell_type": "markdown",
      "metadata": {
        "id": "FVxDoSrlzUva"
      },
      "source": [
        "##### Lamborghini"
      ]
    },
    {
      "cell_type": "code",
      "metadata": {
        "colab": {
          "base_uri": "https://localhost:8080/"
        },
        "id": "wXGKh7qPzMoz",
        "outputId": "16bb81d0-f57e-4dcd-9cfe-0e89e02ab8cf"
      },
      "source": [
        "lamborghini['price_NGN'].describe()"
      ],
      "execution_count": null,
      "outputs": [
        {
          "output_type": "execute_result",
          "data": {
            "text/plain": [
              "count          175.00\n",
              "mean      88947573.42\n",
              "std      302258101.42\n",
              "min       10005552.00\n",
              "25%       32017764.00\n",
              "50%       47547832.00\n",
              "75%       83690600.00\n",
              "max     3992443228.00\n",
              "Name: price_NGN, dtype: float64"
            ]
          },
          "metadata": {
            "tags": []
          },
          "execution_count": 88
        }
      ]
    },
    {
      "cell_type": "code",
      "metadata": {
        "colab": {
          "base_uri": "https://localhost:8080/",
          "height": 164
        },
        "id": "xzT4ZLaFzMlf",
        "outputId": "a0e16b1f-6ace-4448-ec71-8c2216f0b7ea"
      },
      "source": [
        "lamborghini.groupby('model').agg({'price_NGN': ['min', 'max']})"
      ],
      "execution_count": null,
      "outputs": [
        {
          "output_type": "execute_result",
          "data": {
            "text/html": [
              "<div>\n",
              "<style scoped>\n",
              "    .dataframe tbody tr th:only-of-type {\n",
              "        vertical-align: middle;\n",
              "    }\n",
              "\n",
              "    .dataframe tbody tr th {\n",
              "        vertical-align: top;\n",
              "    }\n",
              "\n",
              "    .dataframe thead tr th {\n",
              "        text-align: left;\n",
              "    }\n",
              "\n",
              "    .dataframe thead tr:last-of-type th {\n",
              "        text-align: right;\n",
              "    }\n",
              "</style>\n",
              "<table border=\"1\" class=\"dataframe\">\n",
              "  <thead>\n",
              "    <tr>\n",
              "      <th></th>\n",
              "      <th colspan=\"2\" halign=\"left\">price_NGN</th>\n",
              "    </tr>\n",
              "    <tr>\n",
              "      <th></th>\n",
              "      <th>min</th>\n",
              "      <th>max</th>\n",
              "    </tr>\n",
              "    <tr>\n",
              "      <th>model</th>\n",
              "      <th></th>\n",
              "      <th></th>\n",
              "    </tr>\n",
              "  </thead>\n",
              "  <tbody>\n",
              "    <tr>\n",
              "      <th>aventador</th>\n",
              "      <td>88003256</td>\n",
              "      <td>275661008</td>\n",
              "    </tr>\n",
              "    <tr>\n",
              "      <th>gallardo</th>\n",
              "      <td>22523300</td>\n",
              "      <td>100055516</td>\n",
              "    </tr>\n",
              "  </tbody>\n",
              "</table>\n",
              "</div>"
            ],
            "text/plain": [
              "          price_NGN           \n",
              "                min        max\n",
              "model                         \n",
              "aventador  88003256  275661008\n",
              "gallardo   22523300  100055516"
            ]
          },
          "metadata": {
            "tags": []
          },
          "execution_count": 89
        }
      ]
    },
    {
      "cell_type": "markdown",
      "metadata": {
        "id": "1ZD2WHBnzs4W"
      },
      "source": [
        "Leading with the pricing aggregates in the table above, the floor - ceiling pricing is pegged between 25,000,000 NGN and 280,000,000 NGN."
      ]
    },
    {
      "cell_type": "code",
      "metadata": {
        "id": "8tu0RPyWzMhn"
      },
      "source": [
        "lamborghini.loc[lamborghini['price_NGN'] < 25000000, 'price_NGN'] = np.nan\n",
        "lamborghini.loc[lamborghini['price_NGN'] > 280000000, 'price_NGN'] = np.nan"
      ],
      "execution_count": null,
      "outputs": []
    },
    {
      "cell_type": "code",
      "metadata": {
        "colab": {
          "base_uri": "https://localhost:8080/"
        },
        "id": "ZzA8Bl0izMdx",
        "outputId": "600a7424-8787-42e8-da3f-2598774352c0"
      },
      "source": [
        "lamborghini['price_NGN'].describe()"
      ],
      "execution_count": null,
      "outputs": [
        {
          "output_type": "execute_result",
          "data": {
            "text/plain": [
              "count         167.00\n",
              "mean     63244075.90\n",
              "std      39127351.95\n",
              "min      25807640.00\n",
              "25%      32895788.00\n",
              "50%      48013812.00\n",
              "75%      82603094.00\n",
              "max     275661008.00\n",
              "Name: price_NGN, dtype: float64"
            ]
          },
          "metadata": {
            "tags": []
          },
          "execution_count": 91
        }
      ]
    },
    {
      "cell_type": "markdown",
      "metadata": {
        "id": "KwhjeSGv0LAA"
      },
      "source": [
        "##### Lancia"
      ]
    },
    {
      "cell_type": "code",
      "metadata": {
        "colab": {
          "base_uri": "https://localhost:8080/"
        },
        "id": "tKY5b_TC0MCT",
        "outputId": "ae056af2-7eb9-4b0a-af4c-9f18cdb0f556"
      },
      "source": [
        "lancia['price_NGN'].describe()"
      ],
      "execution_count": null,
      "outputs": [
        {
          "output_type": "execute_result",
          "data": {
            "text/plain": [
              "count       3623.00\n",
              "mean     2947524.60\n",
              "std      1738779.60\n",
              "min           16.00\n",
              "25%      1729436.00\n",
              "50%      3149460.00\n",
              "75%      3739770.00\n",
              "max     15588644.00\n",
              "Name: price_NGN, dtype: float64"
            ]
          },
          "metadata": {
            "tags": []
          },
          "execution_count": 92
        }
      ]
    },
    {
      "cell_type": "code",
      "metadata": {
        "colab": {
          "base_uri": "https://localhost:8080/",
          "height": 370
        },
        "id": "etlQVNrh0MHh",
        "outputId": "43f1807b-b492-4a7b-9fbf-621bd64a52f8"
      },
      "source": [
        "lancia.groupby('model').agg({'price_NGN': ['min', 'max']})"
      ],
      "execution_count": null,
      "outputs": [
        {
          "output_type": "execute_result",
          "data": {
            "text/html": [
              "<div>\n",
              "<style scoped>\n",
              "    .dataframe tbody tr th:only-of-type {\n",
              "        vertical-align: middle;\n",
              "    }\n",
              "\n",
              "    .dataframe tbody tr th {\n",
              "        vertical-align: top;\n",
              "    }\n",
              "\n",
              "    .dataframe thead tr th {\n",
              "        text-align: left;\n",
              "    }\n",
              "\n",
              "    .dataframe thead tr:last-of-type th {\n",
              "        text-align: right;\n",
              "    }\n",
              "</style>\n",
              "<table border=\"1\" class=\"dataframe\">\n",
              "  <thead>\n",
              "    <tr>\n",
              "      <th></th>\n",
              "      <th colspan=\"2\" halign=\"left\">price_NGN</th>\n",
              "    </tr>\n",
              "    <tr>\n",
              "      <th></th>\n",
              "      <th>min</th>\n",
              "      <th>max</th>\n",
              "    </tr>\n",
              "    <tr>\n",
              "      <th>model</th>\n",
              "      <th></th>\n",
              "      <th></th>\n",
              "    </tr>\n",
              "  </thead>\n",
              "  <tbody>\n",
              "    <tr>\n",
              "      <th>delta</th>\n",
              "      <td>14804</td>\n",
              "      <td>7160532</td>\n",
              "    </tr>\n",
              "    <tr>\n",
              "      <th>lybra</th>\n",
              "      <td>148040</td>\n",
              "      <td>1340800</td>\n",
              "    </tr>\n",
              "    <tr>\n",
              "      <th>musa</th>\n",
              "      <td>920520</td>\n",
              "      <td>4722104</td>\n",
              "    </tr>\n",
              "    <tr>\n",
              "      <th>phedra</th>\n",
              "      <td>28128</td>\n",
              "      <td>5001852</td>\n",
              "    </tr>\n",
              "    <tr>\n",
              "      <th>thema</th>\n",
              "      <td>4960372</td>\n",
              "      <td>15588644</td>\n",
              "    </tr>\n",
              "    <tr>\n",
              "      <th>thesis</th>\n",
              "      <td>162844</td>\n",
              "      <td>5001480</td>\n",
              "    </tr>\n",
              "    <tr>\n",
              "      <th>voyager</th>\n",
              "      <td>5597868</td>\n",
              "      <td>14385328</td>\n",
              "    </tr>\n",
              "    <tr>\n",
              "      <th>y</th>\n",
              "      <td>16</td>\n",
              "      <td>11514108</td>\n",
              "    </tr>\n",
              "    <tr>\n",
              "      <th>z</th>\n",
              "      <td>260028</td>\n",
              "      <td>1996300</td>\n",
              "    </tr>\n",
              "  </tbody>\n",
              "</table>\n",
              "</div>"
            ],
            "text/plain": [
              "        price_NGN          \n",
              "              min       max\n",
              "model                      \n",
              "delta       14804   7160532\n",
              "lybra      148040   1340800\n",
              "musa       920520   4722104\n",
              "phedra      28128   5001852\n",
              "thema     4960372  15588644\n",
              "thesis     162844   5001480\n",
              "voyager   5597868  14385328\n",
              "y              16  11514108\n",
              "z          260028   1996300"
            ]
          },
          "metadata": {
            "tags": []
          },
          "execution_count": 93
        }
      ]
    },
    {
      "cell_type": "markdown",
      "metadata": {
        "id": "BqqK7wy30nq-"
      },
      "source": [
        "Leading with the pricing aggregates in the table above, the floor - ceiling pricing is pegged between 170,000 NGN and 16,000,000 NGN."
      ]
    },
    {
      "cell_type": "code",
      "metadata": {
        "id": "HurpoM7T0L-_"
      },
      "source": [
        "lancia.loc[lancia['price_NGN'] < 170000, 'price_NGN'] = np.nan\n",
        "lancia.loc[lancia['price_NGN'] > 16000000, 'price_NGN'] = np.nan"
      ],
      "execution_count": null,
      "outputs": []
    },
    {
      "cell_type": "code",
      "metadata": {
        "colab": {
          "base_uri": "https://localhost:8080/"
        },
        "id": "hDhQaRnS0L8C",
        "outputId": "71a5d9ca-ec82-41d3-db17-6af93b1b3f33"
      },
      "source": [
        "lancia['price_NGN'].describe()"
      ],
      "execution_count": null,
      "outputs": [
        {
          "output_type": "execute_result",
          "data": {
            "text/plain": [
              "count       3601.00\n",
              "mean     2964984.00\n",
              "std      1729624.17\n",
              "min       177632.00\n",
              "25%      1796136.00\n",
              "50%      3149460.00\n",
              "75%      3741392.00\n",
              "max     15588644.00\n",
              "Name: price_NGN, dtype: float64"
            ]
          },
          "metadata": {
            "tags": []
          },
          "execution_count": 95
        }
      ]
    },
    {
      "cell_type": "markdown",
      "metadata": {
        "id": "ckUf94Uo1BaA"
      },
      "source": [
        "##### Maserati"
      ]
    },
    {
      "cell_type": "code",
      "metadata": {
        "colab": {
          "base_uri": "https://localhost:8080/"
        },
        "id": "I-0rRCLO0L4N",
        "outputId": "c18351ea-96ef-4255-a83b-42adadc0a1f0"
      },
      "source": [
        "maserati['price_NGN'].describe()"
      ],
      "execution_count": null,
      "outputs": [
        {
          "output_type": "execute_result",
          "data": {
            "text/plain": [
              "count        587.00\n",
              "mean    21001280.52\n",
              "std     10101736.58\n",
              "min      2400176.00\n",
              "25%     11406336.00\n",
              "50%     21211368.00\n",
              "75%     27199024.00\n",
              "max     57316684.00\n",
              "Name: price_NGN, dtype: float64"
            ]
          },
          "metadata": {
            "tags": []
          },
          "execution_count": 96
        }
      ]
    },
    {
      "cell_type": "code",
      "metadata": {
        "colab": {
          "base_uri": "https://localhost:8080/",
          "height": 282
        },
        "id": "taiAa36F1LiD",
        "outputId": "bd479079-f146-4dc4-cc95-772aaa72f00f"
      },
      "source": [
        "maserati.groupby('model').agg({'price_NGN': ['min', 'max']})"
      ],
      "execution_count": null,
      "outputs": [
        {
          "output_type": "execute_result",
          "data": {
            "text/html": [
              "<div>\n",
              "<style scoped>\n",
              "    .dataframe tbody tr th:only-of-type {\n",
              "        vertical-align: middle;\n",
              "    }\n",
              "\n",
              "    .dataframe tbody tr th {\n",
              "        vertical-align: top;\n",
              "    }\n",
              "\n",
              "    .dataframe thead tr th {\n",
              "        text-align: left;\n",
              "    }\n",
              "\n",
              "    .dataframe thead tr:last-of-type th {\n",
              "        text-align: right;\n",
              "    }\n",
              "</style>\n",
              "<table border=\"1\" class=\"dataframe\">\n",
              "  <thead>\n",
              "    <tr>\n",
              "      <th></th>\n",
              "      <th colspan=\"2\" halign=\"left\">price_NGN</th>\n",
              "    </tr>\n",
              "    <tr>\n",
              "      <th></th>\n",
              "      <th>min</th>\n",
              "      <th>max</th>\n",
              "    </tr>\n",
              "    <tr>\n",
              "      <th>model</th>\n",
              "      <th></th>\n",
              "      <th></th>\n",
              "    </tr>\n",
              "  </thead>\n",
              "  <tbody>\n",
              "    <tr>\n",
              "      <th>3200</th>\n",
              "      <td>5200504</td>\n",
              "      <td>17188260</td>\n",
              "    </tr>\n",
              "    <tr>\n",
              "      <th>coupe</th>\n",
              "      <td>6400948</td>\n",
              "      <td>22002444</td>\n",
              "    </tr>\n",
              "    <tr>\n",
              "      <th>ghibli</th>\n",
              "      <td>6399556</td>\n",
              "      <td>38364264</td>\n",
              "    </tr>\n",
              "    <tr>\n",
              "      <th>grancabrio</th>\n",
              "      <td>23170112</td>\n",
              "      <td>55998076</td>\n",
              "    </tr>\n",
              "    <tr>\n",
              "      <th>granturismo</th>\n",
              "      <td>8763568</td>\n",
              "      <td>57316684</td>\n",
              "    </tr>\n",
              "    <tr>\n",
              "      <th>quattroporte</th>\n",
              "      <td>3001776</td>\n",
              "      <td>55282056</td>\n",
              "    </tr>\n",
              "  </tbody>\n",
              "</table>\n",
              "</div>"
            ],
            "text/plain": [
              "             price_NGN          \n",
              "                   min       max\n",
              "model                           \n",
              "3200           5200504  17188260\n",
              "coupe          6400948  22002444\n",
              "ghibli         6399556  38364264\n",
              "grancabrio    23170112  55998076\n",
              "granturismo    8763568  57316684\n",
              "quattroporte   3001776  55282056"
            ]
          },
          "metadata": {
            "tags": []
          },
          "execution_count": 97
        }
      ]
    },
    {
      "cell_type": "markdown",
      "metadata": {
        "id": "LgofXELN1V7E"
      },
      "source": [
        "Leading with the pricing aggregates in the table above, the floor - ceiling pricing is pegged between 3,000,000 NGN and 56,000,000 NGN."
      ]
    },
    {
      "cell_type": "code",
      "metadata": {
        "id": "yITkSBuY1L1G"
      },
      "source": [
        "maserati.loc[maserati['price_NGN'] < 3000000, 'price_NGN'] = np.nan\n",
        "maserati.loc[maserati['price_NGN'] > 56000000, 'price_NGN'] = np.nan"
      ],
      "execution_count": null,
      "outputs": []
    },
    {
      "cell_type": "code",
      "metadata": {
        "colab": {
          "base_uri": "https://localhost:8080/"
        },
        "id": "Mp2RP0nb1LyT",
        "outputId": "6c860723-aac4-4223-b156-22f751861c94"
      },
      "source": [
        "maserati['price_NGN'].describe()"
      ],
      "execution_count": null,
      "outputs": [
        {
          "output_type": "execute_result",
          "data": {
            "text/plain": [
              "count        584.00\n",
              "mean    20911014.70\n",
              "std      9879530.29\n",
              "min      3001776.00\n",
              "25%     11406336.00\n",
              "50%     21183396.00\n",
              "75%     27198268.00\n",
              "max     55998076.00\n",
              "Name: price_NGN, dtype: float64"
            ]
          },
          "metadata": {
            "tags": []
          },
          "execution_count": 99
        }
      ]
    },
    {
      "cell_type": "markdown",
      "metadata": {
        "id": "rCfiflcY1wml"
      },
      "source": [
        "##### Mazda"
      ]
    },
    {
      "cell_type": "code",
      "metadata": {
        "colab": {
          "base_uri": "https://localhost:8080/"
        },
        "id": "3lPMVQUe1Lvj",
        "outputId": "d2d16554-bae6-434d-fbf3-e14c9662e67f"
      },
      "source": [
        "mazda['price_NGN'].describe()"
      ],
      "execution_count": null,
      "outputs": [
        {
          "output_type": "execute_result",
          "data": {
            "text/plain": [
              "count       10772.00\n",
              "mean      3712344.00\n",
              "std       7228945.36\n",
              "min            16.00\n",
              "25%       1000148.00\n",
              "50%       2353812.00\n",
              "75%       5778505.00\n",
              "max     540299776.00\n",
              "Name: price_NGN, dtype: float64"
            ]
          },
          "metadata": {
            "tags": []
          },
          "execution_count": 100
        }
      ]
    },
    {
      "cell_type": "code",
      "metadata": {
        "colab": {
          "base_uri": "https://localhost:8080/",
          "height": 780
        },
        "id": "O8U2E7R31Lss",
        "outputId": "313c9fef-6184-40e1-c98e-7a2b4bf8712d"
      },
      "source": [
        "mazda.groupby('model').agg({'price_NGN': ['min', 'max']})"
      ],
      "execution_count": null,
      "outputs": [
        {
          "output_type": "execute_result",
          "data": {
            "text/html": [
              "<div>\n",
              "<style scoped>\n",
              "    .dataframe tbody tr th:only-of-type {\n",
              "        vertical-align: middle;\n",
              "    }\n",
              "\n",
              "    .dataframe tbody tr th {\n",
              "        vertical-align: top;\n",
              "    }\n",
              "\n",
              "    .dataframe thead tr th {\n",
              "        text-align: left;\n",
              "    }\n",
              "\n",
              "    .dataframe thead tr:last-of-type th {\n",
              "        text-align: right;\n",
              "    }\n",
              "</style>\n",
              "<table border=\"1\" class=\"dataframe\">\n",
              "  <thead>\n",
              "    <tr>\n",
              "      <th></th>\n",
              "      <th colspan=\"2\" halign=\"left\">price_NGN</th>\n",
              "    </tr>\n",
              "    <tr>\n",
              "      <th></th>\n",
              "      <th>min</th>\n",
              "      <th>max</th>\n",
              "    </tr>\n",
              "    <tr>\n",
              "      <th>model</th>\n",
              "      <th></th>\n",
              "      <th></th>\n",
              "    </tr>\n",
              "  </thead>\n",
              "  <tbody>\n",
              "    <tr>\n",
              "      <th>121</th>\n",
              "      <td>29608</td>\n",
              "      <td>10798388</td>\n",
              "    </tr>\n",
              "    <tr>\n",
              "      <th>2</th>\n",
              "      <td>16</td>\n",
              "      <td>16720948</td>\n",
              "    </tr>\n",
              "    <tr>\n",
              "      <th>3</th>\n",
              "      <td>472</td>\n",
              "      <td>40013768</td>\n",
              "    </tr>\n",
              "    <tr>\n",
              "      <th>323</th>\n",
              "      <td>16</td>\n",
              "      <td>540299776</td>\n",
              "    </tr>\n",
              "    <tr>\n",
              "      <th>5</th>\n",
              "      <td>6660</td>\n",
              "      <td>15204440</td>\n",
              "    </tr>\n",
              "    <tr>\n",
              "      <th>6</th>\n",
              "      <td>88</td>\n",
              "      <td>14045892</td>\n",
              "    </tr>\n",
              "    <tr>\n",
              "      <th>626</th>\n",
              "      <td>1480</td>\n",
              "      <td>1400428</td>\n",
              "    </tr>\n",
              "    <tr>\n",
              "      <th>bt</th>\n",
              "      <td>460252</td>\n",
              "      <td>6396712</td>\n",
              "    </tr>\n",
              "    <tr>\n",
              "      <th>cx</th>\n",
              "      <td>1169504</td>\n",
              "      <td>13562012</td>\n",
              "    </tr>\n",
              "    <tr>\n",
              "      <th>cx-3</th>\n",
              "      <td>5276920</td>\n",
              "      <td>11800444</td>\n",
              "    </tr>\n",
              "    <tr>\n",
              "      <th>cx-5</th>\n",
              "      <td>5200192</td>\n",
              "      <td>17254552</td>\n",
              "    </tr>\n",
              "    <tr>\n",
              "      <th>cx-7</th>\n",
              "      <td>16</td>\n",
              "      <td>9145076</td>\n",
              "    </tr>\n",
              "    <tr>\n",
              "      <th>cx-9</th>\n",
              "      <td>3640268</td>\n",
              "      <td>17024428</td>\n",
              "    </tr>\n",
              "    <tr>\n",
              "      <th>demio</th>\n",
              "      <td>148040</td>\n",
              "      <td>1199380</td>\n",
              "    </tr>\n",
              "    <tr>\n",
              "      <th>mpv</th>\n",
              "      <td>16</td>\n",
              "      <td>5822220</td>\n",
              "    </tr>\n",
              "    <tr>\n",
              "      <th>mx</th>\n",
              "      <td>29548</td>\n",
              "      <td>10280756</td>\n",
              "    </tr>\n",
              "    <tr>\n",
              "      <th>mx-3</th>\n",
              "      <td>99644</td>\n",
              "      <td>47370524</td>\n",
              "    </tr>\n",
              "    <tr>\n",
              "      <th>mx-5</th>\n",
              "      <td>11844</td>\n",
              "      <td>400029608</td>\n",
              "    </tr>\n",
              "    <tr>\n",
              "      <th>mx-6</th>\n",
              "      <td>740324</td>\n",
              "      <td>740324</td>\n",
              "    </tr>\n",
              "    <tr>\n",
              "      <th>premacy</th>\n",
              "      <td>16</td>\n",
              "      <td>2799912</td>\n",
              "    </tr>\n",
              "    <tr>\n",
              "      <th>rx-8</th>\n",
              "      <td>740192</td>\n",
              "      <td>5599112</td>\n",
              "    </tr>\n",
              "    <tr>\n",
              "      <th>tribute</th>\n",
              "      <td>599776</td>\n",
              "      <td>3160356</td>\n",
              "    </tr>\n",
              "    <tr>\n",
              "      <th>xedos</th>\n",
              "      <td>177648</td>\n",
              "      <td>2361316</td>\n",
              "    </tr>\n",
              "  </tbody>\n",
              "</table>\n",
              "</div>"
            ],
            "text/plain": [
              "        price_NGN           \n",
              "              min        max\n",
              "model                       \n",
              "121         29608   10798388\n",
              "2              16   16720948\n",
              "3             472   40013768\n",
              "323            16  540299776\n",
              "5            6660   15204440\n",
              "6              88   14045892\n",
              "626          1480    1400428\n",
              "bt         460252    6396712\n",
              "cx        1169504   13562012\n",
              "cx-3      5276920   11800444\n",
              "cx-5      5200192   17254552\n",
              "cx-7           16    9145076\n",
              "cx-9      3640268   17024428\n",
              "demio      148040    1199380\n",
              "mpv            16    5822220\n",
              "mx          29548   10280756\n",
              "mx-3        99644   47370524\n",
              "mx-5        11844  400029608\n",
              "mx-6       740324     740324\n",
              "premacy        16    2799912\n",
              "rx-8       740192    5599112\n",
              "tribute    599776    3160356\n",
              "xedos      177648    2361316"
            ]
          },
          "metadata": {
            "tags": []
          },
          "execution_count": 101
        }
      ]
    },
    {
      "cell_type": "markdown",
      "metadata": {
        "id": "gmij4PHF2wDD"
      },
      "source": [
        "Leading with the pricing aggregates in the table above, the floor - ceiling pricing is pegged between 500,000 NGN and 20,000,000 NGN."
      ]
    },
    {
      "cell_type": "code",
      "metadata": {
        "id": "iWBFHuoi1LqF"
      },
      "source": [
        "mazda.loc[mazda['price_NGN'] < 500000, 'price_NGN'] = np.nan\n",
        "mazda.loc[mazda['price_NGN'] > 20000000, 'price_NGN'] = np.nan"
      ],
      "execution_count": null,
      "outputs": []
    },
    {
      "cell_type": "code",
      "metadata": {
        "colab": {
          "base_uri": "https://localhost:8080/"
        },
        "id": "9t-hLBHS1LnH",
        "outputId": "d068c61e-abcc-47f4-dca3-a82d9153ec26"
      },
      "source": [
        "mazda['price_NGN'].describe()"
      ],
      "execution_count": null,
      "outputs": [
        {
          "output_type": "execute_result",
          "data": {
            "text/plain": [
              "count       9547.00\n",
              "mean     4037964.39\n",
              "std      3206167.77\n",
              "min       500044.00\n",
              "25%      1360096.00\n",
              "50%      2799140.00\n",
              "75%      6300472.00\n",
              "max     17254552.00\n",
              "Name: price_NGN, dtype: float64"
            ]
          },
          "metadata": {
            "tags": []
          },
          "execution_count": 103
        }
      ]
    },
    {
      "cell_type": "markdown",
      "metadata": {
        "id": "oTAGSl1W3QOg"
      },
      "source": [
        "##### Mercedes-Benz"
      ]
    },
    {
      "cell_type": "code",
      "metadata": {
        "colab": {
          "base_uri": "https://localhost:8080/"
        },
        "id": "KpXBOawE3JzD",
        "outputId": "d75d427b-9015-481a-e0ea-36ae12fd8af8"
      },
      "source": [
        "mercedes['price_NGN'].describe()"
      ],
      "execution_count": null,
      "outputs": [
        {
          "output_type": "execute_result",
          "data": {
            "text/plain": [
              "count        78624.00\n",
              "mean       7945477.07\n",
              "std       23520039.91\n",
              "min             16.00\n",
              "25%        2800828.00\n",
              "50%        6679792.00\n",
              "75%       10381156.00\n",
              "max     4400325684.00\n",
              "Name: price_NGN, dtype: float64"
            ]
          },
          "metadata": {
            "tags": []
          },
          "execution_count": 104
        }
      ]
    },
    {
      "cell_type": "code",
      "metadata": {
        "colab": {
          "base_uri": "https://localhost:8080/",
          "height": 370
        },
        "id": "XKOU8jgR3J6e",
        "outputId": "353274d5-925e-4f63-ac62-1213a4299959"
      },
      "source": [
        "mercedes.groupby('model').agg({'price_NGN': ['min', 'max']})"
      ],
      "execution_count": null,
      "outputs": [
        {
          "output_type": "execute_result",
          "data": {
            "text/html": [
              "<div>\n",
              "<style scoped>\n",
              "    .dataframe tbody tr th:only-of-type {\n",
              "        vertical-align: middle;\n",
              "    }\n",
              "\n",
              "    .dataframe tbody tr th {\n",
              "        vertical-align: top;\n",
              "    }\n",
              "\n",
              "    .dataframe thead tr th {\n",
              "        text-align: left;\n",
              "    }\n",
              "\n",
              "    .dataframe thead tr:last-of-type th {\n",
              "        text-align: right;\n",
              "    }\n",
              "</style>\n",
              "<table border=\"1\" class=\"dataframe\">\n",
              "  <thead>\n",
              "    <tr>\n",
              "      <th></th>\n",
              "      <th colspan=\"2\" halign=\"left\">price_NGN</th>\n",
              "    </tr>\n",
              "    <tr>\n",
              "      <th></th>\n",
              "      <th>min</th>\n",
              "      <th>max</th>\n",
              "    </tr>\n",
              "    <tr>\n",
              "      <th>model</th>\n",
              "      <th></th>\n",
              "      <th></th>\n",
              "    </tr>\n",
              "  </thead>\n",
              "  <tbody>\n",
              "    <tr>\n",
              "      <th>115</th>\n",
              "      <td>1160088</td>\n",
              "      <td>41966216</td>\n",
              "    </tr>\n",
              "    <tr>\n",
              "      <th>116</th>\n",
              "      <td>560044</td>\n",
              "      <td>15610124</td>\n",
              "    </tr>\n",
              "    <tr>\n",
              "      <th>123</th>\n",
              "      <td>480148</td>\n",
              "      <td>6196460</td>\n",
              "    </tr>\n",
              "    <tr>\n",
              "      <th>124</th>\n",
              "      <td>359628</td>\n",
              "      <td>9650320</td>\n",
              "    </tr>\n",
              "    <tr>\n",
              "      <th>126</th>\n",
              "      <td>799720</td>\n",
              "      <td>12404116</td>\n",
              "    </tr>\n",
              "    <tr>\n",
              "      <th>140</th>\n",
              "      <td>16</td>\n",
              "      <td>23963552</td>\n",
              "    </tr>\n",
              "    <tr>\n",
              "      <th>190</th>\n",
              "      <td>200076</td>\n",
              "      <td>53402708</td>\n",
              "    </tr>\n",
              "    <tr>\n",
              "      <th>viano</th>\n",
              "      <td>10364</td>\n",
              "      <td>55824780</td>\n",
              "    </tr>\n",
              "    <tr>\n",
              "      <th>vito</th>\n",
              "      <td>16</td>\n",
              "      <td>63602352</td>\n",
              "    </tr>\n",
              "  </tbody>\n",
              "</table>\n",
              "</div>"
            ],
            "text/plain": [
              "      price_NGN          \n",
              "            min       max\n",
              "model                    \n",
              "115     1160088  41966216\n",
              "116      560044  15610124\n",
              "123      480148   6196460\n",
              "124      359628   9650320\n",
              "126      799720  12404116\n",
              "140          16  23963552\n",
              "190      200076  53402708\n",
              "viano     10364  55824780\n",
              "vito         16  63602352"
            ]
          },
          "metadata": {
            "tags": []
          },
          "execution_count": 105
        }
      ]
    },
    {
      "cell_type": "markdown",
      "metadata": {
        "id": "CyCgFYkH3oeN"
      },
      "source": [
        "Leading with the pricing aggregates in the table above, the floor - ceiling pricing is pegged between 200,000 NGN and 56,000,000 NGN."
      ]
    },
    {
      "cell_type": "code",
      "metadata": {
        "id": "yXkyglri3J3m"
      },
      "source": [
        "mercedes.loc[mercedes['price_NGN'] < 200000, 'price_NGN'] = np.nan\n",
        "mercedes.loc[mercedes['price_NGN'] > 56000000, 'price_NGN'] = np.nan"
      ],
      "execution_count": null,
      "outputs": []
    },
    {
      "cell_type": "code",
      "metadata": {
        "colab": {
          "base_uri": "https://localhost:8080/"
        },
        "id": "Zlfe3_ct3Jvl",
        "outputId": "84669558-2544-42cf-81c6-629f064f9a5a"
      },
      "source": [
        "mercedes['price_NGN'].describe()"
      ],
      "execution_count": null,
      "outputs": [
        {
          "output_type": "execute_result",
          "data": {
            "text/plain": [
              "count      78261.00\n",
              "mean     7578809.87\n",
              "std      6291927.64\n",
              "min       200016.00\n",
              "25%      2801036.00\n",
              "50%      6665848.00\n",
              "75%     10361156.00\n",
              "max     55936284.00\n",
              "Name: price_NGN, dtype: float64"
            ]
          },
          "metadata": {
            "tags": []
          },
          "execution_count": 107
        }
      ]
    },
    {
      "cell_type": "markdown",
      "metadata": {
        "id": "Exon9Q2V4AqT"
      },
      "source": [
        "##### Mini"
      ]
    },
    {
      "cell_type": "code",
      "metadata": {
        "colab": {
          "base_uri": "https://localhost:8080/"
        },
        "id": "oBd11_Rj3JsM",
        "outputId": "03a51a92-0511-4aa3-dd0a-892c24bd8aa6"
      },
      "source": [
        "mini['price_NGN'].describe()"
      ],
      "execution_count": null,
      "outputs": [
        {
          "output_type": "execute_result",
          "data": {
            "text/plain": [
              "count      10732.00\n",
              "mean     6008908.90\n",
              "std      2774425.12\n",
              "min        28128.00\n",
              "25%      3796416.00\n",
              "50%      5982434.00\n",
              "75%      7661108.00\n",
              "max     18367476.00\n",
              "Name: price_NGN, dtype: float64"
            ]
          },
          "metadata": {
            "tags": []
          },
          "execution_count": 108
        }
      ]
    },
    {
      "cell_type": "code",
      "metadata": {
        "colab": {
          "base_uri": "https://localhost:8080/",
          "height": 252
        },
        "id": "YcsiI8UE3JoN",
        "outputId": "1f82f550-824d-4f39-e3d2-05a1119bd478"
      },
      "source": [
        "mini.groupby('model').agg({'price_NGN': ['min', 'max']})"
      ],
      "execution_count": null,
      "outputs": [
        {
          "output_type": "execute_result",
          "data": {
            "text/html": [
              "<div>\n",
              "<style scoped>\n",
              "    .dataframe tbody tr th:only-of-type {\n",
              "        vertical-align: middle;\n",
              "    }\n",
              "\n",
              "    .dataframe tbody tr th {\n",
              "        vertical-align: top;\n",
              "    }\n",
              "\n",
              "    .dataframe thead tr th {\n",
              "        text-align: left;\n",
              "    }\n",
              "\n",
              "    .dataframe thead tr:last-of-type th {\n",
              "        text-align: right;\n",
              "    }\n",
              "</style>\n",
              "<table border=\"1\" class=\"dataframe\">\n",
              "  <thead>\n",
              "    <tr>\n",
              "      <th></th>\n",
              "      <th colspan=\"2\" halign=\"left\">price_NGN</th>\n",
              "    </tr>\n",
              "    <tr>\n",
              "      <th></th>\n",
              "      <th>min</th>\n",
              "      <th>max</th>\n",
              "    </tr>\n",
              "    <tr>\n",
              "      <th>model</th>\n",
              "      <th></th>\n",
              "      <th></th>\n",
              "    </tr>\n",
              "  </thead>\n",
              "  <tbody>\n",
              "    <tr>\n",
              "      <th>clubman</th>\n",
              "      <td>1000564</td>\n",
              "      <td>15562308</td>\n",
              "    </tr>\n",
              "    <tr>\n",
              "      <th>cooper</th>\n",
              "      <td>28128</td>\n",
              "      <td>17169532</td>\n",
              "    </tr>\n",
              "    <tr>\n",
              "      <th>cooper-s</th>\n",
              "      <td>135620</td>\n",
              "      <td>18367476</td>\n",
              "    </tr>\n",
              "    <tr>\n",
              "      <th>countryman</th>\n",
              "      <td>6365656</td>\n",
              "      <td>10732792</td>\n",
              "    </tr>\n",
              "    <tr>\n",
              "      <th>one</th>\n",
              "      <td>400148</td>\n",
              "      <td>10000740</td>\n",
              "    </tr>\n",
              "  </tbody>\n",
              "</table>\n",
              "</div>"
            ],
            "text/plain": [
              "           price_NGN          \n",
              "                 min       max\n",
              "model                         \n",
              "clubman      1000564  15562308\n",
              "cooper         28128  17169532\n",
              "cooper-s      135620  18367476\n",
              "countryman   6365656  10732792\n",
              "one           400148  10000740"
            ]
          },
          "metadata": {
            "tags": []
          },
          "execution_count": 109
        }
      ]
    },
    {
      "cell_type": "markdown",
      "metadata": {
        "id": "eTiMBTE74kMw"
      },
      "source": [
        "Leading with the pricing aggregates in the table above, the floor - ceiling pricing is pegged between 135,000 NGN and 19,000,000 NGN."
      ]
    },
    {
      "cell_type": "code",
      "metadata": {
        "id": "9CAXGoVN4TzN"
      },
      "source": [
        "mini.loc[mini['price_NGN'] < 135000, 'price_NGN'] = np.nan\n",
        "mini.loc[mini['price_NGN'] > 19000000, 'price_NGN'] = np.nan"
      ],
      "execution_count": null,
      "outputs": []
    },
    {
      "cell_type": "code",
      "metadata": {
        "colab": {
          "base_uri": "https://localhost:8080/"
        },
        "id": "mUul7var4Uu1",
        "outputId": "e5b454f4-2df1-4e3e-f649-c6afe8a88b14"
      },
      "source": [
        "mini['price_NGN'].describe()"
      ],
      "execution_count": null,
      "outputs": [
        {
          "output_type": "execute_result",
          "data": {
            "text/plain": [
              "count      10727.00\n",
              "mean     6011689.09\n",
              "std      2772080.58\n",
              "min       135620.00\n",
              "25%      3796846.00\n",
              "50%      5985816.00\n",
              "75%      7662102.00\n",
              "max     18367476.00\n",
              "Name: price_NGN, dtype: float64"
            ]
          },
          "metadata": {
            "tags": []
          },
          "execution_count": 111
        }
      ]
    },
    {
      "cell_type": "markdown",
      "metadata": {
        "id": "3uJAK3g84-VI"
      },
      "source": [
        "##### Mitsubishi"
      ]
    },
    {
      "cell_type": "code",
      "metadata": {
        "colab": {
          "base_uri": "https://localhost:8080/"
        },
        "id": "DoT4j97M4Uld",
        "outputId": "6de27e49-b9cf-4328-a45a-d7b3e967890c"
      },
      "source": [
        "mitsubishi['price_NGN'].describe()"
      ],
      "execution_count": null,
      "outputs": [
        {
          "output_type": "execute_result",
          "data": {
            "text/plain": [
              "count          7096.00\n",
              "mean       27273190.64\n",
              "std      1381701481.03\n",
              "min              16.00\n",
              "25%         1021464.00\n",
              "50%         2908676.00\n",
              "75%         6551680.00\n",
              "max     82310297260.00\n",
              "Name: price_NGN, dtype: float64"
            ]
          },
          "metadata": {
            "tags": []
          },
          "execution_count": 112
        }
      ]
    },
    {
      "cell_type": "code",
      "metadata": {
        "colab": {
          "base_uri": "https://localhost:8080/",
          "height": 575
        },
        "id": "ggWviWND4UdA",
        "outputId": "46e4237d-0919-481b-cc85-9e4a51e58c7f"
      },
      "source": [
        "mitsubishi.groupby('model').agg({'price_NGN': ['min', 'max']})"
      ],
      "execution_count": null,
      "outputs": [
        {
          "output_type": "execute_result",
          "data": {
            "text/html": [
              "<div>\n",
              "<style scoped>\n",
              "    .dataframe tbody tr th:only-of-type {\n",
              "        vertical-align: middle;\n",
              "    }\n",
              "\n",
              "    .dataframe tbody tr th {\n",
              "        vertical-align: top;\n",
              "    }\n",
              "\n",
              "    .dataframe thead tr th {\n",
              "        text-align: left;\n",
              "    }\n",
              "\n",
              "    .dataframe thead tr:last-of-type th {\n",
              "        text-align: right;\n",
              "    }\n",
              "</style>\n",
              "<table border=\"1\" class=\"dataframe\">\n",
              "  <thead>\n",
              "    <tr>\n",
              "      <th></th>\n",
              "      <th colspan=\"2\" halign=\"left\">price_NGN</th>\n",
              "    </tr>\n",
              "    <tr>\n",
              "      <th></th>\n",
              "      <th>min</th>\n",
              "      <th>max</th>\n",
              "    </tr>\n",
              "    <tr>\n",
              "      <th>model</th>\n",
              "      <th></th>\n",
              "      <th></th>\n",
              "    </tr>\n",
              "  </thead>\n",
              "  <tbody>\n",
              "    <tr>\n",
              "      <th>3000-gt</th>\n",
              "      <td>1200088</td>\n",
              "      <td>7964708</td>\n",
              "    </tr>\n",
              "    <tr>\n",
              "      <th>asx</th>\n",
              "      <td>4872</td>\n",
              "      <td>10795188</td>\n",
              "    </tr>\n",
              "    <tr>\n",
              "      <th>colt</th>\n",
              "      <td>1480</td>\n",
              "      <td>49386056</td>\n",
              "    </tr>\n",
              "    <tr>\n",
              "      <th>eclipse</th>\n",
              "      <td>400148</td>\n",
              "      <td>6682472</td>\n",
              "    </tr>\n",
              "    <tr>\n",
              "      <th>galant</th>\n",
              "      <td>7400</td>\n",
              "      <td>3040904</td>\n",
              "    </tr>\n",
              "    <tr>\n",
              "      <th>grandis</th>\n",
              "      <td>840088</td>\n",
              "      <td>5192776</td>\n",
              "    </tr>\n",
              "    <tr>\n",
              "      <th>l200</th>\n",
              "      <td>2220</td>\n",
              "      <td>13323464</td>\n",
              "    </tr>\n",
              "    <tr>\n",
              "      <th>lancer</th>\n",
              "      <td>1480</td>\n",
              "      <td>82310297260</td>\n",
              "    </tr>\n",
              "    <tr>\n",
              "      <th>outlander</th>\n",
              "      <td>32</td>\n",
              "      <td>17044632</td>\n",
              "    </tr>\n",
              "    <tr>\n",
              "      <th>pajero</th>\n",
              "      <td>52</td>\n",
              "      <td>400146440</td>\n",
              "    </tr>\n",
              "    <tr>\n",
              "      <th>pajero-pinin</th>\n",
              "      <td>460224</td>\n",
              "      <td>3580400</td>\n",
              "    </tr>\n",
              "    <tr>\n",
              "      <th>pajero-sport</th>\n",
              "      <td>29608</td>\n",
              "      <td>4196624</td>\n",
              "    </tr>\n",
              "    <tr>\n",
              "      <th>sigma</th>\n",
              "      <td>3561984</td>\n",
              "      <td>3561984</td>\n",
              "    </tr>\n",
              "    <tr>\n",
              "      <th>space</th>\n",
              "      <td>20</td>\n",
              "      <td>5880428</td>\n",
              "    </tr>\n",
              "    <tr>\n",
              "      <th>space-star</th>\n",
              "      <td>74020</td>\n",
              "      <td>1176076</td>\n",
              "    </tr>\n",
              "    <tr>\n",
              "      <th>spacewagon</th>\n",
              "      <td>873428</td>\n",
              "      <td>873428</td>\n",
              "    </tr>\n",
              "  </tbody>\n",
              "</table>\n",
              "</div>"
            ],
            "text/plain": [
              "             price_NGN             \n",
              "                   min          max\n",
              "model                              \n",
              "3000-gt        1200088      7964708\n",
              "asx               4872     10795188\n",
              "colt              1480     49386056\n",
              "eclipse         400148      6682472\n",
              "galant            7400      3040904\n",
              "grandis         840088      5192776\n",
              "l200              2220     13323464\n",
              "lancer            1480  82310297260\n",
              "outlander           32     17044632\n",
              "pajero              52    400146440\n",
              "pajero-pinin    460224      3580400\n",
              "pajero-sport     29608      4196624\n",
              "sigma          3561984      3561984\n",
              "space               20      5880428\n",
              "space-star       74020      1176076\n",
              "spacewagon      873428       873428"
            ]
          },
          "metadata": {
            "tags": []
          },
          "execution_count": 113
        }
      ]
    },
    {
      "cell_type": "markdown",
      "metadata": {
        "id": "LVeB-f-u5d_Q"
      },
      "source": [
        "Leading with the pricing aggregates in the table above, the floor - ceiling pricing is pegged between 400,000 NGN and 50,000,000 NGN."
      ]
    },
    {
      "cell_type": "code",
      "metadata": {
        "id": "UIQYDeE64UTs"
      },
      "source": [
        "mitsubishi.loc[mitsubishi['price_NGN'] < 400000, 'price_NGN'] = np.nan\n",
        "mitsubishi.loc[mitsubishi['price_NGN'] > 50000000, 'price_NGN'] = np.nan"
      ],
      "execution_count": null,
      "outputs": []
    },
    {
      "cell_type": "code",
      "metadata": {
        "colab": {
          "base_uri": "https://localhost:8080/"
        },
        "id": "xsj-g37H5vh8",
        "outputId": "05bb19f8-8289-4f7a-a6f6-c7f78b091be0"
      },
      "source": [
        "mitsubishi['price_NGN'].describe()"
      ],
      "execution_count": null,
      "outputs": [
        {
          "output_type": "execute_result",
          "data": {
            "text/plain": [
              "count       6438.00\n",
              "mean     4401751.19\n",
              "std      3536335.57\n",
              "min       400016.00\n",
              "25%      1427381.00\n",
              "50%      3247196.00\n",
              "75%      7121270.00\n",
              "max     49386056.00\n",
              "Name: price_NGN, dtype: float64"
            ]
          },
          "metadata": {
            "tags": []
          },
          "execution_count": 115
        }
      ]
    },
    {
      "cell_type": "markdown",
      "metadata": {
        "id": "w-BkR1UX6BLC"
      },
      "source": [
        "##### Nissan"
      ]
    },
    {
      "cell_type": "code",
      "metadata": {
        "colab": {
          "base_uri": "https://localhost:8080/"
        },
        "id": "AfwLWv6I5vu3",
        "outputId": "829178bd-1dcc-481b-ee32-34725414f3f2"
      },
      "source": [
        "nissan['price_NGN'].describe()"
      ],
      "execution_count": null,
      "outputs": [
        {
          "output_type": "execute_result",
          "data": {
            "text/plain": [
              "count      16493.00\n",
              "mean     4662241.39\n",
              "std      3269849.91\n",
              "min           16.00\n",
              "25%      1796268.00\n",
              "50%      4624456.00\n",
              "75%      6641508.00\n",
              "max     59608824.00\n",
              "Name: price_NGN, dtype: float64"
            ]
          },
          "metadata": {
            "tags": []
          },
          "execution_count": 116
        }
      ]
    },
    {
      "cell_type": "code",
      "metadata": {
        "colab": {
          "base_uri": "https://localhost:8080/",
          "height": 1000
        },
        "id": "DxjIZy5l5vsG",
        "outputId": "a0f75f45-0a07-4888-e9d7-110cfdb59a1d"
      },
      "source": [
        "nissan.groupby('model').agg({'price_NGN': ['min', 'max']})"
      ],
      "execution_count": null,
      "outputs": [
        {
          "output_type": "execute_result",
          "data": {
            "text/html": [
              "<div>\n",
              "<style scoped>\n",
              "    .dataframe tbody tr th:only-of-type {\n",
              "        vertical-align: middle;\n",
              "    }\n",
              "\n",
              "    .dataframe tbody tr th {\n",
              "        vertical-align: top;\n",
              "    }\n",
              "\n",
              "    .dataframe thead tr th {\n",
              "        text-align: left;\n",
              "    }\n",
              "\n",
              "    .dataframe thead tr:last-of-type th {\n",
              "        text-align: right;\n",
              "    }\n",
              "</style>\n",
              "<table border=\"1\" class=\"dataframe\">\n",
              "  <thead>\n",
              "    <tr>\n",
              "      <th></th>\n",
              "      <th colspan=\"2\" halign=\"left\">price_NGN</th>\n",
              "    </tr>\n",
              "    <tr>\n",
              "      <th></th>\n",
              "      <th>min</th>\n",
              "      <th>max</th>\n",
              "    </tr>\n",
              "    <tr>\n",
              "      <th>model</th>\n",
              "      <th></th>\n",
              "      <th></th>\n",
              "    </tr>\n",
              "  </thead>\n",
              "  <tbody>\n",
              "    <tr>\n",
              "      <th>200-sx</th>\n",
              "      <td>2601452</td>\n",
              "      <td>5300784</td>\n",
              "    </tr>\n",
              "    <tr>\n",
              "      <th>350-z</th>\n",
              "      <td>2664692</td>\n",
              "      <td>13201464</td>\n",
              "    </tr>\n",
              "    <tr>\n",
              "      <th>370-z</th>\n",
              "      <td>6600088</td>\n",
              "      <td>15405700</td>\n",
              "    </tr>\n",
              "    <tr>\n",
              "      <th>almera</th>\n",
              "      <td>16</td>\n",
              "      <td>4001924</td>\n",
              "    </tr>\n",
              "    <tr>\n",
              "      <th>almera-tino</th>\n",
              "      <td>32</td>\n",
              "      <td>2796108</td>\n",
              "    </tr>\n",
              "    <tr>\n",
              "      <th>altima</th>\n",
              "      <td>799408</td>\n",
              "      <td>799408</td>\n",
              "    </tr>\n",
              "    <tr>\n",
              "      <th>armada</th>\n",
              "      <td>4628748</td>\n",
              "      <td>8000784</td>\n",
              "    </tr>\n",
              "    <tr>\n",
              "      <th>cube</th>\n",
              "      <td>2595440</td>\n",
              "      <td>3960148</td>\n",
              "    </tr>\n",
              "    <tr>\n",
              "      <th>double-cab</th>\n",
              "      <td>29532</td>\n",
              "      <td>13561508</td>\n",
              "    </tr>\n",
              "    <tr>\n",
              "      <th>evalia</th>\n",
              "      <td>2680800</td>\n",
              "      <td>10760784</td>\n",
              "    </tr>\n",
              "    <tr>\n",
              "      <th>frontier</th>\n",
              "      <td>16</td>\n",
              "      <td>1465580</td>\n",
              "    </tr>\n",
              "    <tr>\n",
              "      <th>gt-r</th>\n",
              "      <td>7983540</td>\n",
              "      <td>59608824</td>\n",
              "    </tr>\n",
              "    <tr>\n",
              "      <th>juke</th>\n",
              "      <td>1960800</td>\n",
              "      <td>11023628</td>\n",
              "    </tr>\n",
              "    <tr>\n",
              "      <th>king-cab</th>\n",
              "      <td>479616</td>\n",
              "      <td>13378992</td>\n",
              "    </tr>\n",
              "    <tr>\n",
              "      <th>leaf</th>\n",
              "      <td>5540016</td>\n",
              "      <td>12801896</td>\n",
              "    </tr>\n",
              "    <tr>\n",
              "      <th>maxima</th>\n",
              "      <td>356032</td>\n",
              "      <td>2300860</td>\n",
              "    </tr>\n",
              "    <tr>\n",
              "      <th>micra</th>\n",
              "      <td>16</td>\n",
              "      <td>5396804</td>\n",
              "    </tr>\n",
              "    <tr>\n",
              "      <th>murano</th>\n",
              "      <td>1302740</td>\n",
              "      <td>17453736</td>\n",
              "    </tr>\n",
              "    <tr>\n",
              "      <th>navara</th>\n",
              "      <td>36</td>\n",
              "      <td>14924856</td>\n",
              "    </tr>\n",
              "    <tr>\n",
              "      <th>note</th>\n",
              "      <td>760028</td>\n",
              "      <td>6798016</td>\n",
              "    </tr>\n",
              "    <tr>\n",
              "      <th>nv200</th>\n",
              "      <td>29608</td>\n",
              "      <td>10083788</td>\n",
              "    </tr>\n",
              "    <tr>\n",
              "      <th>pathfinder</th>\n",
              "      <td>756</td>\n",
              "      <td>17166352</td>\n",
              "    </tr>\n",
              "    <tr>\n",
              "      <th>patrol</th>\n",
              "      <td>64</td>\n",
              "      <td>28004144</td>\n",
              "    </tr>\n",
              "    <tr>\n",
              "      <th>primera</th>\n",
              "      <td>16</td>\n",
              "      <td>5200576</td>\n",
              "    </tr>\n",
              "    <tr>\n",
              "      <th>pulsar</th>\n",
              "      <td>4501464</td>\n",
              "      <td>9196684</td>\n",
              "    </tr>\n",
              "    <tr>\n",
              "      <th>qashqai</th>\n",
              "      <td>340</td>\n",
              "      <td>12397840</td>\n",
              "    </tr>\n",
              "    <tr>\n",
              "      <th>serena</th>\n",
              "      <td>320088</td>\n",
              "      <td>1959496</td>\n",
              "    </tr>\n",
              "    <tr>\n",
              "      <th>sunny</th>\n",
              "      <td>16</td>\n",
              "      <td>1140164</td>\n",
              "    </tr>\n",
              "    <tr>\n",
              "      <th>terrano</th>\n",
              "      <td>14804</td>\n",
              "      <td>4361452</td>\n",
              "    </tr>\n",
              "    <tr>\n",
              "      <th>terrano-ii</th>\n",
              "      <td>29580</td>\n",
              "      <td>4001184</td>\n",
              "    </tr>\n",
              "    <tr>\n",
              "      <th>tiida</th>\n",
              "      <td>1320148</td>\n",
              "      <td>3989180</td>\n",
              "    </tr>\n",
              "    <tr>\n",
              "      <th>titan</th>\n",
              "      <td>5600428</td>\n",
              "      <td>8002560</td>\n",
              "    </tr>\n",
              "    <tr>\n",
              "      <th>x-trail</th>\n",
              "      <td>3228</td>\n",
              "      <td>14286336</td>\n",
              "    </tr>\n",
              "  </tbody>\n",
              "</table>\n",
              "</div>"
            ],
            "text/plain": [
              "            price_NGN          \n",
              "                  min       max\n",
              "model                          \n",
              "200-sx        2601452   5300784\n",
              "350-z         2664692  13201464\n",
              "370-z         6600088  15405700\n",
              "almera             16   4001924\n",
              "almera-tino        32   2796108\n",
              "altima         799408    799408\n",
              "armada        4628748   8000784\n",
              "cube          2595440   3960148\n",
              "double-cab      29532  13561508\n",
              "evalia        2680800  10760784\n",
              "frontier           16   1465580\n",
              "gt-r          7983540  59608824\n",
              "juke          1960800  11023628\n",
              "king-cab       479616  13378992\n",
              "leaf          5540016  12801896\n",
              "maxima         356032   2300860\n",
              "micra              16   5396804\n",
              "murano        1302740  17453736\n",
              "navara             36  14924856\n",
              "note           760028   6798016\n",
              "nv200           29608  10083788\n",
              "pathfinder        756  17166352\n",
              "patrol             64  28004144\n",
              "primera            16   5200576\n",
              "pulsar        4501464   9196684\n",
              "qashqai           340  12397840\n",
              "serena         320088   1959496\n",
              "sunny              16   1140164\n",
              "terrano         14804   4361452\n",
              "terrano-ii      29580   4001184\n",
              "tiida         1320148   3989180\n",
              "titan         5600428   8002560\n",
              "x-trail          3228  14286336"
            ]
          },
          "metadata": {
            "tags": []
          },
          "execution_count": 117
        }
      ]
    },
    {
      "cell_type": "markdown",
      "metadata": {
        "id": "k0sQ0ahg6c6g"
      },
      "source": [
        "Leading with the pricing aggregates in the table above, the floor - ceiling pricing is pegged between 300,000 NGN and 60,000,000 NGN."
      ]
    },
    {
      "cell_type": "code",
      "metadata": {
        "id": "8zEhQA205vo3"
      },
      "source": [
        "nissan.loc[nissan['price_NGN'] < 300000, 'price_NGN'] = np.nan\n",
        "nissan.loc[nissan['price_NGN'] > 60000000, 'price_NGN'] = np.nan"
      ],
      "execution_count": null,
      "outputs": []
    },
    {
      "cell_type": "code",
      "metadata": {
        "colab": {
          "base_uri": "https://localhost:8080/"
        },
        "id": "2MDMQOv75vey",
        "outputId": "1c2c09ec-069f-410d-902b-5302a88eb3cb"
      },
      "source": [
        "nissan['price_NGN'].describe()"
      ],
      "execution_count": null,
      "outputs": [
        {
          "output_type": "execute_result",
          "data": {
            "text/plain": [
              "count      16005.00\n",
              "mean     4798771.80\n",
              "std      3222985.58\n",
              "min       300016.00\n",
              "25%      1999896.00\n",
              "50%      4760712.00\n",
              "75%      6716492.00\n",
              "max     59608824.00\n",
              "Name: price_NGN, dtype: float64"
            ]
          },
          "metadata": {
            "tags": []
          },
          "execution_count": 119
        }
      ]
    },
    {
      "cell_type": "markdown",
      "metadata": {
        "id": "r4UpK2Bf64W2"
      },
      "source": [
        "##### Opel"
      ]
    },
    {
      "cell_type": "code",
      "metadata": {
        "colab": {
          "base_uri": "https://localhost:8080/"
        },
        "id": "i4b7fpvu5vbY",
        "outputId": "bdb65f90-7ff2-4b71-c61b-1b8a9f91d81b"
      },
      "source": [
        "opel['price_NGN'].describe()"
      ],
      "execution_count": null,
      "outputs": [
        {
          "output_type": "execute_result",
          "data": {
            "text/plain": [
              "count        65464.00\n",
              "mean       3256492.12\n",
              "std       12127377.56\n",
              "min             16.00\n",
              "25%         940132.00\n",
              "50%        2596772.00\n",
              "75%        4871116.00\n",
              "max     2971430096.00\n",
              "Name: price_NGN, dtype: float64"
            ]
          },
          "metadata": {
            "tags": []
          },
          "execution_count": 120
        }
      ]
    },
    {
      "cell_type": "code",
      "metadata": {
        "colab": {
          "base_uri": "https://localhost:8080/",
          "height": 751
        },
        "id": "B7800DLv5vYT",
        "outputId": "44345984-0b47-4f43-c029-3031874bd693"
      },
      "source": [
        "opel.groupby('model').agg({'price_NGN': ['min', 'max']})"
      ],
      "execution_count": null,
      "outputs": [
        {
          "output_type": "execute_result",
          "data": {
            "text/html": [
              "<div>\n",
              "<style scoped>\n",
              "    .dataframe tbody tr th:only-of-type {\n",
              "        vertical-align: middle;\n",
              "    }\n",
              "\n",
              "    .dataframe tbody tr th {\n",
              "        vertical-align: top;\n",
              "    }\n",
              "\n",
              "    .dataframe thead tr th {\n",
              "        text-align: left;\n",
              "    }\n",
              "\n",
              "    .dataframe thead tr:last-of-type th {\n",
              "        text-align: right;\n",
              "    }\n",
              "</style>\n",
              "<table border=\"1\" class=\"dataframe\">\n",
              "  <thead>\n",
              "    <tr>\n",
              "      <th></th>\n",
              "      <th colspan=\"2\" halign=\"left\">price_NGN</th>\n",
              "    </tr>\n",
              "    <tr>\n",
              "      <th></th>\n",
              "      <th>min</th>\n",
              "      <th>max</th>\n",
              "    </tr>\n",
              "    <tr>\n",
              "      <th>model</th>\n",
              "      <th></th>\n",
              "      <th></th>\n",
              "    </tr>\n",
              "  </thead>\n",
              "  <tbody>\n",
              "    <tr>\n",
              "      <th>adam</th>\n",
              "      <td>16</td>\n",
              "      <td>8719868</td>\n",
              "    </tr>\n",
              "    <tr>\n",
              "      <th>agila</th>\n",
              "      <td>29624</td>\n",
              "      <td>6201836</td>\n",
              "    </tr>\n",
              "    <tr>\n",
              "      <th>ampera</th>\n",
              "      <td>4133932</td>\n",
              "      <td>14458148</td>\n",
              "    </tr>\n",
              "    <tr>\n",
              "      <th>antara</th>\n",
              "      <td>148040</td>\n",
              "      <td>11063300</td>\n",
              "    </tr>\n",
              "    <tr>\n",
              "      <th>astra</th>\n",
              "      <td>16</td>\n",
              "      <td>373538092</td>\n",
              "    </tr>\n",
              "    <tr>\n",
              "      <th>calibra</th>\n",
              "      <td>7400</td>\n",
              "      <td>2796832</td>\n",
              "    </tr>\n",
              "    <tr>\n",
              "      <th>cascada</th>\n",
              "      <td>5879452</td>\n",
              "      <td>14613308</td>\n",
              "    </tr>\n",
              "    <tr>\n",
              "      <th>combo</th>\n",
              "      <td>16</td>\n",
              "      <td>9549652</td>\n",
              "    </tr>\n",
              "    <tr>\n",
              "      <th>corsa</th>\n",
              "      <td>16</td>\n",
              "      <td>2971430096</td>\n",
              "    </tr>\n",
              "    <tr>\n",
              "      <th>frontera</th>\n",
              "      <td>16</td>\n",
              "      <td>3561052</td>\n",
              "    </tr>\n",
              "    <tr>\n",
              "      <th>gt</th>\n",
              "      <td>280104</td>\n",
              "      <td>10001080</td>\n",
              "    </tr>\n",
              "    <tr>\n",
              "      <th>insignia</th>\n",
              "      <td>16</td>\n",
              "      <td>63981732</td>\n",
              "    </tr>\n",
              "    <tr>\n",
              "      <th>meriva</th>\n",
              "      <td>17616</td>\n",
              "      <td>11523836</td>\n",
              "    </tr>\n",
              "    <tr>\n",
              "      <th>mokka</th>\n",
              "      <td>2400176</td>\n",
              "      <td>12000444</td>\n",
              "    </tr>\n",
              "    <tr>\n",
              "      <th>monterey</th>\n",
              "      <td>29608</td>\n",
              "      <td>1554404</td>\n",
              "    </tr>\n",
              "    <tr>\n",
              "      <th>omega</th>\n",
              "      <td>16</td>\n",
              "      <td>3400252</td>\n",
              "    </tr>\n",
              "    <tr>\n",
              "      <th>sintra</th>\n",
              "      <td>16</td>\n",
              "      <td>2241244</td>\n",
              "    </tr>\n",
              "    <tr>\n",
              "      <th>speedster</th>\n",
              "      <td>3580532</td>\n",
              "      <td>14402132</td>\n",
              "    </tr>\n",
              "    <tr>\n",
              "      <th>tigra</th>\n",
              "      <td>16</td>\n",
              "      <td>3880428</td>\n",
              "    </tr>\n",
              "    <tr>\n",
              "      <th>vectra</th>\n",
              "      <td>16</td>\n",
              "      <td>6002888</td>\n",
              "    </tr>\n",
              "    <tr>\n",
              "      <th>vivaro</th>\n",
              "      <td>1480</td>\n",
              "      <td>12098492</td>\n",
              "    </tr>\n",
              "    <tr>\n",
              "      <th>zafira</th>\n",
              "      <td>16</td>\n",
              "      <td>63702368</td>\n",
              "    </tr>\n",
              "  </tbody>\n",
              "</table>\n",
              "</div>"
            ],
            "text/plain": [
              "          price_NGN            \n",
              "                min         max\n",
              "model                          \n",
              "adam             16     8719868\n",
              "agila         29624     6201836\n",
              "ampera      4133932    14458148\n",
              "antara       148040    11063300\n",
              "astra            16   373538092\n",
              "calibra        7400     2796832\n",
              "cascada     5879452    14613308\n",
              "combo            16     9549652\n",
              "corsa            16  2971430096\n",
              "frontera         16     3561052\n",
              "gt           280104    10001080\n",
              "insignia         16    63981732\n",
              "meriva        17616    11523836\n",
              "mokka       2400176    12000444\n",
              "monterey      29608     1554404\n",
              "omega            16     3400252\n",
              "sintra           16     2241244\n",
              "speedster   3580532    14402132\n",
              "tigra            16     3880428\n",
              "vectra           16     6002888\n",
              "vivaro         1480    12098492\n",
              "zafira           16    63702368"
            ]
          },
          "metadata": {
            "tags": []
          },
          "execution_count": 121
        }
      ]
    },
    {
      "cell_type": "markdown",
      "metadata": {
        "id": "0DtB2vYF7OYM"
      },
      "source": [
        "Leading with the pricing aggregates in the table above, the floor - ceiling pricing is pegged between 200,000 NGN and 65,000,000 NGN."
      ]
    },
    {
      "cell_type": "code",
      "metadata": {
        "id": "bg6niRNe5vVK"
      },
      "source": [
        "opel.loc[opel['price_NGN'] < 200000, 'price_NGN'] = np.nan\n",
        "opel.loc[opel['price_NGN'] > 65000000, 'price_NGN'] = np.nan"
      ],
      "execution_count": null,
      "outputs": []
    },
    {
      "cell_type": "code",
      "metadata": {
        "colab": {
          "base_uri": "https://localhost:8080/"
        },
        "id": "bJQQYWKC4ULy",
        "outputId": "4ea48cbc-8327-41dc-aad4-f18b780f6210"
      },
      "source": [
        "opel['price_NGN'].describe()"
      ],
      "execution_count": null,
      "outputs": [
        {
          "output_type": "execute_result",
          "data": {
            "text/plain": [
              "count      64233.00\n",
              "mean     3252522.41\n",
              "std      2610961.19\n",
              "min       200016.00\n",
              "25%      1000120.00\n",
              "50%      2676788.00\n",
              "75%      4940372.00\n",
              "max     63981732.00\n",
              "Name: price_NGN, dtype: float64"
            ]
          },
          "metadata": {
            "tags": []
          },
          "execution_count": 123
        }
      ]
    },
    {
      "cell_type": "markdown",
      "metadata": {
        "id": "h4vRmCAP7oHB"
      },
      "source": [
        "##### Porsche"
      ]
    },
    {
      "cell_type": "code",
      "metadata": {
        "colab": {
          "base_uri": "https://localhost:8080/"
        },
        "id": "x38tKYTo3Jj0",
        "outputId": "6004292a-7078-446b-fb82-ea88cd8f9a07"
      },
      "source": [
        "porsche['price_NGN'].describe()"
      ],
      "execution_count": null,
      "outputs": [
        {
          "output_type": "execute_result",
          "data": {
            "text/plain": [
              "count         6536.00\n",
              "mean      25021346.73\n",
              "std       47787996.71\n",
              "min          14760.00\n",
              "25%       13710994.00\n",
              "50%       20676988.00\n",
              "75%       29162431.00\n",
              "max     3361842012.00\n",
              "Name: price_NGN, dtype: float64"
            ]
          },
          "metadata": {
            "tags": []
          },
          "execution_count": 124
        }
      ]
    },
    {
      "cell_type": "code",
      "metadata": {
        "colab": {
          "base_uri": "https://localhost:8080/",
          "height": 311
        },
        "id": "qPeMvN8o7yhW",
        "outputId": "4634f1c1-0a7c-4440-9392-47e54a1dcf04"
      },
      "source": [
        "porsche.groupby('model').agg({'price_NGN': ['min', 'max']})"
      ],
      "execution_count": null,
      "outputs": [
        {
          "output_type": "execute_result",
          "data": {
            "text/html": [
              "<div>\n",
              "<style scoped>\n",
              "    .dataframe tbody tr th:only-of-type {\n",
              "        vertical-align: middle;\n",
              "    }\n",
              "\n",
              "    .dataframe tbody tr th {\n",
              "        vertical-align: top;\n",
              "    }\n",
              "\n",
              "    .dataframe thead tr th {\n",
              "        text-align: left;\n",
              "    }\n",
              "\n",
              "    .dataframe thead tr:last-of-type th {\n",
              "        text-align: right;\n",
              "    }\n",
              "</style>\n",
              "<table border=\"1\" class=\"dataframe\">\n",
              "  <thead>\n",
              "    <tr>\n",
              "      <th></th>\n",
              "      <th colspan=\"2\" halign=\"left\">price_NGN</th>\n",
              "    </tr>\n",
              "    <tr>\n",
              "      <th></th>\n",
              "      <th>min</th>\n",
              "      <th>max</th>\n",
              "    </tr>\n",
              "    <tr>\n",
              "      <th>model</th>\n",
              "      <th></th>\n",
              "      <th></th>\n",
              "    </tr>\n",
              "  </thead>\n",
              "  <tbody>\n",
              "    <tr>\n",
              "      <th>911</th>\n",
              "      <td>4032184</td>\n",
              "      <td>199622160</td>\n",
              "    </tr>\n",
              "    <tr>\n",
              "      <th>987-boxster</th>\n",
              "      <td>4426352</td>\n",
              "      <td>8001184</td>\n",
              "    </tr>\n",
              "    <tr>\n",
              "      <th>carrera-gt</th>\n",
              "      <td>6658772</td>\n",
              "      <td>400059216</td>\n",
              "    </tr>\n",
              "    <tr>\n",
              "      <th>cayenne</th>\n",
              "      <td>1960724</td>\n",
              "      <td>3361842012</td>\n",
              "    </tr>\n",
              "    <tr>\n",
              "      <th>cayman</th>\n",
              "      <td>14804</td>\n",
              "      <td>52431028</td>\n",
              "    </tr>\n",
              "    <tr>\n",
              "      <th>macan</th>\n",
              "      <td>20468720</td>\n",
              "      <td>41603080</td>\n",
              "    </tr>\n",
              "    <tr>\n",
              "      <th>panamera</th>\n",
              "      <td>29740</td>\n",
              "      <td>87194448</td>\n",
              "    </tr>\n",
              "  </tbody>\n",
              "</table>\n",
              "</div>"
            ],
            "text/plain": [
              "            price_NGN            \n",
              "                  min         max\n",
              "model                            \n",
              "911           4032184   199622160\n",
              "987-boxster   4426352     8001184\n",
              "carrera-gt    6658772   400059216\n",
              "cayenne       1960724  3361842012\n",
              "cayman          14804    52431028\n",
              "macan        20468720    41603080\n",
              "panamera        29740    87194448"
            ]
          },
          "metadata": {
            "tags": []
          },
          "execution_count": 125
        }
      ]
    },
    {
      "cell_type": "markdown",
      "metadata": {
        "id": "7nLYM7Fq8GhL"
      },
      "source": [
        "Leading with the pricing aggregates in the table above, the floor - ceiling pricing is pegged between 2,000,000 NGN and 400,000,000 NGN."
      ]
    },
    {
      "cell_type": "code",
      "metadata": {
        "id": "_ub-RXm77zC-"
      },
      "source": [
        "porsche.loc[porsche['price_NGN'] < 2000000, 'price_NGN'] = np.nan\n",
        "porsche.loc[porsche['price_NGN'] > 400000000, 'price_NGN'] = np.nan"
      ],
      "execution_count": null,
      "outputs": []
    },
    {
      "cell_type": "code",
      "metadata": {
        "colab": {
          "base_uri": "https://localhost:8080/"
        },
        "id": "S_A4nywy7y_3",
        "outputId": "5a8f5707-7d1d-4f51-d516-6c145a96fd9e"
      },
      "source": [
        "porsche['price_NGN'].describe()"
      ],
      "execution_count": null,
      "outputs": [
        {
          "output_type": "execute_result",
          "data": {
            "text/plain": [
              "count        6521.00\n",
              "mean     24080329.88\n",
              "std      18558596.53\n",
              "min       2220576.00\n",
              "25%      13797528.00\n",
              "50%      20678520.00\n",
              "75%      29131856.00\n",
              "max     312745124.00\n",
              "Name: price_NGN, dtype: float64"
            ]
          },
          "metadata": {
            "tags": []
          },
          "execution_count": 127
        }
      ]
    },
    {
      "cell_type": "markdown",
      "metadata": {
        "id": "-BhlMZ1e8rZS"
      },
      "source": [
        "##### Rover"
      ]
    },
    {
      "cell_type": "code",
      "metadata": {
        "colab": {
          "base_uri": "https://localhost:8080/"
        },
        "id": "hW9fg_hX7y8a",
        "outputId": "374037a8-8287-4b62-e4a8-f2a64fbd3685"
      },
      "source": [
        "rover['price_NGN'].describe()"
      ],
      "execution_count": null,
      "outputs": [
        {
          "output_type": "execute_result",
          "data": {
            "text/plain": [
              "count       5204.00\n",
              "mean    10711760.53\n",
              "std      9762613.69\n",
              "min           16.00\n",
              "25%      3242044.00\n",
              "50%      8761304.00\n",
              "75%     14767378.00\n",
              "max     76042192.00\n",
              "Name: price_NGN, dtype: float64"
            ]
          },
          "metadata": {
            "tags": []
          },
          "execution_count": 128
        }
      ]
    },
    {
      "cell_type": "code",
      "metadata": {
        "colab": {
          "base_uri": "https://localhost:8080/",
          "height": 399
        },
        "id": "dgEif_Pq7y5E",
        "outputId": "f50de971-72e5-40c1-d29d-e5c60a903707"
      },
      "source": [
        "rover.groupby('model').agg({'price_NGN': ['min', 'max']})"
      ],
      "execution_count": null,
      "outputs": [
        {
          "output_type": "execute_result",
          "data": {
            "text/html": [
              "<div>\n",
              "<style scoped>\n",
              "    .dataframe tbody tr th:only-of-type {\n",
              "        vertical-align: middle;\n",
              "    }\n",
              "\n",
              "    .dataframe tbody tr th {\n",
              "        vertical-align: top;\n",
              "    }\n",
              "\n",
              "    .dataframe thead tr th {\n",
              "        text-align: left;\n",
              "    }\n",
              "\n",
              "    .dataframe thead tr:last-of-type th {\n",
              "        text-align: right;\n",
              "    }\n",
              "</style>\n",
              "<table border=\"1\" class=\"dataframe\">\n",
              "  <thead>\n",
              "    <tr>\n",
              "      <th></th>\n",
              "      <th colspan=\"2\" halign=\"left\">price_NGN</th>\n",
              "    </tr>\n",
              "    <tr>\n",
              "      <th></th>\n",
              "      <th>min</th>\n",
              "      <th>max</th>\n",
              "    </tr>\n",
              "    <tr>\n",
              "      <th>model</th>\n",
              "      <th></th>\n",
              "      <th></th>\n",
              "    </tr>\n",
              "  </thead>\n",
              "  <tbody>\n",
              "    <tr>\n",
              "      <th>100</th>\n",
              "      <td>6144</td>\n",
              "      <td>23671356</td>\n",
              "    </tr>\n",
              "    <tr>\n",
              "      <th>200</th>\n",
              "      <td>2960</td>\n",
              "      <td>15604220</td>\n",
              "    </tr>\n",
              "    <tr>\n",
              "      <th>25</th>\n",
              "      <td>16</td>\n",
              "      <td>29241124</td>\n",
              "    </tr>\n",
              "    <tr>\n",
              "      <th>400</th>\n",
              "      <td>5004</td>\n",
              "      <td>15800592</td>\n",
              "    </tr>\n",
              "    <tr>\n",
              "      <th>45</th>\n",
              "      <td>7860</td>\n",
              "      <td>14782192</td>\n",
              "    </tr>\n",
              "    <tr>\n",
              "      <th>600</th>\n",
              "      <td>222056</td>\n",
              "      <td>10766364</td>\n",
              "    </tr>\n",
              "    <tr>\n",
              "      <th>75</th>\n",
              "      <td>296076</td>\n",
              "      <td>10362680</td>\n",
              "    </tr>\n",
              "    <tr>\n",
              "      <th>800</th>\n",
              "      <td>666172</td>\n",
              "      <td>29404352</td>\n",
              "    </tr>\n",
              "    <tr>\n",
              "      <th>mini</th>\n",
              "      <td>1213736</td>\n",
              "      <td>15004440</td>\n",
              "    </tr>\n",
              "    <tr>\n",
              "      <th>streetwise</th>\n",
              "      <td>780120</td>\n",
              "      <td>1316152</td>\n",
              "    </tr>\n",
              "  </tbody>\n",
              "</table>\n",
              "</div>"
            ],
            "text/plain": [
              "           price_NGN          \n",
              "                 min       max\n",
              "model                         \n",
              "100             6144  23671356\n",
              "200             2960  15604220\n",
              "25                16  29241124\n",
              "400             5004  15800592\n",
              "45              7860  14782192\n",
              "600           222056  10766364\n",
              "75            296076  10362680\n",
              "800           666172  29404352\n",
              "mini         1213736  15004440\n",
              "streetwise    780120   1316152"
            ]
          },
          "metadata": {
            "tags": []
          },
          "execution_count": 129
        }
      ]
    },
    {
      "cell_type": "markdown",
      "metadata": {
        "id": "ENIF-9F-88qp"
      },
      "source": [
        "Leading with the pricing aggregates in the table above, the floor - ceiling pricing is pegged between 200,000 NGN and 30,000,000 NGN."
      ]
    },
    {
      "cell_type": "code",
      "metadata": {
        "id": "IQq1MiBi7y16"
      },
      "source": [
        "rover.loc[rover['price_NGN'] < 200000, 'price_NGN'] = np.nan\n",
        "rover.loc[rover['price_NGN'] > 30000000, 'price_NGN'] = np.nan"
      ],
      "execution_count": null,
      "outputs": []
    },
    {
      "cell_type": "code",
      "metadata": {
        "colab": {
          "base_uri": "https://localhost:8080/"
        },
        "id": "e7YB2Vsi7yyZ",
        "outputId": "0e17aab5-89f7-4265-d77a-2aca838a1c11"
      },
      "source": [
        "rover['price_NGN'].describe()"
      ],
      "execution_count": null,
      "outputs": [
        {
          "output_type": "execute_result",
          "data": {
            "text/plain": [
              "count       4845.00\n",
              "mean     9406822.52\n",
              "std      6888720.49\n",
              "min       200016.00\n",
              "25%      3356372.00\n",
              "50%      8490912.00\n",
              "75%     14337956.00\n",
              "max     29944428.00\n",
              "Name: price_NGN, dtype: float64"
            ]
          },
          "metadata": {
            "tags": []
          },
          "execution_count": 131
        }
      ]
    },
    {
      "cell_type": "markdown",
      "metadata": {
        "id": "WpNttaZp9Wy-"
      },
      "source": [
        "##### Seat"
      ]
    },
    {
      "cell_type": "code",
      "metadata": {
        "colab": {
          "base_uri": "https://localhost:8080/"
        },
        "id": "ru_HFF0v9auB",
        "outputId": "86f7d63f-9a79-40c6-ebc2-6b58f60e9d36"
      },
      "source": [
        "seat['price_NGN'].describe()"
      ],
      "execution_count": null,
      "outputs": [
        {
          "output_type": "execute_result",
          "data": {
            "text/plain": [
              "count        17488.00\n",
              "mean       3827443.88\n",
              "std       14137556.97\n",
              "min             16.00\n",
              "25%        1221209.00\n",
              "50%        3183020.00\n",
              "75%        5498724.00\n",
              "max     1811351428.00\n",
              "Name: price_NGN, dtype: float64"
            ]
          },
          "metadata": {
            "tags": []
          },
          "execution_count": 132
        }
      ]
    },
    {
      "cell_type": "code",
      "metadata": {
        "colab": {
          "base_uri": "https://localhost:8080/",
          "height": 428
        },
        "id": "OwKHQbXX9Z9I",
        "outputId": "6aa9c801-c6e6-4af0-bf03-98a8f5a36835"
      },
      "source": [
        "seat.groupby('model').agg({'price_NGN': ['min', 'max']})"
      ],
      "execution_count": null,
      "outputs": [
        {
          "output_type": "execute_result",
          "data": {
            "text/html": [
              "<div>\n",
              "<style scoped>\n",
              "    .dataframe tbody tr th:only-of-type {\n",
              "        vertical-align: middle;\n",
              "    }\n",
              "\n",
              "    .dataframe tbody tr th {\n",
              "        vertical-align: top;\n",
              "    }\n",
              "\n",
              "    .dataframe thead tr th {\n",
              "        text-align: left;\n",
              "    }\n",
              "\n",
              "    .dataframe thead tr:last-of-type th {\n",
              "        text-align: right;\n",
              "    }\n",
              "</style>\n",
              "<table border=\"1\" class=\"dataframe\">\n",
              "  <thead>\n",
              "    <tr>\n",
              "      <th></th>\n",
              "      <th colspan=\"2\" halign=\"left\">price_NGN</th>\n",
              "    </tr>\n",
              "    <tr>\n",
              "      <th></th>\n",
              "      <th>min</th>\n",
              "      <th>max</th>\n",
              "    </tr>\n",
              "    <tr>\n",
              "      <th>model</th>\n",
              "      <th></th>\n",
              "      <th></th>\n",
              "    </tr>\n",
              "  </thead>\n",
              "  <tbody>\n",
              "    <tr>\n",
              "      <th>alhambra</th>\n",
              "      <td>28</td>\n",
              "      <td>18162696</td>\n",
              "    </tr>\n",
              "    <tr>\n",
              "      <th>altea</th>\n",
              "      <td>16</td>\n",
              "      <td>9241760</td>\n",
              "    </tr>\n",
              "    <tr>\n",
              "      <th>arosa</th>\n",
              "      <td>29624</td>\n",
              "      <td>3401008</td>\n",
              "    </tr>\n",
              "    <tr>\n",
              "      <th>cordoba</th>\n",
              "      <td>16</td>\n",
              "      <td>2360268</td>\n",
              "    </tr>\n",
              "    <tr>\n",
              "      <th>exeo</th>\n",
              "      <td>1000044</td>\n",
              "      <td>9682576</td>\n",
              "    </tr>\n",
              "    <tr>\n",
              "      <th>ibiza</th>\n",
              "      <td>16</td>\n",
              "      <td>8803908</td>\n",
              "    </tr>\n",
              "    <tr>\n",
              "      <th>inca</th>\n",
              "      <td>103628</td>\n",
              "      <td>1420416</td>\n",
              "    </tr>\n",
              "    <tr>\n",
              "      <th>leon</th>\n",
              "      <td>16</td>\n",
              "      <td>33322472</td>\n",
              "    </tr>\n",
              "    <tr>\n",
              "      <th>marbella</th>\n",
              "      <td>59216</td>\n",
              "      <td>600224</td>\n",
              "    </tr>\n",
              "    <tr>\n",
              "      <th>mii</th>\n",
              "      <td>1547252</td>\n",
              "      <td>5321568</td>\n",
              "    </tr>\n",
              "    <tr>\n",
              "      <th>toledo</th>\n",
              "      <td>16</td>\n",
              "      <td>1811351428</td>\n",
              "    </tr>\n",
              "  </tbody>\n",
              "</table>\n",
              "</div>"
            ],
            "text/plain": [
              "         price_NGN            \n",
              "               min         max\n",
              "model                         \n",
              "alhambra        28    18162696\n",
              "altea           16     9241760\n",
              "arosa        29624     3401008\n",
              "cordoba         16     2360268\n",
              "exeo       1000044     9682576\n",
              "ibiza           16     8803908\n",
              "inca        103628     1420416\n",
              "leon            16    33322472\n",
              "marbella     59216      600224\n",
              "mii        1547252     5321568\n",
              "toledo          16  1811351428"
            ]
          },
          "metadata": {
            "tags": []
          },
          "execution_count": 133
        }
      ]
    },
    {
      "cell_type": "markdown",
      "metadata": {
        "id": "JkDbl2AA9tof"
      },
      "source": [
        "Leading with the pricing aggregates in the table above, the floor - ceiling pricing is pegged between 200,000 NGN and 35,000,000 NGN."
      ]
    },
    {
      "cell_type": "code",
      "metadata": {
        "id": "Ku6CFF159Z6O"
      },
      "source": [
        "seat.loc[seat['price_NGN'] < 200000, 'price_NGN'] = np.nan\n",
        "seat.loc[seat['price_NGN'] > 35000000, 'price_NGN'] = np.nan"
      ],
      "execution_count": null,
      "outputs": []
    },
    {
      "cell_type": "code",
      "metadata": {
        "colab": {
          "base_uri": "https://localhost:8080/"
        },
        "id": "c-axafhq9Z2n",
        "outputId": "0ce98135-c49d-4cc6-d79e-64e7a183c0b8"
      },
      "source": [
        "seat['price_NGN'].describe()"
      ],
      "execution_count": null,
      "outputs": [
        {
          "output_type": "execute_result",
          "data": {
            "text/plain": [
              "count      17170.00\n",
              "mean     3771323.24\n",
              "std      2857152.37\n",
              "min       200016.00\n",
              "25%      1320192.00\n",
              "50%      3223716.00\n",
              "75%      5544393.00\n",
              "max     33322472.00\n",
              "Name: price_NGN, dtype: float64"
            ]
          },
          "metadata": {
            "tags": []
          },
          "execution_count": 135
        }
      ]
    },
    {
      "cell_type": "markdown",
      "metadata": {
        "id": "NVnCKUFe-F30"
      },
      "source": [
        "##### Skoda"
      ]
    },
    {
      "cell_type": "code",
      "metadata": {
        "colab": {
          "base_uri": "https://localhost:8080/"
        },
        "id": "KLhR0o5q9Zzo",
        "outputId": "aaa297f4-68fd-4393-cf0f-e661170bc636"
      },
      "source": [
        "skoda['price_NGN'].describe()"
      ],
      "execution_count": null,
      "outputs": [
        {
          "output_type": "execute_result",
          "data": {
            "text/plain": [
              "count       51915.00\n",
              "mean      3042011.90\n",
              "std       4019227.33\n",
              "min            16.00\n",
              "25%       1110288.00\n",
              "50%       2309400.00\n",
              "75%       4302598.00\n",
              "max     296846912.00\n",
              "Name: price_NGN, dtype: float64"
            ]
          },
          "metadata": {
            "tags": []
          },
          "execution_count": 136
        }
      ]
    },
    {
      "cell_type": "code",
      "metadata": {
        "colab": {
          "base_uri": "https://localhost:8080/",
          "height": 516
        },
        "id": "Jn6jl_MB9Zwn",
        "outputId": "9f0cfe49-dfb2-486a-9acc-dec8d93d4418"
      },
      "source": [
        "skoda.groupby('model').agg({'price_NGN': ['min', 'max']})"
      ],
      "execution_count": null,
      "outputs": [
        {
          "output_type": "execute_result",
          "data": {
            "text/html": [
              "<div>\n",
              "<style scoped>\n",
              "    .dataframe tbody tr th:only-of-type {\n",
              "        vertical-align: middle;\n",
              "    }\n",
              "\n",
              "    .dataframe tbody tr th {\n",
              "        vertical-align: top;\n",
              "    }\n",
              "\n",
              "    .dataframe thead tr th {\n",
              "        text-align: left;\n",
              "    }\n",
              "\n",
              "    .dataframe thead tr:last-of-type th {\n",
              "        text-align: right;\n",
              "    }\n",
              "</style>\n",
              "<table border=\"1\" class=\"dataframe\">\n",
              "  <thead>\n",
              "    <tr>\n",
              "      <th></th>\n",
              "      <th colspan=\"2\" halign=\"left\">price_NGN</th>\n",
              "    </tr>\n",
              "    <tr>\n",
              "      <th></th>\n",
              "      <th>min</th>\n",
              "      <th>max</th>\n",
              "    </tr>\n",
              "    <tr>\n",
              "      <th>model</th>\n",
              "      <th></th>\n",
              "      <th></th>\n",
              "    </tr>\n",
              "  </thead>\n",
              "  <tbody>\n",
              "    <tr>\n",
              "      <th>105</th>\n",
              "      <td>16</td>\n",
              "      <td>5634864</td>\n",
              "    </tr>\n",
              "    <tr>\n",
              "      <th>120</th>\n",
              "      <td>29608</td>\n",
              "      <td>4145076</td>\n",
              "    </tr>\n",
              "    <tr>\n",
              "      <th>125</th>\n",
              "      <td>185048</td>\n",
              "      <td>5314580</td>\n",
              "    </tr>\n",
              "    <tr>\n",
              "      <th>130</th>\n",
              "      <td>177648</td>\n",
              "      <td>9918580</td>\n",
              "    </tr>\n",
              "    <tr>\n",
              "      <th>860</th>\n",
              "      <td>1006660</td>\n",
              "      <td>1006660</td>\n",
              "    </tr>\n",
              "    <tr>\n",
              "      <th>citigo</th>\n",
              "      <td>1000120</td>\n",
              "      <td>6370228</td>\n",
              "    </tr>\n",
              "    <tr>\n",
              "      <th>fabia</th>\n",
              "      <td>16</td>\n",
              "      <td>296106692</td>\n",
              "    </tr>\n",
              "    <tr>\n",
              "      <th>favorit</th>\n",
              "      <td>1036</td>\n",
              "      <td>1110288</td>\n",
              "    </tr>\n",
              "    <tr>\n",
              "      <th>felicia</th>\n",
              "      <td>16</td>\n",
              "      <td>295514448</td>\n",
              "    </tr>\n",
              "    <tr>\n",
              "      <th>octavia</th>\n",
              "      <td>16</td>\n",
              "      <td>296846912</td>\n",
              "    </tr>\n",
              "    <tr>\n",
              "      <th>rapid</th>\n",
              "      <td>1924</td>\n",
              "      <td>9108676</td>\n",
              "    </tr>\n",
              "    <tr>\n",
              "      <th>roomster</th>\n",
              "      <td>16</td>\n",
              "      <td>40023288</td>\n",
              "    </tr>\n",
              "    <tr>\n",
              "      <th>superb</th>\n",
              "      <td>16</td>\n",
              "      <td>18800888</td>\n",
              "    </tr>\n",
              "    <tr>\n",
              "      <th>yeti</th>\n",
              "      <td>16</td>\n",
              "      <td>13105448</td>\n",
              "    </tr>\n",
              "  </tbody>\n",
              "</table>\n",
              "</div>"
            ],
            "text/plain": [
              "         price_NGN           \n",
              "               min        max\n",
              "model                        \n",
              "105             16    5634864\n",
              "120          29608    4145076\n",
              "125         185048    5314580\n",
              "130         177648    9918580\n",
              "860        1006660    1006660\n",
              "citigo     1000120    6370228\n",
              "fabia           16  296106692\n",
              "favorit       1036    1110288\n",
              "felicia         16  295514448\n",
              "octavia         16  296846912\n",
              "rapid         1924    9108676\n",
              "roomster        16   40023288\n",
              "superb          16   18800888\n",
              "yeti            16   13105448"
            ]
          },
          "metadata": {
            "tags": []
          },
          "execution_count": 137
        }
      ]
    },
    {
      "cell_type": "markdown",
      "metadata": {
        "id": "w1A6m8tH-Zub"
      },
      "source": [
        "Leading with the pricing aggregates in the table above, the floor - ceiling pricing is pegged between 200,000 NGN and 50,000,000 NGN."
      ]
    },
    {
      "cell_type": "code",
      "metadata": {
        "id": "JJl2KPp09Ztk"
      },
      "source": [
        "skoda.loc[skoda['price_NGN'] < 200000, 'price_NGN'] = np.nan\n",
        "skoda.loc[skoda['price_NGN'] > 50000000, 'price_NGN'] = np.nan"
      ],
      "execution_count": null,
      "outputs": []
    },
    {
      "cell_type": "code",
      "metadata": {
        "colab": {
          "base_uri": "https://localhost:8080/"
        },
        "id": "XGH8qnnB9Zqb",
        "outputId": "eda449c9-c292-4e63-ae40-934e82a15743"
      },
      "source": [
        "skoda['price_NGN'].describe()"
      ],
      "execution_count": null,
      "outputs": [
        {
          "output_type": "execute_result",
          "data": {
            "text/plain": [
              "count      50501.00\n",
              "mean     3088156.31\n",
              "std      2466531.47\n",
              "min       200016.00\n",
              "25%      1184292.00\n",
              "50%      2367136.00\n",
              "75%      4366720.00\n",
              "max     40023288.00\n",
              "Name: price_NGN, dtype: float64"
            ]
          },
          "metadata": {
            "tags": []
          },
          "execution_count": 139
        }
      ]
    },
    {
      "cell_type": "markdown",
      "metadata": {
        "id": "hbUY5Z5V-zyv"
      },
      "source": [
        "##### Subaru"
      ]
    },
    {
      "cell_type": "code",
      "metadata": {
        "colab": {
          "base_uri": "https://localhost:8080/"
        },
        "id": "olk0iJxD9Zmh",
        "outputId": "c386c54f-53b1-481a-ed6b-7589d4501f3d"
      },
      "source": [
        "subaru['price_NGN'].describe()"
      ],
      "execution_count": null,
      "outputs": [
        {
          "output_type": "execute_result",
          "data": {
            "text/plain": [
              "count       2296.00\n",
              "mean     4557980.72\n",
              "std      4000520.90\n",
              "min           28.00\n",
              "25%      1479837.00\n",
              "50%      3256848.00\n",
              "75%      6996106.00\n",
              "max     60004440.00\n",
              "Name: price_NGN, dtype: float64"
            ]
          },
          "metadata": {
            "tags": []
          },
          "execution_count": 140
        }
      ]
    },
    {
      "cell_type": "code",
      "metadata": {
        "colab": {
          "base_uri": "https://localhost:8080/",
          "height": 516
        },
        "id": "QidO39mI9ZiY",
        "outputId": "290107d1-bc03-481b-faa1-4718f50cadae"
      },
      "source": [
        "subaru.groupby('model').agg({'price_NGN': ['min', 'max']})"
      ],
      "execution_count": null,
      "outputs": [
        {
          "output_type": "execute_result",
          "data": {
            "text/html": [
              "<div>\n",
              "<style scoped>\n",
              "    .dataframe tbody tr th:only-of-type {\n",
              "        vertical-align: middle;\n",
              "    }\n",
              "\n",
              "    .dataframe tbody tr th {\n",
              "        vertical-align: top;\n",
              "    }\n",
              "\n",
              "    .dataframe thead tr th {\n",
              "        text-align: left;\n",
              "    }\n",
              "\n",
              "    .dataframe thead tr:last-of-type th {\n",
              "        text-align: right;\n",
              "    }\n",
              "</style>\n",
              "<table border=\"1\" class=\"dataframe\">\n",
              "  <thead>\n",
              "    <tr>\n",
              "      <th></th>\n",
              "      <th colspan=\"2\" halign=\"left\">price_NGN</th>\n",
              "    </tr>\n",
              "    <tr>\n",
              "      <th></th>\n",
              "      <th>min</th>\n",
              "      <th>max</th>\n",
              "    </tr>\n",
              "    <tr>\n",
              "      <th>model</th>\n",
              "      <th></th>\n",
              "      <th></th>\n",
              "    </tr>\n",
              "  </thead>\n",
              "  <tbody>\n",
              "    <tr>\n",
              "      <th>baja</th>\n",
              "      <td>3140932</td>\n",
              "      <td>3520636</td>\n",
              "    </tr>\n",
              "    <tr>\n",
              "      <th>brz</th>\n",
              "      <td>3699480</td>\n",
              "      <td>11780872</td>\n",
              "    </tr>\n",
              "    <tr>\n",
              "      <th>forester</th>\n",
              "      <td>28</td>\n",
              "      <td>15181688</td>\n",
              "    </tr>\n",
              "    <tr>\n",
              "      <th>impreza</th>\n",
              "      <td>22204</td>\n",
              "      <td>60004440</td>\n",
              "    </tr>\n",
              "    <tr>\n",
              "      <th>justy</th>\n",
              "      <td>14804</td>\n",
              "      <td>3196360</td>\n",
              "    </tr>\n",
              "    <tr>\n",
              "      <th>legacy</th>\n",
              "      <td>36</td>\n",
              "      <td>9748008</td>\n",
              "    </tr>\n",
              "    <tr>\n",
              "      <th>levorg</th>\n",
              "      <td>7840356</td>\n",
              "      <td>15001672</td>\n",
              "    </tr>\n",
              "    <tr>\n",
              "      <th>outback</th>\n",
              "      <td>7400</td>\n",
              "      <td>43671356</td>\n",
              "    </tr>\n",
              "    <tr>\n",
              "      <th>svx</th>\n",
              "      <td>1399808</td>\n",
              "      <td>3160356</td>\n",
              "    </tr>\n",
              "    <tr>\n",
              "      <th>trezia</th>\n",
              "      <td>2800016</td>\n",
              "      <td>6353500</td>\n",
              "    </tr>\n",
              "    <tr>\n",
              "      <th>tribeca</th>\n",
              "      <td>1998520</td>\n",
              "      <td>5284976</td>\n",
              "    </tr>\n",
              "    <tr>\n",
              "      <th>vivio</th>\n",
              "      <td>220060</td>\n",
              "      <td>473724</td>\n",
              "    </tr>\n",
              "    <tr>\n",
              "      <th>wrx</th>\n",
              "      <td>42932</td>\n",
              "      <td>18808292</td>\n",
              "    </tr>\n",
              "    <tr>\n",
              "      <th>xv</th>\n",
              "      <td>4891164</td>\n",
              "      <td>11960888</td>\n",
              "    </tr>\n",
              "  </tbody>\n",
              "</table>\n",
              "</div>"
            ],
            "text/plain": [
              "         price_NGN          \n",
              "               min       max\n",
              "model                       \n",
              "baja       3140932   3520636\n",
              "brz        3699480  11780872\n",
              "forester        28  15181688\n",
              "impreza      22204  60004440\n",
              "justy        14804   3196360\n",
              "legacy          36   9748008\n",
              "levorg     7840356  15001672\n",
              "outback       7400  43671356\n",
              "svx        1399808   3160356\n",
              "trezia     2800016   6353500\n",
              "tribeca    1998520   5284976\n",
              "vivio       220060    473724\n",
              "wrx          42932  18808292\n",
              "xv         4891164  11960888"
            ]
          },
          "metadata": {
            "tags": []
          },
          "execution_count": 141
        }
      ]
    },
    {
      "cell_type": "markdown",
      "metadata": {
        "id": "-WeUoyOF_DSm"
      },
      "source": [
        "Leading with the pricing aggregates in the table above, the floor - ceiling pricing is pegged between 200,000 NGN and 65,000,000 NGN."
      ]
    },
    {
      "cell_type": "code",
      "metadata": {
        "id": "lRKuFNpf9Zek"
      },
      "source": [
        "subaru.loc[subaru['price_NGN'] < 200000, 'price_NGN'] = np.nan\n",
        "subaru.loc[subaru['price_NGN'] > 65000000, 'price_NGN'] = np.nan"
      ],
      "execution_count": null,
      "outputs": []
    },
    {
      "cell_type": "code",
      "metadata": {
        "colab": {
          "base_uri": "https://localhost:8080/"
        },
        "id": "vqDS8QdC7yvH",
        "outputId": "974c9c04-8eb2-4447-9201-5867cf54ae22"
      },
      "source": [
        "subaru['price_NGN'].describe()"
      ],
      "execution_count": null,
      "outputs": [
        {
          "output_type": "execute_result",
          "data": {
            "text/plain": [
              "count       2253.00\n",
              "mean     4643265.89\n",
              "std      3990126.07\n",
              "min       200016.00\n",
              "25%      1580472.00\n",
              "50%      3375276.00\n",
              "75%      7056120.00\n",
              "max     60004440.00\n",
              "Name: price_NGN, dtype: float64"
            ]
          },
          "metadata": {
            "tags": []
          },
          "execution_count": 143
        }
      ]
    },
    {
      "cell_type": "markdown",
      "metadata": {
        "id": "SEy3Ec47_ift"
      },
      "source": [
        "##### Suzuki"
      ]
    },
    {
      "cell_type": "code",
      "metadata": {
        "colab": {
          "base_uri": "https://localhost:8080/"
        },
        "id": "IPKPKlAp7ysk",
        "outputId": "f5788b11-4c1d-4432-dd08-bff3ba89fe79"
      },
      "source": [
        "suzuki['price_NGN'].describe()"
      ],
      "execution_count": null,
      "outputs": [
        {
          "output_type": "execute_result",
          "data": {
            "text/plain": [
              "count       6887.00\n",
              "mean     3118577.79\n",
              "std      2211752.46\n",
              "min           16.00\n",
              "25%      1398090.00\n",
              "50%      2600384.00\n",
              "75%      4702176.00\n",
              "max     10568764.00\n",
              "Name: price_NGN, dtype: float64"
            ]
          },
          "metadata": {
            "tags": []
          },
          "execution_count": 144
        }
      ]
    },
    {
      "cell_type": "code",
      "metadata": {
        "colab": {
          "base_uri": "https://localhost:8080/",
          "height": 575
        },
        "id": "qPsbBX-Z_mT_",
        "outputId": "d535a873-e415-46d0-d99c-9d51fb739680"
      },
      "source": [
        "suzuki.groupby('model').agg({'price_NGN': ['min', 'max']})"
      ],
      "execution_count": null,
      "outputs": [
        {
          "output_type": "execute_result",
          "data": {
            "text/html": [
              "<div>\n",
              "<style scoped>\n",
              "    .dataframe tbody tr th:only-of-type {\n",
              "        vertical-align: middle;\n",
              "    }\n",
              "\n",
              "    .dataframe tbody tr th {\n",
              "        vertical-align: top;\n",
              "    }\n",
              "\n",
              "    .dataframe thead tr th {\n",
              "        text-align: left;\n",
              "    }\n",
              "\n",
              "    .dataframe thead tr:last-of-type th {\n",
              "        text-align: right;\n",
              "    }\n",
              "</style>\n",
              "<table border=\"1\" class=\"dataframe\">\n",
              "  <thead>\n",
              "    <tr>\n",
              "      <th></th>\n",
              "      <th colspan=\"2\" halign=\"left\">price_NGN</th>\n",
              "    </tr>\n",
              "    <tr>\n",
              "      <th></th>\n",
              "      <th>min</th>\n",
              "      <th>max</th>\n",
              "    </tr>\n",
              "    <tr>\n",
              "      <th>model</th>\n",
              "      <th></th>\n",
              "      <th></th>\n",
              "    </tr>\n",
              "  </thead>\n",
              "  <tbody>\n",
              "    <tr>\n",
              "      <th>alto</th>\n",
              "      <td>76016</td>\n",
              "      <td>3582132</td>\n",
              "    </tr>\n",
              "    <tr>\n",
              "      <th>baleno</th>\n",
              "      <td>16</td>\n",
              "      <td>999704</td>\n",
              "    </tr>\n",
              "    <tr>\n",
              "      <th>carry</th>\n",
              "      <td>880132</td>\n",
              "      <td>1596064</td>\n",
              "    </tr>\n",
              "    <tr>\n",
              "      <th>celerio</th>\n",
              "      <td>2689504</td>\n",
              "      <td>5081880</td>\n",
              "    </tr>\n",
              "    <tr>\n",
              "      <th>grand-vitara</th>\n",
              "      <td>28</td>\n",
              "      <td>9596712</td>\n",
              "    </tr>\n",
              "    <tr>\n",
              "      <th>ignis</th>\n",
              "      <td>7400</td>\n",
              "      <td>2792420</td>\n",
              "    </tr>\n",
              "    <tr>\n",
              "      <th>jimny</th>\n",
              "      <td>60</td>\n",
              "      <td>7361096</td>\n",
              "    </tr>\n",
              "    <tr>\n",
              "      <th>kizashi</th>\n",
              "      <td>4300636</td>\n",
              "      <td>7796580</td>\n",
              "    </tr>\n",
              "    <tr>\n",
              "      <th>liana</th>\n",
              "      <td>7400</td>\n",
              "      <td>2399868</td>\n",
              "    </tr>\n",
              "    <tr>\n",
              "      <th>samurai</th>\n",
              "      <td>192</td>\n",
              "      <td>3200948</td>\n",
              "    </tr>\n",
              "    <tr>\n",
              "      <th>splash</th>\n",
              "      <td>32</td>\n",
              "      <td>4996552</td>\n",
              "    </tr>\n",
              "    <tr>\n",
              "      <th>swift</th>\n",
              "      <td>16</td>\n",
              "      <td>6673976</td>\n",
              "    </tr>\n",
              "    <tr>\n",
              "      <th>sx4</th>\n",
              "      <td>17764</td>\n",
              "      <td>7997188</td>\n",
              "    </tr>\n",
              "    <tr>\n",
              "      <th>sx4-s-cross</th>\n",
              "      <td>3841704</td>\n",
              "      <td>10568764</td>\n",
              "    </tr>\n",
              "    <tr>\n",
              "      <th>vitara</th>\n",
              "      <td>14804</td>\n",
              "      <td>10521556</td>\n",
              "    </tr>\n",
              "    <tr>\n",
              "      <th>wagon-r</th>\n",
              "      <td>16</td>\n",
              "      <td>1740252</td>\n",
              "    </tr>\n",
              "  </tbody>\n",
              "</table>\n",
              "</div>"
            ],
            "text/plain": [
              "             price_NGN          \n",
              "                   min       max\n",
              "model                           \n",
              "alto             76016   3582132\n",
              "baleno              16    999704\n",
              "carry           880132   1596064\n",
              "celerio        2689504   5081880\n",
              "grand-vitara        28   9596712\n",
              "ignis             7400   2792420\n",
              "jimny               60   7361096\n",
              "kizashi        4300636   7796580\n",
              "liana             7400   2399868\n",
              "samurai            192   3200948\n",
              "splash              32   4996552\n",
              "swift               16   6673976\n",
              "sx4              17764   7997188\n",
              "sx4-s-cross    3841704  10568764\n",
              "vitara           14804  10521556\n",
              "wagon-r             16   1740252"
            ]
          },
          "metadata": {
            "tags": []
          },
          "execution_count": 145
        }
      ]
    },
    {
      "cell_type": "markdown",
      "metadata": {
        "id": "PhQeKBk7iRMB"
      },
      "source": [
        "Leading with the pricing aggregates in the table above, the floor - ceiling pricing is pegged between 880,000 NGN and 11,000,000 NGN."
      ]
    },
    {
      "cell_type": "code",
      "metadata": {
        "id": "u5sdxgOP_mRE"
      },
      "source": [
        "suzuki.loc[suzuki['price_NGN'] < 880000, 'price_NGN'] = np.nan\n",
        "suzuki.loc[suzuki['price_NGN'] > 11000000, 'price_NGN'] = np.nan"
      ],
      "execution_count": null,
      "outputs": []
    },
    {
      "cell_type": "code",
      "metadata": {
        "colab": {
          "base_uri": "https://localhost:8080/"
        },
        "id": "i1FumB3p_mOE",
        "outputId": "d4d386fb-7743-4884-9da3-4a56c6893123"
      },
      "source": [
        "suzuki['price_NGN'].describe()"
      ],
      "execution_count": null,
      "outputs": [
        {
          "output_type": "execute_result",
          "data": {
            "text/plain": [
              "count       5690.00\n",
              "mean     3671839.66\n",
              "std      2036818.56\n",
              "min       880028.00\n",
              "25%      2000192.00\n",
              "50%      3196952.00\n",
              "75%      4994684.00\n",
              "max     10568764.00\n",
              "Name: price_NGN, dtype: float64"
            ]
          },
          "metadata": {
            "tags": []
          },
          "execution_count": 147
        }
      ]
    },
    {
      "cell_type": "markdown",
      "metadata": {
        "id": "TyAYCvNBi8-j"
      },
      "source": [
        "##### Toyota"
      ]
    },
    {
      "cell_type": "code",
      "metadata": {
        "colab": {
          "base_uri": "https://localhost:8080/"
        },
        "id": "MRHj0yUG_mKi",
        "outputId": "e3d443b7-774c-4965-9f09-7ac3006b97b8"
      },
      "source": [
        "toyota['price_NGN'].describe()"
      ],
      "execution_count": null,
      "outputs": [
        {
          "output_type": "execute_result",
          "data": {
            "text/plain": [
              "count       17997.00\n",
              "mean      3953368.91\n",
              "std       5031177.54\n",
              "min            16.00\n",
              "25%       1821080.00\n",
              "50%       3263848.00\n",
              "75%       5270172.00\n",
              "max     296698876.00\n",
              "Name: price_NGN, dtype: float64"
            ]
          },
          "metadata": {
            "tags": []
          },
          "execution_count": 148
        }
      ]
    },
    {
      "cell_type": "code",
      "metadata": {
        "colab": {
          "base_uri": "https://localhost:8080/",
          "height": 1000
        },
        "id": "ERi5ASvl_mHj",
        "outputId": "e17c56c9-0ad9-4041-83c8-209edc2316c5"
      },
      "source": [
        "toyota.groupby('model').agg({'price_NGN': ['min', 'max']})"
      ],
      "execution_count": null,
      "outputs": [
        {
          "output_type": "execute_result",
          "data": {
            "text/html": [
              "<div>\n",
              "<style scoped>\n",
              "    .dataframe tbody tr th:only-of-type {\n",
              "        vertical-align: middle;\n",
              "    }\n",
              "\n",
              "    .dataframe tbody tr th {\n",
              "        vertical-align: top;\n",
              "    }\n",
              "\n",
              "    .dataframe thead tr th {\n",
              "        text-align: left;\n",
              "    }\n",
              "\n",
              "    .dataframe thead tr:last-of-type th {\n",
              "        text-align: right;\n",
              "    }\n",
              "</style>\n",
              "<table border=\"1\" class=\"dataframe\">\n",
              "  <thead>\n",
              "    <tr>\n",
              "      <th></th>\n",
              "      <th colspan=\"2\" halign=\"left\">price_NGN</th>\n",
              "    </tr>\n",
              "    <tr>\n",
              "      <th></th>\n",
              "      <th>min</th>\n",
              "      <th>max</th>\n",
              "    </tr>\n",
              "    <tr>\n",
              "      <th>model</th>\n",
              "      <th></th>\n",
              "      <th></th>\n",
              "    </tr>\n",
              "  </thead>\n",
              "  <tbody>\n",
              "    <tr>\n",
              "      <th>auris</th>\n",
              "      <td>20</td>\n",
              "      <td>10701184</td>\n",
              "    </tr>\n",
              "    <tr>\n",
              "      <th>avensis</th>\n",
              "      <td>16</td>\n",
              "      <td>24003552</td>\n",
              "    </tr>\n",
              "    <tr>\n",
              "      <th>avensis-verso</th>\n",
              "      <td>600176</td>\n",
              "      <td>2701600</td>\n",
              "    </tr>\n",
              "    <tr>\n",
              "      <th>aygo</th>\n",
              "      <td>16</td>\n",
              "      <td>5458608</td>\n",
              "    </tr>\n",
              "    <tr>\n",
              "      <th>camry</th>\n",
              "      <td>29608</td>\n",
              "      <td>16136180</td>\n",
              "    </tr>\n",
              "    <tr>\n",
              "      <th>carina</th>\n",
              "      <td>200076</td>\n",
              "      <td>6796508</td>\n",
              "    </tr>\n",
              "    <tr>\n",
              "      <th>celica</th>\n",
              "      <td>7400</td>\n",
              "      <td>6761008</td>\n",
              "    </tr>\n",
              "    <tr>\n",
              "      <th>corolla</th>\n",
              "      <td>3700</td>\n",
              "      <td>296402752</td>\n",
              "    </tr>\n",
              "    <tr>\n",
              "      <th>corolla-verso</th>\n",
              "      <td>7400</td>\n",
              "      <td>296698876</td>\n",
              "    </tr>\n",
              "    <tr>\n",
              "      <th>fj-cruiser</th>\n",
              "      <td>29608</td>\n",
              "      <td>23212880</td>\n",
              "    </tr>\n",
              "    <tr>\n",
              "      <th>gt86</th>\n",
              "      <td>6942648</td>\n",
              "      <td>14807120</td>\n",
              "    </tr>\n",
              "    <tr>\n",
              "      <th>highlander</th>\n",
              "      <td>8002368</td>\n",
              "      <td>8734272</td>\n",
              "    </tr>\n",
              "    <tr>\n",
              "      <th>hilux</th>\n",
              "      <td>66616</td>\n",
              "      <td>15598312</td>\n",
              "    </tr>\n",
              "    <tr>\n",
              "      <th>iq</th>\n",
              "      <td>1460060</td>\n",
              "      <td>6785404</td>\n",
              "    </tr>\n",
              "    <tr>\n",
              "      <th>land-cruiser</th>\n",
              "      <td>16</td>\n",
              "      <td>35005180</td>\n",
              "    </tr>\n",
              "    <tr>\n",
              "      <th>mr2</th>\n",
              "      <td>799408</td>\n",
              "      <td>1998520</td>\n",
              "    </tr>\n",
              "    <tr>\n",
              "      <th>paseo</th>\n",
              "      <td>1480</td>\n",
              "      <td>1980296</td>\n",
              "    </tr>\n",
              "    <tr>\n",
              "      <th>picnic</th>\n",
              "      <td>16</td>\n",
              "      <td>5201924</td>\n",
              "    </tr>\n",
              "    <tr>\n",
              "      <th>previa</th>\n",
              "      <td>516064</td>\n",
              "      <td>6202812</td>\n",
              "    </tr>\n",
              "    <tr>\n",
              "      <th>prius</th>\n",
              "      <td>880324</td>\n",
              "      <td>11964872</td>\n",
              "    </tr>\n",
              "    <tr>\n",
              "      <th>proace</th>\n",
              "      <td>4689888</td>\n",
              "      <td>8624560</td>\n",
              "    </tr>\n",
              "    <tr>\n",
              "      <th>rav4</th>\n",
              "      <td>22204</td>\n",
              "      <td>13729088</td>\n",
              "    </tr>\n",
              "    <tr>\n",
              "      <th>runner</th>\n",
              "      <td>1169504</td>\n",
              "      <td>8480548</td>\n",
              "    </tr>\n",
              "    <tr>\n",
              "      <th>sequoia</th>\n",
              "      <td>74020</td>\n",
              "      <td>26014432</td>\n",
              "    </tr>\n",
              "    <tr>\n",
              "      <th>sienna</th>\n",
              "      <td>2487048</td>\n",
              "      <td>22057720</td>\n",
              "    </tr>\n",
              "    <tr>\n",
              "      <th>solara</th>\n",
              "      <td>11201244</td>\n",
              "      <td>11201244</td>\n",
              "    </tr>\n",
              "    <tr>\n",
              "      <th>starlet</th>\n",
              "      <td>29608</td>\n",
              "      <td>1276092</td>\n",
              "    </tr>\n",
              "    <tr>\n",
              "      <th>supra</th>\n",
              "      <td>1700252</td>\n",
              "      <td>10605892</td>\n",
              "    </tr>\n",
              "    <tr>\n",
              "      <th>tacoma</th>\n",
              "      <td>1599720</td>\n",
              "      <td>1600176</td>\n",
              "    </tr>\n",
              "    <tr>\n",
              "      <th>tundra</th>\n",
              "      <td>4737232</td>\n",
              "      <td>29170792</td>\n",
              "    </tr>\n",
              "    <tr>\n",
              "      <th>verso</th>\n",
              "      <td>13324</td>\n",
              "      <td>9959688</td>\n",
              "    </tr>\n",
              "    <tr>\n",
              "      <th>yaris</th>\n",
              "      <td>60</td>\n",
              "      <td>40007848</td>\n",
              "    </tr>\n",
              "  </tbody>\n",
              "</table>\n",
              "</div>"
            ],
            "text/plain": [
              "              price_NGN           \n",
              "                    min        max\n",
              "model                             \n",
              "auris                20   10701184\n",
              "avensis              16   24003552\n",
              "avensis-verso    600176    2701600\n",
              "aygo                 16    5458608\n",
              "camry             29608   16136180\n",
              "carina           200076    6796508\n",
              "celica             7400    6761008\n",
              "corolla            3700  296402752\n",
              "corolla-verso      7400  296698876\n",
              "fj-cruiser        29608   23212880\n",
              "gt86            6942648   14807120\n",
              "highlander      8002368    8734272\n",
              "hilux             66616   15598312\n",
              "iq              1460060    6785404\n",
              "land-cruiser         16   35005180\n",
              "mr2              799408    1998520\n",
              "paseo              1480    1980296\n",
              "picnic               16    5201924\n",
              "previa           516064    6202812\n",
              "prius            880324   11964872\n",
              "proace          4689888    8624560\n",
              "rav4              22204   13729088\n",
              "runner          1169504    8480548\n",
              "sequoia           74020   26014432\n",
              "sienna          2487048   22057720\n",
              "solara         11201244   11201244\n",
              "starlet           29608    1276092\n",
              "supra           1700252   10605892\n",
              "tacoma          1599720    1600176\n",
              "tundra          4737232   29170792\n",
              "verso             13324    9959688\n",
              "yaris                60   40007848"
            ]
          },
          "metadata": {
            "tags": []
          },
          "execution_count": 149
        }
      ]
    },
    {
      "cell_type": "markdown",
      "metadata": {
        "id": "Voe6SswGjYrs"
      },
      "source": [
        "Leading with the pricing aggregates in the table above, the floor - ceiling pricing is pegged between 500,000 NGN and 40,000,000 NGN."
      ]
    },
    {
      "cell_type": "code",
      "metadata": {
        "id": "WH-KSVst_mEb"
      },
      "source": [
        "toyota.loc[toyota['price_NGN'] < 500000, 'price_NGN'] = np.nan\n",
        "toyota.loc[toyota['price_NGN'] > 40000000, 'price_NGN'] = np.nan"
      ],
      "execution_count": null,
      "outputs": []
    },
    {
      "cell_type": "code",
      "metadata": {
        "colab": {
          "base_uri": "https://localhost:8080/"
        },
        "id": "kUjfi4DQ_mBo",
        "outputId": "b0ac1b1a-443a-4c4f-8189-00291ddcc197"
      },
      "source": [
        "toyota['price_NGN'].describe()"
      ],
      "execution_count": null,
      "outputs": [
        {
          "output_type": "execute_result",
          "data": {
            "text/plain": [
              "count      17519.00\n",
              "mean     3987724.12\n",
              "std      2951785.72\n",
              "min       500016.00\n",
              "25%      1924500.00\n",
              "50%      3377572.00\n",
              "75%      5376388.00\n",
              "max     35005180.00\n",
              "Name: price_NGN, dtype: float64"
            ]
          },
          "metadata": {
            "tags": []
          },
          "execution_count": 151
        }
      ]
    },
    {
      "cell_type": "markdown",
      "metadata": {
        "id": "wArXO7iskZDk"
      },
      "source": [
        "##### Volvo"
      ]
    },
    {
      "cell_type": "code",
      "metadata": {
        "colab": {
          "base_uri": "https://localhost:8080/"
        },
        "id": "PQEsWrk6_l9s",
        "outputId": "0a62e4aa-469d-44c0-9b91-fc9523708cf1"
      },
      "source": [
        "volvo['price_NGN'].describe()"
      ],
      "execution_count": null,
      "outputs": [
        {
          "output_type": "execute_result",
          "data": {
            "text/plain": [
              "count       10913.00\n",
              "mean      5847652.44\n",
              "std       5763652.50\n",
              "min            16.00\n",
              "25%       1980224.00\n",
              "50%       4988188.00\n",
              "75%       8361244.00\n",
              "max     336171324.00\n",
              "Name: price_NGN, dtype: float64"
            ]
          },
          "metadata": {
            "tags": []
          },
          "execution_count": 152
        }
      ]
    },
    {
      "cell_type": "code",
      "metadata": {
        "colab": {
          "base_uri": "https://localhost:8080/",
          "height": 810
        },
        "id": "yutqhgfp_l6m",
        "outputId": "7bcaed0e-cdc4-48a6-e23c-4a1cb830a359"
      },
      "source": [
        "volvo.groupby('model').agg({'price_NGN': ['min', 'max']})"
      ],
      "execution_count": null,
      "outputs": [
        {
          "output_type": "execute_result",
          "data": {
            "text/html": [
              "<div>\n",
              "<style scoped>\n",
              "    .dataframe tbody tr th:only-of-type {\n",
              "        vertical-align: middle;\n",
              "    }\n",
              "\n",
              "    .dataframe tbody tr th {\n",
              "        vertical-align: top;\n",
              "    }\n",
              "\n",
              "    .dataframe thead tr th {\n",
              "        text-align: left;\n",
              "    }\n",
              "\n",
              "    .dataframe thead tr:last-of-type th {\n",
              "        text-align: right;\n",
              "    }\n",
              "</style>\n",
              "<table border=\"1\" class=\"dataframe\">\n",
              "  <thead>\n",
              "    <tr>\n",
              "      <th></th>\n",
              "      <th colspan=\"2\" halign=\"left\">price_NGN</th>\n",
              "    </tr>\n",
              "    <tr>\n",
              "      <th></th>\n",
              "      <th>min</th>\n",
              "      <th>max</th>\n",
              "    </tr>\n",
              "    <tr>\n",
              "      <th>model</th>\n",
              "      <th></th>\n",
              "      <th></th>\n",
              "    </tr>\n",
              "  </thead>\n",
              "  <tbody>\n",
              "    <tr>\n",
              "      <th>240</th>\n",
              "      <td>900400</td>\n",
              "      <td>12404132</td>\n",
              "    </tr>\n",
              "    <tr>\n",
              "      <th>242</th>\n",
              "      <td>2360964</td>\n",
              "      <td>2360964</td>\n",
              "    </tr>\n",
              "    <tr>\n",
              "      <th>360</th>\n",
              "      <td>444116</td>\n",
              "      <td>444116</td>\n",
              "    </tr>\n",
              "    <tr>\n",
              "      <th>440</th>\n",
              "      <td>1644</td>\n",
              "      <td>26646928</td>\n",
              "    </tr>\n",
              "    <tr>\n",
              "      <th>460</th>\n",
              "      <td>60000</td>\n",
              "      <td>20581644</td>\n",
              "    </tr>\n",
              "    <tr>\n",
              "      <th>480</th>\n",
              "      <td>319628</td>\n",
              "      <td>5160384</td>\n",
              "    </tr>\n",
              "    <tr>\n",
              "      <th>850</th>\n",
              "      <td>156016</td>\n",
              "      <td>7564472</td>\n",
              "    </tr>\n",
              "    <tr>\n",
              "      <th>940</th>\n",
              "      <td>376048</td>\n",
              "      <td>6761008</td>\n",
              "    </tr>\n",
              "    <tr>\n",
              "      <th>960</th>\n",
              "      <td>222056</td>\n",
              "      <td>8387640</td>\n",
              "    </tr>\n",
              "    <tr>\n",
              "      <th>c30</th>\n",
              "      <td>29712</td>\n",
              "      <td>6673144</td>\n",
              "    </tr>\n",
              "    <tr>\n",
              "      <th>c70</th>\n",
              "      <td>720060</td>\n",
              "      <td>21361584</td>\n",
              "    </tr>\n",
              "    <tr>\n",
              "      <th>s40</th>\n",
              "      <td>29608</td>\n",
              "      <td>5196772</td>\n",
              "    </tr>\n",
              "    <tr>\n",
              "      <th>s60</th>\n",
              "      <td>888</td>\n",
              "      <td>19661452</td>\n",
              "    </tr>\n",
              "    <tr>\n",
              "      <th>s70</th>\n",
              "      <td>222056</td>\n",
              "      <td>1140340</td>\n",
              "    </tr>\n",
              "    <tr>\n",
              "      <th>s80</th>\n",
              "      <td>25168</td>\n",
              "      <td>17501304</td>\n",
              "    </tr>\n",
              "    <tr>\n",
              "      <th>s90</th>\n",
              "      <td>1036256</td>\n",
              "      <td>1036256</td>\n",
              "    </tr>\n",
              "    <tr>\n",
              "      <th>v40</th>\n",
              "      <td>16</td>\n",
              "      <td>14118640</td>\n",
              "    </tr>\n",
              "    <tr>\n",
              "      <th>v50</th>\n",
              "      <td>744</td>\n",
              "      <td>40001080</td>\n",
              "    </tr>\n",
              "    <tr>\n",
              "      <th>v60</th>\n",
              "      <td>1184</td>\n",
              "      <td>21818432</td>\n",
              "    </tr>\n",
              "    <tr>\n",
              "      <th>v70</th>\n",
              "      <td>16</td>\n",
              "      <td>19281420</td>\n",
              "    </tr>\n",
              "    <tr>\n",
              "      <th>v90</th>\n",
              "      <td>960324</td>\n",
              "      <td>960324</td>\n",
              "    </tr>\n",
              "    <tr>\n",
              "      <th>xc60</th>\n",
              "      <td>4440</td>\n",
              "      <td>336171324</td>\n",
              "    </tr>\n",
              "    <tr>\n",
              "      <th>xc70</th>\n",
              "      <td>1480</td>\n",
              "      <td>21361956</td>\n",
              "    </tr>\n",
              "    <tr>\n",
              "      <th>xc90</th>\n",
              "      <td>16</td>\n",
              "      <td>34553664</td>\n",
              "    </tr>\n",
              "  </tbody>\n",
              "</table>\n",
              "</div>"
            ],
            "text/plain": [
              "      price_NGN           \n",
              "            min        max\n",
              "model                     \n",
              "240      900400   12404132\n",
              "242     2360964    2360964\n",
              "360      444116     444116\n",
              "440        1644   26646928\n",
              "460       60000   20581644\n",
              "480      319628    5160384\n",
              "850      156016    7564472\n",
              "940      376048    6761008\n",
              "960      222056    8387640\n",
              "c30       29712    6673144\n",
              "c70      720060   21361584\n",
              "s40       29608    5196772\n",
              "s60         888   19661452\n",
              "s70      222056    1140340\n",
              "s80       25168   17501304\n",
              "s90     1036256    1036256\n",
              "v40          16   14118640\n",
              "v50         744   40001080\n",
              "v60        1184   21818432\n",
              "v70          16   19281420\n",
              "v90      960324     960324\n",
              "xc60       4440  336171324\n",
              "xc70       1480   21361956\n",
              "xc90         16   34553664"
            ]
          },
          "metadata": {
            "tags": []
          },
          "execution_count": 153
        }
      ]
    },
    {
      "cell_type": "markdown",
      "metadata": {
        "id": "Yr_hfGKl-is1"
      },
      "source": [
        "Leading with the pricing aggregates in the table above, the floor - ceiling pricing is pegged between 200,000 NGN and 40,000,000 NGN."
      ]
    },
    {
      "cell_type": "code",
      "metadata": {
        "id": "4bbDKfbw-htY"
      },
      "source": [
        "volvo.loc[volvo['price_NGN'] < 200000, 'price_NGN'] = np.nan\n",
        "volvo.loc[volvo['price_NGN'] > 40000000, 'price_NGN'] = np.nan"
      ],
      "execution_count": null,
      "outputs": []
    },
    {
      "cell_type": "code",
      "metadata": {
        "colab": {
          "base_uri": "https://localhost:8080/"
        },
        "id": "bpjcSItJ-hqq",
        "outputId": "eeb93974-c9a9-4eb1-cecf-40c044fb57d8"
      },
      "source": [
        "volvo['price_NGN'].describe()"
      ],
      "execution_count": null,
      "outputs": [
        {
          "output_type": "execute_result",
          "data": {
            "text/plain": [
              "count      10788.00\n",
              "mean     5871701.84\n",
              "std      4728937.70\n",
              "min       200028.00\n",
              "25%      2010610.00\n",
              "50%      5013752.00\n",
              "75%      8369344.00\n",
              "max     35565272.00\n",
              "Name: price_NGN, dtype: float64"
            ]
          },
          "metadata": {
            "tags": []
          },
          "execution_count": 155
        }
      ]
    },
    {
      "cell_type": "markdown",
      "metadata": {
        "id": "uS0mebNE_Ahq"
      },
      "source": [
        "##### Hummer"
      ]
    },
    {
      "cell_type": "code",
      "metadata": {
        "colab": {
          "base_uri": "https://localhost:8080/"
        },
        "id": "1vTnqo1V-hnT",
        "outputId": "4204a09a-56a4-436f-f681-b21d31c8f0a8"
      },
      "source": [
        "hummer['price_NGN'].describe()"
      ],
      "execution_count": null,
      "outputs": [
        {
          "output_type": "execute_result",
          "data": {
            "text/plain": [
              "count        211.00\n",
              "mean    12435796.93\n",
              "std      9540711.58\n",
              "min           28.00\n",
              "25%      6789504.00\n",
              "50%      8761304.00\n",
              "75%     16098654.00\n",
              "max     72010660.00\n",
              "Name: price_NGN, dtype: float64"
            ]
          },
          "metadata": {
            "tags": []
          },
          "execution_count": 156
        }
      ]
    },
    {
      "cell_type": "code",
      "metadata": {
        "colab": {
          "base_uri": "https://localhost:8080/",
          "height": 194
        },
        "id": "Q7vb9Lbf-hj1",
        "outputId": "cedf7616-9549-4ed6-e92e-ed75320ef56a"
      },
      "source": [
        "hummer.groupby('model').agg({'price_NGN': ['min', 'max']})"
      ],
      "execution_count": null,
      "outputs": [
        {
          "output_type": "execute_result",
          "data": {
            "text/html": [
              "<div>\n",
              "<style scoped>\n",
              "    .dataframe tbody tr th:only-of-type {\n",
              "        vertical-align: middle;\n",
              "    }\n",
              "\n",
              "    .dataframe tbody tr th {\n",
              "        vertical-align: top;\n",
              "    }\n",
              "\n",
              "    .dataframe thead tr th {\n",
              "        text-align: left;\n",
              "    }\n",
              "\n",
              "    .dataframe thead tr:last-of-type th {\n",
              "        text-align: right;\n",
              "    }\n",
              "</style>\n",
              "<table border=\"1\" class=\"dataframe\">\n",
              "  <thead>\n",
              "    <tr>\n",
              "      <th></th>\n",
              "      <th colspan=\"2\" halign=\"left\">price_NGN</th>\n",
              "    </tr>\n",
              "    <tr>\n",
              "      <th></th>\n",
              "      <th>min</th>\n",
              "      <th>max</th>\n",
              "    </tr>\n",
              "    <tr>\n",
              "      <th>model</th>\n",
              "      <th></th>\n",
              "      <th></th>\n",
              "    </tr>\n",
              "  </thead>\n",
              "  <tbody>\n",
              "    <tr>\n",
              "      <th>h1</th>\n",
              "      <td>15575900</td>\n",
              "      <td>68390124</td>\n",
              "    </tr>\n",
              "    <tr>\n",
              "      <th>h2</th>\n",
              "      <td>28</td>\n",
              "      <td>39962960</td>\n",
              "    </tr>\n",
              "    <tr>\n",
              "      <th>h3</th>\n",
              "      <td>3403404</td>\n",
              "      <td>19965908</td>\n",
              "    </tr>\n",
              "  </tbody>\n",
              "</table>\n",
              "</div>"
            ],
            "text/plain": [
              "      price_NGN          \n",
              "            min       max\n",
              "model                    \n",
              "h1     15575900  68390124\n",
              "h2           28  39962960\n",
              "h3      3403404  19965908"
            ]
          },
          "metadata": {
            "tags": []
          },
          "execution_count": 157
        }
      ]
    },
    {
      "cell_type": "markdown",
      "metadata": {
        "id": "JFFG3E3S_kAs"
      },
      "source": [
        "Leading with the pricing aggregates in the table above, the floor - ceiling pricing is pegged between 3,400,000 NGN and 70,000,000 NGN."
      ]
    },
    {
      "cell_type": "code",
      "metadata": {
        "id": "hOEhXFmC-hgs"
      },
      "source": [
        "hummer.loc[hummer['price_NGN'] < 3400000, 'price_NGN'] = np.nan\n",
        "hummer.loc[hummer['price_NGN'] > 70000000, 'price_NGN'] = np.nan"
      ],
      "execution_count": null,
      "outputs": []
    },
    {
      "cell_type": "code",
      "metadata": {
        "colab": {
          "base_uri": "https://localhost:8080/"
        },
        "id": "-1pzkbn5-ha-",
        "outputId": "3fd53035-bf21-4342-9598-673a0446312d"
      },
      "source": [
        "hummer['price_NGN'].describe()"
      ],
      "execution_count": null,
      "outputs": [
        {
          "output_type": "execute_result",
          "data": {
            "text/plain": [
              "count        208.00\n",
              "mean    12267822.52\n",
              "std      8585111.16\n",
              "min      3403404.00\n",
              "25%      6799656.00\n",
              "50%      8762274.00\n",
              "75%     16032281.00\n",
              "max     68390124.00\n",
              "Name: price_NGN, dtype: float64"
            ]
          },
          "metadata": {
            "tags": []
          },
          "execution_count": 159
        }
      ]
    },
    {
      "cell_type": "markdown",
      "metadata": {
        "id": "ebVHjXtXAHzV"
      },
      "source": [
        "##### Lexus"
      ]
    },
    {
      "cell_type": "code",
      "metadata": {
        "colab": {
          "base_uri": "https://localhost:8080/"
        },
        "id": "jR3Qjalm-hW3",
        "outputId": "fb858d56-1300-44a2-b667-ee878c078c44"
      },
      "source": [
        "lexus['price_NGN'].describe()"
      ],
      "execution_count": null,
      "outputs": [
        {
          "output_type": "execute_result",
          "data": {
            "text/plain": [
              "count         879.00\n",
              "mean      8459541.01\n",
              "std      10859505.68\n",
              "min         14804.00\n",
              "25%       3598136.00\n",
              "50%       6402604.00\n",
              "75%      10761200.00\n",
              "max     268611356.00\n",
              "Name: price_NGN, dtype: float64"
            ]
          },
          "metadata": {
            "tags": []
          },
          "execution_count": 160
        }
      ]
    },
    {
      "cell_type": "code",
      "metadata": {
        "colab": {
          "base_uri": "https://localhost:8080/",
          "height": 956
        },
        "id": "wkrdmXdNALIG",
        "outputId": "e2ae8cd5-2d97-4b78-c760-d41da7dab409"
      },
      "source": [
        "lexus.groupby('model').agg({'price_NGN': ['min', 'max']})"
      ],
      "execution_count": null,
      "outputs": [
        {
          "output_type": "execute_result",
          "data": {
            "text/html": [
              "<div>\n",
              "<style scoped>\n",
              "    .dataframe tbody tr th:only-of-type {\n",
              "        vertical-align: middle;\n",
              "    }\n",
              "\n",
              "    .dataframe tbody tr th {\n",
              "        vertical-align: top;\n",
              "    }\n",
              "\n",
              "    .dataframe thead tr th {\n",
              "        text-align: left;\n",
              "    }\n",
              "\n",
              "    .dataframe thead tr:last-of-type th {\n",
              "        text-align: right;\n",
              "    }\n",
              "</style>\n",
              "<table border=\"1\" class=\"dataframe\">\n",
              "  <thead>\n",
              "    <tr>\n",
              "      <th></th>\n",
              "      <th colspan=\"2\" halign=\"left\">price_NGN</th>\n",
              "    </tr>\n",
              "    <tr>\n",
              "      <th></th>\n",
              "      <th>min</th>\n",
              "      <th>max</th>\n",
              "    </tr>\n",
              "    <tr>\n",
              "      <th>model</th>\n",
              "      <th></th>\n",
              "      <th></th>\n",
              "    </tr>\n",
              "  </thead>\n",
              "  <tbody>\n",
              "    <tr>\n",
              "      <th>200</th>\n",
              "      <td>1034788</td>\n",
              "      <td>19601452</td>\n",
              "    </tr>\n",
              "    <tr>\n",
              "      <th>300</th>\n",
              "      <td>1169504</td>\n",
              "      <td>19851740</td>\n",
              "    </tr>\n",
              "    <tr>\n",
              "      <th>400</th>\n",
              "      <td>1000564</td>\n",
              "      <td>9202724</td>\n",
              "    </tr>\n",
              "    <tr>\n",
              "      <th>ct-200h</th>\n",
              "      <td>3080520</td>\n",
              "      <td>12707476</td>\n",
              "    </tr>\n",
              "    <tr>\n",
              "      <th>es</th>\n",
              "      <td>1800800</td>\n",
              "      <td>16001776</td>\n",
              "    </tr>\n",
              "    <tr>\n",
              "      <th>gs</th>\n",
              "      <td>1280712</td>\n",
              "      <td>16469032</td>\n",
              "    </tr>\n",
              "    <tr>\n",
              "      <th>gs-300</th>\n",
              "      <td>600340</td>\n",
              "      <td>16809328</td>\n",
              "    </tr>\n",
              "    <tr>\n",
              "      <th>gs-450h</th>\n",
              "      <td>3600132</td>\n",
              "      <td>24379924</td>\n",
              "    </tr>\n",
              "    <tr>\n",
              "      <th>gx-470</th>\n",
              "      <td>5200888</td>\n",
              "      <td>5200888</td>\n",
              "    </tr>\n",
              "    <tr>\n",
              "      <th>is</th>\n",
              "      <td>2501540</td>\n",
              "      <td>14606484</td>\n",
              "    </tr>\n",
              "    <tr>\n",
              "      <th>is-200</th>\n",
              "      <td>800060</td>\n",
              "      <td>15329876</td>\n",
              "    </tr>\n",
              "    <tr>\n",
              "      <th>is-220d</th>\n",
              "      <td>2319852</td>\n",
              "      <td>18241348</td>\n",
              "    </tr>\n",
              "    <tr>\n",
              "      <th>is-250</th>\n",
              "      <td>2957808</td>\n",
              "      <td>13004812</td>\n",
              "    </tr>\n",
              "    <tr>\n",
              "      <th>is-f</th>\n",
              "      <td>10880800</td>\n",
              "      <td>13922056</td>\n",
              "    </tr>\n",
              "    <tr>\n",
              "      <th>ls</th>\n",
              "      <td>370096</td>\n",
              "      <td>11502592</td>\n",
              "    </tr>\n",
              "    <tr>\n",
              "      <th>ls-430</th>\n",
              "      <td>1400416</td>\n",
              "      <td>5906736</td>\n",
              "    </tr>\n",
              "    <tr>\n",
              "      <th>ls-460</th>\n",
              "      <td>5474464</td>\n",
              "      <td>20141852</td>\n",
              "    </tr>\n",
              "    <tr>\n",
              "      <th>ls-600h</th>\n",
              "      <td>6880252</td>\n",
              "      <td>14688380</td>\n",
              "    </tr>\n",
              "    <tr>\n",
              "      <th>ls-600h-l</th>\n",
              "      <td>8725388</td>\n",
              "      <td>14360532</td>\n",
              "    </tr>\n",
              "    <tr>\n",
              "      <th>lx-570</th>\n",
              "      <td>15002220</td>\n",
              "      <td>90006660</td>\n",
              "    </tr>\n",
              "    <tr>\n",
              "      <th>rx</th>\n",
              "      <td>3700964</td>\n",
              "      <td>19027652</td>\n",
              "    </tr>\n",
              "    <tr>\n",
              "      <th>rx-300</th>\n",
              "      <td>14804</td>\n",
              "      <td>5980444</td>\n",
              "    </tr>\n",
              "    <tr>\n",
              "      <th>rx-330</th>\n",
              "      <td>1776460</td>\n",
              "      <td>1776460</td>\n",
              "    </tr>\n",
              "    <tr>\n",
              "      <th>rx-350</th>\n",
              "      <td>4800176</td>\n",
              "      <td>17988528</td>\n",
              "    </tr>\n",
              "    <tr>\n",
              "      <th>rx-400</th>\n",
              "      <td>3330868</td>\n",
              "      <td>7581124</td>\n",
              "    </tr>\n",
              "    <tr>\n",
              "      <th>rx-400h</th>\n",
              "      <td>2600384</td>\n",
              "      <td>7602412</td>\n",
              "    </tr>\n",
              "    <tr>\n",
              "      <th>rx-450h</th>\n",
              "      <td>2660296</td>\n",
              "      <td>24171576</td>\n",
              "    </tr>\n",
              "    <tr>\n",
              "      <th>rx-hybrid</th>\n",
              "      <td>10823596</td>\n",
              "      <td>21973708</td>\n",
              "    </tr>\n",
              "    <tr>\n",
              "      <th>sc</th>\n",
              "      <td>3141748</td>\n",
              "      <td>11202220</td>\n",
              "    </tr>\n",
              "  </tbody>\n",
              "</table>\n",
              "</div>"
            ],
            "text/plain": [
              "          price_NGN          \n",
              "                min       max\n",
              "model                        \n",
              "200         1034788  19601452\n",
              "300         1169504  19851740\n",
              "400         1000564   9202724\n",
              "ct-200h     3080520  12707476\n",
              "es          1800800  16001776\n",
              "gs          1280712  16469032\n",
              "gs-300       600340  16809328\n",
              "gs-450h     3600132  24379924\n",
              "gx-470      5200888   5200888\n",
              "is          2501540  14606484\n",
              "is-200       800060  15329876\n",
              "is-220d     2319852  18241348\n",
              "is-250      2957808  13004812\n",
              "is-f       10880800  13922056\n",
              "ls           370096  11502592\n",
              "ls-430      1400416   5906736\n",
              "ls-460      5474464  20141852\n",
              "ls-600h     6880252  14688380\n",
              "ls-600h-l   8725388  14360532\n",
              "lx-570     15002220  90006660\n",
              "rx          3700964  19027652\n",
              "rx-300        14804   5980444\n",
              "rx-330      1776460   1776460\n",
              "rx-350      4800176  17988528\n",
              "rx-400      3330868   7581124\n",
              "rx-400h     2600384   7602412\n",
              "rx-450h     2660296  24171576\n",
              "rx-hybrid  10823596  21973708\n",
              "sc          3141748  11202220"
            ]
          },
          "metadata": {
            "tags": []
          },
          "execution_count": 161
        }
      ]
    },
    {
      "cell_type": "markdown",
      "metadata": {
        "id": "FjB2GQLXBdrs"
      },
      "source": [
        "Leading with the pricing aggregates in the table above, the floor - ceiling pricing is pegged between 370,000 NGN and 45,000,000 NGN."
      ]
    },
    {
      "cell_type": "code",
      "metadata": {
        "id": "y-9mS5-hB6qK"
      },
      "source": [
        "lexus.loc[lexus['price_NGN'] < 370000, 'price_NGN'] = np.nan\n",
        "lexus.loc[lexus['price_NGN'] > 45000000, 'price_NGN'] = np.nan"
      ],
      "execution_count": null,
      "outputs": []
    },
    {
      "cell_type": "code",
      "metadata": {
        "colab": {
          "base_uri": "https://localhost:8080/"
        },
        "id": "mqhYCekjALEM",
        "outputId": "f2f3e4c5-8632-49cd-e939-8b1af1a04f0b"
      },
      "source": [
        "lexus['price_NGN'].describe()"
      ],
      "execution_count": null,
      "outputs": [
        {
          "output_type": "execute_result",
          "data": {
            "text/plain": [
              "count        876.00\n",
              "mean     8079113.85\n",
              "std      5758427.39\n",
              "min       370096.00\n",
              "25%      3598136.00\n",
              "50%      6401776.00\n",
              "75%     10758691.00\n",
              "max     42454344.00\n",
              "Name: price_NGN, dtype: float64"
            ]
          },
          "metadata": {
            "tags": []
          },
          "execution_count": 163
        }
      ]
    },
    {
      "cell_type": "markdown",
      "metadata": {
        "id": "DNmVLR8sCirI"
      },
      "source": [
        "##### Tesla"
      ]
    },
    {
      "cell_type": "code",
      "metadata": {
        "colab": {
          "base_uri": "https://localhost:8080/"
        },
        "id": "I8m0jJ0tALAf",
        "outputId": "4c3a66f4-1689-4eb3-b921-40251f7633cc"
      },
      "source": [
        "tesla['price_NGN'].describe()"
      ],
      "execution_count": null,
      "outputs": [
        {
          "output_type": "execute_result",
          "data": {
            "text/plain": [
              "count         80.00\n",
              "mean    33722711.10\n",
              "std      8503656.15\n",
              "min         7400.00\n",
              "25%     28104621.00\n",
              "50%     31158032.00\n",
              "75%     40806040.00\n",
              "max     51405716.00\n",
              "Name: price_NGN, dtype: float64"
            ]
          },
          "metadata": {
            "tags": []
          },
          "execution_count": 164
        }
      ]
    },
    {
      "cell_type": "code",
      "metadata": {
        "colab": {
          "base_uri": "https://localhost:8080/",
          "height": 194
        },
        "id": "sMiRoXm9AK9y",
        "outputId": "004de367-d1f8-4dfb-e430-31e2406c2f19"
      },
      "source": [
        "tesla.groupby('model').agg({'price_NGN': ['min', 'max']})"
      ],
      "execution_count": null,
      "outputs": [
        {
          "output_type": "execute_result",
          "data": {
            "text/html": [
              "<div>\n",
              "<style scoped>\n",
              "    .dataframe tbody tr th:only-of-type {\n",
              "        vertical-align: middle;\n",
              "    }\n",
              "\n",
              "    .dataframe tbody tr th {\n",
              "        vertical-align: top;\n",
              "    }\n",
              "\n",
              "    .dataframe thead tr th {\n",
              "        text-align: left;\n",
              "    }\n",
              "\n",
              "    .dataframe thead tr:last-of-type th {\n",
              "        text-align: right;\n",
              "    }\n",
              "</style>\n",
              "<table border=\"1\" class=\"dataframe\">\n",
              "  <thead>\n",
              "    <tr>\n",
              "      <th></th>\n",
              "      <th colspan=\"2\" halign=\"left\">price_NGN</th>\n",
              "    </tr>\n",
              "    <tr>\n",
              "      <th></th>\n",
              "      <th>min</th>\n",
              "      <th>max</th>\n",
              "    </tr>\n",
              "    <tr>\n",
              "      <th>model</th>\n",
              "      <th></th>\n",
              "      <th></th>\n",
              "    </tr>\n",
              "  </thead>\n",
              "  <tbody>\n",
              "    <tr>\n",
              "      <th>model-s</th>\n",
              "      <td>23142220</td>\n",
              "      <td>51405716</td>\n",
              "    </tr>\n",
              "    <tr>\n",
              "      <th>model-x</th>\n",
              "      <td>35531828</td>\n",
              "      <td>35531828</td>\n",
              "    </tr>\n",
              "    <tr>\n",
              "      <th>roadster</th>\n",
              "      <td>22002444</td>\n",
              "      <td>22002444</td>\n",
              "    </tr>\n",
              "  </tbody>\n",
              "</table>\n",
              "</div>"
            ],
            "text/plain": [
              "         price_NGN          \n",
              "               min       max\n",
              "model                       \n",
              "model-s   23142220  51405716\n",
              "model-x   35531828  35531828\n",
              "roadster  22002444  22002444"
            ]
          },
          "metadata": {
            "tags": []
          },
          "execution_count": 165
        }
      ]
    },
    {
      "cell_type": "markdown",
      "metadata": {
        "id": "s5M0MAG4C7J-"
      },
      "source": [
        "Leading with the pricing aggregates in the table above, the floor - ceiling pricing is pegged between 23,000,000 NGN and 54,000,000 NGN."
      ]
    },
    {
      "cell_type": "code",
      "metadata": {
        "id": "PlReL5dKAK53"
      },
      "source": [
        "tesla.loc[tesla['price_NGN'] < 23000000, 'price_NGN'] = np.nan\n",
        "tesla.loc[tesla['price_NGN'] > 54000000, 'price_NGN'] = np.nan"
      ],
      "execution_count": null,
      "outputs": []
    },
    {
      "cell_type": "code",
      "metadata": {
        "colab": {
          "base_uri": "https://localhost:8080/"
        },
        "id": "y0acy-yN7ypX",
        "outputId": "a92c8fb1-7d8b-4e3d-a546-f7c5d4f3100f"
      },
      "source": [
        "tesla['price_NGN'].describe()"
      ],
      "execution_count": null,
      "outputs": [
        {
          "output_type": "execute_result",
          "data": {
            "text/plain": [
              "count         78.00\n",
              "mean    34305218.51\n",
              "std      7569683.08\n",
              "min     23142220.00\n",
              "25%     28105920.00\n",
              "50%     31394072.00\n",
              "75%     40812080.00\n",
              "max     51405716.00\n",
              "Name: price_NGN, dtype: float64"
            ]
          },
          "metadata": {
            "tags": []
          },
          "execution_count": 167
        }
      ]
    },
    {
      "cell_type": "markdown",
      "metadata": {
        "id": "zFMAxPyMDjX7"
      },
      "source": [
        "##### Lotus"
      ]
    },
    {
      "cell_type": "code",
      "metadata": {
        "colab": {
          "base_uri": "https://localhost:8080/"
        },
        "id": "zDTe22jEDfIu",
        "outputId": "45307d79-4c83-497e-c723-acd57a35d4fe"
      },
      "source": [
        "lotus['price_NGN'].describe()"
      ],
      "execution_count": null,
      "outputs": [
        {
          "output_type": "execute_result",
          "data": {
            "text/plain": [
              "count        110.00\n",
              "mean    15983804.69\n",
              "std      7102119.80\n",
              "min      2201228.00\n",
              "25%     10730084.00\n",
              "50%     15125240.00\n",
              "75%     19978839.00\n",
              "max     35125404.00\n",
              "Name: price_NGN, dtype: float64"
            ]
          },
          "metadata": {
            "tags": []
          },
          "execution_count": 168
        }
      ]
    },
    {
      "cell_type": "code",
      "metadata": {
        "colab": {
          "base_uri": "https://localhost:8080/",
          "height": 164
        },
        "id": "umeuJy3HDXN4",
        "outputId": "7c65c656-4b8f-48c3-c469-d1b81ee6ac5a"
      },
      "source": [
        "lotus.groupby('model').agg({'price_NGN': ['min', 'max']})"
      ],
      "execution_count": null,
      "outputs": [
        {
          "output_type": "execute_result",
          "data": {
            "text/html": [
              "<div>\n",
              "<style scoped>\n",
              "    .dataframe tbody tr th:only-of-type {\n",
              "        vertical-align: middle;\n",
              "    }\n",
              "\n",
              "    .dataframe tbody tr th {\n",
              "        vertical-align: top;\n",
              "    }\n",
              "\n",
              "    .dataframe thead tr th {\n",
              "        text-align: left;\n",
              "    }\n",
              "\n",
              "    .dataframe thead tr:last-of-type th {\n",
              "        text-align: right;\n",
              "    }\n",
              "</style>\n",
              "<table border=\"1\" class=\"dataframe\">\n",
              "  <thead>\n",
              "    <tr>\n",
              "      <th></th>\n",
              "      <th colspan=\"2\" halign=\"left\">price_NGN</th>\n",
              "    </tr>\n",
              "    <tr>\n",
              "      <th></th>\n",
              "      <th>min</th>\n",
              "      <th>max</th>\n",
              "    </tr>\n",
              "    <tr>\n",
              "      <th>model</th>\n",
              "      <th></th>\n",
              "      <th></th>\n",
              "    </tr>\n",
              "  </thead>\n",
              "  <tbody>\n",
              "    <tr>\n",
              "      <th>elise</th>\n",
              "      <td>2201228</td>\n",
              "      <td>22404292</td>\n",
              "    </tr>\n",
              "    <tr>\n",
              "      <th>esprit</th>\n",
              "      <td>9581420</td>\n",
              "      <td>22006512</td>\n",
              "    </tr>\n",
              "  </tbody>\n",
              "</table>\n",
              "</div>"
            ],
            "text/plain": [
              "       price_NGN          \n",
              "             min       max\n",
              "model                     \n",
              "elise    2201228  22404292\n",
              "esprit   9581420  22006512"
            ]
          },
          "metadata": {
            "tags": []
          },
          "execution_count": 169
        }
      ]
    },
    {
      "cell_type": "markdown",
      "metadata": {
        "id": "A23v1ZfaD1tj"
      },
      "source": [
        "Leading with the pricing aggregates in the table above, the floor - ceiling pricing is pegged between 2,200,000 NGN and 23,000,000 NGN."
      ]
    },
    {
      "cell_type": "code",
      "metadata": {
        "id": "bnrCDCGxDXmr"
      },
      "source": [
        "lotus.loc[lotus['price_NGN'] < 2200000, 'price_NGN'] = np.nan\n",
        "lotus.loc[lotus['price_NGN'] > 23000000, 'price_NGN'] = np.nan"
      ],
      "execution_count": null,
      "outputs": []
    },
    {
      "cell_type": "code",
      "metadata": {
        "colab": {
          "base_uri": "https://localhost:8080/"
        },
        "id": "RNst8g7iDXyA",
        "outputId": "31076c25-5cb0-4e52-ef63-8d0a766ac2d2"
      },
      "source": [
        "lotus['price_NGN'].describe()"
      ],
      "execution_count": null,
      "outputs": [
        {
          "output_type": "execute_result",
          "data": {
            "text/plain": [
              "count         96.00\n",
              "mean    14143110.79\n",
              "std      5318552.18\n",
              "min      2201228.00\n",
              "25%     10497793.00\n",
              "50%     13677328.00\n",
              "75%     19931828.00\n",
              "max     22826972.00\n",
              "Name: price_NGN, dtype: float64"
            ]
          },
          "metadata": {
            "tags": []
          },
          "execution_count": 171
        }
      ]
    },
    {
      "cell_type": "markdown",
      "metadata": {
        "id": "IH3RNvCUET4g"
      },
      "source": [
        "##### Smart"
      ]
    },
    {
      "cell_type": "code",
      "metadata": {
        "colab": {
          "base_uri": "https://localhost:8080/"
        },
        "id": "W4S3Hbj2DX7j",
        "outputId": "5a4df3c1-2f3d-4586-9d8a-dd0d8280a7de"
      },
      "source": [
        "smart['price_NGN'].describe()"
      ],
      "execution_count": null,
      "outputs": [
        {
          "output_type": "execute_result",
          "data": {
            "text/plain": [
              "count       11052.00\n",
              "mean      2668590.56\n",
              "std       3199688.70\n",
              "min          5920.00\n",
              "25%       1520389.00\n",
              "50%       2520280.00\n",
              "75%       3662428.00\n",
              "max     295958624.00\n",
              "Name: price_NGN, dtype: float64"
            ]
          },
          "metadata": {
            "tags": []
          },
          "execution_count": 172
        }
      ]
    },
    {
      "cell_type": "code",
      "metadata": {
        "colab": {
          "base_uri": "https://localhost:8080/",
          "height": 194
        },
        "id": "ObGY_l1fDYFW",
        "outputId": "998e414f-f36d-4096-f00d-13fe30467b68"
      },
      "source": [
        "smart.groupby('model').agg({'price_NGN': ['min', 'max']})"
      ],
      "execution_count": null,
      "outputs": [
        {
          "output_type": "execute_result",
          "data": {
            "text/html": [
              "<div>\n",
              "<style scoped>\n",
              "    .dataframe tbody tr th:only-of-type {\n",
              "        vertical-align: middle;\n",
              "    }\n",
              "\n",
              "    .dataframe tbody tr th {\n",
              "        vertical-align: top;\n",
              "    }\n",
              "\n",
              "    .dataframe thead tr th {\n",
              "        text-align: left;\n",
              "    }\n",
              "\n",
              "    .dataframe thead tr:last-of-type th {\n",
              "        text-align: right;\n",
              "    }\n",
              "</style>\n",
              "<table border=\"1\" class=\"dataframe\">\n",
              "  <thead>\n",
              "    <tr>\n",
              "      <th></th>\n",
              "      <th colspan=\"2\" halign=\"left\">price_NGN</th>\n",
              "    </tr>\n",
              "    <tr>\n",
              "      <th></th>\n",
              "      <th>min</th>\n",
              "      <th>max</th>\n",
              "    </tr>\n",
              "    <tr>\n",
              "      <th>model</th>\n",
              "      <th></th>\n",
              "      <th></th>\n",
              "    </tr>\n",
              "  </thead>\n",
              "  <tbody>\n",
              "    <tr>\n",
              "      <th>forfour</th>\n",
              "      <td>29680</td>\n",
              "      <td>7388736</td>\n",
              "    </tr>\n",
              "    <tr>\n",
              "      <th>fortwo</th>\n",
              "      <td>7400</td>\n",
              "      <td>80011844</td>\n",
              "    </tr>\n",
              "    <tr>\n",
              "      <th>micro-compact</th>\n",
              "      <td>515172</td>\n",
              "      <td>962252</td>\n",
              "    </tr>\n",
              "  </tbody>\n",
              "</table>\n",
              "</div>"
            ],
            "text/plain": [
              "              price_NGN          \n",
              "                    min       max\n",
              "model                            \n",
              "forfour           29680   7388736\n",
              "fortwo             7400  80011844\n",
              "micro-compact    515172    962252"
            ]
          },
          "metadata": {
            "tags": []
          },
          "execution_count": 173
        }
      ]
    },
    {
      "cell_type": "markdown",
      "metadata": {
        "id": "eCAFWY-xElhY"
      },
      "source": [
        "Leading with the pricing aggregates in the table above, the floor - ceiling pricing is pegged between 500,000 NGN and 10,000,000 NGN."
      ]
    },
    {
      "cell_type": "code",
      "metadata": {
        "id": "AvMkulQgDYex"
      },
      "source": [
        "smart.loc[smart['price_NGN'] < 500000, 'price_NGN'] = np.nan\n",
        "smart.loc[smart['price_NGN'] > 10000000, 'price_NGN'] = np.nan"
      ],
      "execution_count": null,
      "outputs": []
    },
    {
      "cell_type": "code",
      "metadata": {
        "colab": {
          "base_uri": "https://localhost:8080/"
        },
        "id": "jE1lD4KcDY7c",
        "outputId": "56c0ccc0-5b0d-44ec-8418-78988005e6bb"
      },
      "source": [
        "smart['price_NGN'].describe()"
      ],
      "execution_count": null,
      "outputs": [
        {
          "output_type": "execute_result",
          "data": {
            "text/plain": [
              "count     10831.00\n",
              "mean    2677753.05\n",
              "std     1349491.21\n",
              "min      500044.00\n",
              "25%     1580236.00\n",
              "50%     2557572.00\n",
              "75%     3681212.00\n",
              "max     9782280.00\n",
              "Name: price_NGN, dtype: float64"
            ]
          },
          "metadata": {
            "tags": []
          },
          "execution_count": 175
        }
      ]
    },
    {
      "cell_type": "markdown",
      "metadata": {
        "id": "_hjxgpt9MSu-"
      },
      "source": [
        "# Handling Missing Values"
      ]
    },
    {
      "cell_type": "markdown",
      "metadata": {
        "id": "NzjPEsycMk4D"
      },
      "source": [
        "Missing values shall be imputed using the KNNImputer which uses a similarity metric for filling in missing values.\n",
        "\n",
        "As KNN does not work on categorical data, the categorical data, except the model variable, will be encoded. "
      ]
    },
    {
      "cell_type": "code",
      "metadata": {
        "id": "xYtmgLJylAfi"
      },
      "source": [
        "imputer = KNNImputer(n_neighbors = 2, weights = 'distance', metric = 'nan_euclidean')"
      ],
      "execution_count": null,
      "outputs": []
    },
    {
      "cell_type": "markdown",
      "metadata": {
        "id": "D4Ht7p6shnO2"
      },
      "source": [
        "##### Audi"
      ]
    },
    {
      "cell_type": "code",
      "metadata": {
        "colab": {
          "background_save": true
        },
        "id": "CkUnJ4pZeJ8w"
      },
      "source": [
        "audi_coded = [pd.get_dummies(audi['body_type'], prefix = 'body_type', prefix_sep = '_'), \n",
        "           pd.get_dummies(audi['transmission'], prefix = 'transmission', prefix_sep = '_'),\n",
        "           pd.get_dummies(audi['fuel_type'], prefix = 'fuel_type', prefix_sep = '_')]\n",
        "\n",
        "audi_coded = pd.concat(audi_coded, axis = 1)\n",
        "audi = pd.concat([audi, audi_coded], axis = 1)\n",
        "audi = audi.drop(columns = ['body_type', 'transmission', 'fuel_type'])\n",
        "audi_num = audi.select_dtypes(exclude = ['object'])\n",
        "audi_cat = audi.select_dtypes(exclude = ['number'])\n",
        "audi_num = imputer.fit_transform(audi_num)\n",
        "audi_num = pd.DataFrame(data = audi_num[:, :], columns = ['mileage', 'manufacture_year', 'engine_displacement', 'engine_power', \n",
        "                                                          'door_count', 'seat_count', 'price_NGN', 'body_type_compact', \n",
        "                                                          'transmission_auto', 'transmission_man', 'fuel_type_diesel', 'fuel_type_gasoline'])\n",
        "audi = pd.concat([audi_cat, audi_num], axis = 1)\n",
        "audi = audi[['make', 'model', 'mileage', 'manufacture_year', 'engine_displacement', 'engine_power', 'door_count', 'seat_count', \n",
        "             'body_type_compact', 'transmission_auto', 'transmission_man', 'fuel_type_diesel', \n",
        "             'fuel_type_gasoline', 'date', 'time', 'price_NGN']]"
      ],
      "execution_count": null,
      "outputs": []
    },
    {
      "cell_type": "markdown",
      "metadata": {
        "id": "NxsitsLlhusZ"
      },
      "source": [
        "##### Bentley"
      ]
    },
    {
      "cell_type": "code",
      "metadata": {
        "colab": {
          "background_save": true
        },
        "id": "F2bkzsVLhxRk"
      },
      "source": [
        "bentley_coded = [pd.get_dummies(bentley['body_type'], prefix = 'body_type', prefix_sep = '_'), \n",
        "           pd.get_dummies(bentley['transmission'], prefix = 'transmission', prefix_sep = '_'),\n",
        "           pd.get_dummies(bentley['fuel_type'], prefix = 'fuel_type', prefix_sep = '_')]\n",
        "\n",
        "bentley_coded = pd.concat(bentley_coded, axis = 1)\n",
        "bentley = pd.concat([bentley, bentley_coded], axis = 1)\n",
        "bentley = bentley.drop(columns = ['body_type', 'transmission', 'fuel_type'])\n",
        "bentley_num = bentley.select_dtypes(exclude = ['object'])\n",
        "bentley_cat = bentley.select_dtypes(exclude = ['number'])\n",
        "bentley_num = imputer.fit_transform(bentley_num)\n",
        "bentley_num = pd.DataFrame(data = bentley_num[:, :], columns = ['mileage', 'manufacture_year', 'engine_displacement', 'engine_power', \n",
        "                                                          'door_count', 'seat_count', 'price_NGN', 'body_type_compact', \n",
        "                                                          'transmission_auto', 'transmission_man', 'fuel_type_gasoline'])\n",
        "bentley = pd.concat([bentley_cat, bentley_num], axis = 1)\n",
        "bentley = bentley[['make', 'model', 'mileage', 'manufacture_year', 'engine_displacement', 'engine_power', 'door_count', \n",
        "                   'seat_count', 'body_type_compact', 'transmission_auto', 'transmission_man', \n",
        "                   'fuel_type_gasoline', 'date', 'time', 'price_NGN']]"
      ],
      "execution_count": null,
      "outputs": []
    },
    {
      "cell_type": "markdown",
      "metadata": {
        "id": "X9zbULgHiZ9R"
      },
      "source": [
        "##### BMW"
      ]
    },
    {
      "cell_type": "code",
      "metadata": {
        "colab": {
          "background_save": true
        },
        "id": "G9dwFvEpeJxl"
      },
      "source": [
        "bmw_coded = [pd.get_dummies(bmw['body_type'], prefix = 'body_type', prefix_sep = '_'), \n",
        "           pd.get_dummies(bmw['transmission'], prefix = 'transmission', prefix_sep = '_'),\n",
        "           pd.get_dummies(bmw['fuel_type'], prefix = 'fuel_type', prefix_sep = '_')]\n",
        "\n",
        "bmw_coded = pd.concat(bmw_coded, axis = 1)\n",
        "bmw = pd.concat([bmw, bmw_coded], axis = 1)\n",
        "bmw = bmw.drop(columns = ['body_type', 'transmission', 'fuel_type'])\n",
        "bmw_num = bmw.select_dtypes(exclude = ['object'])\n",
        "bmw_cat = bmw.select_dtypes(exclude = ['number'])\n",
        "bmw_num = imputer.fit_transform(bmw_num)\n",
        "bmw_num = pd.DataFrame(data = bmw_num[:, :], columns = ['mileage', 'manufacture_year', 'engine_displacement', 'engine_power', \n",
        "                                                        'door_count', 'seat_count', 'price_NGN', 'body_type_compact', \n",
        "                                                        'transmission_auto', 'transmission_man', 'fuel_type_diesel', 'fuel_type_gasoline'])\n",
        "bmw = pd.concat([bmw_cat, bmw_num], axis = 1)\n",
        "bmw = bmw[['make', 'model', 'mileage', 'manufacture_year', 'engine_displacement', 'engine_power', 'door_count', 'seat_count', \n",
        "           'body_type_compact', 'transmission_auto', 'transmission_man', 'fuel_type_diesel', \n",
        "           'fuel_type_gasoline', 'date', 'time', 'price_NGN']]"
      ],
      "execution_count": null,
      "outputs": []
    },
    {
      "cell_type": "markdown",
      "metadata": {
        "id": "NQJZmilojFnQ"
      },
      "source": [
        "##### Chevrolet"
      ]
    },
    {
      "cell_type": "code",
      "metadata": {
        "colab": {
          "background_save": true
        },
        "id": "L1ubFOL-eJtU"
      },
      "source": [
        "chevrolet_coded = [pd.get_dummies(chevrolet['body_type'], prefix = 'body_type', prefix_sep = '_'), \n",
        "           pd.get_dummies(chevrolet['transmission'], prefix = 'transmission', prefix_sep = '_'),\n",
        "           pd.get_dummies(chevrolet['fuel_type'], prefix = 'fuel_type', prefix_sep = '_')]\n",
        "\n",
        "chevrolet_coded = pd.concat(chevrolet_coded, axis = 1)\n",
        "chevrolet = pd.concat([chevrolet, chevrolet_coded], axis = 1)\n",
        "chevrolet = chevrolet.drop(columns = ['body_type', 'transmission', 'fuel_type'])\n",
        "chevrolet_num = chevrolet.select_dtypes(exclude = ['object'])\n",
        "chevrolet_cat = chevrolet.select_dtypes(exclude = ['number'])\n",
        "chevrolet_num = imputer.fit_transform(chevrolet_num)\n",
        "chevrolet_num = pd.DataFrame(data = chevrolet_num[:, :], columns = ['mileage', 'manufacture_year', 'engine_displacement', 'engine_power', \n",
        "                                                                    'door_count', 'seat_count', 'price_NGN', 'body_type_compact', \n",
        "                                                                    'body_type_van', 'transmission_auto', 'transmission_man', \n",
        "                                                                    'fuel_type_diesel', 'fuel_type_gasoline'])\n",
        "chevrolet = pd.concat([chevrolet_cat, chevrolet_num], axis = 1)\n",
        "chevrolet = chevrolet[['make', 'model', 'mileage', 'manufacture_year', 'engine_displacement', 'engine_power', 'door_count', \n",
        "                       'seat_count', 'body_type_compact', 'body_type_van', 'transmission_auto', 'transmission_man', \n",
        "                       'fuel_type_diesel', 'fuel_type_gasoline', 'date', 'time', 'price_NGN']]"
      ],
      "execution_count": null,
      "outputs": []
    },
    {
      "cell_type": "markdown",
      "metadata": {
        "id": "ql9c7mSNj3Hu"
      },
      "source": [
        "##### Chrysler"
      ]
    },
    {
      "cell_type": "code",
      "metadata": {
        "colab": {
          "background_save": true
        },
        "id": "LNBYxznWkAQ_"
      },
      "source": [
        "chrysler_coded = [pd.get_dummies(chrysler['body_type'], prefix = 'body_type', prefix_sep = '_'), \n",
        "           pd.get_dummies(chrysler['transmission'], prefix = 'transmission', prefix_sep = '_'),\n",
        "           pd.get_dummies(chrysler['fuel_type'], prefix = 'fuel_type', prefix_sep = '_')]\n",
        "\n",
        "chrysler_coded = pd.concat(chrysler_coded, axis = 1)\n",
        "chrysler = pd.concat([chrysler, chrysler_coded], axis = 1)\n",
        "chrysler = chrysler.drop(columns = ['body_type', 'transmission', 'fuel_type'])\n",
        "chrysler_num = chrysler.select_dtypes(exclude = ['object'])\n",
        "chrysler_cat = chrysler.select_dtypes(exclude = ['number'])\n",
        "chrysler_num = imputer.fit_transform(chrysler_num)\n",
        "chrysler_num = pd.DataFrame(data = chrysler_num[:, :], columns = ['mileage', 'manufacture_year', 'engine_displacement', 'engine_power', \n",
        "                                                                  'door_count', 'seat_count', 'price_NGN', 'body_type_compact', \n",
        "                                                                  'body_type_van', 'transmission_auto', 'transmission_man', \n",
        "                                                                  'fuel_type_diesel', 'fuel_type_gasoline'])\n",
        "chrysler = pd.concat([chrysler_cat, chrysler_num], axis = 1)\n",
        "chrysler = chrysler[['make', 'model', 'mileage', 'manufacture_year', 'engine_displacement', 'engine_power', 'door_count', 'seat_count', \n",
        "                     'body_type_compact', 'body_type_van', 'transmission_auto', 'transmission_man', 'fuel_type_diesel', \n",
        "                     'fuel_type_gasoline', 'date', 'time', 'price_NGN']]"
      ],
      "execution_count": null,
      "outputs": []
    },
    {
      "cell_type": "markdown",
      "metadata": {
        "id": "4uIkPqAUkiJW"
      },
      "source": [
        "##### Citroen"
      ]
    },
    {
      "cell_type": "code",
      "metadata": {
        "colab": {
          "background_save": true
        },
        "id": "7Z-eFtCKklzT"
      },
      "source": [
        "citroen_coded = [pd.get_dummies(citroen['body_type'], prefix = 'body_type', prefix_sep = '_'), \n",
        "           pd.get_dummies(citroen['transmission'], prefix = 'transmission', prefix_sep = '_'),\n",
        "           pd.get_dummies(citroen['fuel_type'], prefix = 'fuel_type', prefix_sep = '_')]\n",
        "\n",
        "citroen_coded = pd.concat(citroen_coded, axis = 1)\n",
        "citroen = pd.concat([citroen, citroen_coded], axis = 1)\n",
        "citroen = citroen.drop(columns = ['body_type', 'transmission', 'fuel_type'])\n",
        "citroen_num = citroen.select_dtypes(exclude = ['object'])\n",
        "citroen_cat = citroen.select_dtypes(exclude = ['number'])\n",
        "citroen_num = imputer.fit_transform(citroen_num)\n",
        "citroen_num = pd.DataFrame(data = citroen_num[:, :], columns = ['mileage', 'manufacture_year', 'engine_displacement', 'engine_power', \n",
        "                                                                'door_count', 'seat_count', 'price_NGN', 'body_type_compact', \n",
        "                                                                'body_type_van', 'transmission_auto', 'transmission_man', \n",
        "                                                                'fuel_type_diesel', 'fuel_type_gasoline'])\n",
        "citroen = pd.concat([citroen_cat, citroen_num], axis = 1)\n",
        "citroen = citroen[['make', 'model', 'mileage', 'manufacture_year', 'engine_displacement', 'engine_power', 'door_count', \n",
        "                   'seat_count', 'body_type_compact', 'body_type_van', 'transmission_auto', \n",
        "                   'transmission_man', 'fuel_type_diesel', 'fuel_type_gasoline', 'date', 'time', 'price_NGN']]"
      ],
      "execution_count": null,
      "outputs": []
    },
    {
      "cell_type": "markdown",
      "metadata": {
        "id": "GtLUj6SelNl4"
      },
      "source": [
        "##### Dodge"
      ]
    },
    {
      "cell_type": "code",
      "metadata": {
        "colab": {
          "background_save": true
        },
        "id": "bGUZwzlblQQj"
      },
      "source": [
        "dodge_coded = [pd.get_dummies(dodge['body_type'], prefix = 'body_type', prefix_sep = '_'), \n",
        "           pd.get_dummies(dodge['transmission'], prefix = 'transmission', prefix_sep = '_'),\n",
        "           pd.get_dummies(dodge['fuel_type'], prefix = 'fuel_type', prefix_sep = '_')]\n",
        "\n",
        "dodge_coded = pd.concat(dodge_coded, axis = 1)\n",
        "dodge = pd.concat([dodge, dodge_coded], axis = 1)\n",
        "dodge = dodge.drop(columns = ['body_type', 'transmission', 'fuel_type'])\n",
        "dodge_num = dodge.select_dtypes(exclude = ['object'])\n",
        "dodge_cat = dodge.select_dtypes(exclude = ['number'])\n",
        "dodge_num = imputer.fit_transform(dodge_num)\n",
        "dodge_num = pd.DataFrame(data = dodge_num[:, :], columns = ['mileage', 'manufacture_year', 'engine_displacement', 'engine_power', \n",
        "                                                            'door_count', 'seat_count', 'price_NGN', 'body_type_compact', \n",
        "                                                            'body_type_van', 'transmission_auto', 'transmission_man', \n",
        "                                                            'fuel_type_diesel', 'fuel_type_gasoline'])\n",
        "dodge = pd.concat([dodge_cat, dodge_num], axis = 1)\n",
        "dodge = dodge[['make', 'model', 'mileage', 'manufacture_year', 'engine_displacement', 'engine_power', 'door_count', 'seat_count', \n",
        "               'body_type_compact', 'body_type_van', 'transmission_auto', 'transmission_man', \n",
        "               'fuel_type_diesel', 'fuel_type_gasoline', 'date', 'time', 'price_NGN']]"
      ],
      "execution_count": null,
      "outputs": []
    },
    {
      "cell_type": "markdown",
      "metadata": {
        "id": "n4u_zly2l7hV"
      },
      "source": [
        "##### Fiat"
      ]
    },
    {
      "cell_type": "code",
      "metadata": {
        "colab": {
          "background_save": true
        },
        "id": "QU8px_0ol9bj"
      },
      "source": [
        "fiat_coded = [pd.get_dummies(fiat['body_type'], prefix = 'body_type', prefix_sep = '_'), \n",
        "           pd.get_dummies(fiat['transmission'], prefix = 'transmission', prefix_sep = '_'),\n",
        "           pd.get_dummies(fiat['fuel_type'], prefix = 'fuel_type', prefix_sep = '_')]\n",
        "\n",
        "fiat_coded = pd.concat(fiat_coded, axis = 1)\n",
        "fiat = pd.concat([fiat, fiat_coded], axis = 1)\n",
        "fiat = fiat.drop(columns = ['body_type', 'transmission', 'fuel_type'])\n",
        "fiat_num = fiat.select_dtypes(exclude = ['object'])\n",
        "fiat_cat = fiat.select_dtypes(exclude = ['number'])\n",
        "fiat_num = imputer.fit_transform(fiat_num)\n",
        "fiat_num = pd.DataFrame(data = fiat_num[:, :], columns = ['mileage', 'manufacture_year', 'engine_displacement', 'engine_power', \n",
        "                                                          'door_count', 'seat_count', 'price_NGN', 'body_type_compact', \n",
        "                                                          'body_type_van', 'transmission_auto', 'transmission_man', \n",
        "                                                          'fuel_type_diesel', 'fuel_type_gasoline'])\n",
        "fiat = pd.concat([fiat_cat, fiat_num], axis = 1)\n",
        "fiat = fiat[['make', 'model', 'mileage', 'manufacture_year', 'engine_displacement', 'engine_power', 'door_count', 'seat_count', \n",
        "             'body_type_compact', 'body_type_van', 'transmission_auto', 'transmission_man', 'fuel_type_diesel', \n",
        "             'fuel_type_gasoline', 'date', 'time', 'price_NGN']]"
      ],
      "execution_count": null,
      "outputs": []
    },
    {
      "cell_type": "markdown",
      "metadata": {
        "id": "VAWMijugminX"
      },
      "source": [
        "##### Ford"
      ]
    },
    {
      "cell_type": "code",
      "metadata": {
        "colab": {
          "background_save": true
        },
        "id": "URYmEA2dmkwa"
      },
      "source": [
        "ford_coded = [pd.get_dummies(ford['body_type'], prefix = 'body_type', prefix_sep = '_'), \n",
        "           pd.get_dummies(ford['transmission'], prefix = 'transmission', prefix_sep = '_'),\n",
        "           pd.get_dummies(ford['fuel_type'], prefix = 'fuel_type', prefix_sep = '_')]\n",
        "\n",
        "ford_coded = pd.concat(ford_coded, axis = 1)\n",
        "ford = pd.concat([ford, ford_coded], axis = 1)\n",
        "ford = ford.drop(columns = ['body_type', 'transmission', 'fuel_type'])\n",
        "ford_num = ford.select_dtypes(exclude = ['object'])\n",
        "ford_cat = ford.select_dtypes(exclude = ['number'])\n",
        "ford_num = imputer.fit_transform(ford_num)\n",
        "ford_num = pd.DataFrame(data = ford_num[:, :], columns = ['mileage', 'manufacture_year', 'engine_displacement', 'engine_power', \n",
        "                                                          'door_count', 'seat_count', 'price_NGN', 'body_type_compact', \n",
        "                                                          'body_type_van', 'transmission_auto', 'transmission_man', \n",
        "                                                          'fuel_type_diesel', 'fuel_type_gasoline'])\n",
        "ford = pd.concat([ford_cat, ford_num], axis = 1)\n",
        "ford = ford[['make', 'model', 'mileage', 'manufacture_year', 'engine_displacement', 'engine_power', 'door_count', 'seat_count', \n",
        "             'body_type_compact', 'body_type_van', 'transmission_auto', 'transmission_man', 'fuel_type_diesel', \n",
        "             'fuel_type_gasoline', 'date', 'time', 'price_NGN']]"
      ],
      "execution_count": null,
      "outputs": []
    },
    {
      "cell_type": "markdown",
      "metadata": {
        "id": "d7agFE2MnHWv"
      },
      "source": [
        "##### Honda"
      ]
    },
    {
      "cell_type": "code",
      "metadata": {
        "colab": {
          "background_save": true
        },
        "id": "83FAqLhZkAM-"
      },
      "source": [
        "honda_coded = [pd.get_dummies(honda['body_type'], prefix = 'body_type', prefix_sep = '_'), \n",
        "           pd.get_dummies(honda['transmission'], prefix = 'transmission', prefix_sep = '_'), \n",
        "           pd.get_dummies(honda['fuel_type'], prefix = 'fuel_type', prefix_sep = '_')]\n",
        "\n",
        "honda_coded = pd.concat(honda_coded, axis = 1)\n",
        "honda = pd.concat([honda, honda_coded], axis = 1)\n",
        "honda = honda.drop(columns = ['body_type', 'transmission', 'fuel_type'])\n",
        "honda_num = honda.select_dtypes(exclude = ['object'])\n",
        "honda_cat = honda.select_dtypes(exclude = ['number'])\n",
        "honda_num = imputer.fit_transform(honda_num)\n",
        "honda_num = pd.DataFrame(data = honda_num[:, :], columns = ['mileage', 'manufacture_year', 'engine_displacement', 'engine_power', \n",
        "                                                            'door_count', 'seat_count', 'price_NGN', 'body_type_compact', \n",
        "                                                            'transmission_auto', 'transmission_man', 'fuel_type_diesel', \n",
        "                                                            'fuel_type_gasoline'])\n",
        "honda = pd.concat([honda_cat, honda_num], axis = 1)\n",
        "honda = honda[['make', 'model', 'mileage', 'manufacture_year', 'engine_displacement', 'engine_power', 'door_count', 'seat_count', \n",
        "               'body_type_compact', 'transmission_auto', 'transmission_man', 'fuel_type_diesel', 'fuel_type_gasoline', \n",
        "               'date', 'time', 'price_NGN']]"
      ],
      "execution_count": null,
      "outputs": []
    },
    {
      "cell_type": "markdown",
      "metadata": {
        "id": "QfMuY1eOntbs"
      },
      "source": [
        "##### Hyundai"
      ]
    },
    {
      "cell_type": "code",
      "metadata": {
        "colab": {
          "background_save": true
        },
        "id": "-NQ2sZpInwlE"
      },
      "source": [
        "hyundai_coded = [pd.get_dummies(hyundai['body_type'], prefix = 'body_type', prefix_sep = '_'), \n",
        "           pd.get_dummies(hyundai['transmission'], prefix = 'transmission', prefix_sep = '_'),\n",
        "           pd.get_dummies(hyundai['fuel_type'], prefix = 'fuel_type', prefix_sep = '_')]\n",
        "\n",
        "hyundai_coded = pd.concat(hyundai_coded, axis = 1)\n",
        "hyundai = pd.concat([hyundai, hyundai_coded], axis = 1)\n",
        "hyundai = hyundai.drop(columns = ['body_type', 'transmission', 'fuel_type'])\n",
        "hyundai_num = hyundai.select_dtypes(exclude = ['object'])\n",
        "hyundai_cat = hyundai.select_dtypes(exclude = ['number'])\n",
        "hyundai_num = imputer.fit_transform(hyundai_num)\n",
        "hyundai_num = pd.DataFrame(data = hyundai_num[:, :], columns = ['mileage', 'manufacture_year', 'engine_displacement', 'engine_power', \n",
        "                                                                'door_count', 'seat_count', 'price_NGN', 'body_type_compact', \n",
        "                                                                'body_type_van', 'transmission_auto', 'transmission_man', \n",
        "                                                                'fuel_type_diesel', 'fuel_type_gasoline'])\n",
        "hyundai = pd.concat([hyundai_cat, hyundai_num], axis = 1)\n",
        "hyundai = hyundai[['make', 'model', 'mileage', 'manufacture_year', 'engine_displacement', 'engine_power', 'door_count', 'seat_count', \n",
        "                   'body_type_compact', 'body_type_van', 'transmission_auto', 'transmission_man', 'fuel_type_diesel', \n",
        "                   'fuel_type_gasoline', 'date', 'time', 'price_NGN']]"
      ],
      "execution_count": null,
      "outputs": []
    },
    {
      "cell_type": "markdown",
      "metadata": {
        "id": "TDueJqVToZZ4"
      },
      "source": [
        "##### Isuzu"
      ]
    },
    {
      "cell_type": "code",
      "metadata": {
        "colab": {
          "background_save": true
        },
        "id": "Z8Eq-kr-obwE"
      },
      "source": [
        "isuzu_coded = [pd.get_dummies(isuzu['body_type'], prefix = 'body_type', prefix_sep = '_'), \n",
        "           pd.get_dummies(isuzu['transmission'], prefix = 'transmission', prefix_sep = '_'), \n",
        "           pd.get_dummies(isuzu['fuel_type'], prefix = 'fuel_type', prefix_sep = '_')]\n",
        "\n",
        "isuzu_coded = pd.concat(isuzu_coded, axis = 1)\n",
        "isuzu = pd.concat([isuzu, isuzu_coded], axis = 1)\n",
        "isuzu = isuzu.drop(columns = ['body_type', 'transmission', 'fuel_type'])\n",
        "isuzu_num = isuzu.select_dtypes(exclude = ['object'])\n",
        "isuzu_cat = isuzu.select_dtypes(exclude = ['number'])\n",
        "isuzu_num = imputer.fit_transform(isuzu_num)\n",
        "isuzu_num = pd.DataFrame(data = isuzu_num[:, :], columns = ['mileage', 'manufacture_year', 'engine_displacement', 'engine_power', \n",
        "                                                            'door_count', 'seat_count', 'price_NGN', 'body_type_compact', \n",
        "                                                            'transmission_auto', 'transmission_man', 'fuel_type_diesel', \n",
        "                                                            'fuel_type_gasoline'])\n",
        "isuzu = pd.concat([isuzu_cat, isuzu_num], axis = 1)\n",
        "isuzu = isuzu[['make', 'model', 'mileage', 'manufacture_year', 'engine_displacement', 'engine_power', 'door_count', 'seat_count', \n",
        "               'body_type_compact', 'transmission_auto', 'transmission_man', 'fuel_type_diesel', \n",
        "               'fuel_type_gasoline', 'date', 'time', 'price_NGN']]"
      ],
      "execution_count": null,
      "outputs": []
    },
    {
      "cell_type": "markdown",
      "metadata": {
        "id": "qCkARr4rpCPY"
      },
      "source": [
        "##### Jaguar"
      ]
    },
    {
      "cell_type": "code",
      "metadata": {
        "colab": {
          "background_save": true
        },
        "id": "CjAeJIiVkAJY"
      },
      "source": [
        "jaguar_coded = [pd.get_dummies(jaguar['body_type'], prefix = 'body_type', prefix_sep = '_'), \n",
        "           pd.get_dummies(jaguar['transmission'], prefix = 'transmission', prefix_sep = '_'),\n",
        "           pd.get_dummies(jaguar['fuel_type'], prefix = 'fuel_type', prefix_sep = '_')]\n",
        "\n",
        "jaguar_coded = pd.concat(jaguar_coded, axis = 1)\n",
        "jaguar = pd.concat([jaguar, jaguar_coded], axis = 1)\n",
        "jaguar = jaguar.drop(columns = ['body_type', 'transmission', 'fuel_type'])\n",
        "jaguar_num = jaguar.select_dtypes(exclude = ['object'])\n",
        "jaguar_cat = jaguar.select_dtypes(exclude = ['number'])\n",
        "jaguar_num = imputer.fit_transform(jaguar_num)\n",
        "jaguar_num = pd.DataFrame(data = jaguar_num[:, :], columns = ['mileage', 'manufacture_year', 'engine_displacement', 'engine_power', \n",
        "                                                              'door_count', 'seat_count', 'price_NGN', 'body_type_compact', \n",
        "                                                              'transmission_auto', 'transmission_man', 'fuel_type_diesel', \n",
        "                                                              'fuel_type_gasoline'])\n",
        "jaguar = pd.concat([jaguar_cat, jaguar_num], axis = 1)\n",
        "jaguar = jaguar[['make', 'model', 'mileage', 'manufacture_year', 'engine_displacement', 'engine_power', 'door_count', 'seat_count', \n",
        "                 'body_type_compact', 'transmission_auto', 'transmission_man', 'fuel_type_diesel', \n",
        "                 'fuel_type_gasoline', 'date', 'time', 'price_NGN']]"
      ],
      "execution_count": null,
      "outputs": []
    },
    {
      "cell_type": "markdown",
      "metadata": {
        "id": "8XNawwShptjS"
      },
      "source": [
        "##### Jeep"
      ]
    },
    {
      "cell_type": "code",
      "metadata": {
        "colab": {
          "background_save": true
        },
        "id": "yBjNK7lOpwCP"
      },
      "source": [
        "jeep_coded = [pd.get_dummies(jeep['body_type'], prefix = 'body_type', prefix_sep = '_'), \n",
        "           pd.get_dummies(jeep['transmission'], prefix = 'transmission', prefix_sep = '_'),\n",
        "           pd.get_dummies(jeep['fuel_type'], prefix = 'fuel_type', prefix_sep = '_')]\n",
        "\n",
        "jeep_coded = pd.concat(jeep_coded, axis = 1)\n",
        "jeep = pd.concat([jeep, jeep_coded], axis = 1)\n",
        "jeep = jeep.drop(columns = ['body_type', 'transmission', 'fuel_type'])\n",
        "jeep_num = jeep.select_dtypes(exclude = ['object'])\n",
        "jeep_cat = jeep.select_dtypes(exclude = ['number'])\n",
        "jeep_num = imputer.fit_transform(jeep_num)\n",
        "jeep_num = pd.DataFrame(data = jeep_num[:, :], columns = ['mileage', 'manufacture_year', 'engine_displacement', 'engine_power', \n",
        "                                                          'door_count', 'seat_count', 'price_NGN', 'body_type_compact', \n",
        "                                                          'transmission_auto', 'transmission_man', 'fuel_type_diesel', \n",
        "                                                          'fuel_type_gasoline'])\n",
        "jeep = pd.concat([jeep_cat, jeep_num], axis = 1)\n",
        "jeep = jeep[['make', 'model', 'mileage', 'manufacture_year', 'engine_displacement', 'engine_power', 'door_count', 'seat_count', \n",
        "             'body_type_compact', 'transmission_auto', 'transmission_man', 'fuel_type_diesel', \n",
        "             'fuel_type_gasoline', 'date', 'time', 'price_NGN']]"
      ],
      "execution_count": null,
      "outputs": []
    },
    {
      "cell_type": "markdown",
      "metadata": {
        "id": "8EYDGwUUqhgb"
      },
      "source": [
        "##### Kia"
      ]
    },
    {
      "cell_type": "code",
      "metadata": {
        "colab": {
          "background_save": true
        },
        "id": "u9cMe6uEqlAi"
      },
      "source": [
        "kia_coded = [pd.get_dummies(kia['body_type'], prefix = 'body_type', prefix_sep = '_'), \n",
        "           pd.get_dummies(kia['transmission'], prefix = 'transmission', prefix_sep = '_'), \n",
        "           pd.get_dummies(kia['fuel_type'], prefix = 'fuel_type', prefix_sep = '_')]\n",
        "\n",
        "kia_coded = pd.concat(kia_coded, axis = 1)\n",
        "kia = pd.concat([kia, kia_coded], axis = 1)\n",
        "kia = kia.drop(columns = ['body_type', 'transmission', 'fuel_type'])\n",
        "kia_num = kia.select_dtypes(exclude = ['object'])\n",
        "kia_cat = kia.select_dtypes(exclude = ['number'])\n",
        "kia_num = imputer.fit_transform(kia_num)\n",
        "kia_num = pd.DataFrame(data = kia_num[:, :], columns = ['mileage', 'manufacture_year', 'engine_displacement', 'engine_power', \n",
        "                                                        'door_count', 'seat_count', 'price_NGN', 'body_type_compact', \n",
        "                                                        'transmission_auto', 'transmission_man', 'fuel_type_diesel', 'fuel_type_gasoline'])\n",
        "kia = pd.concat([kia_cat, kia_num], axis = 1)\n",
        "kia = kia[['make', 'model', 'mileage', 'manufacture_year', 'engine_displacement', 'engine_power', 'door_count', 'seat_count', \n",
        "           'body_type_compact', 'transmission_auto', 'transmission_man', 'fuel_type_diesel', \n",
        "           'fuel_type_gasoline', 'date', 'time', 'price_NGN']]"
      ],
      "execution_count": null,
      "outputs": []
    },
    {
      "cell_type": "markdown",
      "metadata": {
        "id": "q0-pnkNIrIEs"
      },
      "source": [
        "##### Lamborghini"
      ]
    },
    {
      "cell_type": "code",
      "metadata": {
        "colab": {
          "background_save": true
        },
        "id": "UCguiysgrKm4"
      },
      "source": [
        "lamborghini_coded = [pd.get_dummies(lamborghini['body_type'], prefix = 'body_type', prefix_sep = '_'), \n",
        "           pd.get_dummies(lamborghini['transmission'], prefix = 'transmission', prefix_sep = '_'),\n",
        "           pd.get_dummies(lamborghini['fuel_type'], prefix = 'fuel_type', prefix_sep = '_')]\n",
        "\n",
        "lamborghini_coded = pd.concat(lamborghini_coded, axis = 1)\n",
        "lamborghini = pd.concat([lamborghini, lamborghini_coded], axis = 1)\n",
        "lamborghini = lamborghini.drop(columns = ['body_type', 'transmission', 'fuel_type'])\n",
        "lamborghini_num = lamborghini.select_dtypes(exclude = ['object'])\n",
        "lamborghini_cat = lamborghini.select_dtypes(exclude = ['number'])\n",
        "lamborghini_num = imputer.fit_transform(lamborghini_num)\n",
        "lamborghini_num = pd.DataFrame(data = lamborghini_num[:, :], columns = ['mileage', 'manufacture_year', 'engine_displacement', \n",
        "                                                                        'engine_power', 'door_count', 'seat_count', 'price_NGN', \n",
        "                                                                        'transmission_auto', 'transmission_man', 'fuel_type_gasoline'])\n",
        "lamborghini = pd.concat([lamborghini_cat,lamborghini_num], axis = 1)\n",
        "lamborghini = lamborghini[['make', 'model', 'mileage', 'manufacture_year', 'engine_displacement', 'engine_power', 'door_count', \n",
        "                           'seat_count', 'transmission_auto', 'transmission_man', \n",
        "                           'fuel_type_gasoline', 'date', 'time', 'price_NGN']]"
      ],
      "execution_count": null,
      "outputs": []
    },
    {
      "cell_type": "markdown",
      "metadata": {
        "id": "5u7H07XMruK9"
      },
      "source": [
        "##### Lancia"
      ]
    },
    {
      "cell_type": "code",
      "metadata": {
        "colab": {
          "background_save": true
        },
        "id": "7zfDX9A5rxKu"
      },
      "source": [
        "lancia_coded = [pd.get_dummies(lancia['body_type'], prefix = 'body_type', prefix_sep = '_'), \n",
        "           pd.get_dummies(lancia['transmission'], prefix = 'transmission', prefix_sep = '_'), \n",
        "           pd.get_dummies(lancia['fuel_type'], prefix = 'fuel_type', prefix_sep = '_')]\n",
        "\n",
        "lancia_coded = pd.concat(lancia_coded, axis = 1)\n",
        "lancia = pd.concat([lancia, lancia_coded], axis = 1)\n",
        "lancia = lancia.drop(columns = ['body_type', 'transmission', 'fuel_type'])\n",
        "lancia_num = lancia.select_dtypes(exclude = ['object'])\n",
        "lancia_cat = lancia.select_dtypes(exclude = ['number'])\n",
        "lancia_num = imputer.fit_transform(lancia_num)\n",
        "lancia_num = pd.DataFrame(data = lancia_num[:, :], columns = ['mileage', 'manufacture_year', 'engine_displacement', 'engine_power', \n",
        "                                                          'door_count', 'seat_count', 'price_NGN', 'body_type_compact', \n",
        "                                                          'transmission_auto', 'transmission_man', 'fuel_type_diesel', \n",
        "                                                          'fuel_type_gasoline'])\n",
        "lancia = pd.concat([lancia_cat, lancia_num], axis = 1)\n",
        "lancia = lancia[['make', 'model', 'mileage', 'manufacture_year', 'engine_displacement', 'engine_power', 'door_count', 'seat_count', \n",
        "                 'body_type_compact', 'transmission_auto', 'transmission_man', 'fuel_type_diesel', \n",
        "                 'fuel_type_gasoline', 'date', 'time', 'price_NGN']]"
      ],
      "execution_count": null,
      "outputs": []
    },
    {
      "cell_type": "markdown",
      "metadata": {
        "id": "aE8HtzlUsXSS"
      },
      "source": [
        "##### Maserati"
      ]
    },
    {
      "cell_type": "code",
      "metadata": {
        "colab": {
          "background_save": true
        },
        "id": "1gGGsRxcsarz"
      },
      "source": [
        "maserati_coded = [pd.get_dummies(maserati['body_type'], prefix = 'body_type', prefix_sep = '_'), \n",
        "           pd.get_dummies(maserati['transmission'], prefix = 'transmission', prefix_sep = '_'),\n",
        "           pd.get_dummies(maserati['fuel_type'], prefix = 'fuel_type', prefix_sep = '_')]\n",
        "\n",
        "maserati_coded = pd.concat(maserati_coded, axis = 1)\n",
        "maserati = pd.concat([maserati, maserati_coded], axis = 1)\n",
        "maserati = maserati.drop(columns = ['body_type', 'transmission', 'fuel_type'])\n",
        "maserati_num = maserati.select_dtypes(exclude = ['object'])\n",
        "maserati_cat = maserati.select_dtypes(exclude = ['number'])\n",
        "maserati_num = imputer.fit_transform(maserati_num)\n",
        "maserati_num = pd.DataFrame(data = maserati_num[:, :], columns = ['mileage', 'manufacture_year', 'engine_displacement', 'engine_power', \n",
        "                                                                  'door_count', 'seat_count', 'price_NGN', 'body_type_compact', \n",
        "                                                                  'transmission_auto', 'transmission_man', 'fuel_type_diesel', \n",
        "                                                                  'fuel_type_gasoline'])\n",
        "maserati = pd.concat([maserati_cat, maserati_num], axis = 1)\n",
        "maserati = maserati[['make', 'model', 'mileage', 'manufacture_year', 'engine_displacement', 'engine_power', 'door_count', 'seat_count', \n",
        "                     'body_type_compact', 'transmission_auto', 'transmission_man', 'fuel_type_diesel', \n",
        "                     'fuel_type_gasoline', 'date', 'time', 'price_NGN']]"
      ],
      "execution_count": null,
      "outputs": []
    },
    {
      "cell_type": "markdown",
      "metadata": {
        "id": "nJA77hHNs-Ng"
      },
      "source": [
        "##### Mazda"
      ]
    },
    {
      "cell_type": "code",
      "metadata": {
        "colab": {
          "background_save": true
        },
        "id": "J2KNfmUatA8Q"
      },
      "source": [
        "mazda_coded = [pd.get_dummies(mazda['body_type'], prefix = 'body_type', prefix_sep = '_'), \n",
        "           pd.get_dummies(mazda['transmission'], prefix = 'transmission', prefix_sep = '_'),\n",
        "           pd.get_dummies(mazda['fuel_type'], prefix = 'fuel_type', prefix_sep = '_')]\n",
        "\n",
        "mazda_coded = pd.concat(mazda_coded, axis = 1)\n",
        "mazda = pd.concat([mazda, mazda_coded], axis = 1)\n",
        "mazda = mazda.drop(columns = ['body_type', 'transmission', 'fuel_type'])\n",
        "mazda_num = mazda.select_dtypes(exclude = ['object'])\n",
        "mazda_cat = mazda.select_dtypes(exclude = ['number'])\n",
        "mazda_num = imputer.fit_transform(mazda_num)\n",
        "mazda_num = pd.DataFrame(data = mazda_num[:, :], columns = ['mileage', 'manufacture_year', 'engine_displacement', 'engine_power', \n",
        "                                                            'door_count', 'seat_count', 'price_NGN', 'body_type_compact', \n",
        "                                                            'body_type_van', 'transmission_auto', 'transmission_man', \n",
        "                                                            'fuel_type_diesel', 'fuel_type_gasoline'])\n",
        "mazda = pd.concat([mazda_cat, mazda_num], axis = 1)\n",
        "mazda = mazda[['make', 'model', 'mileage', 'manufacture_year', 'engine_displacement', 'engine_power', 'door_count', 'seat_count', \n",
        "               'body_type_compact', 'body_type_van', 'transmission_auto', 'transmission_man', 'fuel_type_diesel', \n",
        "               'fuel_type_gasoline', 'date', 'time', 'price_NGN']]"
      ],
      "execution_count": null,
      "outputs": []
    },
    {
      "cell_type": "markdown",
      "metadata": {
        "id": "2cyDhnBDtpt7"
      },
      "source": [
        "##### Mercedes-Benz"
      ]
    },
    {
      "cell_type": "code",
      "metadata": {
        "colab": {
          "background_save": true
        },
        "id": "3PkVOeq_ttSh"
      },
      "source": [
        "mercedes_coded = [pd.get_dummies(mercedes['body_type'], prefix = 'body_type', prefix_sep = '_'), \n",
        "                  pd.get_dummies(mercedes['transmission'], prefix = 'transmission', prefix_sep = '_'), \n",
        "                  pd.get_dummies(mercedes['fuel_type'], prefix = 'fuel_type', prefix_sep = '_')]\n",
        "\n",
        "mercedes_coded = pd.concat(mercedes_coded, axis = 1)\n",
        "mercedes = pd.concat([mercedes, mercedes_coded], axis = 1)\n",
        "mercedes = mercedes.drop(columns = ['body_type', 'transmission', 'fuel_type'])\n",
        "mercedes_num = mercedes.select_dtypes(exclude = ['object'])\n",
        "mercedes_cat = mercedes.select_dtypes(exclude = ['number'])\n",
        "mercedes_num = imputer.fit_transform(mercedes_num)\n",
        "mercedes_num = pd.DataFrame(data = mercedes_num[:, :], columns = ['mileage', 'manufacture_year', 'engine_displacement', 'engine_power', \n",
        "                                                                  'door_count', 'seat_count', 'price_NGN', 'body_type_compact', \n",
        "                                                                  'body_type_van', 'transmission_auto', 'transmission_man', \n",
        "                                                                  'fuel_type_diesel', 'fuel_type_gasoline'])\n",
        "\n",
        "mercedes = pd.concat([mercedes_cat, mercedes_num], axis = 1)\n",
        "mercedes = mercedes[['make', 'model', 'mileage', 'manufacture_year', 'engine_displacement', 'engine_power', \n",
        "                     'door_count', 'seat_count', 'body_type_van', 'transmission_auto', 'transmission_man', \n",
        "                     'fuel_type_diesel', 'fuel_type_gasoline', 'date', 'time', 'price_NGN']]"
      ],
      "execution_count": null,
      "outputs": []
    },
    {
      "cell_type": "markdown",
      "metadata": {
        "id": "V-ugZnjfuSK5"
      },
      "source": [
        "##### Mini"
      ]
    },
    {
      "cell_type": "code",
      "metadata": {
        "colab": {
          "background_save": true
        },
        "id": "he3yeHunuUam"
      },
      "source": [
        "mini_coded = [pd.get_dummies(mini['body_type'], prefix = 'body_type', prefix_sep = '_'), \n",
        "              pd.get_dummies(mini['transmission'], prefix = 'transmission', prefix_sep = '_'), \n",
        "              pd.get_dummies(mini['fuel_type'], prefix = 'fuel_type', prefix_sep = '_')]\n",
        "\n",
        "mini_coded = pd.concat(mini_coded, axis = 1)\n",
        "mini = pd.concat([mini, mini_coded], axis = 1)\n",
        "mini = mini.drop(columns = ['body_type', 'transmission', 'fuel_type'])\n",
        "mini_num = mini.select_dtypes(exclude = ['object'])\n",
        "mini_cat = mini.select_dtypes(exclude = ['number'])\n",
        "mini_num = imputer.fit_transform(mini_num)\n",
        "mini_num = pd.DataFrame(data = mini_num[:, :], columns = ['mileage', 'manufacture_year', 'engine_displacement', 'engine_power', \n",
        "                                                          'door_count', 'seat_count', 'price_NGN', 'body_type_compact', \n",
        "                                                          'transmission_auto', 'transmission_man', 'fuel_type_diesel', 'fuel_type_gasoline'])\n",
        "mini = pd.concat([mini_cat, mini_num], axis = 1)\n",
        "mini = mini[['make', 'model', 'mileage', 'manufacture_year', 'engine_displacement', 'engine_power', 'door_count', 'seat_count', \n",
        "             'body_type_compact', 'transmission_auto', 'transmission_man', 'fuel_type_diesel', \n",
        "             'fuel_type_gasoline', 'date', 'time', 'price_NGN']]"
      ],
      "execution_count": null,
      "outputs": []
    },
    {
      "cell_type": "markdown",
      "metadata": {
        "id": "7Jiy192hvAm8"
      },
      "source": [
        "##### Mitsubishi"
      ]
    },
    {
      "cell_type": "code",
      "metadata": {
        "colab": {
          "background_save": true
        },
        "id": "rH9X1YQ8vECk"
      },
      "source": [
        "mitsubishi_coded = [pd.get_dummies(mitsubishi['body_type'], prefix = 'body_type', prefix_sep = '_'), \n",
        "           pd.get_dummies(mitsubishi['transmission'], prefix = 'transmission', prefix_sep = '_'), \n",
        "           pd.get_dummies(mitsubishi['fuel_type'], prefix = 'fuel_type', prefix_sep = '_')]\n",
        "\n",
        "mitsubishi_coded = pd.concat(mitsubishi_coded, axis = 1)\n",
        "mitsubishi = pd.concat([mitsubishi, mitsubishi_coded], axis = 1)\n",
        "mitsubishi = mitsubishi.drop(columns = ['body_type', 'transmission', 'fuel_type'])\n",
        "mitsubishi_num = mitsubishi.select_dtypes(exclude = ['object'])\n",
        "mitsubishi_cat = mitsubishi.select_dtypes(exclude = ['number'])\n",
        "mitsubishi_num = imputer.fit_transform(mitsubishi_num)\n",
        "mitsubishi_num = pd.DataFrame(data = mitsubishi_num[:, :], columns = ['mileage', 'manufacture_year', 'engine_displacement', \n",
        "                                                                      'engine_power', 'door_count', 'seat_count', 'price_NGN', \n",
        "                                                                      'body_type_compact', 'transmission_auto', 'transmission_man', \n",
        "                                                                      'fuel_type_diesel', 'fuel_type_gasoline'])\n",
        "\n",
        "mitsubishi = pd.concat([mitsubishi_cat, mitsubishi_num], axis = 1)\n",
        "mitsubishi = mitsubishi[['make', 'model', 'mileage', 'manufacture_year', 'engine_displacement', 'engine_power', 'door_count', \n",
        "                         'seat_count', 'body_type_compact', 'transmission_auto', 'transmission_man', \n",
        "                         'fuel_type_diesel', 'fuel_type_gasoline', 'date', 'time', 'price_NGN']]"
      ],
      "execution_count": null,
      "outputs": []
    },
    {
      "cell_type": "markdown",
      "metadata": {
        "id": "Lfon1i9jvrOr"
      },
      "source": [
        "##### Nissan"
      ]
    },
    {
      "cell_type": "code",
      "metadata": {
        "colab": {
          "background_save": true
        },
        "id": "yWrHB9lVvtz7"
      },
      "source": [
        "nissan_coded = [pd.get_dummies(nissan['body_type'], prefix = 'body_type', prefix_sep = '_'), \n",
        "           pd.get_dummies(nissan['transmission'], prefix = 'transmission', prefix_sep = '_'), \n",
        "           pd.get_dummies(nissan['fuel_type'], prefix = 'fuel_type', prefix_sep = '_')]\n",
        "\n",
        "nissan_coded = pd.concat(nissan_coded, axis = 1)\n",
        "nissan = pd.concat([nissan, nissan_coded], axis = 1)\n",
        "nissan = nissan.drop(columns = ['body_type', 'transmission', 'fuel_type'])\n",
        "nissan_num = nissan.select_dtypes(exclude = ['object'])\n",
        "nissan_cat = nissan.select_dtypes(exclude = ['number'])\n",
        "nissan_num = imputer.fit_transform(nissan_num)\n",
        "nissan_num = pd.DataFrame(data = nissan_num[:, :], columns = ['mileage', 'manufacture_year', 'engine_displacement', 'engine_power', \n",
        "                                                              'door_count', 'seat_count', 'price_NGN', 'body_type_compact', \n",
        "                                                              'transmission_auto', 'transmission_man', 'fuel_type_diesel', 'fuel_type_gasoline'])\n",
        "nissan = pd.concat([nissan_cat, nissan_num], axis = 1)\n",
        "nissan = nissan[['make', 'model', 'mileage', 'manufacture_year', 'engine_displacement', 'engine_power', 'door_count', 'seat_count', \n",
        "                 'body_type_compact', 'transmission_auto', 'transmission_man', 'fuel_type_diesel', \n",
        "                 'fuel_type_gasoline', 'date', 'time', 'price_NGN']]"
      ],
      "execution_count": null,
      "outputs": []
    },
    {
      "cell_type": "markdown",
      "metadata": {
        "id": "8EewTbuCwXST"
      },
      "source": [
        "##### Opel"
      ]
    },
    {
      "cell_type": "code",
      "metadata": {
        "colab": {
          "background_save": true
        },
        "id": "6ABXhrsWkAGB"
      },
      "source": [
        "opel_coded = [pd.get_dummies(opel['body_type'], prefix = 'body_type', prefix_sep = '_'), \n",
        "           pd.get_dummies(opel['transmission'], prefix = 'transmission', prefix_sep = '_'), \n",
        "           pd.get_dummies(opel['fuel_type'], prefix = 'fuel_type', prefix_sep = '_')]\n",
        "\n",
        "opel_coded = pd.concat(opel_coded, axis = 1)\n",
        "opel = pd.concat([opel, opel_coded], axis = 1)\n",
        "opel = opel.drop(columns = ['body_type', 'transmission', 'fuel_type'])\n",
        "opel_num = opel.select_dtypes(exclude = ['object'])\n",
        "opel_cat = opel.select_dtypes(exclude = ['number'])\n",
        "opel_num = imputer.fit_transform(opel_num)\n",
        "opel_num = pd.DataFrame(data = opel_num[:, :], columns = ['mileage', 'manufacture_year', 'engine_displacement', 'engine_power', \n",
        "                                                          'door_count', 'seat_count', 'price_NGN', 'body_type_compact', \n",
        "                                                          'body_type_van', 'transmission_auto', 'transmission_man', \n",
        "                                                          'fuel_type_diesel', 'fuel_type_gasoline'])\n",
        "opel = pd.concat([opel_cat, opel_num], axis = 1)\n",
        "opel = opel[['make', 'model', 'mileage', 'manufacture_year', 'engine_displacement', 'engine_power', 'door_count', 'seat_count', \n",
        "             'body_type_compact', 'body_type_van', 'transmission_auto', 'transmission_man', 'fuel_type_diesel', \n",
        "             'fuel_type_gasoline', 'date', 'time', 'price_NGN']]"
      ],
      "execution_count": null,
      "outputs": []
    },
    {
      "cell_type": "markdown",
      "metadata": {
        "id": "IEaJ3y8ExFC4"
      },
      "source": [
        "##### Porsche"
      ]
    },
    {
      "cell_type": "code",
      "metadata": {
        "colab": {
          "background_save": true
        },
        "id": "h_z_cvHXxH_L"
      },
      "source": [
        "porsche_coded = [pd.get_dummies(porsche['body_type'], prefix = 'body_type', prefix_sep = '_'), \n",
        "           pd.get_dummies(porsche['transmission'], prefix = 'transmission', prefix_sep = '_'), \n",
        "           pd.get_dummies(porsche['fuel_type'], prefix = 'fuel_type', prefix_sep = '_')]\n",
        "\n",
        "porsche_coded = pd.concat(porsche_coded, axis = 1)\n",
        "porsche = pd.concat([porsche, porsche_coded], axis = 1)\n",
        "porsche = porsche.drop(columns = ['body_type', 'transmission', 'fuel_type'])\n",
        "porsche_num = porsche.select_dtypes(exclude = ['object'])\n",
        "porsche_cat = porsche.select_dtypes(exclude = ['number'])\n",
        "porsche_num = imputer.fit_transform(porsche_num)\n",
        "porsche_num = pd.DataFrame(data = porsche_num[:, :], columns = ['mileage', 'manufacture_year', 'engine_displacement', 'engine_power', \n",
        "                                                                'door_count', 'seat_count', 'price_NGN', 'body_type_compact', \n",
        "                                                                'transmission_auto', 'transmission_man', 'fuel_type_diesel', \n",
        "                                                                'fuel_type_gasoline'])\n",
        "porsche = pd.concat([porsche_cat, porsche_num], axis = 1)\n",
        "porsche = porsche[['make', 'model', 'mileage', 'manufacture_year', 'engine_displacement', 'engine_power', 'door_count', 'seat_count', \n",
        "                   'body_type_compact', 'transmission_auto', 'transmission_man', 'fuel_type_diesel', \n",
        "                   'fuel_type_gasoline', 'date', 'time', 'price_NGN']]"
      ],
      "execution_count": null,
      "outputs": []
    },
    {
      "cell_type": "markdown",
      "metadata": {
        "id": "kV3DzpZ3xw7P"
      },
      "source": [
        "##### Rover"
      ]
    },
    {
      "cell_type": "code",
      "metadata": {
        "colab": {
          "background_save": true
        },
        "id": "WqXM-i8pxzkz"
      },
      "source": [
        "rover_coded = [pd.get_dummies(rover['body_type'], prefix = 'body_type', prefix_sep = '_'), \n",
        "           pd.get_dummies(rover['transmission'], prefix = 'transmission', prefix_sep = '_'),\n",
        "           pd.get_dummies(rover['fuel_type'], prefix = 'fuel_type', prefix_sep = '_')]\n",
        "\n",
        "rover_coded = pd.concat(rover_coded, axis = 1)\n",
        "rover = pd.concat([rover, rover_coded], axis = 1)\n",
        "rover = rover.drop(columns = ['body_type', 'transmission', 'fuel_type'])\n",
        "rover_num = rover.select_dtypes(exclude = ['object'])\n",
        "rover_cat = rover.select_dtypes(exclude = ['number'])\n",
        "rover_num = imputer.fit_transform(rover_num)\n",
        "rover_num = pd.DataFrame(data = rover_num[:, :], columns = ['mileage', 'manufacture_year', 'engine_displacement', 'engine_power', \n",
        "                                                          'door_count', 'seat_count', 'price_NGN', 'body_type_compact', \n",
        "                                                          'transmission_auto', 'transmission_man', 'fuel_type_diesel', 'fuel_type_gasoline'])\n",
        "rover = pd.concat([rover_cat, rover_num], axis = 1)\n",
        "rover = rover[['make', 'model', 'mileage', 'manufacture_year', 'engine_displacement', 'engine_power', 'door_count', 'seat_count', \n",
        "               'body_type_compact', 'transmission_auto', 'transmission_man', 'fuel_type_diesel', \n",
        "               'fuel_type_gasoline', 'date', 'time', 'price_NGN']]"
      ],
      "execution_count": null,
      "outputs": []
    },
    {
      "cell_type": "markdown",
      "metadata": {
        "id": "39DI1HzuyZtr"
      },
      "source": [
        "##### Seat"
      ]
    },
    {
      "cell_type": "code",
      "metadata": {
        "colab": {
          "background_save": true
        },
        "id": "urMWgkBJycZi"
      },
      "source": [
        "seat_coded = [pd.get_dummies(seat['body_type'], prefix = 'body_type', prefix_sep = '_'), \n",
        "           pd.get_dummies(seat['transmission'], prefix = 'transmission', prefix_sep = '_'),\n",
        "           pd.get_dummies(seat['fuel_type'], prefix = 'fuel_type', prefix_sep = '_')]\n",
        "\n",
        "seat_coded = pd.concat(seat_coded, axis = 1)\n",
        "seat = pd.concat([seat, seat_coded], axis = 1)\n",
        "seat = seat.drop(columns = ['body_type', 'transmission', 'fuel_type'])\n",
        "seat_num = seat.select_dtypes(exclude = ['object'])\n",
        "seat_cat = seat.select_dtypes(exclude = ['number'])\n",
        "seat_num = imputer.fit_transform(seat_num)\n",
        "seat_num = pd.DataFrame(data = seat_num[:, :], columns = ['mileage', 'manufacture_year', 'engine_displacement', 'engine_power', \n",
        "                                                          'door_count', 'seat_count', 'price_NGN', 'body_type_compact', \n",
        "                                                          'body_type_van', 'transmission_auto', 'transmission_man', \n",
        "                                                          'fuel_type_diesel', 'fuel_type_gasoline'])\n",
        "seat = pd.concat([seat_cat, seat_num], axis = 1)\n",
        "seat = seat[['make', 'model', 'mileage', 'manufacture_year', 'engine_displacement', 'engine_power', 'door_count', 'seat_count', \n",
        "             'body_type_compact', 'body_type_van', 'transmission_auto', 'transmission_man', 'fuel_type_diesel', \n",
        "             'fuel_type_gasoline', 'date', 'time', 'price_NGN']]"
      ],
      "execution_count": null,
      "outputs": []
    },
    {
      "cell_type": "markdown",
      "metadata": {
        "id": "uClx_XBGzK8C"
      },
      "source": [
        "##### Skoda"
      ]
    },
    {
      "cell_type": "code",
      "metadata": {
        "colab": {
          "background_save": true
        },
        "id": "tcqC9ERHzN2s"
      },
      "source": [
        "skoda_coded = [pd.get_dummies(skoda['body_type'], prefix = 'body_type', prefix_sep = '_'), \n",
        "           pd.get_dummies(skoda['transmission'], prefix = 'transmission', prefix_sep = '_'), \n",
        "           pd.get_dummies(skoda['fuel_type'], prefix = 'fuel_type', prefix_sep = '_')]\n",
        "\n",
        "skoda_coded = pd.concat(skoda_coded, axis = 1)\n",
        "skoda = pd.concat([skoda, skoda_coded], axis = 1)\n",
        "skoda = skoda.drop(columns = ['body_type', 'transmission', 'fuel_type'])\n",
        "skoda_num = skoda.select_dtypes(exclude = ['object'])\n",
        "skoda_cat = skoda.select_dtypes(exclude = ['number'])\n",
        "skoda_num = imputer.fit_transform(skoda_num)\n",
        "skoda_num = pd.DataFrame(data = skoda_num[:, :], columns = ['mileage', 'manufacture_year', 'engine_displacement', 'engine_power', \n",
        "                                                            'door_count', 'seat_count', 'price_NGN', 'body_type_compact', \n",
        "                                                            'body_type_van', 'transmission_auto', 'transmission_man', \n",
        "                                                            'fuel_type_diesel', 'fuel_type_gasoline'])\n",
        "skoda = pd.concat([skoda_cat, skoda_num], axis = 1)\n",
        "skoda = skoda[['make', 'model', 'mileage', 'manufacture_year', 'engine_displacement', 'engine_power', 'door_count', 'seat_count', \n",
        "               'body_type_compact', 'body_type_van', 'transmission_auto', 'transmission_man', 'fuel_type_diesel', \n",
        "               'fuel_type_gasoline', 'date', 'time', 'price_NGN']]"
      ],
      "execution_count": null,
      "outputs": []
    },
    {
      "cell_type": "markdown",
      "metadata": {
        "id": "b7zWe_N7zzz_"
      },
      "source": [
        "##### Subaru"
      ]
    },
    {
      "cell_type": "code",
      "metadata": {
        "colab": {
          "background_save": true
        },
        "id": "XiULoyMxz2lm"
      },
      "source": [
        "subaru_coded = [pd.get_dummies(subaru['body_type'], prefix = 'body_type', prefix_sep = '_'), \n",
        "           pd.get_dummies(subaru['transmission'], prefix = 'transmission', prefix_sep = '_'), \n",
        "           pd.get_dummies(subaru['fuel_type'], prefix = 'fuel_type', prefix_sep = '_')]\n",
        "\n",
        "subaru_coded = pd.concat(subaru_coded, axis = 1)\n",
        "subaru = pd.concat([subaru, subaru_coded], axis = 1)\n",
        "subaru = subaru.drop(columns = ['body_type', 'transmission', 'fuel_type'])\n",
        "subaru_num = subaru.select_dtypes(exclude = ['object'])\n",
        "subaru_cat = subaru.select_dtypes(exclude = ['number'])\n",
        "subaru_num = imputer.fit_transform(subaru_num)\n",
        "subaru_num = pd.DataFrame(data = subaru_num[:, :], columns = ['mileage', 'manufacture_year', 'engine_displacement', 'engine_power', \n",
        "                                                              'door_count', 'seat_count', 'price_NGN', 'body_type_compact', \n",
        "                                                              'transmission_auto', 'transmission_man', 'fuel_type_diesel', \n",
        "                                                              'fuel_type_gasoline'])\n",
        "subaru = pd.concat([subaru_cat, subaru_num], axis = 1)\n",
        "subaru = subaru[['make', 'model', 'mileage', 'manufacture_year', 'engine_displacement', 'engine_power', 'door_count', 'seat_count', \n",
        "                 'body_type_compact', 'transmission_auto', 'transmission_man', 'fuel_type_diesel', \n",
        "                 'fuel_type_gasoline', 'date', 'time', 'price_NGN']]"
      ],
      "execution_count": null,
      "outputs": []
    },
    {
      "cell_type": "markdown",
      "metadata": {
        "id": "dwAbAorC0aop"
      },
      "source": [
        "##### Suzuki"
      ]
    },
    {
      "cell_type": "code",
      "metadata": {
        "colab": {
          "background_save": true
        },
        "id": "qiVDkko_0dx8"
      },
      "source": [
        "suzuki_coded = [pd.get_dummies(suzuki['body_type'], prefix = 'body_type', prefix_sep = '_'), \n",
        "           pd.get_dummies(suzuki['transmission'], prefix = 'transmission', prefix_sep = '_'), \n",
        "           pd.get_dummies(suzuki['fuel_type'], prefix = 'fuel_type', prefix_sep = '_')]\n",
        "\n",
        "suzuki_coded = pd.concat(suzuki_coded, axis = 1)\n",
        "suzuki = pd.concat([suzuki, suzuki_coded], axis = 1)\n",
        "suzuki = suzuki.drop(columns = ['body_type', 'transmission', 'fuel_type'])\n",
        "suzuki_num = suzuki.select_dtypes(exclude = ['object'])\n",
        "suzuki_cat = suzuki.select_dtypes(exclude = ['number'])\n",
        "suzuki_num = imputer.fit_transform(suzuki_num)\n",
        "suzuki_num = pd.DataFrame(data = suzuki_num[:, :], columns = ['mileage', 'manufacture_year', 'engine_displacement', 'engine_power', \n",
        "                                                          'door_count', 'seat_count', 'price_NGN', 'body_type_compact', \n",
        "                                                          'transmission_auto', 'transmission_man', 'fuel_type_diesel', \n",
        "                                                          'fuel_type_gasoline'])\n",
        "suzuki = pd.concat([suzuki_cat, suzuki_num], axis = 1)\n",
        "suzuki = subaru[['make', 'model', 'mileage', 'manufacture_year', 'engine_displacement', 'engine_power', 'door_count', 'seat_count', \n",
        "                 'body_type_compact', 'transmission_auto', 'transmission_man', 'fuel_type_diesel', \n",
        "                 'fuel_type_gasoline', 'date', 'time', 'price_NGN']]"
      ],
      "execution_count": null,
      "outputs": []
    },
    {
      "cell_type": "markdown",
      "metadata": {
        "id": "ax7kJ61N1A8r"
      },
      "source": [
        "##### Toyota"
      ]
    },
    {
      "cell_type": "code",
      "metadata": {
        "colab": {
          "background_save": true
        },
        "id": "duEk8Xgd1EtR"
      },
      "source": [
        "toyota_coded = [pd.get_dummies(toyota['body_type'], prefix = 'body_type', prefix_sep = '_'), \n",
        "           pd.get_dummies(toyota['transmission'], prefix = 'transmission', prefix_sep = '_'),\n",
        "           pd.get_dummies(toyota['fuel_type'], prefix = 'fuel_type', prefix_sep = '_')]\n",
        "\n",
        "toyota_coded = pd.concat(toyota_coded, axis = 1)\n",
        "toyota = pd.concat([toyota, toyota_coded], axis = 1)\n",
        "toyota = toyota.drop(columns = ['body_type', 'transmission', 'fuel_type'])\n",
        "toyota_num = toyota.select_dtypes(exclude = ['object'])\n",
        "toyota_cat = toyota.select_dtypes(exclude = ['number'])\n",
        "toyota_num = imputer.fit_transform(toyota_num)\n",
        "toyota_num = pd.DataFrame(data = toyota_num[:, :], columns = ['mileage', 'manufacture_year', 'engine_displacement', 'engine_power', \n",
        "                                                              'door_count', 'seat_count', 'price_NGN', 'body_type_compact', \n",
        "                                                              'transmission_auto', 'transmission_man', 'fuel_type_diesel', \n",
        "                                                              'fuel_type_gasoline'])\n",
        "toyota = pd.concat([toyota_cat, toyota_num], axis = 1)\n",
        "toyota = toyota[['make', 'model', 'mileage', 'manufacture_year', 'engine_displacement', 'engine_power', 'door_count', 'seat_count', \n",
        "                 'body_type_compact', 'transmission_auto', 'transmission_man', 'fuel_type_diesel', \n",
        "                 'fuel_type_gasoline', 'date', 'time', 'price_NGN']]"
      ],
      "execution_count": null,
      "outputs": []
    },
    {
      "cell_type": "markdown",
      "metadata": {
        "id": "WLbMKvVQ1rQg"
      },
      "source": [
        "##### Volvo"
      ]
    },
    {
      "cell_type": "code",
      "metadata": {
        "colab": {
          "background_save": true
        },
        "id": "n10HkaQN1vkZ"
      },
      "source": [
        "volvo_coded = [pd.get_dummies(volvo['body_type'], prefix = 'body_type', prefix_sep = '_'), \n",
        "           pd.get_dummies(volvo['transmission'], prefix = 'transmission', prefix_sep = '_'), \n",
        "           pd.get_dummies(volvo['fuel_type'], prefix = 'fuel_type', prefix_sep = '_')]\n",
        "\n",
        "volvo_coded = pd.concat(volvo_coded, axis = 1)\n",
        "volvo = pd.concat([volvo, volvo_coded], axis = 1)\n",
        "volvo = volvo.drop(columns = ['body_type', 'transmission', 'fuel_type'])\n",
        "volvo_num = volvo.select_dtypes(exclude = ['object'])\n",
        "volvo_cat = volvo.select_dtypes(exclude = ['number'])\n",
        "volvo_num = imputer.fit_transform(volvo_num)\n",
        "volvo_num = pd.DataFrame(data = volvo_num[:, :], columns = ['mileage', 'manufacture_year', 'engine_displacement', 'engine_power', \n",
        "                                                            'door_count', 'seat_count', 'price_NGN', 'body_type_compact', \n",
        "                                                            'transmission_auto', 'transmission_man', 'fuel_type_diesel', \n",
        "                                                            'fuel_type_gasoline'])\n",
        "volvo = pd.concat([volvo_cat, volvo_num], axis = 1)\n",
        "volvo = volvo[['make', 'model', 'mileage', 'manufacture_year', 'engine_displacement', 'engine_power', 'door_count', 'seat_count', \n",
        "               'body_type_compact', 'transmission_auto', 'transmission_man', 'fuel_type_diesel', \n",
        "               'fuel_type_gasoline', 'date', 'time', 'price_NGN']]"
      ],
      "execution_count": null,
      "outputs": []
    },
    {
      "cell_type": "markdown",
      "metadata": {
        "id": "d6yA23X42Woo"
      },
      "source": [
        "##### Hummer"
      ]
    },
    {
      "cell_type": "code",
      "metadata": {
        "colab": {
          "background_save": true
        },
        "id": "vGXim95R2aPL"
      },
      "source": [
        "hummer_coded = [pd.get_dummies(hummer['body_type'], prefix = 'body_type', prefix_sep = '_'), \n",
        "           pd.get_dummies(hummer['transmission'], prefix = 'transmission', prefix_sep = '_'), \n",
        "           pd.get_dummies(hummer['fuel_type'], prefix = 'fuel_type', prefix_sep = '_')]\n",
        "\n",
        "hummer_coded = pd.concat(hummer_coded, axis = 1)\n",
        "hummer = pd.concat([hummer, hummer_coded], axis = 1)\n",
        "hummer = hummer.drop(columns = ['body_type', 'transmission', 'fuel_type'])\n",
        "hummer_num = hummer.select_dtypes(exclude = ['object'])\n",
        "hummer_cat = hummer.select_dtypes(exclude = ['number'])\n",
        "hummer_num = imputer.fit_transform(hummer_num)\n",
        "hummer_num = pd.DataFrame(data = hummer_num[:, :], columns = ['mileage', 'manufacture_year', 'engine_displacement', 'engine_power', \n",
        "                                                              'door_count', 'seat_count', 'price_NGN', 'body_type_compact', \n",
        "                                                              'transmission_auto', 'transmission_man', 'fuel_type_diesel', 'fuel_type_gasoline'])\n",
        "hummer = pd.concat([hummer_cat, hummer_num], axis = 1)\n",
        "hummer = hummer[['make', 'model', 'mileage', 'manufacture_year', 'engine_displacement', 'engine_power', 'door_count', 'seat_count', \n",
        "                 'body_type_compact', 'transmission_auto', 'transmission_man', 'fuel_type_diesel', \n",
        "                 'fuel_type_gasoline', 'date', 'time', 'price_NGN']]"
      ],
      "execution_count": null,
      "outputs": []
    },
    {
      "cell_type": "markdown",
      "metadata": {
        "id": "lA3H4AoD25it"
      },
      "source": [
        "##### Lexus"
      ]
    },
    {
      "cell_type": "code",
      "metadata": {
        "colab": {
          "background_save": true
        },
        "id": "P_F5ag4N28o1"
      },
      "source": [
        "lexus_coded = [pd.get_dummies(lexus['body_type'], prefix = 'body_type', prefix_sep = '_'), \n",
        "           pd.get_dummies(lexus['transmission'], prefix = 'transmission', prefix_sep = '_'), \n",
        "           pd.get_dummies(lexus['fuel_type'], prefix = 'fuel_type', prefix_sep = '_')]\n",
        "\n",
        "lexus_coded = pd.concat(lexus_coded, axis = 1)\n",
        "lexus = pd.concat([lexus, lexus_coded], axis = 1)\n",
        "lexus = lexus.drop(columns = ['body_type', 'transmission', 'fuel_type'])\n",
        "lexus_num = lexus.select_dtypes(exclude = ['object'])\n",
        "lexus_cat = lexus.select_dtypes(exclude = ['number'])\n",
        "lexus_num = imputer.fit_transform(lexus_num)\n",
        "lexus_num = pd.DataFrame(data = lexus_num[:, :], columns = ['mileage', 'manufacture_year', 'engine_displacement', 'engine_power', \n",
        "                                                            'door_count', 'seat_count', 'price_NGN', 'body_type_compact', \n",
        "                                                            'transmission_auto', 'transmission_man', 'fuel_type_diesel', 'fuel_type_gasoline'])\n",
        "lexus = pd.concat([lexus_cat, lexus_num], axis = 1)\n",
        "lexus = lexus[['make', 'model', 'mileage', 'manufacture_year', 'engine_displacement', 'engine_power', 'door_count', 'seat_count', \n",
        "               'body_type_compact', 'transmission_auto', 'transmission_man', 'fuel_type_diesel', \n",
        "               'fuel_type_gasoline', 'date', 'time', 'price_NGN']]"
      ],
      "execution_count": null,
      "outputs": []
    },
    {
      "cell_type": "markdown",
      "metadata": {
        "id": "vgLZjA6_4Oa0"
      },
      "source": [
        "##### Lotus"
      ]
    },
    {
      "cell_type": "code",
      "metadata": {
        "colab": {
          "background_save": true
        },
        "id": "qx6LNYbr4RB9"
      },
      "source": [
        "lotus_coded = [pd.get_dummies(lotus['body_type'], prefix = 'body_type', prefix_sep = '_'), \n",
        "               pd.get_dummies(lotus['transmission'], prefix = 'transmission', prefix_sep = '_'),\n",
        "               pd.get_dummies(lotus['fuel_type'], prefix = 'fuel_type', prefix_sep = '_')]\n",
        "\n",
        "lotus_coded = pd.concat(lotus_coded, axis = 1)\n",
        "lotus = pd.concat([lotus, lotus_coded], axis = 1)\n",
        "lotus = lotus.drop(columns = ['body_type', 'transmission', 'fuel_type'])\n",
        "lotus_num = lotus.select_dtypes(exclude = ['object'])\n",
        "lotus_cat = lotus.select_dtypes(exclude = ['number'])\n",
        "lotus_num = imputer.fit_transform(lotus_num)\n",
        "lotus_num = pd.DataFrame(data = lotus_num[:, :], columns = ['mileage', 'manufacture_year', 'engine_displacement', 'engine_power', \n",
        "                                                            'door_count', 'seat_count', 'price_NGN', 'transmission_auto', \n",
        "                                                            'transmission_man', 'fuel_type_gasoline'])\n",
        "lotus = pd.concat([lotus_cat, lotus_num], axis = 1)\n",
        "lotus = lotus[['make', 'model', 'mileage', 'manufacture_year', 'engine_displacement', 'engine_power', 'door_count', 'seat_count', \n",
        "               'transmission_auto', 'transmission_man', 'fuel_type_gasoline', 'date', 'time', 'price_NGN']]"
      ],
      "execution_count": null,
      "outputs": []
    },
    {
      "cell_type": "markdown",
      "metadata": {
        "id": "GnTgps1E43NF"
      },
      "source": [
        "##### Smart"
      ]
    },
    {
      "cell_type": "code",
      "metadata": {
        "colab": {
          "background_save": true
        },
        "id": "LpXaT4M645kE"
      },
      "source": [
        "smart_coded = [pd.get_dummies(smart['body_type'], prefix = 'body_type', prefix_sep = '_'), \n",
        "               pd.get_dummies(smart['transmission'], prefix = 'transmission', prefix_sep = '_'), \n",
        "               pd.get_dummies(smart['fuel_type'], prefix = 'fuel_type', prefix_sep = '_')]\n",
        "\n",
        "smart_coded = pd.concat(smart_coded, axis = 1)\n",
        "smart = pd.concat([smart, smart_coded], axis = 1)\n",
        "smart = smart.drop(columns = ['body_type', 'transmission', 'fuel_type'])\n",
        "smart_num = smart.select_dtypes(exclude = ['object'])\n",
        "smart_cat = smart.select_dtypes(exclude = ['number'])\n",
        "smart_num = imputer.fit_transform(smart_num)\n",
        "smart_num = pd.DataFrame(data = smart_num[:, :], columns = ['mileage', 'manufacture_year', 'engine_displacement', 'engine_power', \n",
        "                                                            'door_count', 'seat_count', 'price_NGN', 'body_type_compact', \n",
        "                                                            'transmission_auto', 'transmission_man', 'fuel_type_diesel', 'fuel_type_gasoline'])\n",
        "smart = pd.concat([smart_cat, smart_num], axis = 1)\n",
        "smart = smart[['make', 'model', 'mileage', 'manufacture_year', 'engine_displacement', 'engine_power', 'door_count', 'seat_count', \n",
        "               'body_type_compact', 'transmission_auto', 'transmission_man', 'fuel_type_diesel', \n",
        "               'fuel_type_gasoline', 'date', 'time', 'price_NGN']]"
      ],
      "execution_count": null,
      "outputs": []
    },
    {
      "cell_type": "markdown",
      "metadata": {
        "id": "xYcWx2za5fkp"
      },
      "source": [
        "Merge the car dataframes into one dataframe."
      ]
    },
    {
      "cell_type": "code",
      "metadata": {
        "colab": {
          "background_save": true
        },
        "id": "yZphGUFq5rGY"
      },
      "source": [
        "cars45_df = pd.concat([audi, bentley, bmw, chevrolet, chrysler, citroen, \n",
        "                   dodge, fiat, ford, honda, hyundai, isuzu, jaguar, \n",
        "                   jeep, kia, lamborghini, lancia, maserati, mazda, \n",
        "                   mercedes, mini, mitsubishi, nissan, opel, porsche, \n",
        "                   rover, seat, skoda, subaru, suzuki, toyota, volvo, \n",
        "                   hummer, lexus, lotus, smart], axis = 0, ignore_index = True)"
      ],
      "execution_count": null,
      "outputs": []
    },
    {
      "cell_type": "code",
      "metadata": {
        "colab": {
          "background_save": true,
          "base_uri": "https://localhost:8080/"
        },
        "id": "S6oSCgQ5j__V",
        "outputId": "eef68c84-7855-4d94-eb40-26048fbd6f3a"
      },
      "source": [
        "cars45_df.isna().sum()"
      ],
      "execution_count": null,
      "outputs": [
        {
          "output_type": "execute_result",
          "data": {
            "text/plain": [
              "make                        0\n",
              "model                  183373\n",
              "mileage                     0\n",
              "manufacture_year            0\n",
              "engine_displacement         0\n",
              "engine_power                0\n",
              "door_count                  0\n",
              "seat_count                  0\n",
              "body_type_compact       78909\n",
              "transmission_auto           0\n",
              "transmission_man            0\n",
              "fuel_type_diesel          558\n",
              "fuel_type_gasoline          0\n",
              "date                        0\n",
              "time                        0\n",
              "price_NGN                   0\n",
              "body_type_van          270287\n",
              "dtype: int64"
            ]
          },
          "metadata": {
            "tags": []
          },
          "execution_count": 0
        }
      ]
    },
    {
      "cell_type": "code",
      "metadata": {
        "colab": {
          "background_save": true
        },
        "id": "QQd4PPOxj_7n"
      },
      "source": [
        "cars45_df['body_type_compact'] = cars45_df['body_type_compact'].replace(np.nan, 0.0)\n",
        "cars45_df['fuel_type_diesel'] = cars45_df['fuel_type_diesel'].replace(np.nan, 0.0)\n",
        "cars45_df['body_type_van'] = cars45_df['body_type_van'].replace(np.nan, 0.0)"
      ],
      "execution_count": null,
      "outputs": []
    },
    {
      "cell_type": "code",
      "metadata": {
        "colab": {
          "background_save": true
        },
        "id": "iRaYikZTj_1J"
      },
      "source": [
        "cars45_df['model'] = cars45_df['model'].fillna('unknown')"
      ],
      "execution_count": null,
      "outputs": []
    },
    {
      "cell_type": "code",
      "metadata": {
        "colab": {
          "background_save": true
        },
        "id": "V1cKHLZCdZf5"
      },
      "source": [
        "cars45_df_copy = cars45_df.copy()"
      ],
      "execution_count": null,
      "outputs": []
    },
    {
      "cell_type": "code",
      "metadata": {
        "colab": {
          "background_save": true
        },
        "id": "_ADW6Kp6dz7l"
      },
      "source": [
        "cars45_df1 = cars45_df[['make', 'model', 'mileage', 'manufacture_year', 'engine_displacement', \n",
        "                        'engine_power', 'door_count', 'seat_count', 'body_type_compact',  'body_type_van', \n",
        "                        'transmission_auto', 'transmission_man', 'fuel_type_diesel', 'fuel_type_gasoline', 'price_NGN']]"
      ],
      "execution_count": null,
      "outputs": []
    },
    {
      "cell_type": "code",
      "metadata": {
        "colab": {
          "background_save": true
        },
        "id": "_NtUM8jAT5FS"
      },
      "source": [
        "cars45_df1 = cars45_df1.astype({'mileage': int, 'manufacture_year': int,'engine_displacement': int, \n",
        "                              'engine_power': int,'door_count': int,'seat_count': int, 'body_type_compact': int, \n",
        "                              'body_type_van': int, 'transmission_auto': int, 'transmission_man': int, \n",
        "                              'fuel_type_diesel': int, 'fuel_type_gasoline': int, 'price_NGN': int})"
      ],
      "execution_count": null,
      "outputs": []
    },
    {
      "cell_type": "code",
      "metadata": {
        "colab": {
          "background_save": true,
          "base_uri": "https://localhost:8080/",
          "height": 214
        },
        "id": "Eaw7Ter6VZST",
        "outputId": "68bab3e7-a6d7-4243-a8da-360c0427e4cc"
      },
      "source": [
        "cars45_df1.head()"
      ],
      "execution_count": null,
      "outputs": [
        {
          "output_type": "execute_result",
          "data": {
            "text/html": [
              "<div>\n",
              "<style scoped>\n",
              "    .dataframe tbody tr th:only-of-type {\n",
              "        vertical-align: middle;\n",
              "    }\n",
              "\n",
              "    .dataframe tbody tr th {\n",
              "        vertical-align: top;\n",
              "    }\n",
              "\n",
              "    .dataframe thead th {\n",
              "        text-align: right;\n",
              "    }\n",
              "</style>\n",
              "<table border=\"1\" class=\"dataframe\">\n",
              "  <thead>\n",
              "    <tr style=\"text-align: right;\">\n",
              "      <th></th>\n",
              "      <th>make</th>\n",
              "      <th>model</th>\n",
              "      <th>mileage</th>\n",
              "      <th>manufacture_year</th>\n",
              "      <th>engine_displacement</th>\n",
              "      <th>engine_power</th>\n",
              "      <th>door_count</th>\n",
              "      <th>seat_count</th>\n",
              "      <th>body_type_compact</th>\n",
              "      <th>body_type_van</th>\n",
              "      <th>transmission_auto</th>\n",
              "      <th>transmission_man</th>\n",
              "      <th>fuel_type_diesel</th>\n",
              "      <th>fuel_type_gasoline</th>\n",
              "      <th>price_NGN</th>\n",
              "    </tr>\n",
              "  </thead>\n",
              "  <tbody>\n",
              "    <tr>\n",
              "      <th>0</th>\n",
              "      <td>audi</td>\n",
              "      <td>unknown</td>\n",
              "      <td>164500</td>\n",
              "      <td>1995</td>\n",
              "      <td>2600</td>\n",
              "      <td>110</td>\n",
              "      <td>4</td>\n",
              "      <td>5</td>\n",
              "      <td>1</td>\n",
              "      <td>0</td>\n",
              "      <td>1</td>\n",
              "      <td>0</td>\n",
              "      <td>0</td>\n",
              "      <td>1</td>\n",
              "      <td>873428</td>\n",
              "    </tr>\n",
              "    <tr>\n",
              "      <th>1</th>\n",
              "      <td>audi</td>\n",
              "      <td>200</td>\n",
              "      <td>134751</td>\n",
              "      <td>1995</td>\n",
              "      <td>2150</td>\n",
              "      <td>103</td>\n",
              "      <td>3</td>\n",
              "      <td>5</td>\n",
              "      <td>1</td>\n",
              "      <td>0</td>\n",
              "      <td>0</td>\n",
              "      <td>0</td>\n",
              "      <td>0</td>\n",
              "      <td>1</td>\n",
              "      <td>666174</td>\n",
              "    </tr>\n",
              "    <tr>\n",
              "      <th>2</th>\n",
              "      <td>audi</td>\n",
              "      <td>unknown</td>\n",
              "      <td>134751</td>\n",
              "      <td>1995</td>\n",
              "      <td>2150</td>\n",
              "      <td>103</td>\n",
              "      <td>3</td>\n",
              "      <td>5</td>\n",
              "      <td>1</td>\n",
              "      <td>0</td>\n",
              "      <td>0</td>\n",
              "      <td>0</td>\n",
              "      <td>0</td>\n",
              "      <td>1</td>\n",
              "      <td>666174</td>\n",
              "    </tr>\n",
              "    <tr>\n",
              "      <th>3</th>\n",
              "      <td>audi</td>\n",
              "      <td>unknown</td>\n",
              "      <td>134751</td>\n",
              "      <td>1995</td>\n",
              "      <td>2150</td>\n",
              "      <td>103</td>\n",
              "      <td>3</td>\n",
              "      <td>5</td>\n",
              "      <td>1</td>\n",
              "      <td>0</td>\n",
              "      <td>0</td>\n",
              "      <td>0</td>\n",
              "      <td>0</td>\n",
              "      <td>1</td>\n",
              "      <td>666174</td>\n",
              "    </tr>\n",
              "    <tr>\n",
              "      <th>4</th>\n",
              "      <td>audi</td>\n",
              "      <td>a6</td>\n",
              "      <td>164500</td>\n",
              "      <td>1995</td>\n",
              "      <td>2150</td>\n",
              "      <td>103</td>\n",
              "      <td>4</td>\n",
              "      <td>5</td>\n",
              "      <td>1</td>\n",
              "      <td>0</td>\n",
              "      <td>1</td>\n",
              "      <td>0</td>\n",
              "      <td>0</td>\n",
              "      <td>1</td>\n",
              "      <td>843820</td>\n",
              "    </tr>\n",
              "  </tbody>\n",
              "</table>\n",
              "</div>"
            ],
            "text/plain": [
              "   make    model  mileage  manufacture_year  engine_displacement  \\\n",
              "0  audi  unknown   164500              1995                 2600   \n",
              "1  audi      200   134751              1995                 2150   \n",
              "2  audi  unknown   134751              1995                 2150   \n",
              "3  audi  unknown   134751              1995                 2150   \n",
              "4  audi       a6   164500              1995                 2150   \n",
              "\n",
              "   engine_power  door_count  seat_count  body_type_compact  body_type_van  \\\n",
              "0           110           4           5                  1              0   \n",
              "1           103           3           5                  1              0   \n",
              "2           103           3           5                  1              0   \n",
              "3           103           3           5                  1              0   \n",
              "4           103           4           5                  1              0   \n",
              "\n",
              "   transmission_auto  transmission_man  fuel_type_diesel  fuel_type_gasoline  \\\n",
              "0                  1                 0                 0                   1   \n",
              "1                  0                 0                 0                   1   \n",
              "2                  0                 0                 0                   1   \n",
              "3                  0                 0                 0                   1   \n",
              "4                  1                 0                 0                   1   \n",
              "\n",
              "   price_NGN  \n",
              "0     873428  \n",
              "1     666174  \n",
              "2     666174  \n",
              "3     666174  \n",
              "4     843820  "
            ]
          },
          "metadata": {
            "tags": []
          },
          "execution_count": 0
        }
      ]
    },
    {
      "cell_type": "code",
      "metadata": {
        "colab": {
          "background_save": true,
          "base_uri": "https://localhost:8080/",
          "height": 504
        },
        "id": "kql2rh1kWHx3",
        "outputId": "dea11fb9-d6b1-4dda-dc53-bbf76b25b2bf"
      },
      "source": [
        "cars45_df1.describe(include = 'all').transpose()"
      ],
      "execution_count": null,
      "outputs": [
        {
          "output_type": "execute_result",
          "data": {
            "text/html": [
              "<div>\n",
              "<style scoped>\n",
              "    .dataframe tbody tr th:only-of-type {\n",
              "        vertical-align: middle;\n",
              "    }\n",
              "\n",
              "    .dataframe tbody tr th {\n",
              "        vertical-align: top;\n",
              "    }\n",
              "\n",
              "    .dataframe thead th {\n",
              "        text-align: right;\n",
              "    }\n",
              "</style>\n",
              "<table border=\"1\" class=\"dataframe\">\n",
              "  <thead>\n",
              "    <tr style=\"text-align: right;\">\n",
              "      <th></th>\n",
              "      <th>count</th>\n",
              "      <th>unique</th>\n",
              "      <th>top</th>\n",
              "      <th>freq</th>\n",
              "      <th>mean</th>\n",
              "      <th>std</th>\n",
              "      <th>min</th>\n",
              "      <th>25%</th>\n",
              "      <th>50%</th>\n",
              "      <th>75%</th>\n",
              "      <th>max</th>\n",
              "    </tr>\n",
              "  </thead>\n",
              "  <tbody>\n",
              "    <tr>\n",
              "      <th>make</th>\n",
              "      <td>633891</td>\n",
              "      <td>35</td>\n",
              "      <td>mercedes-benz</td>\n",
              "      <td>78624</td>\n",
              "      <td>NaN</td>\n",
              "      <td>NaN</td>\n",
              "      <td>NaN</td>\n",
              "      <td>NaN</td>\n",
              "      <td>NaN</td>\n",
              "      <td>NaN</td>\n",
              "      <td>NaN</td>\n",
              "    </tr>\n",
              "    <tr>\n",
              "      <th>model</th>\n",
              "      <td>633891</td>\n",
              "      <td>569</td>\n",
              "      <td>unknown</td>\n",
              "      <td>183373</td>\n",
              "      <td>NaN</td>\n",
              "      <td>NaN</td>\n",
              "      <td>NaN</td>\n",
              "      <td>NaN</td>\n",
              "      <td>NaN</td>\n",
              "      <td>NaN</td>\n",
              "      <td>NaN</td>\n",
              "    </tr>\n",
              "    <tr>\n",
              "      <th>mileage</th>\n",
              "      <td>633891.00</td>\n",
              "      <td>NaN</td>\n",
              "      <td>NaN</td>\n",
              "      <td>NaN</td>\n",
              "      <td>86278.68</td>\n",
              "      <td>59447.62</td>\n",
              "      <td>99.00</td>\n",
              "      <td>29000.00</td>\n",
              "      <td>82500.00</td>\n",
              "      <td>137000.00</td>\n",
              "      <td>200000.00</td>\n",
              "    </tr>\n",
              "    <tr>\n",
              "      <th>manufacture_year</th>\n",
              "      <td>633891.00</td>\n",
              "      <td>NaN</td>\n",
              "      <td>NaN</td>\n",
              "      <td>NaN</td>\n",
              "      <td>2008.73</td>\n",
              "      <td>5.50</td>\n",
              "      <td>1995.00</td>\n",
              "      <td>2005.00</td>\n",
              "      <td>2010.00</td>\n",
              "      <td>2014.00</td>\n",
              "      <td>2016.00</td>\n",
              "    </tr>\n",
              "    <tr>\n",
              "      <th>engine_displacement</th>\n",
              "      <td>633891.00</td>\n",
              "      <td>NaN</td>\n",
              "      <td>NaN</td>\n",
              "      <td>NaN</td>\n",
              "      <td>2016.98</td>\n",
              "      <td>694.15</td>\n",
              "      <td>999.00</td>\n",
              "      <td>1595.00</td>\n",
              "      <td>1950.00</td>\n",
              "      <td>2192.00</td>\n",
              "      <td>5000.00</td>\n",
              "    </tr>\n",
              "    <tr>\n",
              "      <th>engine_power</th>\n",
              "      <td>633891.00</td>\n",
              "      <td>NaN</td>\n",
              "      <td>NaN</td>\n",
              "      <td>NaN</td>\n",
              "      <td>137.26</td>\n",
              "      <td>53.20</td>\n",
              "      <td>99.00</td>\n",
              "      <td>109.00</td>\n",
              "      <td>118.00</td>\n",
              "      <td>140.00</td>\n",
              "      <td>400.00</td>\n",
              "    </tr>\n",
              "    <tr>\n",
              "      <th>door_count</th>\n",
              "      <td>633891.00</td>\n",
              "      <td>NaN</td>\n",
              "      <td>NaN</td>\n",
              "      <td>NaN</td>\n",
              "      <td>3.58</td>\n",
              "      <td>0.90</td>\n",
              "      <td>1.00</td>\n",
              "      <td>3.00</td>\n",
              "      <td>4.00</td>\n",
              "      <td>4.00</td>\n",
              "      <td>6.00</td>\n",
              "    </tr>\n",
              "    <tr>\n",
              "      <th>seat_count</th>\n",
              "      <td>633891.00</td>\n",
              "      <td>NaN</td>\n",
              "      <td>NaN</td>\n",
              "      <td>NaN</td>\n",
              "      <td>4.71</td>\n",
              "      <td>0.92</td>\n",
              "      <td>1.00</td>\n",
              "      <td>5.00</td>\n",
              "      <td>5.00</td>\n",
              "      <td>5.00</td>\n",
              "      <td>15.00</td>\n",
              "    </tr>\n",
              "    <tr>\n",
              "      <th>body_type_compact</th>\n",
              "      <td>633891.00</td>\n",
              "      <td>NaN</td>\n",
              "      <td>NaN</td>\n",
              "      <td>NaN</td>\n",
              "      <td>0.11</td>\n",
              "      <td>0.31</td>\n",
              "      <td>0.00</td>\n",
              "      <td>0.00</td>\n",
              "      <td>0.00</td>\n",
              "      <td>0.00</td>\n",
              "      <td>1.00</td>\n",
              "    </tr>\n",
              "    <tr>\n",
              "      <th>body_type_van</th>\n",
              "      <td>633891.00</td>\n",
              "      <td>NaN</td>\n",
              "      <td>NaN</td>\n",
              "      <td>NaN</td>\n",
              "      <td>0.00</td>\n",
              "      <td>0.01</td>\n",
              "      <td>0.00</td>\n",
              "      <td>0.00</td>\n",
              "      <td>0.00</td>\n",
              "      <td>0.00</td>\n",
              "      <td>1.00</td>\n",
              "    </tr>\n",
              "    <tr>\n",
              "      <th>transmission_auto</th>\n",
              "      <td>633891.00</td>\n",
              "      <td>NaN</td>\n",
              "      <td>NaN</td>\n",
              "      <td>NaN</td>\n",
              "      <td>0.29</td>\n",
              "      <td>0.45</td>\n",
              "      <td>0.00</td>\n",
              "      <td>0.00</td>\n",
              "      <td>0.00</td>\n",
              "      <td>1.00</td>\n",
              "      <td>1.00</td>\n",
              "    </tr>\n",
              "    <tr>\n",
              "      <th>transmission_man</th>\n",
              "      <td>633891.00</td>\n",
              "      <td>NaN</td>\n",
              "      <td>NaN</td>\n",
              "      <td>NaN</td>\n",
              "      <td>0.56</td>\n",
              "      <td>0.50</td>\n",
              "      <td>0.00</td>\n",
              "      <td>0.00</td>\n",
              "      <td>1.00</td>\n",
              "      <td>1.00</td>\n",
              "      <td>1.00</td>\n",
              "    </tr>\n",
              "    <tr>\n",
              "      <th>fuel_type_diesel</th>\n",
              "      <td>633891.00</td>\n",
              "      <td>NaN</td>\n",
              "      <td>NaN</td>\n",
              "      <td>NaN</td>\n",
              "      <td>0.47</td>\n",
              "      <td>0.50</td>\n",
              "      <td>0.00</td>\n",
              "      <td>0.00</td>\n",
              "      <td>0.00</td>\n",
              "      <td>1.00</td>\n",
              "      <td>1.00</td>\n",
              "    </tr>\n",
              "    <tr>\n",
              "      <th>fuel_type_gasoline</th>\n",
              "      <td>633891.00</td>\n",
              "      <td>NaN</td>\n",
              "      <td>NaN</td>\n",
              "      <td>NaN</td>\n",
              "      <td>0.53</td>\n",
              "      <td>0.50</td>\n",
              "      <td>0.00</td>\n",
              "      <td>0.00</td>\n",
              "      <td>1.00</td>\n",
              "      <td>1.00</td>\n",
              "      <td>1.00</td>\n",
              "    </tr>\n",
              "    <tr>\n",
              "      <th>price_NGN</th>\n",
              "      <td>633891.00</td>\n",
              "      <td>NaN</td>\n",
              "      <td>NaN</td>\n",
              "      <td>NaN</td>\n",
              "      <td>5393640.02</td>\n",
              "      <td>5881817.56</td>\n",
              "      <td>135620.00</td>\n",
              "      <td>1680932.00</td>\n",
              "      <td>3996448.00</td>\n",
              "      <td>7387120.00</td>\n",
              "      <td>312745124.00</td>\n",
              "    </tr>\n",
              "  </tbody>\n",
              "</table>\n",
              "</div>"
            ],
            "text/plain": [
              "                        count unique            top    freq       mean  \\\n",
              "make                   633891     35  mercedes-benz   78624        NaN   \n",
              "model                  633891    569        unknown  183373        NaN   \n",
              "mileage             633891.00    NaN            NaN     NaN   86278.68   \n",
              "manufacture_year    633891.00    NaN            NaN     NaN    2008.73   \n",
              "engine_displacement 633891.00    NaN            NaN     NaN    2016.98   \n",
              "engine_power        633891.00    NaN            NaN     NaN     137.26   \n",
              "door_count          633891.00    NaN            NaN     NaN       3.58   \n",
              "seat_count          633891.00    NaN            NaN     NaN       4.71   \n",
              "body_type_compact   633891.00    NaN            NaN     NaN       0.11   \n",
              "body_type_van       633891.00    NaN            NaN     NaN       0.00   \n",
              "transmission_auto   633891.00    NaN            NaN     NaN       0.29   \n",
              "transmission_man    633891.00    NaN            NaN     NaN       0.56   \n",
              "fuel_type_diesel    633891.00    NaN            NaN     NaN       0.47   \n",
              "fuel_type_gasoline  633891.00    NaN            NaN     NaN       0.53   \n",
              "price_NGN           633891.00    NaN            NaN     NaN 5393640.02   \n",
              "\n",
              "                           std       min        25%        50%        75%  \\\n",
              "make                       NaN       NaN        NaN        NaN        NaN   \n",
              "model                      NaN       NaN        NaN        NaN        NaN   \n",
              "mileage               59447.62     99.00   29000.00   82500.00  137000.00   \n",
              "manufacture_year          5.50   1995.00    2005.00    2010.00    2014.00   \n",
              "engine_displacement     694.15    999.00    1595.00    1950.00    2192.00   \n",
              "engine_power             53.20     99.00     109.00     118.00     140.00   \n",
              "door_count                0.90      1.00       3.00       4.00       4.00   \n",
              "seat_count                0.92      1.00       5.00       5.00       5.00   \n",
              "body_type_compact         0.31      0.00       0.00       0.00       0.00   \n",
              "body_type_van             0.01      0.00       0.00       0.00       0.00   \n",
              "transmission_auto         0.45      0.00       0.00       0.00       1.00   \n",
              "transmission_man          0.50      0.00       0.00       1.00       1.00   \n",
              "fuel_type_diesel          0.50      0.00       0.00       0.00       1.00   \n",
              "fuel_type_gasoline        0.50      0.00       0.00       1.00       1.00   \n",
              "price_NGN           5881817.56 135620.00 1680932.00 3996448.00 7387120.00   \n",
              "\n",
              "                             max  \n",
              "make                         NaN  \n",
              "model                        NaN  \n",
              "mileage                200000.00  \n",
              "manufacture_year         2016.00  \n",
              "engine_displacement      5000.00  \n",
              "engine_power              400.00  \n",
              "door_count                  6.00  \n",
              "seat_count                 15.00  \n",
              "body_type_compact           1.00  \n",
              "body_type_van               1.00  \n",
              "transmission_auto           1.00  \n",
              "transmission_man            1.00  \n",
              "fuel_type_diesel            1.00  \n",
              "fuel_type_gasoline          1.00  \n",
              "price_NGN           312745124.00  "
            ]
          },
          "metadata": {
            "tags": []
          },
          "execution_count": 0
        }
      ]
    },
    {
      "cell_type": "markdown",
      "metadata": {
        "id": "Csd_YP6vdCSQ"
      },
      "source": [
        "# **Model Development**"
      ]
    },
    {
      "cell_type": "code",
      "metadata": {
        "colab": {
          "background_save": true
        },
        "id": "Rf57mJR8DU7K"
      },
      "source": [
        "cars45_num = cars45_df1.select_dtypes(exclude = ['object'])\n",
        "cars45_cat = cars45_df1.select_dtypes(exclude = ['number'])"
      ],
      "execution_count": null,
      "outputs": []
    },
    {
      "cell_type": "code",
      "metadata": {
        "colab": {
          "background_save": true,
          "base_uri": "https://localhost:8080/",
          "height": 706
        },
        "id": "XsrWyEwQIa-o",
        "outputId": "6c42c2c5-f73e-4174-ca9f-2e3f1043d1e3"
      },
      "source": [
        "corr = np.triu(cars45_df1.corr())\n",
        "plt.figure(figsize = (14, 10))\n",
        "sns.heatmap(cars45_df1.corr(), annot = True, linewidths = 0.2, fmt = '.2f', mask = corr)"
      ],
      "execution_count": null,
      "outputs": [
        {
          "output_type": "execute_result",
          "data": {
            "text/plain": [
              "<matplotlib.axes._subplots.AxesSubplot at 0x7ff0ca17fef0>"
            ]
          },
          "metadata": {
            "tags": []
          },
          "execution_count": 0
        },
        {
          "output_type": "display_data",
          "data": {
            "image/png": "[encoded data removed]",
            "text/plain": [
              "<Figure size 1008x720 with 2 Axes>"
            ]
          },
          "metadata": {
            "tags": []
          }
        }
      ]
    },
    {
      "cell_type": "markdown",
      "metadata": {
        "id": "3JatMOagLC8i"
      },
      "source": [
        "The transmission_auto and transmission_man columns are highly negatively correlated (-0.72). So I'll drop the transmission_man column.\n",
        "\n",
        "There's also the manufacture_year and mileage. I'll drop the manufacture year."
      ]
    },
    {
      "cell_type": "markdown",
      "metadata": {
        "id": "5vptsKP2L3JQ"
      },
      "source": [
        "The Price columns holds high values and could rig the model performance. So log transformation shall be applied to normalise the values. "
      ]
    },
    {
      "cell_type": "code",
      "metadata": {
        "colab": {
          "background_save": true
        },
        "id": "BP1KsYyQOeFi"
      },
      "source": [
        "cars45_num = cars45_num.drop(columns = ['transmission_man', 'manufacture_year'])"
      ],
      "execution_count": null,
      "outputs": []
    },
    {
      "cell_type": "code",
      "metadata": {
        "colab": {
          "background_save": true,
          "base_uri": "https://localhost:8080/",
          "height": 214
        },
        "id": "kTF6mdXHcOIo",
        "outputId": "301c3795-c94b-402d-97e1-5d7000a13ad1"
      },
      "source": [
        "cars45_num.head()"
      ],
      "execution_count": null,
      "outputs": [
        {
          "output_type": "execute_result",
          "data": {
            "text/html": [
              "<div>\n",
              "<style scoped>\n",
              "    .dataframe tbody tr th:only-of-type {\n",
              "        vertical-align: middle;\n",
              "    }\n",
              "\n",
              "    .dataframe tbody tr th {\n",
              "        vertical-align: top;\n",
              "    }\n",
              "\n",
              "    .dataframe thead th {\n",
              "        text-align: right;\n",
              "    }\n",
              "</style>\n",
              "<table border=\"1\" class=\"dataframe\">\n",
              "  <thead>\n",
              "    <tr style=\"text-align: right;\">\n",
              "      <th></th>\n",
              "      <th>mileage</th>\n",
              "      <th>engine_displacement</th>\n",
              "      <th>engine_power</th>\n",
              "      <th>door_count</th>\n",
              "      <th>seat_count</th>\n",
              "      <th>body_type_compact</th>\n",
              "      <th>body_type_van</th>\n",
              "      <th>transmission_auto</th>\n",
              "      <th>fuel_type_diesel</th>\n",
              "      <th>fuel_type_gasoline</th>\n",
              "      <th>price_NGN</th>\n",
              "    </tr>\n",
              "  </thead>\n",
              "  <tbody>\n",
              "    <tr>\n",
              "      <th>0</th>\n",
              "      <td>164500</td>\n",
              "      <td>2600</td>\n",
              "      <td>110</td>\n",
              "      <td>4</td>\n",
              "      <td>5</td>\n",
              "      <td>1</td>\n",
              "      <td>0</td>\n",
              "      <td>1</td>\n",
              "      <td>0</td>\n",
              "      <td>1</td>\n",
              "      <td>873428</td>\n",
              "    </tr>\n",
              "    <tr>\n",
              "      <th>1</th>\n",
              "      <td>134751</td>\n",
              "      <td>2150</td>\n",
              "      <td>103</td>\n",
              "      <td>3</td>\n",
              "      <td>5</td>\n",
              "      <td>1</td>\n",
              "      <td>0</td>\n",
              "      <td>0</td>\n",
              "      <td>0</td>\n",
              "      <td>1</td>\n",
              "      <td>666174</td>\n",
              "    </tr>\n",
              "    <tr>\n",
              "      <th>2</th>\n",
              "      <td>134751</td>\n",
              "      <td>2150</td>\n",
              "      <td>103</td>\n",
              "      <td>3</td>\n",
              "      <td>5</td>\n",
              "      <td>1</td>\n",
              "      <td>0</td>\n",
              "      <td>0</td>\n",
              "      <td>0</td>\n",
              "      <td>1</td>\n",
              "      <td>666174</td>\n",
              "    </tr>\n",
              "    <tr>\n",
              "      <th>3</th>\n",
              "      <td>134751</td>\n",
              "      <td>2150</td>\n",
              "      <td>103</td>\n",
              "      <td>3</td>\n",
              "      <td>5</td>\n",
              "      <td>1</td>\n",
              "      <td>0</td>\n",
              "      <td>0</td>\n",
              "      <td>0</td>\n",
              "      <td>1</td>\n",
              "      <td>666174</td>\n",
              "    </tr>\n",
              "    <tr>\n",
              "      <th>4</th>\n",
              "      <td>164500</td>\n",
              "      <td>2150</td>\n",
              "      <td>103</td>\n",
              "      <td>4</td>\n",
              "      <td>5</td>\n",
              "      <td>1</td>\n",
              "      <td>0</td>\n",
              "      <td>1</td>\n",
              "      <td>0</td>\n",
              "      <td>1</td>\n",
              "      <td>843820</td>\n",
              "    </tr>\n",
              "  </tbody>\n",
              "</table>\n",
              "</div>"
            ],
            "text/plain": [
              "   mileage  engine_displacement  engine_power  door_count  seat_count  \\\n",
              "0   164500                 2600           110           4           5   \n",
              "1   134751                 2150           103           3           5   \n",
              "2   134751                 2150           103           3           5   \n",
              "3   134751                 2150           103           3           5   \n",
              "4   164500                 2150           103           4           5   \n",
              "\n",
              "   body_type_compact  body_type_van  transmission_auto  fuel_type_diesel  \\\n",
              "0                  1              0                  1                 0   \n",
              "1                  1              0                  0                 0   \n",
              "2                  1              0                  0                 0   \n",
              "3                  1              0                  0                 0   \n",
              "4                  1              0                  1                 0   \n",
              "\n",
              "   fuel_type_gasoline  price_NGN  \n",
              "0                   1     873428  \n",
              "1                   1     666174  \n",
              "2                   1     666174  \n",
              "3                   1     666174  \n",
              "4                   1     843820  "
            ]
          },
          "metadata": {
            "tags": []
          },
          "execution_count": 0
        }
      ]
    },
    {
      "cell_type": "markdown",
      "metadata": {
        "id": "8QqXk9vS9q7P"
      },
      "source": [
        "The values of the price variable are really large and will affect the absolute numbers of the regression model. To manage this, the price data is normalises using log."
      ]
    },
    {
      "cell_type": "code",
      "metadata": {
        "colab": {
          "background_save": true
        },
        "id": "0_IAmST_RIKD"
      },
      "source": [
        "Y = np.log(cars45_num['price_NGN']).values\n",
        "X = cars45_num.drop(columns = ['price_NGN']).values"
      ],
      "execution_count": null,
      "outputs": []
    },
    {
      "cell_type": "code",
      "metadata": {
        "colab": {
          "background_save": true
        },
        "id": "1ST7EbDwj_gP"
      },
      "source": [
        "X_train, X_test, Y_train, Y_test = train_test_split(X, Y, test_size = 0.3, random_state = 10)"
      ],
      "execution_count": null,
      "outputs": []
    },
    {
      "cell_type": "markdown",
      "metadata": {
        "id": "d3sg4kEePUzS"
      },
      "source": [
        "The differing scales of the raw data may impact these algorithms. Part of a requirement for a standardised data set is to have each attribute have a mean value of zero and a standard deviation of 1. I shall implement standardisation using pipelines and then use cross-validation to validate performance of all the algorithms."
      ]
    },
    {
      "cell_type": "code",
      "metadata": {
        "colab": {
          "background_save": true,
          "base_uri": "https://localhost:8080/"
        },
        "id": "v1JtWkkjuqJ3",
        "outputId": "cf579947-b046-416a-e188-797031063390"
      },
      "source": [
        "pipelines = []\n",
        "pipelines.append(('ScaledLR', Pipeline([('Scaler', StandardScaler()), ('LR', LinearRegression())])))\n",
        "pipelines.append(('ScaledKNN', Pipeline([('Scaler', StandardScaler()), ('KNN', KNeighborsRegressor())])))\n",
        "pipelines.append(('ScaledRF', Pipeline([('Scaler', StandardScaler()), ('RF', RandomForestRegressor())])))\n",
        "pipelines.append(('ScaledGB', Pipeline([('Scaler', StandardScaler()), ('GB', GradientBoostingRegressor())])))\n",
        "\n",
        "results = []\n",
        "names = []\n",
        "for name, model in pipelines:\n",
        "    kfold = KFold(n_splits = 3, random_state = 10)\n",
        "    cv_results = cross_val_score(model, X_train, Y_train, cv = kfold, scoring = 'neg_mean_squared_error')\n",
        "    results.append(cv_results)\n",
        "    names.append(name)\n",
        "    notification = '%s: %f (%f)' % (name, cv_results.mean(), cv_results.std())\n",
        "    print(notification)"
      ],
      "execution_count": null,
      "outputs": [
        {
          "output_type": "stream",
          "text": [
            "ScaledLR: -0.438976 (0.001259)\n",
            "ScaledKNN: -0.216174 (0.000748)\n",
            "ScaledRF: -0.142303 (0.000926)\n",
            "ScaledGB: -0.326531 (0.001381)\n"
          ],
          "name": "stdout"
        }
      ]
    },
    {
      "cell_type": "markdown",
      "metadata": {
        "id": "wPzONop4RAoB"
      },
      "source": [
        "From the output above, it looks like the Random Forest Regressor performs the best using a scaled version of the data. From this point onward, I will build the regression algorithm using the Random Forest Regressor."
      ]
    },
    {
      "cell_type": "code",
      "metadata": {
        "id": "n3z0HC-bvJZ_"
      },
      "source": [
        "scaler = preprocessing.StandardScaler()\n",
        "X_train_scaled = scaler.fit_transform(X_train)\n",
        "param_grid = {'max_depth': np.array([5, 10, 15, 20, 25]), \n",
        "              'n_estimators': np.array([200, 200, 600, 800, 1000])}\n",
        "model = RandomForestRegressor(random_state = 10)\n",
        "kfold = KFold(n_splits = 3, random_state = 10)\n",
        "grid = GridSearchCV(estimator = model, param_grid = param_grid, scoring = 'neg_mean_squared_error', cv = kfold)\n",
        "grid_result = grid.fit(X_train_scaled, Y_train)\n",
        "\n",
        "means = grid_result.cv_results_['mean_test_score']\n",
        "stds = grid_result.cv_results_['std_test_score']\n",
        "params = grid_result.cv_results_['params']\n",
        "for mean, stdev, param in zip(means, stds, params):\n",
        "    print('%f (%f) with: %r' % (mean, stdev, param))\n",
        "\n",
        "print('Best: %f using %s' % (grid_result.best_score_, grid_result.best_params_))"
      ],
      "execution_count": null,
      "outputs": []
    },
    {
      "cell_type": "markdown",
      "metadata": {
        "id": "TWWpOdLGmDa9"
      },
      "source": [
        "The best max_depth configuration is 10 with the negative mean square error closest to 0.\n",
        "\n"
      ]
    },
    {
      "cell_type": "markdown",
      "metadata": {
        "id": "YmbFk2bcU4H4"
      },
      "source": [
        "#### Finalise and validate model\n"
      ]
    },
    {
      "cell_type": "code",
      "metadata": {
        "id": "7mKAYlq3Ucnz"
      },
      "source": [
        "model = RandomForestRegressor(random_state = 10, max_depth = 10)\n",
        "model.fit(X_train_scaled, Y_train)\n",
        "\n",
        "X_test_rescaled = scaler.transform(X_test)\n",
        "predictions = model.predict(X_test_rescaled)\n",
        "mse = mean_squared_error(Y_test, predictions, squared = True)\n",
        "rmse = mean_squared_error(Y_test, predictions, squared = False)\n",
        "mse, rmse"
      ],
      "execution_count": null,
      "outputs": []
    },
    {
      "cell_type": "code",
      "metadata": {
        "id": "cZ4PoYm5tSTQ"
      },
      "source": [
        ""
      ],
      "execution_count": null,
      "outputs": []
    },
    {
      "cell_type": "markdown",
      "metadata": {
        "id": "IRgKO-t9XChZ"
      },
      "source": [
        "From the mean square error of 0.27294 between the prediction outputs vs the test data, the Random Forest performed well. Important to note that the mean_square_error is calculated using the scaled data. It does not represent the error between the actual car prices and predicted prices. To better appreciate the outcome of the predictions, I look at the raw predicted values and the corresponding test data."
      ]
    },
    {
      "cell_type": "code",
      "metadata": {
        "id": "Af0lUc1paZYp"
      },
      "source": [
        "predictions"
      ],
      "execution_count": null,
      "outputs": []
    },
    {
      "cell_type": "code",
      "metadata": {
        "id": "BNrHMJLwXAsj"
      },
      "source": [
        "compare_data = pd.DataFrame({'Prediction': predictions, 'Test Data' : Y_test})\n",
        "compare_data.head(10)"
      ],
      "execution_count": null,
      "outputs": []
    },
    {
      "cell_type": "markdown",
      "metadata": {
        "id": "L4XyprN1XWRR"
      },
      "source": [
        "From the data frame output above, the difference between the predicted value and test data is pretty small. Take note that the data is scaled and log normalised. So, I have to inverse transform these data to see the actual values. To do that, I apply the  exp function to the **Prediction** column"
      ]
    },
    {
      "cell_type": "code",
      "metadata": {
        "id": "vlbq6l5khStB"
      },
      "source": [
        "#index = [i for i in range(len(predictions))]"
      ],
      "execution_count": null,
      "outputs": []
    },
    {
      "cell_type": "code",
      "metadata": {
        "id": "zzUBd66aXRG8"
      },
      "source": [
        "Y_test_actual = np.exp(Y_test)\n",
        "Y_test_predicted = np.exp(predictions)\n",
        "\n",
        "diff = abs(Y_test_actual - Y_test_predicted)\n",
        "\n",
        "predicted_actual = pd.DataFrame({'Test Data': Y_test_actual, 'Predicted Price': Y_test_predicted, 'Difference': diff})\n",
        "predicted_actual = predicted_actual.astype(int)\n",
        "predicted_actual.head(10)"
      ],
      "execution_count": null,
      "outputs": []
    },
    {
      "cell_type": "markdown",
      "metadata": {
        "id": "4aa1ICGNbgPL"
      },
      "source": [
        "# **The End!**\n",
        "\n",
        "Seghe Momodu"
      ]
    }
  ]
}